{
 "cells": [
  {
   "cell_type": "code",
   "execution_count": 1,
   "id": "2d7f7f2d",
   "metadata": {
    "scrolled": true
   },
   "outputs": [],
   "source": [
    "import os\n",
    "import json\n",
    "import pytest\n",
    "from warnings import filterwarnings\n",
    "filterwarnings('ignore')\n",
    "# Set environment variables BEFORE importing percolate\n",
    "os.environ[\"P8_PG_HOST\"] = \"localhost\"\n",
    "os.environ[\"P8_PG_PORT\"] = \"25432\"\n",
    "os.environ[\"P8_PG_USER\"] = \"app\"\n",
    "os.environ[\"P8_PG_PASSWORD\"] = os.environ.get(\"P8_TEST_BEARER_TOKEN\", \"\")\n",
    "os.environ[\"P8_PG_DATABASE\"] = \"app\"\n",
    "import percolate as p8\n",
    "from IPython.display import Markdown\n",
    "from percolate.services import PostgresService\n",
    "\n",
    "from percolate.api.mcp_server.api_repository import APIProxyRepository\n",
    "from percolate.services.llm import CallingContext\n",
    "from percolate.models import UserMemory\n",
    "from percolate.utils.env import MASTER_PROMPT\n",
    "#p8.repository(UserMemory).register()\n",
    "a = APIProxyRepository( user_email='amartey@gmail.com')\n",
    "pg = PostgresService()\n",
    "from percolate.models.p8 import UserRoleAgent\n",
    "#pg.execute('select id, name, email, role_level from  p8.\"User\" where role_level > 5')\n",
    "#a = APIProxyRepository( api_endpoint='http://localhost:5008', user_email='amartey@gmail.com')\n",
    "#await a.add_memory(\"I want to remember\")\n",
    "#await a.get_memory('unknown_20250728_112052_032')\n",
    "#Markdown(UserRoleAgent.get_model_description())\n",
    "#Markdown(MASTER_PROMPT())"
   ]
  },
  {
   "cell_type": "code",
   "execution_count": 2,
   "id": "9e80ab13-8815-458d-b063-027210b48e57",
   "metadata": {},
   "outputs": [
    {
     "name": "stderr",
     "output_type": "stream",
     "text": [
      "\u001b[32m2025-08-09 19:48:49.231\u001b[0m | \u001b[34m\u001b[1mDEBUG   \u001b[0m | \u001b[36mpercolate.services.ModelRunner\u001b[0m:\u001b[36mget_repo\u001b[0m:\u001b[36m88\u001b[0m - \u001b[34m\u001b[1m[[None]]] got repo for user None with roles [] and repo.role_level=None\u001b[0m\n",
      "\u001b[32m2025-08-09 19:48:49.240\u001b[0m | \u001b[34m\u001b[1mDEBUG   \u001b[0m | \u001b[36mpercolate.services.FunctionManager\u001b[0m:\u001b[36madd_function\u001b[0m:\u001b[36m66\u001b[0m - \u001b[34m\u001b[1madded function help\u001b[0m\n",
      "\u001b[32m2025-08-09 19:48:49.526\u001b[0m | \u001b[34m\u001b[1mDEBUG   \u001b[0m | \u001b[36mpercolate.services.FunctionManager\u001b[0m:\u001b[36madd_function\u001b[0m:\u001b[36m64\u001b[0m - \u001b[34m\u001b[1madded function get_executive_info with access level 1\u001b[0m\n",
      "\u001b[32m2025-08-09 19:48:49.529\u001b[0m | \u001b[34m\u001b[1mDEBUG   \u001b[0m | \u001b[36mpercolate.services.FunctionManager\u001b[0m:\u001b[36madd_function\u001b[0m:\u001b[36m66\u001b[0m - \u001b[34m\u001b[1madded function get_general_info\u001b[0m\n",
      "\u001b[32m2025-08-09 19:48:49.530\u001b[0m | \u001b[34m\u001b[1mDEBUG   \u001b[0m | \u001b[36mpercolate.services.FunctionManager\u001b[0m:\u001b[36madd_function\u001b[0m:\u001b[36m66\u001b[0m - \u001b[34m\u001b[1madded function get_model_description\u001b[0m\n",
      "\u001b[32m2025-08-09 19:48:49.533\u001b[0m | \u001b[34m\u001b[1mDEBUG   \u001b[0m | \u001b[36mpercolate.services.FunctionManager\u001b[0m:\u001b[36madd_function\u001b[0m:\u001b[36m64\u001b[0m - \u001b[34m\u001b[1madded function get_partner_info with access level 10\u001b[0m\n",
      "\u001b[32m2025-08-09 19:48:49.536\u001b[0m | \u001b[34m\u001b[1mDEBUG   \u001b[0m | \u001b[36mpercolate.services.FunctionManager\u001b[0m:\u001b[36madd_function\u001b[0m:\u001b[36m66\u001b[0m - \u001b[34m\u001b[1madded function get_recent_uploads_by_user\u001b[0m\n",
      "\u001b[32m2025-08-09 19:48:49.538\u001b[0m | \u001b[34m\u001b[1mDEBUG   \u001b[0m | \u001b[36mpercolate.services.FunctionManager\u001b[0m:\u001b[36madd_function\u001b[0m:\u001b[36m66\u001b[0m - \u001b[34m\u001b[1madded function save_user_fact\u001b[0m\n",
      "\u001b[32m2025-08-09 19:48:49.541\u001b[0m | \u001b[34m\u001b[1mDEBUG   \u001b[0m | \u001b[36mpercolate.services.FunctionManager\u001b[0m:\u001b[36madd_function\u001b[0m:\u001b[36m66\u001b[0m - \u001b[34m\u001b[1madded function search_user_facts\u001b[0m\n",
      "\u001b[32m2025-08-09 19:48:49.544\u001b[0m | \u001b[34m\u001b[1mDEBUG   \u001b[0m | \u001b[36mpercolate.services.FunctionManager\u001b[0m:\u001b[36madd_function\u001b[0m:\u001b[36m66\u001b[0m - \u001b[34m\u001b[1madded function get_entities\u001b[0m\n",
      "\u001b[32m2025-08-09 19:48:49.546\u001b[0m | \u001b[34m\u001b[1mDEBUG   \u001b[0m | \u001b[36mpercolate.services.FunctionManager\u001b[0m:\u001b[36madd_function\u001b[0m:\u001b[36m66\u001b[0m - \u001b[34m\u001b[1madded function search\u001b[0m\n",
      "\u001b[32m2025-08-09 19:48:49.548\u001b[0m | \u001b[34m\u001b[1mDEBUG   \u001b[0m | \u001b[36mpercolate.services.FunctionManager\u001b[0m:\u001b[36madd_function\u001b[0m:\u001b[36m66\u001b[0m - \u001b[34m\u001b[1madded function activate_functions_by_name\u001b[0m\n",
      "\u001b[32m2025-08-09 19:48:49.549\u001b[0m | \u001b[1mINFO    \u001b[0m | \u001b[36mpercolate.services.ModelRunner\u001b[0m:\u001b[36m__init__\u001b[0m:\u001b[36m74\u001b[0m - \u001b[1m******Constructed agent p8.UserRoleAgent******\u001b[0m\n"
     ]
    }
   ],
   "source": [
    "agent = p8.Agent(UserRoleAgent)\n",
    "#agent.get_entities('KT-2011') #Box File: Cap Table 11.15.2023.xlsx\n",
    "#agent.get_entities('qa_circuits_memory.md') #"
   ]
  },
  {
   "cell_type": "code",
   "execution_count": 3,
   "id": "26ed56f0-df0c-4b4c-946c-b3349658ecb6",
   "metadata": {},
   "outputs": [
    {
     "data": {
      "text/plain": [
       "{'get_entities': {'p8.Resources': {'data': [{'id': 'f52aafda-a8b8-5785-b46a-0e7f5a8e69fb',\n",
       "     'uri': 's3://res-data-platform/users/10e0a97d-a064-553a-9043-3c1f0a6e6725/Memory note about considering circuits for Q&A systems/qa_circuits_memory.md',\n",
       "     'name': 'qa_circuits_memory.md',\n",
       "     'userid': '10e0a97d-a064-553a-9043-3c1f0a6e6725',\n",
       "     'content': '# Memory: Consider Circuits for Q&A\\n\\n**Date:** July 27, 2025\\n**Priority:** Important\\n\\n## Note\\nNeed to consider the circuits for Q&A implementation.\\n\\n## Context\\n- This is a reminder to evaluate circuit design patterns for question and answer systems\\n- May relate to system architecture, data flow, or processing pathways\\n- Important consideration for future development or current project analysis\\n\\n## Action Items\\n- Review circuit requirements for Q&A functionality\\n- Analyze current circuit implementations\\n- Consider optimization opportunities\\n\\n---\\n*This memory was saved via Percolate MCP interface*',\n",
       "     'groupid': None,\n",
       "     'ordinal': 0,\n",
       "     'summary': None,\n",
       "     'user_id': None,\n",
       "     'category': 'text_chunk',\n",
       "     'metadata': {'file_type': 'text',\n",
       "      'chunk_size': 1000,\n",
       "      'chunk_index': 0,\n",
       "      'source_file': 'qa_circuits_memory.md',\n",
       "      'original_uri': 's3://res-data-platform/users/10e0a97d-a064-553a-9043-3c1f0a6e6725/Memory note about considering circuits for Q&A systems/qa_circuits_memory.md',\n",
       "      'parsing_mode': 'simple',\n",
       "      'total_chunks': 1,\n",
       "      'chunk_overlap': 200},\n",
       "     'created_at': '2025-07-27T22:05:39.22094',\n",
       "     'deleted_at': None,\n",
       "     'updated_at': '2025-08-09T18:40:24.611146',\n",
       "     'graph_paths': None,\n",
       "     'resource_timestamp': '2025-07-27T22:05:39.211257',\n",
       "     'required_access_level': 5}],\n",
       "   'metadata': None,\n",
       "   'instruction': 'you can request to activate new functions by name to use them as tools'}}}"
      ]
     },
     "execution_count": 3,
     "metadata": {},
     "output_type": "execute_result"
    }
   ],
   "source": [
    "#pg.execute(\"\"\" select * from p8.\"User\" where email ='amartey@gmail.com' \"\"\")\n",
    "#UserRoleAgent.get_recent_uploads_by_user('10e0a97d-a064-553a-9043-3c1f0a6e6725')\n",
    "\n",
    "from percolate.services import PostgresService\n",
    "\n",
    "#does not work\n",
    "pg = PostgresService(user_id='10e0a97d-a064-553a-9043-3c1f0a6e6725')\n",
    "pg.get_entities('qa_circuits_memory.md')\n",
    "#works\n",
    "# pg = PostgresService()\n",
    "# pg.get_entities('qa_circuits_memory.md')\n",
    "# #works\n",
    "# pg = PostgresService(user_id='10e0a97d-a064-553a-9043-3c1f0a6e6725')\n",
    "# pg.get_entities('KT-2011')\n",
    "# #works\n",
    "# pg = PostgresService()\n",
    "# pg.get_entities('KT-2011')\n"
   ]
  },
  {
   "cell_type": "code",
   "execution_count": 4,
   "id": "6efa720b-0183-406e-8ef9-4d21430df17a",
   "metadata": {},
   "outputs": [
    {
     "name": "stderr",
     "output_type": "stream",
     "text": [
      "\u001b[32m2025-08-09 19:50:46.625\u001b[0m | \u001b[34m\u001b[1mDEBUG   \u001b[0m | \u001b[36mpercolate.services.ModelRunner\u001b[0m:\u001b[36mget_repo\u001b[0m:\u001b[36m88\u001b[0m - \u001b[34m\u001b[1m[[None]]] got repo for user None with roles [] and repo.role_level=None\u001b[0m\n",
      "\u001b[32m2025-08-09 19:50:46.629\u001b[0m | \u001b[34m\u001b[1mDEBUG   \u001b[0m | \u001b[36mpercolate.services.FunctionManager\u001b[0m:\u001b[36madd_function\u001b[0m:\u001b[36m66\u001b[0m - \u001b[34m\u001b[1madded function help\u001b[0m\n",
      "\u001b[32m2025-08-09 19:50:46.908\u001b[0m | \u001b[34m\u001b[1mDEBUG   \u001b[0m | \u001b[36mpercolate.services.FunctionManager\u001b[0m:\u001b[36madd_function\u001b[0m:\u001b[36m64\u001b[0m - \u001b[34m\u001b[1madded function get_executive_info with access level 1\u001b[0m\n",
      "\u001b[32m2025-08-09 19:50:46.919\u001b[0m | \u001b[34m\u001b[1mDEBUG   \u001b[0m | \u001b[36mpercolate.services.FunctionManager\u001b[0m:\u001b[36madd_function\u001b[0m:\u001b[36m66\u001b[0m - \u001b[34m\u001b[1madded function get_general_info\u001b[0m\n",
      "\u001b[32m2025-08-09 19:50:46.921\u001b[0m | \u001b[34m\u001b[1mDEBUG   \u001b[0m | \u001b[36mpercolate.services.FunctionManager\u001b[0m:\u001b[36madd_function\u001b[0m:\u001b[36m66\u001b[0m - \u001b[34m\u001b[1madded function get_model_description\u001b[0m\n",
      "\u001b[32m2025-08-09 19:50:46.923\u001b[0m | \u001b[34m\u001b[1mDEBUG   \u001b[0m | \u001b[36mpercolate.services.FunctionManager\u001b[0m:\u001b[36madd_function\u001b[0m:\u001b[36m64\u001b[0m - \u001b[34m\u001b[1madded function get_partner_info with access level 10\u001b[0m\n",
      "\u001b[32m2025-08-09 19:50:46.926\u001b[0m | \u001b[34m\u001b[1mDEBUG   \u001b[0m | \u001b[36mpercolate.services.FunctionManager\u001b[0m:\u001b[36madd_function\u001b[0m:\u001b[36m66\u001b[0m - \u001b[34m\u001b[1madded function get_recent_uploads_by_user\u001b[0m\n",
      "\u001b[32m2025-08-09 19:50:46.929\u001b[0m | \u001b[34m\u001b[1mDEBUG   \u001b[0m | \u001b[36mpercolate.services.FunctionManager\u001b[0m:\u001b[36madd_function\u001b[0m:\u001b[36m66\u001b[0m - \u001b[34m\u001b[1madded function save_user_fact\u001b[0m\n",
      "\u001b[32m2025-08-09 19:50:46.931\u001b[0m | \u001b[34m\u001b[1mDEBUG   \u001b[0m | \u001b[36mpercolate.services.FunctionManager\u001b[0m:\u001b[36madd_function\u001b[0m:\u001b[36m66\u001b[0m - \u001b[34m\u001b[1madded function search_user_facts\u001b[0m\n",
      "\u001b[32m2025-08-09 19:50:46.934\u001b[0m | \u001b[34m\u001b[1mDEBUG   \u001b[0m | \u001b[36mpercolate.services.FunctionManager\u001b[0m:\u001b[36madd_function\u001b[0m:\u001b[36m66\u001b[0m - \u001b[34m\u001b[1madded function get_entities\u001b[0m\n",
      "\u001b[32m2025-08-09 19:50:46.937\u001b[0m | \u001b[34m\u001b[1mDEBUG   \u001b[0m | \u001b[36mpercolate.services.FunctionManager\u001b[0m:\u001b[36madd_function\u001b[0m:\u001b[36m66\u001b[0m - \u001b[34m\u001b[1madded function search\u001b[0m\n",
      "\u001b[32m2025-08-09 19:50:46.940\u001b[0m | \u001b[34m\u001b[1mDEBUG   \u001b[0m | \u001b[36mpercolate.services.FunctionManager\u001b[0m:\u001b[36madd_function\u001b[0m:\u001b[36m66\u001b[0m - \u001b[34m\u001b[1madded function activate_functions_by_name\u001b[0m\n",
      "\u001b[32m2025-08-09 19:50:46.941\u001b[0m | \u001b[1mINFO    \u001b[0m | \u001b[36mpercolate.services.ModelRunner\u001b[0m:\u001b[36m__init__\u001b[0m:\u001b[36m74\u001b[0m - \u001b[1m******Constructed agent p8.UserRoleAgent******\u001b[0m\n",
      "\u001b[32m2025-08-09 19:51:25.127\u001b[0m | \u001b[1mINFO    \u001b[0m | \u001b[36mpercolate.utils.env\u001b[0m:\u001b[36m_load_prompt\u001b[0m:\u001b[36m260\u001b[0m - \u001b[1mLoaded master prompt from database\u001b[0m\n",
      "\u001b[32m2025-08-09 19:51:25.131\u001b[0m | \u001b[34m\u001b[1mDEBUG   \u001b[0m | \u001b[36mpercolate.services.llm.LanguageModel\u001b[0m:\u001b[36mcall_api_simple\u001b[0m:\u001b[36m320\u001b[0m - \u001b[34m\u001b[1minvoking model gpt-4.1, is_streaming=False\u001b[0m\n",
      "\u001b[32m2025-08-09 19:51:26.578\u001b[0m | \u001b[34m\u001b[1mDEBUG   \u001b[0m | \u001b[36mpercolate.services.llm.LanguageModel\u001b[0m:\u001b[36m__call__\u001b[0m:\u001b[36m198\u001b[0m - \u001b[34m\u001b[1mresponse=<Response [200]>, context=CallingContext(session_id=None, chat_id=None, session_context=None, prefer_json=False, response_model=None, username=None, user_id='10e0a97d-a064-553a-9043-3c1f0a6e6725', channel_context=None, channel_ts=None, prefers_streaming=False, is_hybrid_streaming=False, temperature=0.0, plan=None, max_iterations=5, model='gpt-4.1', file_uris=[], role_level=10, streaming_callback=None, response_callback=None)\u001b[0m\n",
      "\u001b[32m2025-08-09 19:51:26.580\u001b[0m | \u001b[1mINFO    \u001b[0m | \u001b[36mpercolate.services.ModelRunner\u001b[0m:\u001b[36minvoke\u001b[0m:\u001b[36m229\u001b[0m - \u001b[1m(p8.UserRoleAgent)function_call=FunctionCall(name='get_recent_uploads_by_user', arguments={'user_id': '10e0a97d-a064-553a-9043-3c1f0a6e6725', 'limit': 5}, id='call_O6z2pJPn523F0d92mBn5g8K6', scheme=None)\u001b[0m\n",
      "\u001b[32m2025-08-09 19:51:27.627\u001b[0m | \u001b[34m\u001b[1mDEBUG   \u001b[0m | \u001b[36mpercolate.services.llm.LanguageModel\u001b[0m:\u001b[36mcall_api_simple\u001b[0m:\u001b[36m320\u001b[0m - \u001b[34m\u001b[1minvoking model gpt-4.1, is_streaming=False\u001b[0m\n",
      "\u001b[32m2025-08-09 19:51:28.378\u001b[0m | \u001b[34m\u001b[1mDEBUG   \u001b[0m | \u001b[36mpercolate.services.llm.LanguageModel\u001b[0m:\u001b[36m__call__\u001b[0m:\u001b[36m198\u001b[0m - \u001b[34m\u001b[1mresponse=<Response [200]>, context=CallingContext(session_id=None, chat_id=None, session_context=None, prefer_json=False, response_model=None, username=None, user_id='10e0a97d-a064-553a-9043-3c1f0a6e6725', channel_context=None, channel_ts=None, prefers_streaming=False, is_hybrid_streaming=False, temperature=0.0, plan=None, max_iterations=5, model='gpt-4.1', file_uris=[], role_level=10, streaming_callback=None, response_callback=None)\u001b[0m\n",
      "\u001b[32m2025-08-09 19:51:28.379\u001b[0m | \u001b[1mINFO    \u001b[0m | \u001b[36mpercolate.services.ModelRunner\u001b[0m:\u001b[36minvoke\u001b[0m:\u001b[36m229\u001b[0m - \u001b[1m(p8.UserRoleAgent)function_call=FunctionCall(name='get_entities', arguments={'keys': 'qa_circuits_memory.md'}, id='call_wqhn4NPqycjKW2JYya9pEXdJ', scheme=None)\u001b[0m\n",
      "\u001b[32m2025-08-09 19:51:28.380\u001b[0m | \u001b[34m\u001b[1mDEBUG   \u001b[0m | \u001b[36mpercolate.services.ModelRunner\u001b[0m:\u001b[36mget_entities\u001b[0m:\u001b[36m182\u001b[0m - \u001b[34m\u001b[1mget_entities/keys='qa_circuits_memory.md', allow_fuzzy_match=False\u001b[0m\n",
      "\u001b[32m2025-08-09 19:51:29.447\u001b[0m | \u001b[34m\u001b[1mDEBUG   \u001b[0m | \u001b[36mpercolate.services.ModelRunner\u001b[0m:\u001b[36mget_repo\u001b[0m:\u001b[36m88\u001b[0m - \u001b[34m\u001b[1m[[10e0a97d-a064-553a-9043-3c1f0a6e6725]]] got repo for user 10e0a97d-a064-553a-9043-3c1f0a6e6725 with roles ['oauth_users'] and repo.role_level=1\u001b[0m\n",
      "\u001b[32m2025-08-09 19:51:29.986\u001b[0m | \u001b[34m\u001b[1mDEBUG   \u001b[0m | \u001b[36mpercolate.services.llm.LanguageModel\u001b[0m:\u001b[36mcall_api_simple\u001b[0m:\u001b[36m320\u001b[0m - \u001b[34m\u001b[1minvoking model gpt-4.1, is_streaming=False\u001b[0m\n",
      "\u001b[32m2025-08-09 19:51:33.248\u001b[0m | \u001b[34m\u001b[1mDEBUG   \u001b[0m | \u001b[36mpercolate.services.llm.LanguageModel\u001b[0m:\u001b[36m__call__\u001b[0m:\u001b[36m198\u001b[0m - \u001b[34m\u001b[1mresponse=<Response [200]>, context=CallingContext(session_id=None, chat_id=None, session_context=None, prefer_json=False, response_model=None, username=None, user_id='10e0a97d-a064-553a-9043-3c1f0a6e6725', channel_context=None, channel_ts=None, prefers_streaming=False, is_hybrid_streaming=False, temperature=0.0, plan=None, max_iterations=5, model='gpt-4.1', file_uris=[], role_level=10, streaming_callback=None, response_callback=None)\u001b[0m\n"
     ]
    },
    {
     "data": {
      "text/markdown": [
       "Here are your most recent uploaded files:\n",
       "\n",
       "1. **qa_circuits_memory.md**  \n",
       "   - Last updated: 2025-08-09  \n",
       "   - Description: Memory note about considering circuits for Q&A systems  \n",
       "   - Chunk count: 1\n",
       "\n",
       "2. tmps60_j9h_.txt  \n",
       "3. tmpz28i6cvu.txt  \n",
       "4. tmpkrqv6qlj.txt  \n",
       "5. tmp70w_em8m.txt  \n",
       "\n",
       "The most interesting file appears to be **qa_circuits_memory.md** due to its explicit focus on Q&A system design. Here’s a chunk from that file:\n",
       "\n",
       "---\n",
       "\n",
       "### qa_circuits_memory.md\n",
       "\n",
       "> # Memory: Consider Circuits for Q&A\n",
       "> **Date:** July 27, 2025  \n",
       "> **Priority:** Important\n",
       ">\n",
       "> ## Note\n",
       "> Need to consider the circuits for Q&A implementation.\n",
       ">\n",
       "> ## Context\n",
       "> - This is a reminder to evaluate circuit design patterns for question and answer systems\n",
       "> - May relate to system architecture, data flow, or processing pathways\n",
       "> - Important consideration for future development or current project analysis\n",
       ">\n",
       "> ## Action Items\n",
       "> - Review circuit requirements for Q&A functionality\n",
       "> - Analyze current circuit implementations\n",
       "> - Consider optimization opportunities\n",
       ">\n",
       "> ---\n",
       "> *This memory was saved via Percolate MCP interface*\n",
       "\n",
       "---\n",
       "\n",
       "If you want to see content from any of the other files, just let me know!"
      ],
      "text/plain": [
       "<IPython.core.display.Markdown object>"
      ]
     },
     "execution_count": 4,
     "metadata": {},
     "output_type": "execute_result"
    }
   ],
   "source": [
    "\n",
    "agent = p8.Agent(UserRoleAgent)\n",
    "context = CallingContext(user_id='10e0a97d-a064-553a-9043-3c1f0a6e6725', role_level=10)\n",
    "#r=agent('what functions do you have available - including the ones loaded as tools?', context=None)\n",
    "#r=agent('please search the executive resources for information about resonance patents', context=context)\n",
    "#r=agent('Can you tell me about KT-2011', context=context)\n",
    "#once db user is app this is restricted\n",
    "#r=agent('Can you tell me about KT-2011', context=CallingContext(role_level=10, user_id='3120a781-9c13-5dbd-8c18-9e72dc63f272'))\n",
    "\n",
    "#shoud return useful info about create one from synced files\n",
    "#r = agent(\"please give  me information about create one explaining what create one allows brands to do \")\n",
    "\n",
    "r = agent(\"What recent files did i upload - load some chunks for the most interesting one\", context=context)\n",
    "\n",
    "Markdown(r)"
   ]
  },
  {
   "cell_type": "code",
   "execution_count": null,
   "id": "cb81cbdd-6d8b-4e8e-ba8d-8d7043f4f993",
   "metadata": {},
   "outputs": [],
   "source": []
  },
  {
   "cell_type": "code",
   "execution_count": null,
   "id": "7c924fb1-7bb6-4d27-8424-2afc6894e90f",
   "metadata": {},
   "outputs": [],
   "source": [
    "model = p8.try_load_model(\"public.CreateOneResources\", allow_abstract=True)\n",
    "repo = p8.repository(model)\n",
    "repo.search(\"What is Create ONE and what does it allow brands to do?\")"
   ]
  },
  {
   "cell_type": "code",
   "execution_count": null,
   "id": "dd6eef55",
   "metadata": {},
   "outputs": [],
   "source": [
    "loaded = p8.try_load_model('design.bodies')\n",
    "loaded"
   ]
  },
  {
   "cell_type": "code",
   "execution_count": null,
   "id": "d8a7e198",
   "metadata": {},
   "outputs": [],
   "source": [
    "from percolate.services import PostgresService\n",
    "from percolate.utils import make_uuid\n",
    "with open ('/Users/sirsh/code/mr_saoirse/percolate/.res/master_prompt.md') as f:\n",
    "    p = f.read()\n",
    "    settings_id = str(make_uuid({\"key\": \"system_prompt\"}))\n",
    "\n",
    "    query = '''\n",
    "    INSERT INTO p8.\"Settings\" (id, key, value, created_at, updated_at)\n",
    "    VALUES (%s, %s, %s, NOW(), NOW())\n",
    "    ON CONFLICT (id) DO UPDATE \n",
    "    SET value = EXCLUDED.value, updated_at = NOW()\n",
    "    '''\n",
    "    pg.execute(query, (settings_id, 'system_prompt', p))\n",
    "\n",
    "Markdown(p)"
   ]
  },
  {
   "cell_type": "code",
   "execution_count": null,
   "id": "a738401b",
   "metadata": {},
   "outputs": [],
   "source": [
    "loaded = p8.try_load_model('executive.ExecutiveResources')\n",
    "#p8.repository(loaded).search(\"Tell me about resonance companies\")"
   ]
  },
  {
   "cell_type": "code",
   "execution_count": null,
   "id": "dc248e5b",
   "metadata": {},
   "outputs": [],
   "source": []
  },
  {
   "cell_type": "code",
   "execution_count": null,
   "id": "54daa25a",
   "metadata": {},
   "outputs": [],
   "source": [
    "r = p8.Agent(loaded).stream(\"tell me about resonance companies\")\n",
    "r"
   ]
  },
  {
   "cell_type": "code",
   "execution_count": null,
   "id": "53f4eefc",
   "metadata": {},
   "outputs": [],
   "source": [
    "for l in r.iter_lines():\n",
    "    print(l)"
   ]
  },
  {
   "cell_type": "code",
   "execution_count": null,
   "id": "4bfea910-cd35-4ec4-b161-cba90a2553a7",
   "metadata": {},
   "outputs": [],
   "source": [
    "from percolate.services import PostgresService\n",
    "\n",
    "#pg = PostgresService(user_id='3a9fb64e-8f26-511f-9ff3-09f0088d3b17')\n",
    "pg = PostgresService()"
   ]
  },
  {
   "cell_type": "code",
   "execution_count": null,
   "id": "478fe271-c015-4241-a79d-372d8b7a206f",
   "metadata": {},
   "outputs": [],
   "source": [
    "pg.execute(\"\"\" select * from executive.\"ExecutiveResources\" limit 1 \"\"\")"
   ]
  },
  {
   "cell_type": "code",
   "execution_count": null,
   "id": "bd4adbed-56c0-4b6b-9937-810ded7719d4",
   "metadata": {},
   "outputs": [],
   "source": [
    "\n",
    "\n",
    "g = await a.stream_chat(\"tell me about the company\", stream=False)"
   ]
  },
  {
   "cell_type": "code",
   "execution_count": null,
   "id": "64ee501e",
   "metadata": {},
   "outputs": [],
   "source": [
    "g"
   ]
  },
  {
   "cell_type": "code",
   "execution_count": null,
   "id": "5417700e",
   "metadata": {},
   "outputs": [],
   "source": [
    "#await a.get_entity('kt2011')\n",
    "r = await a.search_entities(\"Looking for entities learning about bodies\")\n",
    "r"
   ]
  },
  {
   "cell_type": "code",
   "execution_count": null,
   "id": "9c1df098",
   "metadata": {},
   "outputs": [],
   "source": [
    "r = await a.search_entities(\"Im looking for summer dresses\",entity_name='design.bodies')\n",
    "r"
   ]
  },
  {
   "cell_type": "code",
   "execution_count": null,
   "id": "2d9196f1",
   "metadata": {},
   "outputs": [],
   "source": [
    "print(r[0].keys())\n",
    "r[0]['vector_result']"
   ]
  },
  {
   "cell_type": "code",
   "execution_count": null,
   "id": "b973a7fc",
   "metadata": {},
   "outputs": [],
   "source": [
    "g = await a.stream_chat(\"tell me about the resonance company\", stream=False)\n",
    "g"
   ]
  },
  {
   "cell_type": "code",
   "execution_count": null,
   "id": "0c6795ac",
   "metadata": {},
   "outputs": [],
   "source": [
    "g = await a.stream_chat(\"tell me about the resonance company\", stream=False, agent='executive-ExecutiveResources')\n",
    "g"
   ]
  },
  {
   "cell_type": "code",
   "execution_count": null,
   "id": "c8a5044a-b339-4dee-a90e-0e02a4eab6a0",
   "metadata": {},
   "outputs": [],
   "source": [
    "#pg.execute(\"select body_code from design.bodies\")"
   ]
  },
  {
   "cell_type": "code",
   "execution_count": null,
   "id": "1ee38590-334e-45cf-845f-539e4c9ec6ff",
   "metadata": {},
   "outputs": [],
   "source": [
    "#pg.get_entities('KT-2011'), pg.get_entities('ZF-3005')"
   ]
  },
  {
   "cell_type": "code",
   "execution_count": null,
   "id": "2cf41aa8-e390-4275-b0a5-0972bcb9849a",
   "metadata": {},
   "outputs": [],
   "source": [
    "from percolate.services.llm import CallingContext\n",
    "import percolate as p8\n",
    "from percolate.models import Resources\n",
    "\n",
    "ctx = CallingContext(user_id='3a9fb64e-8f26-511f-9ff3-09f0088d3b17')\n",
    "a = p8.Agent(Resources,allow_help=False)\n",
    "#a.get_entities('ZF-3005')\n",
    "a(\"get me KT-2011\", context=ctx)"
   ]
  },
  {
   "cell_type": "code",
   "execution_count": null,
   "id": "37103b41-5193-4b69-89ae-29230fa3b5c4",
   "metadata": {},
   "outputs": [],
   "source": [
    "a(\"get me ZF-3005\", context=ctx)"
   ]
  },
  {
   "cell_type": "code",
   "execution_count": null,
   "id": "8ea6ccb8-4c94-4ee3-8db9-fb5aa54bfd30",
   "metadata": {},
   "outputs": [],
   "source": []
  },
  {
   "cell_type": "code",
   "execution_count": null,
   "id": "7085421d-7e23-4f04-bb2e-743917070c86",
   "metadata": {},
   "outputs": [],
   "source": []
  }
 ],
 "metadata": {
  "kernelspec": {
   "display_name": "Python 3 (ipykernel)",
   "language": "python",
   "name": "python3"
  },
  "language_info": {
   "codemirror_mode": {
    "name": "ipython",
    "version": 3
   },
   "file_extension": ".py",
   "mimetype": "text/x-python",
   "name": "python",
   "nbconvert_exporter": "python",
   "pygments_lexer": "ipython3",
   "version": "3.11.2"
  }
 },
 "nbformat": 4,
 "nbformat_minor": 5
}
