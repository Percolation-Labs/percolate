{
 "cells": [
  {
   "cell_type": "markdown",
   "id": "87dd8813",
   "metadata": {},
   "source": [
    "# Introduction to p8 python client for agentic systems\n",
    "- Percolate is a database that allows agents to be built entirely in the data tier\n",
    "- However either for testing or to orchastrate more complex agents in code, we provide a python guide\n",
    "- This giude assumes that you have followed the guides to add some initial data and tools\n",
    "- to learn more see here"
   ]
  },
  {
   "cell_type": "code",
   "execution_count": null,
   "id": "ec3fdff6",
   "metadata": {},
   "outputs": [],
   "source": [
    "\n",
    "import sys\n",
    "sys.path.append('../')\n",
    "import requests\n",
    "import percolate as p8"
   ]
  },
  {
   "cell_type": "markdown",
   "id": "cb8353be",
   "metadata": {},
   "source": [
    "# Agents are simple in Percolate\n",
    "- They are just Pydantic objects with references to extenral tools in your function repository\n",
    "- You can provide structure and you can use this structure to save and search data in the database for your agent\n"
   ]
  },
  {
   "cell_type": "code",
   "execution_count": null,
   "id": "253409b9",
   "metadata": {},
   "outputs": [],
   "source": [
    "from pydantic import BaseModel,Field\n",
    "import typing\n",
    "#the default embedding field just sets json_schema_extra.embedding_provider so you can do that yourself\n",
    "from percolate.models import DefaultEmbeddingField\n",
    "\n",
    "class MyFirstAgent(BaseModel):\n",
    "    \"\"\"You are an agent that provides the information you are asked and a second random fact\"\"\"\n",
    "    \n",
    "    #because this has no config it will save to the `public` database schema\n",
    "    \n",
    "    name: str = Field(description=\"Task name\")\n",
    "    description:str = DefaultEmbeddingField(description=\"Task description\")\n",
    "    \n",
    "    @classmethod\n",
    "    def get_functions(cls):\n",
    "        \"\"\"i return a list of functions by key stored in the database\"\"\"\n",
    "        return {}\n",
    "    \n",
    "#inlines functions are possible but we prefer declarative agents in Percolate\n",
    "#use these to test but the recommended thing to do is add Python microservices or use databases directly via percolate\n",
    "#you could ask p8.Agent(MyFirstAgent).run(\"when is sirshs birthday\")\n",
    "#     @classmethod\n",
    "#     def some_helpful_function(cls, name:str):\n",
    "#         \"\"\"This function will tell you a peresons birthday\n",
    "#         Its an example function that has typing and Args defined for tool use.\n",
    "        \n",
    "#         Args:\n",
    "#             name: the persons names    \n",
    "#         \"\"\"\n",
    "#         return \"first of jan 2000\"\n",
    "\n"
   ]
  },
  {
   "cell_type": "code",
   "execution_count": null,
   "id": "3c5aa320",
   "metadata": {},
   "outputs": [],
   "source": [
    "\"\"\"real world knowledge\"\"\"\n",
    "p8.Agent(MyFirstAgent).run(\"what is the capital of ireland\")"
   ]
  },
  {
   "cell_type": "code",
   "execution_count": null,
   "id": "f03b45bc",
   "metadata": {},
   "outputs": [],
   "source": [
    "# 4.test inline functions even though we dont use them\n",
    "# 5.test restoring a function from the database as above\n",
    "# 6.test planning over entities / functions\n",
    "# 7.test using native functions\n",
    "# 9.test loading entities and their functions\n",
    "#10.test crud"
   ]
  },
  {
   "cell_type": "markdown",
   "id": "cfd18b35",
   "metadata": {},
   "source": [
    "## Behind the scenes\n",
    "- we created a simple rest api wrapper instead of adding various api python clients\n",
    "- you can can iterate over these check the response of each model for which you have an API key defined\n",
    "- you should first check the langauge model is in your data store - either you have added the API token there or in the env var given by the reference to the env\n",
    "- we will then iterate and ask the same question first with tools and then without tools to see what the payloads look like for testing\n",
    "- **This is illustrated in `percolate.services.llm._check_all`**\n",
    "- the high level wrapper we use parsers to a single response scheme"
   ]
  },
  {
   "cell_type": "code",
   "execution_count": null,
   "id": "1c40e244",
   "metadata": {},
   "outputs": [],
   "source": [
    "from percolate.services.llm import _check_all, LanguageModel\n",
    "#some example response are in the tests"
   ]
  },
  {
   "cell_type": "markdown",
   "id": "447e7ce6",
   "metadata": {},
   "source": [
    "### asking without tools"
   ]
  },
  {
   "cell_type": "code",
   "execution_count": null,
   "id": "5bbfc82d",
   "metadata": {},
   "outputs": [],
   "source": [
    "gem = LanguageModel('gemini-1.5-flash')\n",
    "gem.ask(\"What is the capital of ireland\", system_prompt=\"Give me a random fact when answering my question\")"
   ]
  },
  {
   "cell_type": "code",
   "execution_count": null,
   "id": "3b2d222d",
   "metadata": {},
   "outputs": [],
   "source": [
    "claude = LanguageModel('claude-3-5-sonnet-20241022')\n",
    "claude.ask(\"What is the capital of ireland\", system_prompt=\"Give me a random fact when answering my question\")"
   ]
  },
  {
   "cell_type": "code",
   "execution_count": null,
   "id": "1398f154",
   "metadata": {},
   "outputs": [],
   "source": [
    "xai = LanguageModel('grok-2-latest')\n",
    "xai.ask(\"What is the capital of ireland\", system_prompt=\"Give me a random fact when answering my question\")"
   ]
  },
  {
   "cell_type": "code",
   "execution_count": null,
   "id": "2aca983e",
   "metadata": {},
   "outputs": [],
   "source": [
    "deepseek = LanguageModel('deepseek-chat')\n",
    "deepseek.ask(\"What is the capital of ireland\", system_prompt=\"Give me a random fact when answering my question\")"
   ]
  },
  {
   "cell_type": "markdown",
   "id": "bbe3079d",
   "metadata": {},
   "source": [
    "### asking with tools\n",
    "- we create a fictitious tool first - this tested the response in a simple way"
   ]
  },
  {
   "cell_type": "code",
   "execution_count": null,
   "id": "f790d249",
   "metadata": {},
   "outputs": [],
   "source": [
    "from percolate.services.llm import _check_all, LanguageModel\n",
    "\n",
    "fns =[{\n",
    "  \"name\": \"get_weather\",\n",
    "  \"description\": \"Get the weather forecast for a specific city and date\",\n",
    "  \"parameters\": {\n",
    "    \"type\": \"object\",\n",
    "    \"properties\": {\n",
    "      \"city\": {\n",
    "        \"type\": \"string\",\n",
    "        \"description\": \"The city for which to get the weather forecast\"\n",
    "      },\n",
    "      \"date\": {\n",
    "        \"type\": \"string\",\n",
    "        \"description\": \"The date for the weather forecast (YYYY-MM-DD)\"\n",
    "      }\n",
    "    },\n",
    "    \"required\": [\"city\", \"date\"]\n",
    "  }\n",
    "}]\n",
    "\n"
   ]
  },
  {
   "cell_type": "code",
   "execution_count": null,
   "id": "69f59311",
   "metadata": {},
   "outputs": [],
   "source": [
    "claude = LanguageModel('claude-3-5-sonnet-20241022')\n",
    "claude.ask(\"What is the weather in dublin tomorrow\", functions=None)"
   ]
  },
  {
   "cell_type": "code",
   "execution_count": null,
   "id": "bf62bda2",
   "metadata": {},
   "outputs": [],
   "source": [
    "gem = LanguageModel('gemini-1.5-flash')\n",
    "gem.ask(\"What is the weather in dublin\", functions=fns)"
   ]
  },
  {
   "cell_type": "code",
   "execution_count": null,
   "id": "7745945c",
   "metadata": {},
   "outputs": [],
   "source": [
    "gmin = LanguageModel('gpt-4o-mini')\n",
    "gmin.ask(\"What is the weather in dublin tomorrow\", functions=fns)"
   ]
  },
  {
   "cell_type": "markdown",
   "id": "e3ee0eaf",
   "metadata": {},
   "source": [
    "## An agent is just a pydantic class\n",
    "- the docstring is the system prompt\n",
    "- the fields are used as structured response if you ask for that\n",
    "- the external functions are database or API tools you can use. \n",
    "- You can add functions on the agent directly to test but Percolate is designed for declarative agents that do not have inline functions"
   ]
  },
  {
   "cell_type": "code",
   "execution_count": 5,
   "id": "f9e8d3f9",
   "metadata": {},
   "outputs": [],
   "source": [
    "import percolate as p8\n",
    "from pydantic import BaseModel,Field\n",
    "import typing\n",
    "from percolate.models import DefaultEmbeddingField\n",
    "import uuid\n",
    "\n",
    "class MyFirstAgent(BaseModel):\n",
    "    \"\"\"You are an agent that provides the information you are asked and a second random fact\"\"\"\n",
    "    #because it has no config it will save to the public database schema\n",
    "    \n",
    "    id: uuid.UUID\n",
    "    name: str = Field(description=\"Task name\")\n",
    "    #the default embedding field just settgs json_schema_extra.embedding_provider so you can do that yourself\n",
    "    description:str = DefaultEmbeddingField(description=\"Task description\")\n",
    "    \n",
    "    @classmethod\n",
    "    def get_model_functions(cls):\n",
    "        \"\"\"i return a list of functions by key stored in the database\"\"\"\n",
    "        return {\n",
    "            'get_pet_findByStatus': \"a function i use to look up pets based on their status\"\n",
    "        }\n",
    "p8.repository(MyFirstAgent).register()"
   ]
  },
  {
   "cell_type": "code",
   "execution_count": null,
   "id": "2918b361",
   "metadata": {},
   "outputs": [],
   "source": []
  },
  {
   "cell_type": "code",
   "execution_count": null,
   "id": "b8a1170a",
   "metadata": {},
   "outputs": [],
   "source": [
    "from percolate.services import PostgresService\n",
    "pg = PostgresService()\n",
    "\"\"\"check the prompt that is created in the database\"\"\"\n",
    "from IPython.display import Markdown\n",
    "\"\"\"this is in the database so agents can be used in the database directly\"\"\"\n",
    "Markdown(pg.execute(\"\"\" select * from p8.generate_markdown_prompt('MyFirstAgent') \"\"\")[0]['generate_markdown_prompt'])"
   ]
  },
  {
   "cell_type": "code",
   "execution_count": null,
   "id": "37484827",
   "metadata": {},
   "outputs": [],
   "source": []
  },
  {
   "cell_type": "code",
   "execution_count": null,
   "id": "9c00b464",
   "metadata": {},
   "outputs": [],
   "source": []
  },
  {
   "cell_type": "code",
   "execution_count": null,
   "id": "0b9a5ec4",
   "metadata": {},
   "outputs": [],
   "source": [
    "### althogh this structure is simple and we have not saved data we can take note of how the semantic information is used to generate queries\n",
    "pg.execute(\"\"\" select * from p8.nl2sql('how would you get the task desc', 'MyFirstAgent') \"\"\")"
   ]
  },
  {
   "cell_type": "markdown",
   "id": "d31dd2dc",
   "metadata": {},
   "source": [
    "### you can use the agent directly in python but just to observe its registered for use in the database we show that too"
   ]
  },
  {
   "cell_type": "code",
   "execution_count": null,
   "id": "7bb0cfab",
   "metadata": {},
   "outputs": [],
   "source": [
    "from percolate.services import PostgresService\n",
    "pg = PostgresService()\n",
    "\"\"\"this query will take a few seconds WHEN we use the eval option (increase turns limit) because it \n",
    "1.loads the agent and \n",
    "2. calls the langauge model with prompt and available functions from the agent\n",
    "3. the llm responds with a tool call and we make it returning a chunk of data \n",
    "4. and then it calls the api from the tool call and the response (this is the end of turn 1 and returns quickly as below)\n",
    "5. turn 2 would then re-summarize the data using the langauge model again\n",
    "but its a nice fast \"tool call\" if we dont increase turns!\n",
    "\"\"\"\n",
    "pg.execute(f\"\"\" select * from percolate_with_agent('list some pets that were sold', 'MyFirstAgent'); \"\"\")"
   ]
  },
  {
   "cell_type": "markdown",
   "id": "d1141efd",
   "metadata": {},
   "source": [
    "### You can use lots of different models if you have the keys"
   ]
  },
  {
   "cell_type": "code",
   "execution_count": null,
   "id": "4c2a0ca4",
   "metadata": {
    "scrolled": false
   },
   "outputs": [],
   "source": [
    "agent = p8.Agent(MyFirstAgent,allow_help=False)\n",
    "agent.run(\"list two sold pets\",language_model='grok-2-latest')\n",
    "#agent.run(\"list two sold pets\",language_model='deepseek-chat')\n",
    "#agent.run(\"list two sold pets\",language_model='groq-llama-3.3-70b-versatile')\n",
    "#agent.run(\"list two sold pets\",language_model='gemini-1.5-flash')\n",
    "#agent.run(\"list two sold pets\",language_model='claude-3-5-sonnet-20241022')\n",
    "#agent.run(\"list two sold pets\",language_model='cerebras-llama3.1-8b')"
   ]
  },
  {
   "cell_type": "markdown",
   "id": "c28f3b0e",
   "metadata": {},
   "source": [
    "# we register APIs as follows\n",
    "- Percolate feeds on data of two types; agents and tools\n",
    "- Below is a open and free demo API that we can add as an example\n",
    "- we can register the api - if we had a bearer token we could add that\n",
    "- we can filter by verbs and endoints"
   ]
  },
  {
   "cell_type": "code",
   "execution_count": null,
   "id": "99dbb465",
   "metadata": {},
   "outputs": [],
   "source": [
    "from percolate.utils.ingestion import add \n",
    "add.add_api('swagger_test', 'https://petstore.swagger.io/v2/swagger.json', verbs='get')"
   ]
  },
  {
   "cell_type": "markdown",
   "id": "9b3453b4",
   "metadata": {},
   "source": [
    "### we can check the function is there"
   ]
  },
  {
   "cell_type": "code",
   "execution_count": null,
   "id": "97b0b4c0",
   "metadata": {},
   "outputs": [],
   "source": [
    "import percolate as p8\n",
    "from percolate.models.p8 import Function\n",
    "\n",
    "fn = p8.repository(Function).get_by_name(['get_pet_findByStatus'], as_model=True)\n",
    "#this is a callable function that also provides the function description for langage models\n",
    "fn"
   ]
  }
 ],
 "metadata": {},
 "nbformat": 4,
 "nbformat_minor": 5
}
