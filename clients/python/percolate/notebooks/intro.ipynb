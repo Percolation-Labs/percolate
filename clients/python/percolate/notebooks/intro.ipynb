{
 "cells": [
  {
   "cell_type": "markdown",
   "id": "92539e55-6700-4adc-86f9-dad08a531481",
   "metadata": {},
   "source": [
    "# Introduction\n",
    "- This introduction is the easiest way for Python folks to play with Percolate\n",
    "- We provider the Postgres client using the Docker compose connection parameteres as defaults\n",
    "- We can learn how to register entities after which everyone else becomes possible\n"
   ]
  },
  {
   "cell_type": "code",
   "execution_count": 1,
   "id": "d7cf0414",
   "metadata": {},
   "outputs": [],
   "source": [
    "\n",
    "import sys\n",
    "sys.path.append('../')\n",
    "import requests\n",
    "#requests.get('http://www.percolationlabs.ai').content"
   ]
  },
  {
   "cell_type": "code",
   "execution_count": 2,
   "id": "9b3bebfa",
   "metadata": {},
   "outputs": [],
   "source": [
    "from percolate.models.p8 import sample_models, LanguageModelApi\n",
    "import percolate as p8\n",
    "from percolate.services import PostgresService\n",
    "from percolate.models.p8 import PlanModel\n",
    "\n",
    "p8.repository(PlanModel).register()\n",
    "#p8.repository(LanguageModelApi).update_records(sample_models)"
   ]
  },
  {
   "cell_type": "code",
   "execution_count": 3,
   "id": "e457cd9d",
   "metadata": {},
   "outputs": [],
   "source": [
    "# pg.execute(f\"\"\" select * from percolate_with_agent('how does percolate manage to work with google, openai and anthropic schemes seamlessly in the database - give sql examples',\n",
    "#  'p8.PercolateAgent') \"\"\")"
   ]
  },
  {
   "cell_type": "code",
   "execution_count": null,
   "id": "4f304811",
   "metadata": {},
   "outputs": [],
   "source": [
    "from percolate.models.p8 import PercolateAgent\n",
    "\n",
    "agent = p8.Agent(PercolateAgent)\n",
    "\n",
    "agent(\"What is percolate\")"
   ]
  },
  {
   "cell_type": "code",
   "execution_count": null,
   "id": "4ab749a5",
   "metadata": {
    "scrolled": false
   },
   "outputs": [],
   "source": [
    "agent(\"What is percolate - please procide a 5 page description of percolate and how it compares to other databaes\")"
   ]
  },
  {
   "cell_type": "code",
   "execution_count": null,
   "id": "a56e9d07",
   "metadata": {
    "scrolled": false
   },
   "outputs": [],
   "source": [
    "from IPython.display import Markdown\n",
    "#Markdown(agent(\"Are there any functions for natural langauge to sql? - can you give me an example of how to use it\"))\n",
    "Markdown(agent(\"Are there any functions in Percolate for using claude and other models questions - give me an example of how to use it\"))\n"
   ]
  },
  {
   "cell_type": "code",
   "execution_count": null,
   "id": "767f0f12",
   "metadata": {},
   "outputs": [],
   "source": [
    "data = pg.execute(\"\"\" select * from p8.query_entity('what sql queries do we have for generating uuids from json', 'p8.PercolateAgent')  \"\"\")\n",
    "data"
   ]
  },
  {
   "cell_type": "code",
   "execution_count": null,
   "id": "44591a90",
   "metadata": {},
   "outputs": [],
   "source": [
    "from IPython.display import Markdown\n",
    "'what sql queries do we have for generating uuids from json', 'p8.PercolateAgent'\n",
    "\n",
    "df = pg.execute(f\"\"\"  select * from p8.query_entity('what sql queries do we have for generating uuids from json', 'p8.PercolateAgent')  \"\"\") \n",
    "df"
   ]
  },
  {
   "cell_type": "code",
   "execution_count": null,
   "id": "f1bdf420",
   "metadata": {},
   "outputs": [],
   "source": [
    "agent.search(\"do we have any fucntions for generating json in sql\")"
   ]
  },
  {
   "cell_type": "markdown",
   "id": "928b8127-f33b-41a4-a499-9844d124978b",
   "metadata": {},
   "source": [
    "## Registering entities which are Agents is the key way to use Percolate\n",
    "- entity models describe agents completely\n",
    "- Percolate assumes agents are serializable in the \"Agent\" model which has structured response, sytem prompt and external function refs\n",
    "- We register Entities as tables that can store data, as Agents that can allow interaction with data\n",
    "- Agents are added as structured tables but other indexes are added too; embeddings on fields that need them and graph node registry"
   ]
  },
  {
   "cell_type": "code",
   "execution_count": 4,
   "id": "6b7403bc-2b7c-429d-8a8f-fae30124234b",
   "metadata": {},
   "outputs": [],
   "source": [
    "from percolate.models.p8 import Project, Agent, ModelField, LanguageModelApi, Function, Session, AIResponse, ApiProxy, IndexAudit\n",
    "\n",
    "#we register the core models - these are added by scripts in install anyway but it illustrates for 'bring your own'\n",
    "for model in [AIResponse,Session, IndexAudit]:\n",
    "    repo = pg.repository(model)\n",
    "    repo.register(register_entities=True)"
   ]
  },
  {
   "cell_type": "markdown",
   "id": "98fe693a-110a-4801-b999-813f416beabe",
   "metadata": {},
   "source": [
    "## Percolate configures Langauge models and assumes we can load tokens from the env\n",
    "- While not recommended in production, for simplicity you might add tokens locally in your database\n",
    "- The example below registers unique model names - the name is sometimes of the from provider-model if you want to select an API"
   ]
  },
  {
   "cell_type": "code",
   "execution_count": null,
   "id": "1a17bf21",
   "metadata": {},
   "outputs": [],
   "source": [
    "\"\"\"these are stored in the database by default and you can add your own\n",
    "in the python client your API token is used\n",
    "in the database you can save the token but the extension can also load it from the environment if its maintained on the database cluster\n",
    "\"\"\"\n",
    "from percolate.models.p8 import sample_models"
   ]
  },
  {
   "cell_type": "markdown",
   "id": "480b02f5",
   "metadata": {},
   "source": [
    "## Adding APIs\n",
    "- Percolate registers apis and functions \n",
    "- for example a freely available test api is at https://petstore.swagger.io/#/pet/findPetsByStatus\n",
    "- we add this to percolate below"
   ]
  },
  {
   "cell_type": "code",
   "execution_count": 3,
   "id": "9c72054d",
   "metadata": {},
   "outputs": [],
   "source": [
    "from percolate.utils.ingestion import add \n",
    "import os\n",
    "# add.add_api('swagger_test', 'https://petstore.swagger.io/v2/swagger.json', verbs='get')"
   ]
  },
  {
   "cell_type": "code",
   "execution_count": null,
   "id": "49b5ef4a",
   "metadata": {},
   "outputs": [],
   "source": [
    "import percolate as p8\n",
    "from percolate.models.p8 import Function\n",
    "\"\"\"filter by the proxy, verb etc if needed\"\"\"\n",
    "functions = [Function(**f) for f in p8.repository(Function).select()]\n",
    "\"\"\"functions are callable\"\"\""
   ]
  },
  {
   "cell_type": "markdown",
   "id": "2a2a5033",
   "metadata": {},
   "source": [
    "#### any database loaded function can be called and you can use the metadata to know how to call it(as can an llm)"
   ]
  },
  {
   "cell_type": "markdown",
   "id": "751fb368",
   "metadata": {},
   "source": [
    "### the function manager is responsible for finding functions in the database but you can also ref external functions on your agent\n",
    "under the hood if any agent either asks to load a function or if the function is added as a reference in it's `get_functions` the funciton manager is used to load the function into context\n",
    "```python\n",
    "from percolate.services import FunctionManager\n",
    "f = FunctionManager()\n",
    "f.add_functions_by_key('get_pet_findByStatus')\n",
    "```"
   ]
  },
  {
   "cell_type": "markdown",
   "id": "0ceac85f",
   "metadata": {},
   "source": [
    "### Example of how we bootsrap the database by adding the P8 models. "
   ]
  },
  {
   "cell_type": "code",
   "execution_count": 3,
   "id": "e66fde5e-8099-4959-bd4c-28f1375474a6",
   "metadata": {},
   "outputs": [],
   "source": [
    "import sys\n",
    "sys.path.append('../')\n",
    "import requests\n",
    "from percolate.models import bootstrap\n",
    "\n",
    "\"\"\"this generates the script that we use for setup of percolate (WIP)\"\"\"\n",
    "bootstrap(root='../../../../extension/', apply=True)"
   ]
  },
  {
   "cell_type": "code",
   "execution_count": null,
   "id": "26dec782",
   "metadata": {},
   "outputs": [],
   "source": []
  },
  {
   "cell_type": "code",
   "execution_count": null,
   "id": "3c6da60b",
   "metadata": {},
   "outputs": [],
   "source": []
  }
 ],
 "metadata": {},
 "nbformat": 4,
 "nbformat_minor": 5
}
