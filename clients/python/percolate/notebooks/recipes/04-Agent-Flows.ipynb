{
 "cells": [
  {
   "cell_type": "markdown",
   "id": "2219101f",
   "metadata": {},
   "source": [
    "# Agentic Orchestrator\n",
    "- To understand Percolate we can start with the simplest agents and then introduce agent graph or topology discovery\n",
    "- we should explain how OpenAPI and MCP servers work as external functions\n",
    "- We can address this both in the Python client and in the database\n",
    "- We will also show the Serverless approach which uses a very thin Python client and a hosted instance\n",
    "- Much of this is about auditing user sessions and being able to reflect on the user interactions\n",
    "\n",
    "For development shutdown the docker service or simply run the local dev over it\n",
    "\n",
    "```bash\n",
    "uvicorn percolate.api.main:app --port 5008 --reload \n",
    "```\n",
    "\n",
    "You should map your hosts file so that you can browse the link the database expects at `http://percolate-api:5008/swagger`"
   ]
  },
  {
   "cell_type": "code",
   "execution_count": 1,
   "id": "70f710da",
   "metadata": {},
   "outputs": [],
   "source": [
    "#Note that we register the functions that we need from percolate so they can be used in the database. \n",
    "import percolate as p8\n",
    "# from percolate.utils.studio import add_percolate_endpoints\n",
    "\n",
    "# add_percolate_endpoints(['create_task_tasks__post' ])\n",
    "\n",
    "from percolate.models.p8 import Session\n",
    "\n",
    "p8.repository(Session).register()"
   ]
  },
  {
   "cell_type": "code",
   "execution_count": null,
   "id": "19ac97e9",
   "metadata": {},
   "outputs": [],
   "source": []
  },
  {
   "cell_type": "code",
   "execution_count": 9,
   "id": "3cf04f7d",
   "metadata": {},
   "outputs": [],
   "source": [
    "from IPython.display import Markdown\n",
    "Markdown(MyAgent.get_model_description())"
   ]
  },
  {
   "cell_type": "code",
   "execution_count": 22,
   "id": "d3cca3df",
   "metadata": {},
   "outputs": [],
   "source": [
    "obj = MyAgent(name='test', id=str(uuid.uuid1()))\n",
    "\n",
    "p8.repository(MyAgent).update_records([obj])"
   ]
  },
  {
   "cell_type": "code",
   "execution_count": 20,
   "id": "7f482970",
   "metadata": {},
   "outputs": [],
   "source": [
    "import percolate as p8\n",
    "from percolate.models import AbstractModel, Field\n",
    "from pydantic import BaseModel\n",
    "import uuid\n",
    "#https://medium.com/percolation-labs/agent-orchestration-the-basics-with-percolate-6097672b5264\n",
    "class MyWeatherAgent(AbstractModel):\n",
    "    \"\"\"\n",
    "    You are an agent that answers in poetry style\n",
    "    \"\"\"\n",
    "    \n",
    "    id: str | uuid.UUID \n",
    "    name: str = Field(\"Task Name\")\n",
    "    city: str\n",
    "    weather:str\n",
    "        \n",
    "    @classmethod\n",
    "    def get_weather_in_city(cls, city:str):\n",
    "        \"\"\"\n",
    "        Get the weather for the supplied city\n",
    "        \n",
    "        Args:\n",
    "            city: enter the city name to get the weather\n",
    "        \"\"\"\n",
    "        \n",
    "        return \"warm and overcast\"\n",
    "    \n",
    "    \n",
    "a = p8.Agent(MyAgent)\n",
    "#a(\"find pets that are sold\")\n",
    "    "
   ]
  },
  {
   "cell_type": "code",
   "execution_count": 21,
   "id": "d192b0b1",
   "metadata": {},
   "outputs": [],
   "source": [
    "p8.repository(MyAgent).register()"
   ]
  },
  {
   "cell_type": "code",
   "execution_count": 13,
   "id": "0561bcaa",
   "metadata": {},
   "outputs": [],
   "source": [
    "#p8.repository(Session).register()\n",
    "#a.search(\"find the task i saved for installing harbor\")"
   ]
  },
  {
   "cell_type": "code",
   "execution_count": 2,
   "id": "ecd3cc04",
   "metadata": {},
   "outputs": [],
   "source": [
    "from percolate.models import Task"
   ]
  },
  {
   "cell_type": "code",
   "execution_count": 3,
   "id": "83966b74",
   "metadata": {},
   "outputs": [],
   "source": [
    "task_agent = p8.Agent(Task)"
   ]
  },
  {
   "cell_type": "code",
   "execution_count": 5,
   "id": "c150c245",
   "metadata": {},
   "outputs": [],
   "source": [
    "task_agent(\"Create a task to launch percolate by May 13. I need to create the serverless orchstrator which needs docker containers to manage on demand tools and payments for launching instances\",\n",
    "          language_model='claude-3-7-sonnet-20250219',\n",
    "          # limit=10\n",
    "          )"
   ]
  },
  {
   "cell_type": "code",
   "execution_count": 6,
   "id": "1e9918e9",
   "metadata": {},
   "outputs": [],
   "source": [
    "task_agent(\"Can you find pets by sold status\",\n",
    "          #language_model='claude-3-7-sonnet-20250219',\n",
    "          # limit=10\n",
    "          )"
   ]
  },
  {
   "cell_type": "code",
   "execution_count": 8,
   "id": "33477e87",
   "metadata": {},
   "outputs": [],
   "source": [
    "# if you want to see the prompt\n",
    "# from IPython.display import Markdown\n",
    "# Markdown(task_agent.agent_model.get_model_description())\n",
    "#this system prompt will be added to the agent prompt - you can see this after running the agent\n",
    "#Markdown(task_agent.messages.system_prompt)"
   ]
  },
  {
   "cell_type": "code",
   "execution_count": 33,
   "id": "985f4207",
   "metadata": {},
   "outputs": [],
   "source": [
    "#how its called from the database\n",
    "# from percolate.services import PostgresService\n",
    "# pg = PostgresService()\n",
    "# pg.execute(\"select * from run(%s,%s, %s, %s)\", data=('Can you find pets by sold status',5,'claude-3-7-sonnet-20250219', 'p8.Task'))"
   ]
  },
  {
   "cell_type": "code",
   "execution_count": null,
   "id": "01fa1524",
   "metadata": {},
   "outputs": [],
   "source": [
    "Task.get_model_full_name"
   ]
  }
 ],
 "metadata": {},
 "nbformat": 4,
 "nbformat_minor": 5
}
