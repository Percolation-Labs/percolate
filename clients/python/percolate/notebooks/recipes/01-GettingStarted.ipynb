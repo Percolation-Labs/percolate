{
 "cells": [
  {
   "cell_type": "code",
   "execution_count": 6,
   "id": "52d2245d",
   "metadata": {},
   "outputs": [],
   "source": [
    "import sys\n",
    "from IPython.display import Markdown\n",
    "sys.path.append('../../')\n",
    "import percolate as p8\n",
    "Markdown(p8.describe_agent('p8.Function', True))"
   ]
  },
  {
   "cell_type": "markdown",
   "id": "934adefb",
   "metadata": {},
   "source": [
    "# Main ideas\n",
    "- Percolate is both a database and an agentic framework - you can use it as either or both\n",
    "- You should register you tools and agents in Percolate to get the most out of it\n",
    "- See the section on registering tools and agents to get a better understsanding of this\n",
    "- for now we will just use built-ins as an example\n",
    "- lets start without an agent and just use Percolate to run chains of reasoning\n",
    "We will show how you can run against either the database or in Python"
   ]
  },
  {
   "cell_type": "code",
   "execution_count": 7,
   "id": "1b08cea8",
   "metadata": {},
   "outputs": [],
   "source": [
    "\"\"\"Percolate tries to be database-first so when you use the run, you are using the database\"\"\"\n",
    "p8.run(\"Please briefly explain percolate\")"
   ]
  },
  {
   "cell_type": "code",
   "execution_count": 10,
   "id": "1c6ba4d9",
   "metadata": {},
   "outputs": [],
   "source": [
    "p8.run(\"Is there a function to get the body points of measure\")"
   ]
  },
  {
   "cell_type": "code",
   "execution_count": 16,
   "id": "dabf4ee2",
   "metadata": {},
   "outputs": [],
   "source": [
    "Markdown(p8.resume('6cbb916f-5503-68ce-99f1-0333c003fc41').message_response)"
   ]
  },
  {
   "cell_type": "markdown",
   "id": "d75c5a36",
   "metadata": {},
   "source": [
    "- For a simple question like this we want the AskStatus to be COMPLETED and we want a message_response\n",
    "- there is also a session id which can be used to iterate - lets try that"
   ]
  },
  {
   "cell_type": "code",
   "execution_count": 5,
   "id": "8f4b44d2",
   "metadata": {},
   "outputs": [],
   "source": [
    "\"\"\"Percolate tries to be database-first so when you use the run, you are using the database\"\"\"\n",
    "#r = p8.run(\"I need a function to search functions\")\n",
    "# failed action is to try to search self with SQL\n",
    "#r = p8.run(\"what is the name of the function for body points of measure\")\n",
    "#correct rote would be this agent\n",
    "\n",
    "\"test this should prob always call get enttity\"\n",
    "r = p8.run(\"What is the point of measure of KT-2011\", 'p8.Function')\n",
    "r"
   ]
  },
  {
   "cell_type": "code",
   "execution_count": null,
   "id": "b58bdbd3",
   "metadata": {},
   "outputs": [],
   "source": [
    "p8.describe_agent()"
   ]
  },
  {
   "cell_type": "code",
   "execution_count": 22,
   "id": "f7b2407f",
   "metadata": {},
   "outputs": [],
   "source": [
    "r.tool_calls[0]"
   ]
  },
  {
   "cell_type": "code",
   "execution_count": 23,
   "id": "a111c90f",
   "metadata": {},
   "outputs": [],
   "source": [
    "r.tool_call_result"
   ]
  },
  {
   "cell_type": "code",
   "execution_count": 4,
   "id": "18d561bf",
   "metadata": {},
   "outputs": [],
   "source": [
    "#r.session_id\n",
    "r2=p8.resume(r)\n",
    "r2"
   ]
  },
  {
   "cell_type": "code",
   "execution_count": 6,
   "id": "f9f475fe",
   "metadata": {},
   "outputs": [],
   "source": [
    "#thoughts - if a tool call fails, we need to \"debug it\"\n",
    "null = None"
   ]
  },
  {
   "cell_type": "markdown",
   "id": "51dc45ed",
   "metadata": {},
   "source": [
    "# TODO\n",
    "- add the system prompt to percolate for all agents as general advice\n",
    "- starting with the Percolate agent, it should know when to\n",
    "  - lookup entities\n",
    "  - search self\n",
    "  - ask for help\n",
    "  - declare generation\n",
    "- agents should be fast so efficient with generation within the gather phase\n",
    "- create a debug that shows the agent prompt (with added function & system prompt known to be available as tools)\n"
   ]
  },
  {
   "cell_type": "code",
   "execution_count": 3,
   "id": "c458a60e",
   "metadata": {},
   "outputs": [],
   "source": [
    "#Markdown(p8.describe_agent('p8.Function', True))"
   ]
  },
  {
   "cell_type": "markdown",
   "id": "a94638fb",
   "metadata": {},
   "source": [
    "## Small things\n",
    "- remove the dates from the enum candidates\n"
   ]
  },
  {
   "cell_type": "code",
   "execution_count": null,
   "id": "481c4d8f",
   "metadata": {},
   "outputs": [],
   "source": []
  }
 ],
 "metadata": {},
 "nbformat": 4,
 "nbformat_minor": 5
}
