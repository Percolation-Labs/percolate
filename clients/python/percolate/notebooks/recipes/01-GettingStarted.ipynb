{
 "cells": [
  {
   "cell_type": "code",
   "execution_count": 1,
   "id": "9fe33b5f",
   "metadata": {},
   "outputs": [],
   "source": [
    "import sys\n",
    "sys.path.append('../../')\n",
    "import percolate as p8"
   ]
  },
  {
   "cell_type": "markdown",
   "id": "7d3d73db",
   "metadata": {},
   "source": [
    "# Main ideas\n",
    "- Percolate is both a database and an agentic framework - you can use it as either or both\n",
    "- You should register you tools and agents in Percolate to get the most out of it\n",
    "- See the section on registering tools and agents to get a better understsanding of this\n",
    "- for now we will just use built-ins as an example\n",
    "- lets start without an agent and just use Percolate to run chains of reasoning\n",
    "We will show how you can run against either the database or in Python"
   ]
  },
  {
   "cell_type": "code",
   "execution_count": 2,
   "id": "39da46ab",
   "metadata": {},
   "outputs": [],
   "source": [
    "\"\"\"Percolate tries to be database-first so when you use the run, you are using the database\"\"\"\n",
    "p8.run(\"Please briefly explain percolate\")"
   ]
  },
  {
   "cell_type": "markdown",
   "id": "240842d0",
   "metadata": {},
   "source": [
    "- For a simple question like this we want the AskStatus to be COMPLETED and we want a message_response\n",
    "- there is also a session id which can be used to iterate - lets try that"
   ]
  },
  {
   "cell_type": "code",
   "execution_count": 18,
   "id": "e493f6e8",
   "metadata": {},
   "outputs": [],
   "source": [
    "\"\"\"Percolate tries to be database-first so when you use the run, you are using the database\"\"\"\n",
    "#r = p8.run(\"I need a function to search functions\")\n",
    "# failed action is to try to search self with SQL\n",
    "#r = p8.run(\"what is the name of the function for body points of measure\")\n",
    "#correct rote would be this agent\n",
    "r = p8.run(\"what is the name of the function for body points of measure\", 'p8.Function')\n",
    "r"
   ]
  },
  {
   "cell_type": "code",
   "execution_count": 19,
   "id": "09523529",
   "metadata": {},
   "outputs": [],
   "source": [
    "r.tool_calls[0]"
   ]
  },
  {
   "cell_type": "code",
   "execution_count": 20,
   "id": "a265f66b",
   "metadata": {},
   "outputs": [],
   "source": [
    "r.tool_call_result"
   ]
  },
  {
   "cell_type": "code",
   "execution_count": 6,
   "id": "b70b2ac1",
   "metadata": {},
   "outputs": [],
   "source": [
    "#thoughts - if a tool call fails, we need to \"debug it\"\n",
    "null = None"
   ]
  },
  {
   "cell_type": "code",
   "execution_count": null,
   "id": "64cf741d",
   "metadata": {},
   "outputs": [],
   "source": []
  }
 ],
 "metadata": {},
 "nbformat": 4,
 "nbformat_minor": 5
}
