{
 "cells": [
  {
   "cell_type": "code",
   "execution_count": 2,
   "id": "a9210154",
   "metadata": {},
   "outputs": [],
   "source": [
    "import sys\n",
    "from IPython.display import Markdown\n",
    "sys.path.append('../../')\n",
    "import percolate as p8\n",
    "Markdown(p8.describe_agent('p8.Function', True))"
   ]
  },
  {
   "cell_type": "code",
   "execution_count": 5,
   "id": "84e4d5df",
   "metadata": {},
   "outputs": [],
   "source": [
    "null = None\n",
    "[{\"role\":\"system\",\"content\":\"You are an agent that focuses on using tools and data to answer the users question. You are careful to use the right tool for the tasks and you are efficient. \\nYou can search if someone asks about whatever your agent description below says you can do. Use the following built in functions;\\n- get-entities: Use this to look up entities by code, or URI or URL or identifier or something very specific. If someone refers to a specific thing or identifier, try to look it up\\n- help: Use this when you do not have an existing function you can use and you do not have the answer. Do not search if the question is not spe\\n- search: If the users question matches your description below. Dont use this tool if the users question does not match your context.\\n- announce_generate_large_output - when you are generating large content you can announce it first\\nReal-world knowledge: You may directly answer simple, factual questions. Otherwise, assume a tool or function exists to assist.\\n\\n\\n## Agent Name: p8.PercolateAgent\\n\\n### Description: \\n\\nThe percolate agent is the guy that tells you about Percolate which is a multi-modal database for managing AI in the data tier.\\\\n    You can learn about the philosophy of Percolate or ask questions about the docs and codebase.\\\\n    You can lookup entities of different types or plan queries and searches.\\\\n    You can call any registered apis and functions and learn more about how they can be used.\\\\n    Call the search function to get data about Percolate\\\\n    \\n\\n### Field Descriptions\\n\\n| Field Name | Field Type | Description |\\n|------------|------------|-------------|\\n| id | UUID |  |\\n| name | str | A short content name - non unique - for example a friendly label for a chunked pdf document |\\n| category | str | A content category |\\n| content | str | The chunk of content from the source |\\n| ordinal | int | For chunked content we can keep an ordinal |\\n| uri | str |  |\\n\\n### Examples\\n\\nin future we will add examples that match the question via vector search\\n\\n### The unique distinct same values for some columns \\n\\n{\\\"ordinal\\\": [0, 1, 3, 5, 4, 2], \\\"category\\\": [\\\"md\\\", \\\"sql\\\", \\\"py\\\", \\\"yaml\\\"], \\\"created_at\\\": [\\\"2025-02-03T22:51:44.707356\\\", \\\"2025-02-03T22:51:44.931583\\\", \\\"2025-02-03T22:51:44.461915\\\"], \\\"deleted_at\\\": [\\\"2025-02-03T22:51:44.707356\\\", \\\"2025-02-03T22:51:44.931583\\\", \\\"2025-02-03T22:51:44.461915\\\"], \\\"updated_at\\\": [\\\"2025-02-03T22:51:44.707356\\\", \\\"2025-02-03T22:51:44.931583\\\", \\\"2025-02-03T22:51:44.461915\\\"]}\\n\",\"tool_calls\":null,\"tool_call_id\":null}, {\"role\":\"user\",\"content\":\"please activate function get_pet_findByStatus and find any pets that are sold\",\"tool_calls\":null,\"tool_call_id\":null}, {\"role\":\"assistant\",\"content\":\"tools called...\",\"tool_calls\":[{\"id\": \"call_GEWaAXVJFnyUNsA9c9tF4VAB\", \"type\": \"function\", \"function\": {\"name\": \"activate_functions_by_name\", \"arguments\": \"{\\\"function_names\\\":[\\\"get_pet_findByStatus\\\"]}\"}}],\"tool_call_id\":null}, {\"role\":\"assistant\",\"content\":\"tools called...\",\"tool_calls\":[{\"id\": \"call_dwiQ97cLwQuNs1wwZcMwq0Jx\", \"type\": \"function\", \"function\": {\"name\": \"get_pet_findByStatus\", \"arguments\": \"{\\\"status\\\":[\\\"sold\\\"]}\"}}],\"tool_call_id\":null}, {\"role\":\"tool\",\"content\":\"[\\\"get_pet_findByStatus\\\"]\",\"tool_calls\":null,\"tool_call_id\":\"call_GEWaAXVJFnyUNsA9c9tF4VAB\"}, {\"role\":\"tool\",\"content\":\"[{\\\"id\\\": 9223372036854767223, \\\"name\\\": \\\"mila\\\", \\\"tags\\\": [{\\\"id\\\": 1894, \\\"name\\\": \\\"discound10%\\\"}, {\\\"id\\\": 1895, \\\"name\\\": \\\"discound15%\\\"}], \\\"status\\\": \\\"sold\\\", \\\"category\\\": {\\\"id\\\": 10, \\\"name\\\": \\\"cats\\\"}, \\\"photoUrls\\\": [\\\"https://avatars.mds.yandex.net/i?id=60d14977ea6c5b526cee98019875a756_l-5242562-images-thumbs&n=13\\\", \\\"https://avatars.mds.yandex.net/i?id=87416484ec92a4c3e1d8b3016cd2e1a1_l-4119765-images-thumbs&n=13\\\"]}, {\\\"id\\\": 9223372036854767270, \\\"name\\\": \\\"mila\\\", \\\"tags\\\": [{\\\"id\\\": 1894, \\\"name\\\": \\\"discound10%\\\"}, {\\\"id\\\": 1895, \\\"name\\\": \\\"discound15%\\\"}], \\\"status\\\": \\\"sold\\\", \\\"category\\\": {\\\"id\\\": 10, \\\"name\\\": \\\"cats\\\"}, \\\"photoUrls\\\": [\\\"https://avatars.mds.yandex.net/i?id=60d14977ea6c5b526cee98019875a756_l-5242562-images-thumbs&n=13\\\", \\\"https://avatars.mds.yandex.net/i?id=87416484ec92a4c3e1d8b3016cd2e1a1_l-4119765-images-thumbs&n=13\\\"]}, {\\\"id\\\": 9223372036854767364, \\\"name\\\": \\\"mila\\\", \\\"tags\\\": [{\\\"id\\\": 1894, \\\"name\\\": \\\"discound10%\\\"}, {\\\"id\\\": 1895, \\\"name\\\": \\\"discound15%\\\"}], \\\"status\\\": \\\"sold\\\", \\\"category\\\": {\\\"id\\\": 10, \\\"name\\\": \\\"cats\\\"}, \\\"photoUrls\\\": [\\\"https://avatars.mds.yandex.net/i?id=60d14977ea6c5b526cee98019875a756_l-5242562-images-thumbs&n=13\\\", \\\"https://avatars.mds.yandex.net/i?id=87416484ec92a4c3e1d8b3016cd2e1a1_l-4119765-images-thumbs&n=13\\\"]}, {\\\"id\\\": 9223372036854767416, \\\"name\\\": \\\"UpdatedMatviyPet\\\", \\\"tags\\\": [], \\\"status\\\": \\\"sold\\\", \\\"photoUrls\\\": []}, {\\\"id\\\": 9223372036854767436, \\\"name\\\": \\\"UpdatedMatviyPet\\\", \\\"tags\\\": [], \\\"status\\\": \\\"sold\\\", \\\"photoUrls\\\": []}, {\\\"id\\\": 9223372036854767442, \\\"name\\\": \\\"UpdatedMatviyPet\\\", \\\"tags\\\": [], \\\"status\\\": \\\"sold\\\", \\\"photoUrls\\\": []}, {\\\"id\\\": 9223372036854767459, \\\"name\\\": \\\"UpdatedMatviyPet\\\", \\\"tags\\\": [], \\\"status\\\": \\\"sold\\\", \\\"photoUrls\\\": []}, {\\\"id\\\": 9223372036854767493, \\\"name\\\": \\\"UpdatedMatviyPet\\\", \\\"tags\\\": [], \\\"status\\\": \\\"sold\\\", \\\"photoUrls\\\": []}, {\\\"id\\\": 13, \\\"tags\\\": [{\\\"id\\\": 0, \\\"name\\\": \\\"string\\\"}], \\\"status\\\": \\\"sold\\\", \\\"category\\\": {\\\"id\\\": 0, \\\"name\\\": \\\"cats\\\"}, \\\"photoUrls\\\": [\\\"string\\\"]}, {\\\"id\\\": 555, \\\"name\\\": \\\"Sharik\\\", \\\"tags\\\": [{\\\"id\\\": 0, \\\"name\\\": \\\"string\\\"}], \\\"status\\\": \\\"sold\\\", \\\"category\\\": {\\\"id\\\": 777, \\\"name\\\": \\\"dogs\\\"}, \\\"photoUrls\\\": [\\\"string\\\"]}, {\\\"id\\\": 9, \\\"name\\\": \\\"King Kong\\\", \\\"tags\\\": [{\\\"id\\\": 0, \\\"name\\\": \\\"string\\\"}], \\\"status\\\": \\\"sold\\\", \\\"category\\\": {\\\"id\\\": 0, \\\"name\\\": \\\"cats\\\"}, \\\"photoUrls\\\": [\\\"string\\\"]}, {\\\"id\\\": 1, \\\"name\\\": \\\"dog\\\", \\\"tags\\\": [], \\\"status\\\": \\\"sold\\\", \\\"category\\\": {\\\"id\\\": 1, \\\"name\\\": \\\"cat\\\"}, \\\"photoUrls\\\": []}]\",\"tool_calls\":null,\"tool_call_id\":\"call_dwiQ97cLwQuNs1wwZcMwq0Jx\"}]"
   ]
  },
  {
   "cell_type": "code",
   "execution_count": 2,
   "id": "81c05191",
   "metadata": {},
   "outputs": [],
   "source": [
    "\"\"\"test entity and function resolution\n",
    "-- add a Task Agent with an external function in the api\n",
    "-- register the agent and add a dummy task called T1234 <- this is its code\n",
    "-- now ask about the entity and lets find comments related to it which will come from a dummy endpoint \n",
    "\"\"\"\n",
    "\n",
    "from percolate.models.p8 import Task, Agent\n",
    "#p8.repository(Task).register()\n",
    "#p8.repository(Task).update_records(Task(name='T1234', description=\"A task for creating a youtube video explaining how percolate works\", project_name='percolate'), index_entities=True)"
   ]
  },
  {
   "cell_type": "code",
   "execution_count": 3,
   "id": "fb352251",
   "metadata": {},
   "outputs": [],
   "source": [
    "p8.get_entities(['T1234'])"
   ]
  },
  {
   "cell_type": "code",
   "execution_count": 6,
   "id": "47c31b0d",
   "metadata": {},
   "outputs": [],
   "source": [
    "from percolate.models.p8 import PercolateAgent\n",
    "agent = p8.Agent(PercolateAgent)\n",
    "agent(\"What comments are associate with T1234\")"
   ]
  },
  {
   "cell_type": "code",
   "execution_count": 4,
   "id": "ba9bfbf2",
   "metadata": {},
   "outputs": [],
   "source": [
    "#help -> functions -> descriptions\n",
    "#p8.run(\"How would i get pets that are sold\")\n",
    "#searches percolate self and gets all the vector store data from the codebase\n",
    "#r =p8.run(\"what can you tell me about the p8.LanguageModelApi\")\n",
    "#r = p8.resume(r.session_id)\n",
    "p8.run(\"What is ABC123\")"
   ]
  },
  {
   "cell_type": "code",
   "execution_count": 12,
   "id": "9de82049",
   "metadata": {},
   "outputs": [],
   "source": [
    "p8.run('please activate function get_pet_findByStatus')"
   ]
  },
  {
   "cell_type": "code",
   "execution_count": 43,
   "id": "0287955f",
   "metadata": {},
   "outputs": [],
   "source": [
    "Markdown(r.message_response)"
   ]
  },
  {
   "cell_type": "markdown",
   "id": "cdb29aff",
   "metadata": {},
   "source": [
    "# Main ideas\n",
    "- Percolate is both a database and an agentic framework - you can use it as either or both\n",
    "- You should register you tools and agents in Percolate to get the most out of it\n",
    "- See the section on registering tools and agents to get a better understsanding of this\n",
    "- for now we will just use built-ins as an example\n",
    "- lets start without an agent and just use Percolate to run chains of reasoning\n",
    "We will show how you can run against either the database or in Python"
   ]
  },
  {
   "cell_type": "code",
   "execution_count": 31,
   "id": "fe7d8c35",
   "metadata": {},
   "outputs": [],
   "source": [
    "\"\"\"Percolate tries to be database-first so when you use the run, you are using the database\"\"\"\n",
    "p8.run(\"Please briefly explain percolate\")"
   ]
  },
  {
   "cell_type": "code",
   "execution_count": 32,
   "id": "33005ab4",
   "metadata": {},
   "outputs": [],
   "source": [
    "response = p8.run(\"Give me a detailed explanation about percolate in several paragraphs\")\n",
    "response"
   ]
  },
  {
   "cell_type": "code",
   "execution_count": 33,
   "id": "c0064a52",
   "metadata": {},
   "outputs": [],
   "source": [
    "Markdown(response.message_response)"
   ]
  },
  {
   "cell_type": "code",
   "execution_count": 34,
   "id": "2b9b175f",
   "metadata": {},
   "outputs": [],
   "source": [
    "Markdown(p8.resume(response).message_response)"
   ]
  },
  {
   "cell_type": "markdown",
   "id": "d611bcbc",
   "metadata": {},
   "source": [
    "- For a simple question like this we want the AskStatus to be COMPLETED and we want a message_response\n",
    "- there is also a session id which can be used to iterate - lets try that"
   ]
  },
  {
   "cell_type": "code",
   "execution_count": 38,
   "id": "57915b21",
   "metadata": {},
   "outputs": [],
   "source": []
  },
  {
   "cell_type": "code",
   "execution_count": 35,
   "id": "0bb9144f",
   "metadata": {},
   "outputs": [],
   "source": [
    "\"\"\"Percolate tries to be database-first so when you use the run, you are using the database\"\"\"\n",
    "#r = p8.run(\"I need a function to search functions\")\n",
    "# failed action is to try to search self with SQL\n",
    "#r = p8.run(\"what is the name of the function for body points of measure\")\n",
    "#correct rote would be this agent\n",
    "\n",
    "\"test this should prob always call get enttity\"\n",
    "r = p8.run(\"What is the point of measure of KT-2011\", 'p8.Function')\n",
    "r"
   ]
  },
  {
   "cell_type": "code",
   "execution_count": 23,
   "id": "153adb0d",
   "metadata": {},
   "outputs": [],
   "source": [
    "r.tool_call_result"
   ]
  },
  {
   "cell_type": "code",
   "execution_count": 4,
   "id": "94d45917",
   "metadata": {},
   "outputs": [],
   "source": [
    "#r.session_id\n",
    "r2=p8.resume(r)\n",
    "r2"
   ]
  },
  {
   "cell_type": "code",
   "execution_count": 6,
   "id": "fef8e12e",
   "metadata": {},
   "outputs": [],
   "source": [
    "#thoughts - if a tool call fails, we need to \"debug it\"\n",
    "null = None"
   ]
  },
  {
   "cell_type": "markdown",
   "id": "ca4eb61b",
   "metadata": {},
   "source": [
    "# TODO\n",
    "- add the system prompt to percolate for all agents as general advice\n",
    "- starting with the Percolate agent, it should know when to\n",
    "  - lookup entities\n",
    "  - search self\n",
    "  - ask for help\n",
    "  - declare generation\n",
    "- agents should be fast so efficient with generation within the gather phase\n",
    "- create a debug that shows the agent prompt (with added function & system prompt known to be available as tools)\n"
   ]
  },
  {
   "cell_type": "code",
   "execution_count": 3,
   "id": "e6525f8a",
   "metadata": {},
   "outputs": [],
   "source": [
    "#Markdown(p8.describe_agent('p8.Function', True))"
   ]
  },
  {
   "cell_type": "markdown",
   "id": "59197fa0",
   "metadata": {},
   "source": [
    "## Small things\n",
    "- remove the dates from the enum candidates\n"
   ]
  },
  {
   "cell_type": "code",
   "execution_count": null,
   "id": "53b2c93c",
   "metadata": {},
   "outputs": [],
   "source": []
  }
 ],
 "metadata": {},
 "nbformat": 4,
 "nbformat_minor": 5
}
