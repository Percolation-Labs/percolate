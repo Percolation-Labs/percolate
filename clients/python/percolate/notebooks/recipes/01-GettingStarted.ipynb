{
 "cells": [
  {
   "cell_type": "code",
   "execution_count": 1,
   "id": "cfcde56c",
   "metadata": {},
   "outputs": [],
   "source": [
    "import sys\n",
    "from IPython.display import Markdown\n",
    "sys.path.append('../../')\n",
    "import percolate as p8\n",
    "#Markdown(p8.describe_agent('p8.Function', True))"
   ]
  },
  {
   "cell_type": "code",
   "execution_count": 2,
   "id": "11b92d58",
   "metadata": {},
   "outputs": [],
   "source": [
    "\"\"\"test entity and function resolution\n",
    "-- add a Task Agent with an external function in the api\n",
    "-- register the agent and add a dummy task called T1234 <- this is its code\n",
    "-- now ask about the entity and lets find comments related to it which will come from a dummy endpoint \n",
    "\"\"\"\n",
    "\n",
    "from percolate.models.p8 import Task, Agent\n",
    "#p8.repository(Task).register()\n",
    "#p8.repository(Task).update_records(Task(name='T1234', description=\"A task for creating a youtube video explaining how percolate works\", project_name='percolate'), index_entities=True)"
   ]
  },
  {
   "cell_type": "code",
   "execution_count": 3,
   "id": "fceab2d9",
   "metadata": {},
   "outputs": [],
   "source": [
    "p8.get_entities(['T1234'])"
   ]
  },
  {
   "cell_type": "code",
   "execution_count": 6,
   "id": "852f3b31",
   "metadata": {},
   "outputs": [],
   "source": [
    "from percolate.models.p8 import PercolateAgent\n",
    "agent = p8.Agent(PercolateAgent)\n",
    "agent(\"What comments are associate with T1234\")"
   ]
  },
  {
   "cell_type": "code",
   "execution_count": 4,
   "id": "5989d33b",
   "metadata": {},
   "outputs": [],
   "source": [
    "#help -> functions -> descriptions\n",
    "#p8.run(\"How would i get pets that are sold\")\n",
    "#searches percolate self and gets all the vector store data from the codebase\n",
    "#r =p8.run(\"what can you tell me about the p8.LanguageModelApi\")\n",
    "#r = p8.resume(r.session_id)\n",
    "p8.run(\"What is ABC123\")"
   ]
  },
  {
   "cell_type": "code",
   "execution_count": null,
   "id": "d6c4854a",
   "metadata": {},
   "outputs": [],
   "source": []
  },
  {
   "cell_type": "code",
   "execution_count": 43,
   "id": "9d6df700",
   "metadata": {},
   "outputs": [],
   "source": [
    "Markdown(r.message_response)"
   ]
  },
  {
   "cell_type": "markdown",
   "id": "2ad6f181",
   "metadata": {},
   "source": [
    "# Main ideas\n",
    "- Percolate is both a database and an agentic framework - you can use it as either or both\n",
    "- You should register you tools and agents in Percolate to get the most out of it\n",
    "- See the section on registering tools and agents to get a better understsanding of this\n",
    "- for now we will just use built-ins as an example\n",
    "- lets start without an agent and just use Percolate to run chains of reasoning\n",
    "We will show how you can run against either the database or in Python"
   ]
  },
  {
   "cell_type": "code",
   "execution_count": 31,
   "id": "d6e2b1c1",
   "metadata": {},
   "outputs": [],
   "source": [
    "\"\"\"Percolate tries to be database-first so when you use the run, you are using the database\"\"\"\n",
    "p8.run(\"Please briefly explain percolate\")"
   ]
  },
  {
   "cell_type": "code",
   "execution_count": 32,
   "id": "80e7a140",
   "metadata": {},
   "outputs": [],
   "source": [
    "response = p8.run(\"Give me a detailed explanation about percolate in several paragraphs\")\n",
    "response"
   ]
  },
  {
   "cell_type": "code",
   "execution_count": 33,
   "id": "029ca1ac",
   "metadata": {},
   "outputs": [],
   "source": [
    "Markdown(response.message_response)"
   ]
  },
  {
   "cell_type": "code",
   "execution_count": 34,
   "id": "504e06e8",
   "metadata": {},
   "outputs": [],
   "source": [
    "Markdown(p8.resume(response).message_response)"
   ]
  },
  {
   "cell_type": "markdown",
   "id": "06835b3d",
   "metadata": {},
   "source": [
    "- For a simple question like this we want the AskStatus to be COMPLETED and we want a message_response\n",
    "- there is also a session id which can be used to iterate - lets try that"
   ]
  },
  {
   "cell_type": "code",
   "execution_count": 38,
   "id": "a0749272",
   "metadata": {},
   "outputs": [],
   "source": []
  },
  {
   "cell_type": "code",
   "execution_count": 35,
   "id": "1c487afd",
   "metadata": {},
   "outputs": [],
   "source": [
    "\"\"\"Percolate tries to be database-first so when you use the run, you are using the database\"\"\"\n",
    "#r = p8.run(\"I need a function to search functions\")\n",
    "# failed action is to try to search self with SQL\n",
    "#r = p8.run(\"what is the name of the function for body points of measure\")\n",
    "#correct rote would be this agent\n",
    "\n",
    "\"test this should prob always call get enttity\"\n",
    "r = p8.run(\"What is the point of measure of KT-2011\", 'p8.Function')\n",
    "r"
   ]
  },
  {
   "cell_type": "code",
   "execution_count": 23,
   "id": "06fa222d",
   "metadata": {},
   "outputs": [],
   "source": [
    "r.tool_call_result"
   ]
  },
  {
   "cell_type": "code",
   "execution_count": 4,
   "id": "8d09e91f",
   "metadata": {},
   "outputs": [],
   "source": [
    "#r.session_id\n",
    "r2=p8.resume(r)\n",
    "r2"
   ]
  },
  {
   "cell_type": "code",
   "execution_count": 6,
   "id": "388b2577",
   "metadata": {},
   "outputs": [],
   "source": [
    "#thoughts - if a tool call fails, we need to \"debug it\"\n",
    "null = None"
   ]
  },
  {
   "cell_type": "markdown",
   "id": "4e0af3eb",
   "metadata": {},
   "source": [
    "# TODO\n",
    "- add the system prompt to percolate for all agents as general advice\n",
    "- starting with the Percolate agent, it should know when to\n",
    "  - lookup entities\n",
    "  - search self\n",
    "  - ask for help\n",
    "  - declare generation\n",
    "- agents should be fast so efficient with generation within the gather phase\n",
    "- create a debug that shows the agent prompt (with added function & system prompt known to be available as tools)\n"
   ]
  },
  {
   "cell_type": "code",
   "execution_count": 3,
   "id": "30a914d1",
   "metadata": {},
   "outputs": [],
   "source": [
    "#Markdown(p8.describe_agent('p8.Function', True))"
   ]
  },
  {
   "cell_type": "markdown",
   "id": "78f033a6",
   "metadata": {},
   "source": [
    "## Small things\n",
    "- remove the dates from the enum candidates\n"
   ]
  },
  {
   "cell_type": "code",
   "execution_count": null,
   "id": "03cd540f",
   "metadata": {},
   "outputs": [],
   "source": []
  }
 ],
 "metadata": {},
 "nbformat": 4,
 "nbformat_minor": 5
}
