{
 "cells": [
  {
   "cell_type": "code",
   "execution_count": 5,
   "id": "f5e98ee3",
   "metadata": {
    "scrolled": false
   },
   "outputs": [],
   "source": [
    "import percolate as p8\n",
    "from IPython.display import Markdown\n",
    "from percolate.models.p8 import PercolateAgent, Task, ResearchIteration, Function\n",
    "\n",
    "from percolate.utils.studio import add_percolate_endpoints\n",
    "\n",
    "# \"\"\"add some endpoints as functions to percolate api\"\"\"\n",
    "# add_percolate_endpoints([#'create_task_tasks__post', \n",
    "#                          'execute_research_iteration_tasks_research_execute_post'])\n",
    "\n",
    "#agent = p8.Agent(ResearchIteration,allow_help=True)\n",
    "agent = p8.Agent(Task)\n",
    "\n",
    "#agent(\"What comments are associate with T1234\")\n",
    "# p8.repository(Function).update_records(\n",
    "#     [\n",
    "#         Function.from_entity(Task),\n",
    "#         Function.from_entity(ResearchIteration),\n",
    "#     ]\n",
    "# )\n",
    "# language_model='claude-3-7-sonnet-20250219'\n",
    "#Markdown(Task.get_model_description(True))\n",
    "\n",
    "import percolate as p8\n",
    "from percolate.models.p8 import Task, ResearchIteration\n",
    "agent = p8.Agent(Task)\n",
    "agent(\"please execute a research task to compare google to the east india company\")"
   ]
  },
  {
   "cell_type": "code",
   "execution_count": null,
   "id": "c45942e6",
   "metadata": {},
   "outputs": [],
   "source": [
    "agent.messages.data"
   ]
  },
  {
   "cell_type": "code",
   "execution_count": 2,
   "id": "bd2bb60d",
   "metadata": {},
   "outputs": [],
   "source": [
    "d = {'tags': ['Tasks'], 'summary': 'Execute Research Iteration', 'description': 'execute a research plan - perform each search in the question set - this can take time so should be done as background tasks', 'operationId': 'execute_research_iteration_tasks_research_execute_post', 'requestBody': {'content': {'application/json': {'schema': {'$ref': '#/components/schemas/ResearchIteration'}}}, 'required': True}, 'responses': {'200': {'description': 'Successful Response', 'content': {'application/json': {'schema': {'$ref': '#/components/schemas/ResearchIteration'}}}}, '422': {'description': 'Validation Error', 'content': {'application/json': {'schema': {'$ref': '#/components/schemas/HTTPValidationError'}}}}}, 'parameters': [], 'request_body': {'properties': {'id': {'anyOf': [{'type': 'string', 'format': 'uuid'}, {'type': 'string'}, {'type': 'null'}], 'title': 'Id', 'default': 'unique id for rel'}, 'iteration': {'type': 'integer', 'title': 'Iteration'}, 'content': {'anyOf': [{'type': 'string'}, {'type': 'null'}], 'title': 'Content', 'description': 'An optional summary of the results discovered', 'embedding_provider': 'default'}, 'conceptual_diagram': {'anyOf': [{'type': 'string'}, {'type': 'null'}], 'title': 'Conceptual Diagram', 'description': 'The mermaid diagram for the plan - typically generated in advanced of doing a search'}, 'question_set': {'items': {'$ref': '#/components/schemas/_QuestionSet'}, 'type': 'array', 'title': 'Question Set', 'description': 'a set of questions and their ids from the conceptual diagram'}, 'task_id': {'anyOf': [{'type': 'string', 'format': 'uuid'}, {'type': 'string'}, {'type': 'null'}], 'title': 'Task Id', 'default': 'Research are linked to tasks which are at minimum a question'}}, 'type': 'object', 'required': ['iteration', 'question_set'], 'title': 'ResearchIteration', 'description': 'A research iteration is a plan to deal with a task.\\nIf you are asked for a plan you should first use your json structure to create a plan. \\nSearches should be done via the webs search. \\n1. If you are asked to search for existing plans you can use the _search_ method to find plans themselves\\n2. if you are asked to search for general topics, you should execute the web search\\nYou can generate conceptual diagrams using mermaid diagrams to provide an overview of the research plan.\\nWhen you generate a conceptual plan you should link question sets to plans for example each question should have labels that link to part of the conceptual diagram using the mermaid diagram format to describe your plan.'}}\n",
    "d"
   ]
  },
  {
   "cell_type": "code",
   "execution_count": 3,
   "id": "3f9abb77",
   "metadata": {},
   "outputs": [],
   "source": [
    "from percolate.services.OpenApiService import OpenApiSpec\n",
    "uri =  f\"http://percolate-api:5008/openapi.json\"\n",
    "service = OpenApiSpec(uri)\n",
    "service"
   ]
  },
  {
   "cell_type": "code",
   "execution_count": 42,
   "id": "0965f00b",
   "metadata": {},
   "outputs": [],
   "source": [
    "import re\n",
    "import json\n",
    "R\n",
    "def parse_fenced_code_blocks(\n",
    "    input_string, try_parse=True, select_type=\"json\", first=True, on_error=None\n",
    "):\n",
    "    \"\"\"\n",
    "    extract code from fenced blocks - will try to parse into python dicts if option set\n",
    "    json is assumed\n",
    "    \"\"\"\n",
    "    try:\n",
    "        input_string = input_string.replace(\"\\n\", \"\")\n",
    "        pattern = r\"```(.*?)```|~~~(.*?)~~~\"\n",
    "        matches = re.finditer(pattern, input_string, re.DOTALL)\n",
    "        code_blocks = []\n",
    "        for match in matches:\n",
    "            code_block = match.group(1) if match.group(1) else match.group(2)\n",
    "            # print(code_block)\n",
    "            if code_block[: len(select_type)] == select_type:\n",
    "                code_block = code_block[len(select_type) :]\n",
    "                code_block.strip()\n",
    "                if try_parse and select_type == \"json\":\n",
    "                    code_block = json.loads(code_block)\n",
    "                code_blocks.append(code_block)\n",
    "        return code_blocks if not first and len(code_blocks) > 1 else code_blocks[0]\n",
    "    except:\n",
    "        if on_error:\n",
    "            raise\n",
    "        # raise\n",
    "        # FAIL SILENT\n",
    "        return [] if not first else {}\n",
    "parse_fenced_code_blocks(R)"
   ]
  },
  {
   "cell_type": "code",
   "execution_count": 46,
   "id": "440c650b",
   "metadata": {
    "scrolled": true
   },
   "outputs": [],
   "source": [
    "from percolate.services import PostgresService\n",
    "import html2text\n",
    "import json\n",
    "ps = PostgresService()\n",
    "data = ps.execute(\"\"\" select id,content from p8.\"Resources\" \n",
    "order by created_at desc\n",
    "limit 25\"\"\")\n",
    "from percolate.models.p8 import Task, ResearchIteration\n",
    "agent = p8.Agent(Task,allow_help=False)\n",
    "sets = []\n",
    "for d in data:\n",
    "    try:\n",
    "        #print(d['content'])\n",
    "        R = agent.run(f\"\"\" please explain the data below according to the task of comparing Google to the east india company and return a json object with two properties. \n",
    "        1. extract entity `tags` in a path format from specific to general like Person/CEOs or LLMs/AI and add them as a list of tags (5-7). the entities should be relevant to the tasl\n",
    "        2. return a nested dictionary called `analysis` with 3 fields; `discussion`, `category`, `questions`. for example if the data provide a history of east india business practices you can label it as such, list the sorts of questions addressed in the section \n",
    "         and then provide a comprehensive (three comprehensive and detailed paragraph e.g. A4 page of content) discussion of either google, the easy india company or their relationship\n",
    "\n",
    "        # Data\n",
    "        ```{d['content']}``` \n",
    "        \"\"\")\n",
    "        sets.append(parse_fenced_code_blocks(R))\n",
    "    except Exception as ex:\n",
    "        print(f\"\"\" ERROR  {ex} \"\"\")\n",
    "\n",
    "sets\n",
    "# for _id in ids:\n",
    "#     try:\n",
    "# #         id = _id['id']\n",
    "# #         data = ps.execute(f\"\"\"select id,content from p8.\"Resources\" where id = '{id}'\"\"\")[0]['content']\n",
    "# #         data = html2text.html2text(data)\n",
    "# #         ps.execute(f\"\"\" update p8.\"Resources\" set content = %s where id = %s\"\"\", data=(data,id))\n",
    "# #         print(id)\n",
    " \n",
    "#     except:\n",
    "#         print(id)\n",
    "#         raise\n",
    "# data"
   ]
  },
  {
   "cell_type": "code",
   "execution_count": 68,
   "id": "b2ad0a31",
   "metadata": {},
   "outputs": [],
   "source": [
    "data = agent.run(f\"\"\" Using just the provided data and withuut using tools, generate a detailed SCATHING reports with clear sections in markdown on the topic of compariing google to the east india company.\n",
    "Make clear the questions we are setting out to address, have sections that break down key discussions points, an intro and conclusion. Be as detailed as possible.\n",
    "Your report should not be bullet points but flesh out a comprehensive discussion. It should be several A4 pages in length. In this case I want you to \n",
    "be critical of both companies bsiness practices and be cynical and humorous in your writing style. This is not intended to be a very serious report just a social commentary\n",
    "```{sets}``` \"\"\",\n",
    "language_model='claude-3-7-sonnet-20250219'\n",
    "                )\n",
    "data"
   ]
  },
  {
   "cell_type": "code",
   "execution_count": 89,
   "id": "875957b0",
   "metadata": {},
   "outputs": [],
   "source": [
    "ls = [s.get('tags',[]) for s in sets]\n",
    "lss = []\n",
    "for i in ls:\n",
    "    for j in i:\n",
    "        lss.append(f\"T4/{j}\")\n",
    "jd = json.dumps(lss)\n",
    "ps.execute(f\"\"\"  SELECT p8.create_graph_from_paths('{jd}'::jsonb); \"\"\")"
   ]
  },
  {
   "cell_type": "code",
   "execution_count": 84,
   "id": "ab23c53a",
   "metadata": {},
   "outputs": [],
   "source": []
  },
  {
   "cell_type": "code",
   "execution_count": 69,
   "id": "85fdc6df",
   "metadata": {},
   "outputs": [],
   "source": [
    "with open(\"/Users/sirsh/Downloads/report_cyn.md\", 'w') as f:\n",
    "    f.write(data)"
   ]
  },
  {
   "cell_type": "code",
   "execution_count": 70,
   "id": "b9e363e6",
   "metadata": {
    "scrolled": false
   },
   "outputs": [],
   "source": [
    "Markdown(data)"
   ]
  },
  {
   "cell_type": "code",
   "execution_count": 58,
   "id": "2555c2d3",
   "metadata": {},
   "outputs": [],
   "source": [
    "data = agent.run(f\"\"\" please generate a mermaid diagram summarsing the main arguments in this data - can you maintain google and east india company as two entitites and show the relationship in shared nodes. Dont add explanation. Google and EIC should be top level with shared nodes and color coding should isolate them. please add detailed node breakdown showing key comparisons with details```{sets}``` \"\"\")\n",
    "data"
   ]
  },
  {
   "cell_type": "code",
   "execution_count": 59,
   "id": "c3990c3b",
   "metadata": {},
   "outputs": [],
   "source": [
    "d = \"\"\"A[Google]:::google\\n    B[East India Company (EIC)]:::eic\\n\\n    A -->|Global Influence| C[Monopolistic Practices]\\n    B -->|Global Influence| C\\n\\n    A -->|Economic Impact| D[Impact on Local Economies]\\n    B -->|Economic Impact| D\\n\\n    A -->|Technological Innovation| E[Innovation and Expansion]\\n    B -->|Military and Political Power| E\\n\\n    A -->|Data and Privacy Concerns| F[Ethical Considerations]\\n    B -->|Exploitation and Colonialism| F\\n\\n    A -->|Digital Transformation| G[Societal Impact]\\n    B -->|Cultural and Social Impact| G\\n\\n    A -->|Advertising and Revenue| H[Business Model]\\n    B -->|Trade and Revenue| H\\n\\n    A -->|Regulatory Scrutiny| I[Challenges and Criticisms]\\n    B -->|Government Intervention| I\\n\\n    classDef google fill:#f9f,stroke:#333,stroke-width:2px;\\n    classDef eic fill:#bbf,stroke:#333,stroke-width:2px;\\n\"\"\"\n",
    "with open (\"/Users/sirsh/Downloads/mm.txt\", 'w') as f:\n",
    "    f.write(d)"
   ]
  },
  {
   "cell_type": "code",
   "execution_count": 50,
   "id": "5dfe841a",
   "metadata": {},
   "outputs": [],
   "source": [
    "with open(\"/Users/sirsh/Downloads/geast_report.json\", 'w') as f:\n",
    "    json.dump(sets,f)"
   ]
  },
  {
   "cell_type": "code",
   "execution_count": 2,
   "id": "9e2235da",
   "metadata": {},
   "outputs": [],
   "source": [
    "task_agent = p8.Agent(Task)\n",
    "#task_agent.run(\"Please go ahead and create a research iteration to research tech news. do not tell me how to do it\")\n",
    "task_agent.run(\"please generate a research plan to research latest tech topics. Do not tell me how to do it, just do it\")\n",
    "#Markdown(task_agent.run(\"Please go ahead and generate a full research iteration plan to get latest tech news in json format - you do not need to execute, just show me the structure\"))"
   ]
  },
  {
   "cell_type": "code",
   "execution_count": null,
   "id": "50f0fd04",
   "metadata": {},
   "outputs": [],
   "source": [
    "#task_agent.run(\"please perform a search for tech news and write a report\")"
   ]
  },
  {
   "cell_type": "code",
   "execution_count": null,
   "id": "63414dc8",
   "metadata": {},
   "outputs": [],
   "source": [
    "# from percolate.utils.studio import add_percolate_endpoints\n",
    "# add_percolate_endpoints(['create_task_tasks__post', \n",
    "#                              'execute_research_iteration_tasks_research_execute_post'])"
   ]
  },
  {
   "cell_type": "code",
   "execution_count": 10,
   "id": "46006b28",
   "metadata": {},
   "outputs": [],
   "source": [
    "p8.get_proxy(f.proxy_uri)"
   ]
  },
  {
   "cell_type": "code",
   "execution_count": 8,
   "id": "22b9d883",
   "metadata": {
    "scrolled": false
   },
   "outputs": [],
   "source": [
    "task_agent._function_manager.plan(\"A function to do research iterations\")"
   ]
  },
  {
   "cell_type": "code",
   "execution_count": 5,
   "id": "7e14cdfa",
   "metadata": {},
   "outputs": [],
   "source": [
    "\"\"\"TODO check if agent knows its json structure\n",
    "\n",
    "- i think in the database we generate the prompt but we need to do this in code too so it knows. test.\n",
    "- then we need to test that crud works i.e. that the save object can be used to save self objects\n",
    "- then we need to test that we can post to ebdpoints that use this type\n",
    "\"\"\"\n",
    "from IPython.display import Markdown\n",
    "#Markdown(agent(\"Please create a research plan to search for tech news using your structured object format as Json\"))\n",
    "agent('find a function to perform research iterations and use it to get the latest tech news')"
   ]
  },
  {
   "cell_type": "code",
   "execution_count": 11,
   "id": "054f9d0e",
   "metadata": {},
   "outputs": [],
   "source": [
    "# from IPython.display import Markdown\n",
    "d= agent.run(\"please search the 'matter with things' and provide a detailed report is doscoursive discussion format about what you find by visiting a number of the recovered search result details without announcing text generation. you can use your own knolwedge to reflect and extend what you find and related to other things - generate your report in one pass\",\n",
    "            language_model='claude-3-7-sonnet-20250219')\n",
    "             \n",
    "Markdown(d)"
   ]
  },
  {
   "cell_type": "code",
   "execution_count": null,
   "id": "f41377b8",
   "metadata": {},
   "outputs": [],
   "source": [
    "# create a better database function that takes a task id and then allow the DB research iteration to run or be recruited by a task"
   ]
  },
  {
   "cell_type": "code",
   "execution_count": null,
   "id": "81de6bc6",
   "metadata": {},
   "outputs": [],
   "source": [
    "# practice saving structured -> crud in the database and in python"
   ]
  },
  {
   "cell_type": "code",
   "execution_count": null,
   "id": "379d07c0",
   "metadata": {},
   "outputs": [],
   "source": [
    "# pratice recruitement - starting with a task - in the database and in python|"
   ]
  },
  {
   "cell_type": "code",
   "execution_count": null,
   "id": "a78137ef",
   "metadata": {},
   "outputs": [],
   "source": [
    "# practice tasks queues with database triggers"
   ]
  },
  {
   "cell_type": "code",
   "execution_count": null,
   "id": "c4c4325d",
   "metadata": {},
   "outputs": [],
   "source": [
    "# test resume session in the agent when we finished prem"
   ]
  }
 ],
 "metadata": {},
 "nbformat": 4,
 "nbformat_minor": 5
}
