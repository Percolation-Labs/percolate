{
 "cells": [
  {
   "cell_type": "code",
   "execution_count": 1,
   "id": "647edc87",
   "metadata": {},
   "outputs": [],
   "source": [
    "\n",
    "import sys\n",
    "import os\n",
    "from IPython.display import Markdown\n",
    "sys.path.append('../../')\n",
    "\n",
    "from percolate.utils import make_uuid\n",
    "from percolate.services.embedded import DuckDBService, KuzuDBService\n",
    "from percolate.models.p8.embedding_types import EmbeddingRecord\n",
    "from percolate.models import Agent\n",
    "from percolate.services.embedded import DuckDBService, KuzuDBService, IcebergModelCatalog\n",
    "from percolate.models import Agent\n",
    "\n",
    "# s = DuckDBService(Agent)\n",
    "# s.register()"
   ]
  },
  {
   "cell_type": "code",
   "execution_count": 1,
   "id": "9439c3b0",
   "metadata": {},
   "outputs": [],
   "source": [
    "import duckdb\n",
    "import uuid\n",
    "import json\n",
    "from pyiceberg.exceptions import NoSuchNamespaceError, NamespaceAlreadyExistsError, TableAlreadyExistsError\n",
    "from pyiceberg.catalog.sql import SqlCatalog\n",
    "from percolate.utils import logger, make_uuid\n",
    "from pydantic import BaseModel\n",
    "from percolate.models import AbstractModel,Agent\n",
    "import typing\n",
    "import pyarrow as pa\n",
    "from percolate.utils.env import P8_EMBEDDED_DB_HOME \n",
    "from percolate.utils.types.pydantic import arrow_type_to_iceberg_type\n",
    "from percolate.services.embedded import IcebergModelCatalog"
   ]
  },
  {
   "cell_type": "code",
   "execution_count": 2,
   "id": "9d770214",
   "metadata": {},
   "outputs": [],
   "source": [
    "import duckdb\n",
    " \n",
    "# Connect to DuckDB\n",
    "con = duckdb.connect(f\"{P8_EMBEDDED_DB_HOME}/percolate.db\")\n",
    "\n",
    "\n",
    "df=con.execute(f\"\"\" SELECT * FROM read_parquet('/Users/sirsh/.percolate/storage/p8.db/Agent/data/*.parquet') LIMIT 5 \"\"\").fetch_df()\n",
    "df"
   ]
  },
  {
   "cell_type": "code",
   "execution_count": 6,
   "id": "3298ac16",
   "metadata": {},
   "outputs": [],
   "source": [
    "con.execute(f\"\"\" SELECT * FROM read_parquet('/Users/sirsh/.percolate/storage/py_embeddings.db/p8_Agent_embeddings/data/*.parquet') LIMIT 5 \"\"\").fetch_df()"
   ]
  },
  {
   "cell_type": "code",
   "execution_count": 17,
   "id": "68f84fa7",
   "metadata": {},
   "outputs": [],
   "source": [
    "EXPLAIN\n",
    "SELECT *\n",
    "FROM embeddings\n",
    "ORDER BY array_inner_product(embedding, embed('some text'))\n",
    "LIMIT 5;"
   ]
  },
  {
   "cell_type": "code",
   "execution_count": 5,
   "id": "20ba9e20",
   "metadata": {},
   "outputs": [],
   "source": [
    "from percolate.services.embedded import DuckDBService\n",
    "a=DuckDBService(Agent).add_embeddings(df.to_dict('records'))\n",
    "a"
   ]
  },
  {
   "cell_type": "code",
   "execution_count": 5,
   "id": "c49b203e",
   "metadata": {},
   "outputs": [],
   "source": [
    "b"
   ]
  },
  {
   "cell_type": "code",
   "execution_count": 31,
   "id": "e6d14eeb",
   "metadata": {},
   "outputs": [],
   "source": [
    "joined_data = con.execute(\"\"\"\n",
    "    SELECT a.*, e.* \n",
    "    FROM iceberg_scan('p8.db.Agent' ) a\n",
    "    JOIN iceberg_scan('py_embeddings.db.p8_Agent_embeddings') e \n",
    "    ON a.id = e.id\n",
    "\"\"\").fetchall()"
   ]
  },
  {
   "cell_type": "code",
   "execution_count": 16,
   "id": "f1483736",
   "metadata": {},
   "outputs": [],
   "source": [
    "ic=IcebergModelCatalog(Agent).create_table_for_model()\n",
    "#ic.cat.create_table('p8.test',schema=Agent.to_arrow_schema())"
   ]
  },
  {
   "cell_type": "code",
   "execution_count": 17,
   "id": "c7b2939a",
   "metadata": {},
   "outputs": [],
   "source": [
    "ic.scan().to_arrow().to_pandas()"
   ]
  },
  {
   "cell_type": "code",
   "execution_count": 12,
   "id": "dc7830f9",
   "metadata": {},
   "outputs": [],
   "source": [
    "import pyarrow as pa\n",
    "data =[ Agent(\n",
    "        id=make_uuid('SearchAgent2'),\n",
    "        name=\"SearchAgent\",\n",
    "        category=\"Research\",\n",
    "        description=\"Agent that performs web searches and summarizes results\",\n",
    "        spec={\"capabilities\": [\"search\", \"summarize\"]},\n",
    "        functions={\"search_web\": \"Performs web search using search APIs\"}\n",
    "    )]\n",
    "\n"
   ]
  },
  {
   "cell_type": "code",
   "execution_count": 13,
   "id": "c564dd2a",
   "metadata": {},
   "outputs": [],
   "source": [
    "\n",
    "IcebergModelCatalog(Agent).upsert_data(data)\n",
    "#c.upsert_data(data)"
   ]
  },
  {
   "cell_type": "code",
   "execution_count": null,
   "id": "37d5845e",
   "metadata": {},
   "outputs": [],
   "source": [
    "# Step 2: Create and upsert records\n",
    "print(\"\\nCreating test agents...\")\n",
    "agents = [\n",
    "    Agent(\n",
    "        id=make_uuid(\"SearchAgent\"),\n",
    "        name=\"SearchAgent\",\n",
    "        category=\"Research\",\n",
    "        description=\"Agent that performs web searches and summarizes results\",\n",
    "        spec={\"capabilities\": [\"search\", \"summarize\"]},\n",
    "        functions={\"search_web\": \"Performs web search using search APIs\"}\n",
    "    ),\n",
    "    Agent(\n",
    "        id=make_uuid(\"WriterAgent\"),\n",
    "        name=\"WriterAgent\",\n",
    "        category=\"Content\",\n",
    "        description=\"Agent that writes and edits content based on prompts\",\n",
    "        spec={\"capabilities\": [\"write\", \"edit\", \"proofread\"]},\n",
    "        functions={\"generate_content\": \"Creates content based on prompts\"}\n",
    "    )\n",
    "]\n",
    "\n",
    "# Insert agents\n",
    "print(\"\\nInserting agents...\")\n",
    "service.update_records(agents)"
   ]
  },
  {
   "cell_type": "code",
   "execution_count": null,
   "id": "3ea545f7",
   "metadata": {},
   "outputs": [],
   "source": [
    "embedding_results = service.add_embeddings(service.select())\n",
    "embedding_results"
   ]
  },
  {
   "cell_type": "code",
   "execution_count": null,
   "id": "8089dd45",
   "metadata": {},
   "outputs": [],
   "source": []
  }
 ],
 "metadata": {},
 "nbformat": 4,
 "nbformat_minor": 5
}
