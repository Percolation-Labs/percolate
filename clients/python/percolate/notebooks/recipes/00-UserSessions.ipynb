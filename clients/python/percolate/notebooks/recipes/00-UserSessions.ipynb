{
 "cells": [
  {
   "cell_type": "code",
   "execution_count": 1,
   "id": "cc2630d6",
   "metadata": {},
   "outputs": [],
   "source": [
    "import sys\n",
    "import os\n",
    "from IPython.display import Markdown\n",
    "sys.path.append('../../')"
   ]
  },
  {
   "cell_type": "code",
   "execution_count": 3,
   "id": "5c6a645b",
   "metadata": {},
   "outputs": [],
   "source": [
    "import percolate as p8\n",
    "from percolate.models import Session, SessionResources,Resources,Project, Task\n",
    "\n",
    "models = [Session, SessionResources,Resources,Project, Task]\n",
    "\n",
    "def update_models():\n",
    "    for m in models:\n",
    "        print(m)\n",
    "        p8.repository(m).register()"
   ]
  },
  {
   "cell_type": "code",
   "execution_count": null,
   "id": "feff9726",
   "metadata": {},
   "outputs": [],
   "source": []
  }
 ],
 "metadata": {},
 "nbformat": 4,
 "nbformat_minor": 5
}
