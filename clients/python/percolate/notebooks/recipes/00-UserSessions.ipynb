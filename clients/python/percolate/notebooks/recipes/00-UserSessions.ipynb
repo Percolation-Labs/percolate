{
 "cells": [
  {
   "cell_type": "code",
   "execution_count": 1,
   "id": "cc2630d6",
   "metadata": {},
   "outputs": [],
   "source": [
    "import sys\n",
    "import os\n",
    "from IPython.display import Markdown\n",
    "sys.path.append('../../')"
   ]
  },
  {
   "cell_type": "code",
   "execution_count": 2,
   "id": "f4abbda6",
   "metadata": {},
   "outputs": [],
   "source": [
    "import os\n",
    "os.environ['P8_PG_PASSWORD'] = os.environ['P8_TEST_BEARER_TOKEN'] = os.environ.get('EEPIS_PW')\n",
    "\n",
    "os.environ['P8_PG_PORT'] = '15432'\n",
    "os.environ['P8_PG_HOST'] = 'localhost'"
   ]
  },
  {
   "cell_type": "code",
   "execution_count": 3,
   "id": "5c6a645b",
   "metadata": {},
   "outputs": [],
   "source": [
    "import percolate as p8\n",
    "from percolate.models import Session, SessionResources,Resources,Project, Task\n",
    "\n",
    "models = [Session, SessionResources,Resources,Project, Task]\n",
    "\n",
    "def update_models():\n",
    "    for m in models:\n",
    "        print(m)\n",
    "        p8.repository(m).register()"
   ]
  },
  {
   "cell_type": "code",
   "execution_count": 4,
   "id": "feff9726",
   "metadata": {},
   "outputs": [],
   "source": [
    "from percolate.api.examples.client_examples import upload_file_example, upload_uri_example"
   ]
  },
  {
   "cell_type": "code",
   "execution_count": 5,
   "id": "0285dfd9",
   "metadata": {},
   "outputs": [],
   "source": [
    "#upload_uri_example('https://en.wikipedia.org/wiki/Breed_standard')"
   ]
  },
  {
   "cell_type": "code",
   "execution_count": 6,
   "id": "520625af",
   "metadata": {},
   "outputs": [],
   "source": [
    "#upload_file_example(\"/Users/sirsh/Downloads/example.txt\") "
   ]
  },
  {
   "cell_type": "code",
   "execution_count": 7,
   "id": "275f737b",
   "metadata": {},
   "outputs": [],
   "source": [
    "#upload_file_example(\"/Users/sirsh/Downloads/greatmeetingeepisdocuments/Technical Roadmap - Ever-Evolving Personal Intelligence System (EEPIS)  (11).pdf\") "
   ]
  },
  {
   "cell_type": "code",
   "execution_count": 13,
   "id": "0c76f79c",
   "metadata": {},
   "outputs": [],
   "source": [
    "from percolate.services.llm.utils import print_openai_delta_content\n",
    "from percolate.services.llm import CallingContext\n",
    "ctx = CallingContext(streaming_callback=print_openai_delta_content, username='10e0a97d-a064-553a-9043-3c1f0a6e6725')\n",
    "\n",
    "a = p8.Agent(Resources, allow_help=False)\n",
    "\n",
    "#m = a(\"describe the architecture of eepis - are there any other documents we should look up\")\n",
    "# m = a(\"Do you know anything abou the brain bridge - what privacy features does it have\",  language_model='grok-2-latest')\n",
    "# Markdown(m)\n",
    "\n",
    "# for data in a.iter_lines(\"what is the capital of ireland\",audit=False):\n",
    "#     print(data)\n",
    "#ctx.get_user_memory()"
   ]
  },
  {
   "cell_type": "code",
   "execution_count": 16,
   "id": "cffc2a6e",
   "metadata": {},
   "outputs": [],
   "source": [
    "I = a.stream(\"what privacy features on the EEPIS module\",context=ctx)"
   ]
  },
  {
   "cell_type": "code",
   "execution_count": 17,
   "id": "e0b1ea9e",
   "metadata": {
    "scrolled": false
   },
   "outputs": [],
   "source": [
    "for data in I.iter_lines():\n",
    "    pass"
   ]
  },
  {
   "cell_type": "code",
   "execution_count": 18,
   "id": "141e0b0a",
   "metadata": {},
   "outputs": [],
   "source": [
    "p8.repository(Session).execute(\"\"\"SELECT query from p8.\"Session\" where userid = 'e9c56a28-1d09-5253-af36-4b9d812f6bfa'  \"\"\")"
   ]
  },
  {
   "cell_type": "code",
   "execution_count": 12,
   "id": "08e8c69c",
   "metadata": {},
   "outputs": [],
   "source": [
    "I.content"
   ]
  },
  {
   "cell_type": "code",
   "execution_count": 13,
   "id": "f799192a",
   "metadata": {},
   "outputs": [],
   "source": [
    "import os\n",
    "import requests\n",
    "import json\n",
    "\n",
    "OPENAI_API_KEY = os.getenv(\"OPENAI_API_KEY\")\n",
    "\n",
    "headers = {\n",
    "    \"Authorization\": f\"Bearer {OPENAI_API_KEY}\",\n",
    "    \"Content-Type\": \"application/json\"\n",
    "}\n",
    "\n",
    "data = {\n",
    "    \"model\": \"gpt-4.1-mini\",\n",
    "    \"messages\": [\n",
    "        {\"role\": \"user\", \"content\": \"Explain the theory of relativity in simple terms.\"}\n",
    "    ],\n",
    "    \"stream\": True,\n",
    "    \"stream_options\": {\"include_usage\": True}\n",
    "}\n",
    "\n",
    "response = requests.post(\n",
    "    \"https://api.openai.com/v1/chat/completions\",\n",
    "    headers=headers,\n",
    "    json=data,\n",
    "    stream=True\n",
    ")\n",
    "\n",
    "for line in response.iter_lines():\n",
    "    print(line)\n",
    "    "
   ]
  },
  {
   "cell_type": "code",
   "execution_count": 14,
   "id": "76f76f80",
   "metadata": {},
   "outputs": [],
   "source": [
    "for data in a.stream(\"what has the user been interetsed in recently?\",context=ctx).iter_lines():\n",
    "    pass"
   ]
  },
  {
   "cell_type": "code",
   "execution_count": null,
   "id": "97cb00e2",
   "metadata": {},
   "outputs": [],
   "source": []
  },
  {
   "cell_type": "code",
   "execution_count": 15,
   "id": "e5585aa4",
   "metadata": {},
   "outputs": [],
   "source": [
    "a.get_entities('Chat Log36.pdf (116)')"
   ]
  },
  {
   "cell_type": "code",
   "execution_count": 16,
   "id": "7fbfdc2a",
   "metadata": {
    "scrolled": false
   },
   "outputs": [],
   "source": [
    "p8.repository(Resources).search(\" describe the architecture of eepis \")"
   ]
  },
  {
   "cell_type": "code",
   "execution_count": 17,
   "id": "0b8de69c",
   "metadata": {},
   "outputs": [],
   "source": [
    "ctx.streaming_callback"
   ]
  },
  {
   "cell_type": "code",
   "execution_count": 18,
   "id": "cd71e744",
   "metadata": {},
   "outputs": [],
   "source": [
    "\"\"\"locally log into google drive and list files - in your browser http://127.0.0.1:5008/auth/google/login\"\"\"\n",
    "\n",
    "\"\"\"callback saves a token for testing\"\"\"\n",
    "\n",
    "\n",
    "from percolate.services.dox.gs import test_token, list_files_as_chunked_resources,list_all_drive_files_flat, _extract_word_doc_text\n",
    "from pathlib import Path\n",
    "TOKEN_PATH = Path.home() / '.percolate' / 'auth' / 'google' /  'token'\n",
    "import json\n",
    "import pandas as pd\n",
    "\n",
    "with open(TOKEN_PATH, 'r') as f:\n",
    "    d = json.load(f)\n",
    "\n",
    "#test_token(d['access_token'])"
   ]
  },
  {
   "cell_type": "code",
   "execution_count": 19,
   "id": "d316e25f",
   "metadata": {},
   "outputs": [],
   "source": [
    "# from percolate.services import PostgresService\n",
    "\n",
    "# pg = PostgresService()\n",
    "# eg = [u['name'] for u in pg.execute(\"\"\"select distinct name from p8.\"Resources\" \"\"\")]\n",
    "# eg"
   ]
  },
  {
   "cell_type": "code",
   "execution_count": 20,
   "id": "abff5c3a",
   "metadata": {},
   "outputs": [],
   "source": [
    "from tqdm import tqdm\n",
    "from percolate.models import Resources\n",
    "for chunk in tqdm(list_files_as_chunked_resources(d['access_token'])):\n",
    "    try:\n",
    "        p8.repository(Resources).update_records(chunk)\n",
    "    except Exception as ex:\n",
    "        print(chunk.name, ex)"
   ]
  },
  {
   "cell_type": "code",
   "execution_count": null,
   "id": "bfd02db3",
   "metadata": {},
   "outputs": [],
   "source": [
    "files = list(list_all_drive_files_flat(d['access_token']))\n"
   ]
  },
  {
   "cell_type": "code",
   "execution_count": null,
   "id": "51efcd82",
   "metadata": {},
   "outputs": [],
   "source": [
    "#a,b = _extract_word_doc_text(d['access_token'], '1BwJd4iefpM0HLBXHTG-A_YNbyHj3joMu', 'test') #MS WORD\n",
    "a,b = _extract_word_doc_text(d['access_token'], '1Jpt_jbYAJHldNQBxpRfDdQw5liJ5KIQK', 'test') #MS WORD\n",
    "#a,b = _extract_pdf_text(d['access_token'], '1DkYoOthi-COYEZo8HBBPsoH8ThdMScVf', 'test') # PDF\n",
    "b\n",
    "#read_doc_as_text(d['access_token'],dict(pd.DataFrame(files).iloc[40:50].iloc[5]))"
   ]
  },
  {
   "cell_type": "code",
   "execution_count": null,
   "id": "2a3976bb",
   "metadata": {},
   "outputs": [],
   "source": []
  }
 ],
 "metadata": {},
 "nbformat": 4,
 "nbformat_minor": 5
}
