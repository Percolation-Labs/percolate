{
 "cells": [
  {
   "cell_type": "markdown",
   "id": "14be72fa",
   "metadata": {},
   "source": [
    "# Embedded Percolate Demo (Simplified)\n",
    "\n",
    "This notebook demonstrates using Percolate in embedded mode with DuckDB for storage and vector search capabilities.\n",
    "\n",
    "> **NOTE:** This notebook uses the latest batched embedding utilities for improved efficiency."
   ]
  },
  {
   "cell_type": "code",
   "id": "99d0471a",
   "metadata": {},
   "outputs": [],
   "source": "# Embedded Percolate Demo (Simplified)\n\nThis notebook demonstrates using Percolate in embedded mode with DuckDB for storage and vector search capabilities.\n\n> **NOTE:** This notebook uses the latest batched embedding utilities for improved efficiency. \n> \n> **IMPORTANT:** For the embedding and semantic search sections to work, you need to have an OPENAI_API_KEY environment variable set with a valid API key."
  },
  {
   "cell_type": "code",
   "execution_count": null,
   "id": "1fe77f83",
   "metadata": {},
   "outputs": [],
   "source": [
    "# Initialize service with a model\n",
    "agent_repo = DuckDBService(Agent)\n",
    "\n",
    "# Register the entity\n",
    "agent_repo.register()"
   ]
  },
  {
   "cell_type": "code",
   "execution_count": null,
   "id": "7ea9cbd9",
   "metadata": {},
   "outputs": [],
   "source": [
    "# Create agents with deterministic IDs\n",
    "agents = [\n",
    "    Agent(\n",
    "        id=make_uuid(\"SearchAgent\"),\n",
    "        name=\"SearchAgent\",\n",
    "        category=\"Research\",\n",
    "        description=\"Agent that performs web searches and summarizes results\",\n",
    "        spec={\"capabilities\": [\"search\", \"summarize\"]},\n",
    "        functions={\"search_web\": \"Searches the web\"}\n",
    "    ),\n",
    "    Agent(\n",
    "        id=make_uuid(\"WriterAgent\"),\n",
    "        name=\"WriterAgent\",\n",
    "        category=\"Content\",\n",
    "        description=\"Agent that writes content based on prompts\",\n",
    "        spec={\"capabilities\": [\"write\"]},\n",
    "        functions={\"write\": \"Writes content\"}\n",
    "    ),\n",
    "    Agent(\n",
    "        id=make_uuid(\"DataAnalysisAgent\"),\n",
    "        name=\"DataAnalysisAgent\",\n",
    "        category=\"Analytics\",\n",
    "        description=\"Agent that analyzes data and generates insights\",\n",
    "        spec={\"capabilities\": [\"analyze\", \"visualize\"]},\n",
    "        functions={\"analyze_dataset\": \"Performs statistical analysis on data\"}\n",
    "    )\n",
    "]\n",
    "\n",
    "# Insert agents\n",
    "agent_repo.update_records(agents)"
   ]
  },
  {
   "cell_type": "code",
   "execution_count": null,
   "id": "e6af7eea",
   "metadata": {},
   "outputs": [],
   "source": [
    "# Test upsert by updating an existing agent\n",
    "updated_agent = Agent(\n",
    "    id=make_uuid(\"WriterAgent\"),\n",
    "    name=\"WriterAgent\",\n",
    "    category=\"Content Creation\",\n",
    "    description=\"Agent that writes and edits content based on prompts\",\n",
    "    spec={\"capabilities\": [\"write\", \"edit\"]},\n",
    "    functions={\"write\": \"Writes better content\"}\n",
    ")\n",
    "\n",
    "agent_repo.update_records(updated_agent)"
   ]
  },
  {
   "cell_type": "code",
   "execution_count": null,
   "id": "caad96c6",
   "metadata": {},
   "outputs": [],
   "source": [
    "# Check the results\n",
    "agent_repo.execute(\"SELECT name, category, description FROM p8.\\\"Agent\\\" ORDER BY name\")"
   ]
  },
  {
   "cell_type": "markdown",
   "id": "51d76b98",
   "metadata": {},
   "source": [
    "## Adding Embeddings for Semantic Search\n",
    "\n",
    "Next, we'll create embeddings for our agents to enable semantic search. We use the new batch embedding functionality for better efficiency."
   ]
  },
  {
   "cell_type": "markdown",
   "id": "4fe8851f",
   "metadata": {},
   "outputs": [],
   "source": "## Using Batch Embedding for Improved Efficiency\n\nThe sections below demonstrate how to use the more efficient batch embedding implementation that:\n\n1. Processes multiple embeddings at once in a single API call\n2. Reuses the same efficient update mechanism as regular records\n3. Handles errors gracefully\n\nThis implementation is significantly more efficient and cost-effective than processing embeddings one at a time."
  },
  {
   "cell_type": "markdown",
   "id": "3bec0845",
   "metadata": {},
   "source": "# Prepare records for embedding\nrecords = []\nfor agent in agent_repo.select():\n    records.append({\n        \"id\": agent[\"id\"],\n        \"description\": agent[\"description\"]\n    })\n\n# Now use the built-in batch embedding functionality\ntry:\n    embedding_result = agent_repo.add_embeddings(\n        records=records, \n        embedding_field=\"description\", \n        batch_size=10  # Process in batches for efficiency\n    )\n    \n    print(f\"Embedding success: {embedding_result['success']}\")\n    print(f\"Embeddings added: {embedding_result['embeddings_added']}\")\n    if embedding_result.get('errors'):\n        print(f\"Errors: {embedding_result['errors']}\")\nexcept Exception as e:\n    print(f\"Error during embedding: {str(e)}\")\n    print(\"Note: This may fail if you don't have an OPENAI_API_KEY environment variable set.\")",
   "outputs": []
  },
  {
   "cell_type": "code",
   "execution_count": null,
   "id": "e9edcb1c",
   "metadata": {},
   "outputs": [],
   "source": [
    "# Semantic search for agents related to \"data analysis\"\n",
    "search_results = agent_repo.semantic_search(\"data analysis and visualization\", limit=3)\n",
    "\n",
    "print(f\"Found {len(search_results)} results for 'data analysis and visualization'\")\n",
    "for i, result in enumerate(search_results):\n",
    "    similarity = result.get('similarity', 0)\n",
    "    print(f\"{i+1}. {result['name']} - Similarity: {similarity:.4f}\")\n",
    "    print(f\"   Description: {result['description']}\")\n",
    "    print()"
   ]
  },
  {
   "cell_type": "markdown",
   "id": "835f1f6b",
   "metadata": {},
   "source": "# Semantic search for agents related to \"data analysis\"\ntry:\n    search_results = agent_repo.semantic_search(\"data analysis and visualization\", limit=3)\n    \n    print(f\"Found {len(search_results)} results for 'data analysis and visualization'\")\n    for i, result in enumerate(search_results):\n        similarity = result.get('similarity', 0)\n        print(f\"{i+1}. {result['name']} - Similarity: {similarity:.4f}\")\n        print(f\"   Description: {result['description']}\")\n        print()\nexcept Exception as e:\n    print(f\"Semantic search error: {str(e)}\")\n    print(\"Note: This may fail if embedding generation failed in the previous step.\")",
   "outputs": []
  },
  {
   "cell_type": "code",
   "execution_count": null,
   "id": "f8d25b7c",
   "metadata": {},
   "outputs": [],
   "source": [
    "# Drop the entity (optional)\n",
    "# result = agent_repo.drop_entity()\n",
    "# print(f\"Dropped entity: {result['success']}\")\n",
    "# if not result['success'] and result.get('errors'):\n",
    "#     print(f\"Errors: {result['errors']}\")"
   ]
  }
 ],
 "metadata": {},
 "nbformat": 4,
 "nbformat_minor": 5
}
