{
 "cells": [
  {
   "cell_type": "code",
   "execution_count": null,
   "id": "ebc22a7a",
   "metadata": {},
   "outputs": [],
   "source": []
  }
 ],
 "metadata": {},
 "nbformat": 4,
 "nbformat_minor": 5
}
