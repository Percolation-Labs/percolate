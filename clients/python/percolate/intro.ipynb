{
 "cells": [
  {
   "cell_type": "markdown",
   "id": "92539e55-6700-4adc-86f9-dad08a531481",
   "metadata": {},
   "source": [
    "# Introduction\n",
    "- This introduction is the easiest way for Python folks to play with Percolate\n",
    "- We provider the Postgres client using the Docker compose connection parameteres as defaults\n",
    "- We can learn how to register entities after which everyone else becomes possible"
   ]
  },
  {
   "cell_type": "code",
   "execution_count": null,
   "id": "d7cf0414",
   "metadata": {},
   "outputs": [],
   "source": [
    "import requests\n",
    "#requests.get('http://www.percolationlabs.ai').content"
   ]
  },
  {
   "cell_type": "code",
   "execution_count": null,
   "id": "493aa704-958c-41a6-b73f-9ed4408bb8db",
   "metadata": {},
   "outputs": [],
   "source": [
    "import percolate\n",
    "from percolate.services import PostgresService\n",
    "pg = PostgresService()"
   ]
  },
  {
   "cell_type": "markdown",
   "id": "928b8127-f33b-41a4-a499-9844d124978b",
   "metadata": {},
   "source": [
    "## Registering entities which are Agents is the key way to use Percolate\n",
    "- entity models describe agents completely\n",
    "- Percolate assumes agents are serializable in the \"Agent\" model which has structured response, sytem prompt and external function refs\n",
    "- We register Entities as tables that can store data, as Agents that can allow interaction with data\n",
    "- Agents are added as structured tables but other indexes are added too; embeddings on fields that need them and graph node registry"
   ]
  },
  {
   "cell_type": "code",
   "execution_count": null,
   "id": "6b7403bc-2b7c-429d-8a8f-fae30124234b",
   "metadata": {},
   "outputs": [],
   "source": [
    "from percolate.models.p8 import Project, Agent, ModelField, LanguageModelApi, Function, Session, AIResponse, ApiProxy\n",
    "\n",
    "#we register the core models - these are added by scripts in install anyway but it illustrates for 'bring your own'\n",
    "for model in [Agent]:\n",
    "    repo = pg.repository(model)\n",
    "    repo.register(register_entities=True)"
   ]
  },
  {
   "cell_type": "markdown",
   "id": "98fe693a-110a-4801-b999-813f416beabe",
   "metadata": {},
   "source": [
    "## Percolate configures Langauge models and assumes we can load tokens from the env\n",
    "- While not recommended in production, for simplicity you might add tokens locally in your database\n",
    "- The example below registers unique model names - the name is sometimes of the from provider-model if you want to select an API"
   ]
  },
  {
   "cell_type": "code",
   "execution_count": 1,
   "id": "1a17bf21",
   "metadata": {},
   "outputs": [],
   "source": [
    "\"\"\"these are stored in the database by default and you can add your own\n",
    "in the python client your API token is used\n",
    "in the database you can save the token but the extension can also load it from the environment if its maintained on the database cluster\n",
    "\"\"\"\n",
    "from percolate.models.p8 import sample_models"
   ]
  },
  {
   "cell_type": "markdown",
   "id": "480b02f5",
   "metadata": {},
   "source": [
    "## Adding APIs\n",
    "- Percolate registers apis and functions \n",
    "- for example a freely available test api is at https://petstore.swagger.io/#/pet/findPetsByStatus\n",
    "- we add this to percolate below"
   ]
  },
  {
   "cell_type": "code",
   "execution_count": 1,
   "id": "9c72054d",
   "metadata": {},
   "outputs": [],
   "source": [
    "from percolate.utils.ingestion import add \n",
    "import os\n",
    "\n",
    "# add.add_api('swagger_test', 'https://petstore.swagger.io/v2/swagger.json', verbs='get')"
   ]
  },
  {
   "cell_type": "code",
   "execution_count": 2,
   "id": "49b5ef4a",
   "metadata": {},
   "outputs": [
    {
     "data": {
      "text/plain": [
       "'functions are callable'"
      ]
     },
     "execution_count": 2,
     "metadata": {},
     "output_type": "execute_result"
    }
   ],
   "source": [
    "import percolate as p8\n",
    "from percolate.models.p8 import Function\n",
    "\"\"\"filter by the proxy, verb etc if needed\"\"\"\n",
    "functions = [Function(**f) for f in p8.repository(Function).select()]\n",
    "\"\"\"functions are callable\"\"\""
   ]
  },
  {
   "cell_type": "markdown",
   "id": "2a2a5033",
   "metadata": {},
   "source": [
    "#### any database loaded function can be called and you can use the metadata to know how to call it(as can an llm)"
   ]
  },
  {
   "cell_type": "markdown",
   "id": "751fb368",
   "metadata": {},
   "source": [
    "### the function manager is responsible for finding functions in the database but you can also ref external functions on your agent\n",
    "under the hood if any agent either asks to load a function or if the function is added as a reference in it's `get_functions` the funciton manager is used to load the function into context\n",
    "```python\n",
    "from percolate.services import FunctionManager\n",
    "f = FunctionManager()\n",
    "f.add_functions_by_key('get_pet_findByStatus')\n",
    "```"
   ]
  },
  {
   "cell_type": "markdown",
   "id": "0ceac85f",
   "metadata": {},
   "source": [
    "### Example of how we bootsrap the database by adding the P8 models. "
   ]
  },
  {
   "cell_type": "code",
   "execution_count": null,
   "id": "e66fde5e-8099-4959-bd4c-28f1375474a6",
   "metadata": {},
   "outputs": [],
   "source": [
    "def bootstrap(root='../../../extension/sql'):\n",
    "    \"\"\"util to generate the sql that we use to setup percolate\"\"\"\n",
    "    \n",
    "    from percolate.models.p8 import Project, Agent, ModelField, LanguageModelApi, Function, Session, AIResponse, ApiProxy, PlanModel\n",
    "    from percolate.models.p8 import sample_models\n",
    "    from percolate.models.utils import SqlModelHelper\n",
    "    import glob\n",
    "\n",
    "    root = root.rstrip('/')\n",
    "    \n",
    "    models = [ Project, Agent, ModelField, LanguageModelApi, Function, Session, AIResponse, ApiProxy, PlanModel]\n",
    "        \n",
    "    \"\"\"compile the functions into one file\"\"\"\n",
    "    with open(f'{root}/01_add_functions.sql', 'w') as f:\n",
    "        for sql in glob.glob('../../../extension/sql-staging/p8_pg_functions/**/*.sql',recursive=True):\n",
    "            with open(sql, 'r') as sql:\n",
    "                f.write(sql.read())\n",
    "                f.write('\\n\\n---------\\n\\n')\n",
    "\n",
    "    \"\"\"add base tables\"\"\"            \n",
    "    with open(f'{root}/02_create_primary.sql', 'w') as f:\n",
    "        for model in models:\n",
    "            f.write(pg.repository(model).model_registration_script(secondary=False, primary=True))\n",
    "\n",
    "    \"\"\"add the rest\"\"\"\n",
    "    with open(f'{root}/03_create_secondary.sql', 'w') as f:    \n",
    "        for model in models:\n",
    "            f.write(pg.repository(model).model_registration_script(secondary=True, primary=False))\n",
    "        script = SqlModelHelper(LanguageModelApi).get_data_load_statement(sample_models)\n",
    "        f.write('\\n\\n-- -----------\\n')\n",
    "        f.write('-- sample models--\\n\\n')\n",
    "        \n",
    "        f.write(script)\n",
    "bootstrap(root='../../../extension/sql')"
   ]
  }
 ],
 "metadata": {
  "kernelspec": {
   "display_name": "Python 3 (ipykernel)",
   "language": "python",
   "name": "python3"
  },
  "language_info": {
   "codemirror_mode": {
    "name": "ipython",
    "version": 3
   },
   "file_extension": ".py",
   "mimetype": "text/x-python",
   "name": "python",
   "nbconvert_exporter": "python",
   "pygments_lexer": "ipython3",
   "version": "3.10.10"
  }
 },
 "nbformat": 4,
 "nbformat_minor": 5
}
