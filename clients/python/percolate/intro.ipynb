{
 "cells": [
  {
   "cell_type": "code",
   "execution_count": 1,
   "id": "493aa704-958c-41a6-b73f-9ed4408bb8db",
   "metadata": {},
   "outputs": [],
   "source": [
    "import percolate\n",
    "from percolate.services import PostgresService\n",
    "\n",
    "pg = PostgresService()"
   ]
  },
  {
   "cell_type": "code",
   "execution_count": null,
   "id": "5fc41655-070d-4a23-94bd-af36a07aed28",
   "metadata": {},
   "outputs": [],
   "source": [
    "#TODO persist default embedding provider as text-embedding-ada-002"
   ]
  },
  {
   "cell_type": "code",
   "execution_count": 3,
   "id": "6b7403bc-2b7c-429d-8a8f-fae30124234b",
   "metadata": {},
   "outputs": [
    {
     "name": "stderr",
     "output_type": "stream",
     "text": [
      "\u001b[32m2025-01-24 22:01:10.416\u001b[0m | \u001b[33m\u001b[1mWARNING \u001b[0m | \u001b[36mpercolate.services.PostgresService\u001b[0m:\u001b[36mexecute\u001b[0m:\u001b[36m169\u001b[0m - \u001b[33m\u001b[1mFailing to execute query model <class 'percolate.models.p8.types.Project'> - verbose_errors=False - relation \"Project\" already exists\n",
      "\u001b[0m\n",
      "\u001b[32m2025-01-24 22:01:10.418\u001b[0m | \u001b[33m\u001b[1mWARNING \u001b[0m | \u001b[36mpercolate.services.PostgresService\u001b[0m:\u001b[36mregister\u001b[0m:\u001b[36m94\u001b[0m - \u001b[33m\u001b[1mThe table already exists - will check for schema migration or ignore\u001b[0m\n",
      "\u001b[32m2025-01-24 22:01:10.553\u001b[0m | \u001b[33m\u001b[1mWARNING \u001b[0m | \u001b[36mpercolate.services.PostgresService\u001b[0m:\u001b[36mexecute\u001b[0m:\u001b[36m169\u001b[0m - \u001b[33m\u001b[1mFailing to execute query model <class 'percolate.models.p8.types.Project'> - verbose_errors=False - relation \"p8_Project_embeddings\" already exists\n",
      "\u001b[0m\n",
      "\u001b[32m2025-01-24 22:01:10.555\u001b[0m | \u001b[33m\u001b[1mWARNING \u001b[0m | \u001b[36mpercolate.services.PostgresService\u001b[0m:\u001b[36mregister\u001b[0m:\u001b[36m107\u001b[0m - \u001b[33m\u001b[1mThe embedding-associated table already exists\u001b[0m\n",
      "\u001b[32m2025-01-24 22:01:10.555\u001b[0m | \u001b[34m\u001b[1mDEBUG   \u001b[0m | \u001b[36mpercolate.services.PostgresService\u001b[0m:\u001b[36mregister\u001b[0m:\u001b[36m111\u001b[0m - \u001b[34m\u001b[1mUpdating model fields\u001b[0m\n",
      "\u001b[32m2025-01-24 22:01:10.628\u001b[0m | \u001b[34m\u001b[1mDEBUG   \u001b[0m | \u001b[36mpercolate.services.PostgresService\u001b[0m:\u001b[36mregister\u001b[0m:\u001b[36m114\u001b[0m - \u001b[34m\u001b[1mAdding the model agent\u001b[0m\n",
      "\u001b[32m2025-01-24 22:01:10.791\u001b[0m | \u001b[1mINFO    \u001b[0m | \u001b[36mpercolate.services.PostgresService\u001b[0m:\u001b[36mregister\u001b[0m:\u001b[36m120\u001b[0m - \u001b[1mEntity registered\u001b[0m\n",
      "\u001b[32m2025-01-24 22:01:10.839\u001b[0m | \u001b[33m\u001b[1mWARNING \u001b[0m | \u001b[36mpercolate.services.PostgresService\u001b[0m:\u001b[36mexecute\u001b[0m:\u001b[36m169\u001b[0m - \u001b[33m\u001b[1mFailing to execute query model <class 'percolate.models.p8.types.Agent'> - verbose_errors=False - relation \"Agent\" already exists\n",
      "\u001b[0m\n",
      "\u001b[32m2025-01-24 22:01:10.841\u001b[0m | \u001b[33m\u001b[1mWARNING \u001b[0m | \u001b[36mpercolate.services.PostgresService\u001b[0m:\u001b[36mregister\u001b[0m:\u001b[36m94\u001b[0m - \u001b[33m\u001b[1mThe table already exists - will check for schema migration or ignore\u001b[0m\n",
      "\u001b[32m2025-01-24 22:01:11.005\u001b[0m | \u001b[34m\u001b[1mDEBUG   \u001b[0m | \u001b[36mpercolate.services.PostgresService\u001b[0m:\u001b[36mregister\u001b[0m:\u001b[36m105\u001b[0m - \u001b[34m\u001b[1mCreated embedding table - p8_embeddings.\"p8_Agent_embeddings\"\u001b[0m\n",
      "\u001b[32m2025-01-24 22:01:11.006\u001b[0m | \u001b[34m\u001b[1mDEBUG   \u001b[0m | \u001b[36mpercolate.services.PostgresService\u001b[0m:\u001b[36mregister\u001b[0m:\u001b[36m111\u001b[0m - \u001b[34m\u001b[1mUpdating model fields\u001b[0m\n",
      "\u001b[32m2025-01-24 22:01:11.072\u001b[0m | \u001b[34m\u001b[1mDEBUG   \u001b[0m | \u001b[36mpercolate.services.PostgresService\u001b[0m:\u001b[36mregister\u001b[0m:\u001b[36m114\u001b[0m - \u001b[34m\u001b[1mAdding the model agent\u001b[0m\n",
      "\u001b[32m2025-01-24 22:01:11.227\u001b[0m | \u001b[1mINFO    \u001b[0m | \u001b[36mpercolate.services.PostgresService\u001b[0m:\u001b[36mregister\u001b[0m:\u001b[36m120\u001b[0m - \u001b[1mEntity registered\u001b[0m\n",
      "\u001b[32m2025-01-24 22:01:11.269\u001b[0m | \u001b[33m\u001b[1mWARNING \u001b[0m | \u001b[36mpercolate.services.PostgresService\u001b[0m:\u001b[36mexecute\u001b[0m:\u001b[36m169\u001b[0m - \u001b[33m\u001b[1mFailing to execute query model <class 'percolate.models.p8.types.ModelField'> - verbose_errors=False - relation \"ModelField\" already exists\n",
      "\u001b[0m\n",
      "\u001b[32m2025-01-24 22:01:11.270\u001b[0m | \u001b[33m\u001b[1mWARNING \u001b[0m | \u001b[36mpercolate.services.PostgresService\u001b[0m:\u001b[36mregister\u001b[0m:\u001b[36m94\u001b[0m - \u001b[33m\u001b[1mThe table already exists - will check for schema migration or ignore\u001b[0m\n",
      "\u001b[32m2025-01-24 22:01:11.421\u001b[0m | \u001b[34m\u001b[1mDEBUG   \u001b[0m | \u001b[36mpercolate.services.PostgresService\u001b[0m:\u001b[36mregister\u001b[0m:\u001b[36m105\u001b[0m - \u001b[34m\u001b[1mCreated embedding table - p8_embeddings.\"p8_ModelField_embeddings\"\u001b[0m\n",
      "\u001b[32m2025-01-24 22:01:11.422\u001b[0m | \u001b[34m\u001b[1mDEBUG   \u001b[0m | \u001b[36mpercolate.services.PostgresService\u001b[0m:\u001b[36mregister\u001b[0m:\u001b[36m111\u001b[0m - \u001b[34m\u001b[1mUpdating model fields\u001b[0m\n",
      "\u001b[32m2025-01-24 22:01:11.487\u001b[0m | \u001b[34m\u001b[1mDEBUG   \u001b[0m | \u001b[36mpercolate.services.PostgresService\u001b[0m:\u001b[36mregister\u001b[0m:\u001b[36m114\u001b[0m - \u001b[34m\u001b[1mAdding the model agent\u001b[0m\n",
      "\u001b[32m2025-01-24 22:01:11.635\u001b[0m | \u001b[1mINFO    \u001b[0m | \u001b[36mpercolate.services.PostgresService\u001b[0m:\u001b[36mregister\u001b[0m:\u001b[36m120\u001b[0m - \u001b[1mEntity registered\u001b[0m\n",
      "\u001b[32m2025-01-24 22:01:11.677\u001b[0m | \u001b[33m\u001b[1mWARNING \u001b[0m | \u001b[36mpercolate.services.PostgresService\u001b[0m:\u001b[36mexecute\u001b[0m:\u001b[36m169\u001b[0m - \u001b[33m\u001b[1mFailing to execute query model <class 'percolate.models.p8.types.LanguageModelApi'> - verbose_errors=False - relation \"LanguageModelApi\" already exists\n",
      "\u001b[0m\n",
      "\u001b[32m2025-01-24 22:01:11.678\u001b[0m | \u001b[33m\u001b[1mWARNING \u001b[0m | \u001b[36mpercolate.services.PostgresService\u001b[0m:\u001b[36mregister\u001b[0m:\u001b[36m94\u001b[0m - \u001b[33m\u001b[1mThe table already exists - will check for schema migration or ignore\u001b[0m\n",
      "\u001b[32m2025-01-24 22:01:11.836\u001b[0m | \u001b[34m\u001b[1mDEBUG   \u001b[0m | \u001b[36mpercolate.services.PostgresService\u001b[0m:\u001b[36mregister\u001b[0m:\u001b[36m105\u001b[0m - \u001b[34m\u001b[1mCreated embedding table - p8_embeddings.\"p8_LanguageModelApi_embeddings\"\u001b[0m\n",
      "\u001b[32m2025-01-24 22:01:11.838\u001b[0m | \u001b[34m\u001b[1mDEBUG   \u001b[0m | \u001b[36mpercolate.services.PostgresService\u001b[0m:\u001b[36mregister\u001b[0m:\u001b[36m111\u001b[0m - \u001b[34m\u001b[1mUpdating model fields\u001b[0m\n",
      "\u001b[32m2025-01-24 22:01:11.912\u001b[0m | \u001b[34m\u001b[1mDEBUG   \u001b[0m | \u001b[36mpercolate.services.PostgresService\u001b[0m:\u001b[36mregister\u001b[0m:\u001b[36m114\u001b[0m - \u001b[34m\u001b[1mAdding the model agent\u001b[0m\n",
      "\u001b[32m2025-01-24 22:01:12.071\u001b[0m | \u001b[1mINFO    \u001b[0m | \u001b[36mpercolate.services.PostgresService\u001b[0m:\u001b[36mregister\u001b[0m:\u001b[36m120\u001b[0m - \u001b[1mEntity registered\u001b[0m\n",
      "\u001b[32m2025-01-24 22:01:12.110\u001b[0m | \u001b[33m\u001b[1mWARNING \u001b[0m | \u001b[36mpercolate.services.PostgresService\u001b[0m:\u001b[36mexecute\u001b[0m:\u001b[36m169\u001b[0m - \u001b[33m\u001b[1mFailing to execute query model <class 'percolate.models.p8.types.Function'> - verbose_errors=False - relation \"Function\" already exists\n",
      "\u001b[0m\n",
      "\u001b[32m2025-01-24 22:01:12.111\u001b[0m | \u001b[33m\u001b[1mWARNING \u001b[0m | \u001b[36mpercolate.services.PostgresService\u001b[0m:\u001b[36mregister\u001b[0m:\u001b[36m94\u001b[0m - \u001b[33m\u001b[1mThe table already exists - will check for schema migration or ignore\u001b[0m\n",
      "\u001b[32m2025-01-24 22:01:12.257\u001b[0m | \u001b[34m\u001b[1mDEBUG   \u001b[0m | \u001b[36mpercolate.services.PostgresService\u001b[0m:\u001b[36mregister\u001b[0m:\u001b[36m105\u001b[0m - \u001b[34m\u001b[1mCreated embedding table - p8_embeddings.\"p8_Function_embeddings\"\u001b[0m\n",
      "\u001b[32m2025-01-24 22:01:12.258\u001b[0m | \u001b[34m\u001b[1mDEBUG   \u001b[0m | \u001b[36mpercolate.services.PostgresService\u001b[0m:\u001b[36mregister\u001b[0m:\u001b[36m111\u001b[0m - \u001b[34m\u001b[1mUpdating model fields\u001b[0m\n",
      "\u001b[32m2025-01-24 22:01:12.326\u001b[0m | \u001b[34m\u001b[1mDEBUG   \u001b[0m | \u001b[36mpercolate.services.PostgresService\u001b[0m:\u001b[36mregister\u001b[0m:\u001b[36m114\u001b[0m - \u001b[34m\u001b[1mAdding the model agent\u001b[0m\n",
      "\u001b[32m2025-01-24 22:01:12.483\u001b[0m | \u001b[1mINFO    \u001b[0m | \u001b[36mpercolate.services.PostgresService\u001b[0m:\u001b[36mregister\u001b[0m:\u001b[36m120\u001b[0m - \u001b[1mEntity registered\u001b[0m\n"
     ]
    }
   ],
   "source": [
    "from percolate.models.p8 import Project, Agent, ModelField, LanguageModelApi, Function\n",
    "\n",
    "for model in [Project, Agent, ModelField, LanguageModelApi, Function]:\n",
    "    repo = pg.repository(model)\n",
    "    repo.register(register_entities=True)"
   ]
  },
  {
   "cell_type": "code",
   "execution_count": 7,
   "id": "7a37c76e-2b3d-4fbd-9eb7-a6194fd65948",
   "metadata": {},
   "outputs": [],
   "source": [
    "from percolate.utils import make_uuid\n",
    "import os\n",
    "\n",
    "models = [\n",
    "    LanguageModelApi(id = make_uuid('gpt-4o-2024-08-06'), name = 'gpt-4o-2024-08-06', scheme='openai', completions_uri='https://api.openai.com/v1/chat/completions', token_env_key='OPENAI_API_KEY', token=os.environ['OPENAI_API_KEY']),\n",
    "    LanguageModelApi(id = make_uuid('gpt-4o-mini'), name = 'gpt-4o-mini', scheme='openai', completions_uri='https://api.openai.com/v1/chat/completions', token_env_key='OPENAI_API_KEY', token=os.environ['OPENAI_API_KEY']),\n",
    "    LanguageModelApi(id = make_uuid('cerebras-llama3.1-8b'), name = 'cerebras-llama3.1-8b', model='llama3.1-8b', scheme='openai', completions_uri='https://api.cerebras.ai/v1/chat/completions', token_env_key='CEREBRAS_API_KEY', token=os.environ['CEREBRAS_API_KEY']),\n",
    "    LanguageModelApi(id = make_uuid('groq-llama-3.3-70b-versatile'), name = 'groq-llama-3.3-70b-versatile', model='llama-3.3-70b-versatile', scheme='openai', completions_uri='https://api.groq.com/openai/v1/chat/completions', token_env_key='GROQ_API_KEY', token=os.environ['GROQ_API_KEY']),\n",
    "    LanguageModelApi(id = make_uuid('claude-3-5-sonnet-20241022'), name = 'claude-3-5-sonnet-20241022', scheme='anthropic', completions_uri='https://api.anthropic.com/v1/messages', token_env_key='ANTHROPIC_API_KEY',token=os.environ['ANTHROPIC_API_KEY']),\n",
    "    LanguageModelApi(id = make_uuid('gemini-1.5-flash'), name = 'gemini-1.5-flash', scheme='google', completions_uri='https://generativelanguage.googleapis.com/v1beta/models/gemini-1.5-flash:generateContent', token_env_key='GEMINI_API_KEY', token=os.environ['GEMINI_API_KEY']),\n",
    "    LanguageModelApi(id = make_uuid('deepseek-chat'), name = 'deepseek-chat', scheme='openai', completions_uri='https://api.deepseek.com/chat/completions', token_env_key='DEEPSEEK_API_KEY', token=os.environ['DEEPSEEK_API_KEY']),\n",
    "]\n",
    "\n",
    "fetched=pg.repository(LanguageModelApi).update_records(models)"
   ]
  },
  {
   "cell_type": "code",
   "execution_count": null,
   "id": "e66fde5e-8099-4959-bd4c-28f1375474a6",
   "metadata": {},
   "outputs": [],
   "source": []
  }
 ],
 "metadata": {
  "kernelspec": {
   "display_name": "Python 3 (ipykernel)",
   "language": "python",
   "name": "python3"
  },
  "language_info": {
   "codemirror_mode": {
    "name": "ipython",
    "version": 3
   },
   "file_extension": ".py",
   "mimetype": "text/x-python",
   "name": "python",
   "nbconvert_exporter": "python",
   "pygments_lexer": "ipython3",
   "version": "3.10.10"
  }
 },
 "nbformat": 4,
 "nbformat_minor": 5
}
