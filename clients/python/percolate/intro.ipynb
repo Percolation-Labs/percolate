{
 "cells": [
  {
   "cell_type": "code",
   "execution_count": 1,
   "id": "493aa704-958c-41a6-b73f-9ed4408bb8db",
   "metadata": {},
   "outputs": [],
   "source": [
    "import percolate\n",
    "from percolate.services import PostgresService\n",
    "\n",
    "pg = PostgresService()"
   ]
  },
  {
   "cell_type": "code",
   "execution_count": 2,
   "id": "6b7403bc-2b7c-429d-8a8f-fae30124234b",
   "metadata": {},
   "outputs": [
    {
     "name": "stderr",
     "output_type": "stream",
     "text": [
      "\u001b[32m2025-01-24 16:02:08.887\u001b[0m | \u001b[33m\u001b[1mWARNING \u001b[0m | \u001b[36mpercolate.services.PostgresService\u001b[0m:\u001b[36mexecute\u001b[0m:\u001b[36m169\u001b[0m - \u001b[33m\u001b[1mFailing to execute query model <class 'percolate.models.p8.types.LanguageModelApi'> - verbose_errors=False - relation \"LanguageModelApi\" already exists\n",
      "\u001b[0m\n",
      "\u001b[32m2025-01-24 16:02:08.890\u001b[0m | \u001b[33m\u001b[1mWARNING \u001b[0m | \u001b[36mpercolate.services.PostgresService\u001b[0m:\u001b[36mregister\u001b[0m:\u001b[36m94\u001b[0m - \u001b[33m\u001b[1mThe table already exists - will check for schema migration or ignore\u001b[0m\n",
      "\u001b[32m2025-01-24 16:02:09.036\u001b[0m | \u001b[33m\u001b[1mWARNING \u001b[0m | \u001b[36mpercolate.services.PostgresService\u001b[0m:\u001b[36mexecute\u001b[0m:\u001b[36m169\u001b[0m - \u001b[33m\u001b[1mFailing to execute query model <class 'percolate.models.p8.types.LanguageModelApi'> - verbose_errors=False - relation \"p8_LanguageModelApi_embeddings\" already exists\n",
      "\u001b[0m\n",
      "\u001b[32m2025-01-24 16:02:09.037\u001b[0m | \u001b[33m\u001b[1mWARNING \u001b[0m | \u001b[36mpercolate.services.PostgresService\u001b[0m:\u001b[36mregister\u001b[0m:\u001b[36m107\u001b[0m - \u001b[33m\u001b[1mThe embedding-associated table already exists\u001b[0m\n",
      "\u001b[32m2025-01-24 16:02:09.038\u001b[0m | \u001b[34m\u001b[1mDEBUG   \u001b[0m | \u001b[36mpercolate.services.PostgresService\u001b[0m:\u001b[36mregister\u001b[0m:\u001b[36m111\u001b[0m - \u001b[34m\u001b[1mUpdating model fields\u001b[0m\n",
      "\u001b[32m2025-01-24 16:02:09.113\u001b[0m | \u001b[34m\u001b[1mDEBUG   \u001b[0m | \u001b[36mpercolate.services.PostgresService\u001b[0m:\u001b[36mregister\u001b[0m:\u001b[36m114\u001b[0m - \u001b[34m\u001b[1mAdding the model agent\u001b[0m\n",
      "\u001b[32m2025-01-24 16:02:09.285\u001b[0m | \u001b[1mINFO    \u001b[0m | \u001b[36mpercolate.services.PostgresService\u001b[0m:\u001b[36mregister\u001b[0m:\u001b[36m120\u001b[0m - \u001b[1mEntity registered\u001b[0m\n"
     ]
    }
   ],
   "source": [
    "from percolate.models.p8 import Project, Agent, ModelField, LanguageModelApi\n",
    "\n",
    "repo = pg.repository(LanguageModelApi)\n",
    "repo.register(register_entities=True)"
   ]
  },
  {
   "cell_type": "code",
   "execution_count": null,
   "id": "7a37c76e-2b3d-4fbd-9eb7-a6194fd65948",
   "metadata": {},
   "outputs": [],
   "source": [
    "\n"
   ]
  },
  {
   "cell_type": "code",
   "execution_count": null,
   "id": "e66fde5e-8099-4959-bd4c-28f1375474a6",
   "metadata": {},
   "outputs": [],
   "source": []
  }
 ],
 "metadata": {
  "kernelspec": {
   "display_name": "Python 3 (ipykernel)",
   "language": "python",
   "name": "python3"
  },
  "language_info": {
   "codemirror_mode": {
    "name": "ipython",
    "version": 3
   },
   "file_extension": ".py",
   "mimetype": "text/x-python",
   "name": "python",
   "nbconvert_exporter": "python",
   "pygments_lexer": "ipython3",
   "version": "3.10.10"
  }
 },
 "nbformat": 4,
 "nbformat_minor": 5
}
