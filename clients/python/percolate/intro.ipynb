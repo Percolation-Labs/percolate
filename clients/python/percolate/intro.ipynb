{
 "cells": [
  {
   "cell_type": "markdown",
   "id": "92539e55-6700-4adc-86f9-dad08a531481",
   "metadata": {},
   "source": [
    "# Introduction\n",
    "- This introduction is the easiest way for Python folks to play with Percolate\n",
    "- We provider the Postgres client using the Docker compose connection parameteres as defaults\n",
    "- We can learn how to register entities after which everyone else becomes possible"
   ]
  },
  {
   "cell_type": "code",
   "execution_count": null,
   "id": "493aa704-958c-41a6-b73f-9ed4408bb8db",
   "metadata": {},
   "outputs": [],
   "source": [
    "import percolate\n",
    "from percolate.services import PostgresService\n",
    "pg = PostgresService()"
   ]
  },
  {
   "cell_type": "markdown",
   "id": "928b8127-f33b-41a4-a499-9844d124978b",
   "metadata": {},
   "source": [
    "## Registering entities which are Agents is the key way to use Percolate\n",
    "- entity models describe agents completely\n",
    "- Percolate assumes agents are serializable in the \"Agent\" model which has structured response, sytem prompt and external function refs\n",
    "- We register Entities as tables that can store data, as Agents that can allow interaction with data\n",
    "- Agents are added as structured tables but other indexes are added too; embeddings on fields that need them and graph node registry"
   ]
  },
  {
   "cell_type": "code",
   "execution_count": null,
   "id": "6b7403bc-2b7c-429d-8a8f-fae30124234b",
   "metadata": {},
   "outputs": [],
   "source": [
    "from percolate.models.p8 import Project, Agent, ModelField, LanguageModelApi, Function, Session, Dialogue\n",
    "\n",
    "#we register the core models - these are added by scripts in install anyway but it illustrates for 'bring your own'\n",
    "for model in [Dialogue]:\n",
    "    repo = pg.repository(model)\n",
    "    repo.register(register_entities=True)"
   ]
  },
  {
   "cell_type": "markdown",
   "id": "98fe693a-110a-4801-b999-813f416beabe",
   "metadata": {},
   "source": [
    "## Percolate configures Langauge models and assumes we can load tokens from the env\n",
    "- While not recommended in production, for simplicity you might add tokens locally in your database\n",
    "- The example below registers unique model names - the name is sometimes of the from provider-model if you want to select an API"
   ]
  },
  {
   "cell_type": "code",
   "execution_count": null,
   "id": "7a37c76e-2b3d-4fbd-9eb7-a6194fd65948",
   "metadata": {},
   "outputs": [],
   "source": [
    "from percolate.utils import make_uuid\n",
    "import os\n",
    "from percolate.models.p8 import sample_models\n",
    "\n",
    "fetched=pg.repository(LanguageModelApi).update_records(sample_models)"
   ]
  },
  {
   "cell_type": "markdown",
   "id": "0ceac85f",
   "metadata": {},
   "source": [
    "### WIP bootsrap"
   ]
  },
  {
   "cell_type": "code",
   "execution_count": null,
   "id": "e66fde5e-8099-4959-bd4c-28f1375474a6",
   "metadata": {},
   "outputs": [],
   "source": [
    "def bootstrap(root='../../../extension/sql'):\n",
    "    \"\"\"util to generate the sql that we use to setup percolate\"\"\"\n",
    "    \n",
    "    from percolate.models.p8 import Project, Agent, ModelField, LanguageModelApi, Function, Session, Dialogue\n",
    "    from percolate.models.p8 import sample_models\n",
    "    from percolate.models.utils import SqlModelHelper\n",
    "    import glob\n",
    "\n",
    "    root = root.rstrip('/')\n",
    "        \n",
    "    \"\"\"compile the functions into one file\"\"\"\n",
    "    with open(f'{root}/01_add_functions.sql', 'w') as f:\n",
    "        for sql in glob.glob('../../../extension/sql-staging/p8_pg_functions/**/*.sql',recursive=True):\n",
    "            with open(sql, 'r') as sql:\n",
    "                f.write(sql.read())\n",
    "                f.write('\\n\\n---------\\n\\n')\n",
    "\n",
    "    \"\"\"add base tables\"\"\"            \n",
    "    with open(f'{root}/02_create_primary.sql', 'w') as f:\n",
    "        for model in [ Project, Agent, ModelField, LanguageModelApi, Function, Session, Dialogue]:\n",
    "            f.write(pg.repository(model).model_registration_script(secondary=False, primary=True))\n",
    "\n",
    "    \"\"\"add the rest\"\"\"\n",
    "    with open(f'{root}/03_create_secondary.sql', 'w') as f:    \n",
    "        for model in [ Project, Agent, ModelField, LanguageModelApi, Function, Session, Dialogue]:\n",
    "            f.write(pg.repository(model).model_registration_script(secondary=True, primary=False))\n",
    "        script = SqlModelHelper(LanguageModelApi).get_data_load_statement(sample_models)\n",
    "        f.write('\\n\\n-- -----------\\n')\n",
    "        f.write('-- sample models--\\n\\n')\n",
    "        \n",
    "        f.write(script)\n",
    "bootstrap(root='../../../extension/sql')"
   ]
  }
 ],
 "metadata": {
  "kernelspec": {
   "display_name": "Python 3 (ipykernel)",
   "language": "python",
   "name": "python3"
  },
  "language_info": {
   "codemirror_mode": {
    "name": "ipython",
    "version": 3
   },
   "file_extension": ".py",
   "mimetype": "text/x-python",
   "name": "python",
   "nbconvert_exporter": "python",
   "pygments_lexer": "ipython3",
   "version": "3.10.10"
  }
 },
 "nbformat": 4,
 "nbformat_minor": 5
}
