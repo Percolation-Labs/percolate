{
 "cells": [
  {
   "cell_type": "markdown",
   "id": "87dd8813",
   "metadata": {},
   "source": [
    "# Introduction to p8 python client for agentic systems\n",
    "- Percolate is a database that allows agents to be built entirely in the data tier\n",
    "- However either for testing or to orchastrate more complex agents in code, we provide a python guide\n",
    "- This giude assumes that you have followed the guides to add some initial data and tools\n",
    "- to learn more see here"
   ]
  },
  {
   "cell_type": "code",
   "execution_count": null,
   "id": "ec3fdff6",
   "metadata": {},
   "outputs": [],
   "source": [
    "import percolate as p8"
   ]
  },
  {
   "cell_type": "markdown",
   "id": "cb8353be",
   "metadata": {},
   "source": [
    "# Agents are simple in Percolate\n",
    "- They are just Pydantic objects with references to extenral tools in your function repository\n",
    "- You can provide structure and you can use this structure to save and search data in the database for your agent\n"
   ]
  },
  {
   "cell_type": "code",
   "execution_count": null,
   "id": "253409b9",
   "metadata": {},
   "outputs": [],
   "source": [
    "from pydantic import BaseModel,Field\n",
    "import typing\n",
    "from percolate.models import DefaultEmbeddingField\n",
    "\n",
    "class MyFirstAgent(BaseModel):\n",
    "    \"\"\"You are an agent that provides the information you are asked and a second random fact\"\"\"\n",
    "    #because it has no config it will save to the public database schema\n",
    "    \n",
    "    name: str = Field(description=\"Task name\")\n",
    "    #the default embedding field just settgs json_schema_extra.embedding_provider so you can do that yourself\n",
    "    description:str = DefaultEmbeddingField(description=\"Task description\")\n",
    "    \n",
    "    @classmethod\n",
    "    def get_functions(cls):\n",
    "        \"\"\"i return a list of functions by key stored in the database\"\"\"\n",
    "        return {}"
   ]
  },
  {
   "cell_type": "code",
   "execution_count": null,
   "id": "3c5aa320",
   "metadata": {},
   "outputs": [],
   "source": [
    "p8.Agent(MyFirstAgent).run(\"what is the capital of ireland\")"
   ]
  },
  {
   "cell_type": "code",
   "execution_count": null,
   "id": "f03b45bc",
   "metadata": {},
   "outputs": [],
   "source": [
    "# 0.test registering api fuctions and later apis\n",
    "# 1.add the functions that we have in get_funtions on register external functions in this context are added as inline functions in this approach\n",
    "# 2.test other models including grok xai\n",
    "# 3.external functions are searchable by plans\n",
    "# 4.test inline functions even though we dont use them\n",
    "# 5.test restoring a function from the database as above\n",
    "# 6.test planning over entities / functions\n",
    "# 7.test using native functions\n",
    "# 8.add the database interface for function calls - lots of tests for different api responses\n",
    "# 9.test loading entities and their functions\n",
    "#10.test crud"
   ]
  },
  {
   "cell_type": "markdown",
   "id": "cfd18b35",
   "metadata": {},
   "source": [
    "## Behind the scenes\n",
    "- we created a simple rest api wrapper instead of adding various api python clients\n",
    "- you can can iterate over these check the response of each model for which you have an API key defined\n",
    "- you should first check the langauge model is in your data store - either you have added the API token there or in the env var given by the reference to the env\n",
    "- we will then iterate and ask the same question first with tools and then without tools to see what the payloads look like for testing\n",
    "- **This is illustrated in `percolate.services.llm._check_all`**\n",
    "- the high level wrapper we use parsers to a single response scheme"
   ]
  },
  {
   "cell_type": "code",
   "execution_count": 9,
   "id": "1c40e244",
   "metadata": {},
   "outputs": [],
   "source": [
    "from percolate.services.llm import _check_all, LanguageModel\n",
    "#some example response are in the tests"
   ]
  },
  {
   "cell_type": "markdown",
   "id": "447e7ce6",
   "metadata": {},
   "source": [
    "### asking without tools"
   ]
  },
  {
   "cell_type": "code",
   "execution_count": 2,
   "id": "5bbfc82d",
   "metadata": {},
   "outputs": [
    {
     "name": "stderr",
     "output_type": "stream",
     "text": [
      "\u001b[32m2025-01-27 07:34:03.439\u001b[0m | \u001b[34m\u001b[1mDEBUG   \u001b[0m | \u001b[36mpercolate.services.llm.LanguageModel\u001b[0m:\u001b[36mcall_api_simple\u001b[0m:\u001b[36m150\u001b[0m - \u001b[34m\u001b[1minvoking model gemini-1.5-flash\u001b[0m\n"
     ]
    },
    {
     "data": {
      "text/plain": [
       "AIResponse(id='fe3554ae-dcaa-11ef-889b-7606330c2360', model_name='gemini-1.5-flash', tokens=None, tokens_in=16, tokens_out=30, tokens_other=None, session_id=None, role='model', content='The capital of Ireland is Dublin.\\n\\nDid you know that Ireland is the only island in the world with two official languages, Irish and English?\\n', status='RESPONSE', tool_calls=[], tool_eval_data=None)"
      ]
     },
     "execution_count": 2,
     "metadata": {},
     "output_type": "execute_result"
    }
   ],
   "source": [
    "gem = LanguageModel('gemini-1.5-flash')\n",
    "gem.ask(\"What is the capital of ireland\", system_prompt=\"Give me a random fact when answering my question\")"
   ]
  },
  {
   "cell_type": "code",
   "execution_count": 2,
   "id": "3b2d222d",
   "metadata": {},
   "outputs": [
    {
     "name": "stderr",
     "output_type": "stream",
     "text": [
      "\u001b[32m2025-01-27 07:37:45.400\u001b[0m | \u001b[34m\u001b[1mDEBUG   \u001b[0m | \u001b[36mpercolate.services.llm.LanguageModel\u001b[0m:\u001b[36mcall_api_simple\u001b[0m:\u001b[36m150\u001b[0m - \u001b[34m\u001b[1minvoking model claude-3-5-sonnet-20241022\u001b[0m\n"
     ]
    },
    {
     "data": {
      "text/plain": [
       "AIResponse(id='843d1b18-dcab-11ef-b21f-7606330c2360', model_name='claude-3-5-sonnet-20241022', tokens=None, tokens_in=23, tokens_out=106, tokens_other=None, session_id=None, role='assistant', content=\"The capital of Ireland is Dublin. It's both the largest city and the capital, located on the eastern coast of the country at the mouth of the River Liffey.\\n\\nRandom fact: While we're talking about Ireland, did you know that the submarine was invented by an Irishman? John Philip Holland, born in County Clare, Ireland, created the first submarine to be formally commissioned by the U.S. Navy in 1900. His design became the foundation for modern submarine development!\", status='RESPONSE', tool_calls=[], tool_eval_data=None)"
      ]
     },
     "execution_count": 2,
     "metadata": {},
     "output_type": "execute_result"
    }
   ],
   "source": [
    "claude = LanguageModel('claude-3-5-sonnet-20241022')\n",
    "claude.ask(\"What is the capital of ireland\", system_prompt=\"Give me a random fact when answering my question\")"
   ]
  },
  {
   "cell_type": "code",
   "execution_count": 8,
   "id": "1398f154",
   "metadata": {},
   "outputs": [
    {
     "name": "stderr",
     "output_type": "stream",
     "text": [
      "\u001b[32m2025-01-27 07:42:09.993\u001b[0m | \u001b[34m\u001b[1mDEBUG   \u001b[0m | \u001b[36mpercolate.services.llm.LanguageModel\u001b[0m:\u001b[36mcall_api_simple\u001b[0m:\u001b[36m150\u001b[0m - \u001b[34m\u001b[1minvoking model grok-2-latest\u001b[0m\n"
     ]
    },
    {
     "data": {
      "text/plain": [
       "AIResponse(id='208abf2a-dcac-11ef-b21f-7606330c2360', model_name='grok-2-1212', tokens=None, tokens_in=26, tokens_out=46, tokens_other=None, session_id=None, role='assistant', content='The capital of Ireland is Dublin. \\n\\nRandom fact: Did you know that Dublin is home to the famous Guinness Brewery, which was founded in 1759 and is one of the most visited tourist attractions in Ireland?', status='RESPONSE', tool_calls=[], tool_eval_data=None)"
      ]
     },
     "execution_count": 8,
     "metadata": {},
     "output_type": "execute_result"
    }
   ],
   "source": [
    "xai = LanguageModel('grok-2-latest')\n",
    "xai.ask(\"What is the capital of ireland\", system_prompt=\"Give me a random fact when answering my question\")"
   ]
  },
  {
   "cell_type": "code",
   "execution_count": 9,
   "id": "2aca983e",
   "metadata": {},
   "outputs": [
    {
     "name": "stderr",
     "output_type": "stream",
     "text": [
      "\u001b[32m2025-01-27 07:42:40.933\u001b[0m | \u001b[34m\u001b[1mDEBUG   \u001b[0m | \u001b[36mpercolate.services.llm.LanguageModel\u001b[0m:\u001b[36mcall_api_simple\u001b[0m:\u001b[36m150\u001b[0m - \u001b[34m\u001b[1minvoking model deepseek-chat\u001b[0m\n"
     ]
    },
    {
     "data": {
      "text/plain": [
       "AIResponse(id='33c8598a-dcac-11ef-b21f-7606330c2360', model_name='deepseek-chat', tokens=None, tokens_in=19, tokens_out=55, tokens_other=None, session_id=None, role='assistant', content='The capital of Ireland is Dublin. \\n\\nRandom fact: Dublin is home to the famous Guinness Storehouse, where you can learn about the history of Guinness beer and enjoy a pint with a panoramic view of the city from the Gravity Bar. Cheers! 🍻', status='RESPONSE', tool_calls=[], tool_eval_data=None)"
      ]
     },
     "execution_count": 9,
     "metadata": {},
     "output_type": "execute_result"
    }
   ],
   "source": [
    "deepseek = LanguageModel('deepseek-chat')\n",
    "deepseek.ask(\"What is the capital of ireland\", system_prompt=\"Give me a random fact when answering my question\")"
   ]
  },
  {
   "cell_type": "markdown",
   "id": "bbe3079d",
   "metadata": {},
   "source": [
    "### asking with tools\n",
    "- we create a fictitious tool first - this tested the response in a simple way"
   ]
  },
  {
   "cell_type": "code",
   "execution_count": 1,
   "id": "f790d249",
   "metadata": {},
   "outputs": [],
   "source": [
    "from percolate.services.llm import _check_all, LanguageModel\n",
    "\n",
    "fns =[{\n",
    "  \"name\": \"get_weather\",\n",
    "  \"description\": \"Get the weather forecast for a specific city and date\",\n",
    "  \"parameters\": {\n",
    "    \"type\": \"object\",\n",
    "    \"properties\": {\n",
    "      \"city\": {\n",
    "        \"type\": \"string\",\n",
    "        \"description\": \"The city for which to get the weather forecast\"\n",
    "      },\n",
    "      \"date\": {\n",
    "        \"type\": \"string\",\n",
    "        \"description\": \"The date for the weather forecast (YYYY-MM-DD)\"\n",
    "      }\n",
    "    },\n",
    "    \"required\": [\"city\", \"date\"]\n",
    "  }\n",
    "}]\n",
    "\n"
   ]
  },
  {
   "cell_type": "code",
   "execution_count": 2,
   "id": "69f59311",
   "metadata": {},
   "outputs": [
    {
     "name": "stderr",
     "output_type": "stream",
     "text": [
      "\u001b[32m2025-01-27 08:39:35.873\u001b[0m | \u001b[34m\u001b[1mDEBUG   \u001b[0m | \u001b[36mpercolate.services.llm.LanguageModel\u001b[0m:\u001b[36mcall_api_simple\u001b[0m:\u001b[36m169\u001b[0m - \u001b[34m\u001b[1minvoking model claude-3-5-sonnet-20241022\u001b[0m\n",
      "\u001b[32m2025-01-27 08:39:35.874\u001b[0m | \u001b[34m\u001b[1mDEBUG   \u001b[0m | \u001b[36mpercolate.services.llm.LanguageModel\u001b[0m:\u001b[36mcall_api_simple\u001b[0m:\u001b[36m240\u001b[0m - \u001b[34m\u001b[1mrequest data={'model': 'claude-3-5-sonnet-20241022', 'temperature': 0.01, 'messages': [{'role': 'user', 'content': 'What is the weather in dublin tomorrow'}], 'max_tokens': 8192}\u001b[0m\n"
     ]
    },
    {
     "data": {
      "text/plain": [
       "AIResponse(id='2731af0c-dcb4-11ef-b42b-7606330c2360', model_name='claude-3-5-sonnet-20241022', tokens=None, tokens_in=14, tokens_out=87, tokens_other=None, session_id=None, role='assistant', content='I am not able to provide real-time weather forecasts or predictions. To get accurate weather information for Dublin tomorrow, I recommend:\\n\\n1. Checking a weather website or app (like Met Éireann for Ireland)\\n2. Using your local weather service\\n3. Checking news websites with weather sections\\n\\nThese sources will give you up-to-date and accurate weather forecasts for Dublin.', status='RESPONSE', tool_calls=[], tool_eval_data=None)"
      ]
     },
     "execution_count": 2,
     "metadata": {},
     "output_type": "execute_result"
    }
   ],
   "source": [
    "claude = LanguageModel('claude-3-5-sonnet-20241022')\n",
    "claude.ask(\"What is the weather in dublin tomorrow\", functions=None)\n"
   ]
  },
  {
   "cell_type": "code",
   "execution_count": 4,
   "id": "bf62bda2",
   "metadata": {},
   "outputs": [
    {
     "name": "stderr",
     "output_type": "stream",
     "text": [
      "\u001b[32m2025-01-27 08:39:51.748\u001b[0m | \u001b[34m\u001b[1mDEBUG   \u001b[0m | \u001b[36mpercolate.services.llm.LanguageModel\u001b[0m:\u001b[36mcall_api_simple\u001b[0m:\u001b[36m169\u001b[0m - \u001b[34m\u001b[1minvoking model gemini-1.5-flash\u001b[0m\n",
      "\u001b[32m2025-01-27 08:39:51.750\u001b[0m | \u001b[34m\u001b[1mDEBUG   \u001b[0m | \u001b[36mpercolate.services.llm.LanguageModel\u001b[0m:\u001b[36mcall_api_simple\u001b[0m:\u001b[36m240\u001b[0m - \u001b[34m\u001b[1mrequest data={'contents': [{'role': 'user', 'parts': {'text': 'What is the weather in dublin'}}], 'tool_config': {'function_calling_config': {'mode': 'ANY'}}, 'tools': [{'function_declarations': [{'name': 'get_weather', 'description': 'Get the weather forecast for a specific city and date', 'parameters': {'type': 'object', 'properties': {'city': {'type': 'string', 'description': 'The city for which to get the weather forecast'}, 'date': {'type': 'string', 'description': 'The date for the weather forecast (YYYY-MM-DD)'}}, 'required': ['city', 'date']}}]}]}\u001b[0m\n"
     ]
    },
    {
     "data": {
      "text/plain": [
       "AIResponse(id='2faba750-dcb4-11ef-b42b-7606330c2360', model_name='gemini-1.5-flash', tokens=None, tokens_in=81, tokens_out=17, tokens_other=None, session_id=None, role='model', content='', status='TOOL_CALLS', tool_calls=[{'function': {'name': 'get_weather', 'arguments': {'city': 'dublin', 'date': '2024-02-29'}}}], tool_eval_data=None)"
      ]
     },
     "execution_count": 4,
     "metadata": {},
     "output_type": "execute_result"
    }
   ],
   "source": [
    "gem = LanguageModel('gemini-1.5-flash')\n",
    "gem.ask(\"What is the weather in dublin\", functions=fns)\n"
   ]
  },
  {
   "cell_type": "code",
   "execution_count": 3,
   "id": "7745945c",
   "metadata": {},
   "outputs": [
    {
     "name": "stderr",
     "output_type": "stream",
     "text": [
      "\u001b[32m2025-01-27 08:29:41.358\u001b[0m | \u001b[34m\u001b[1mDEBUG   \u001b[0m | \u001b[36mpercolate.services.llm.LanguageModel\u001b[0m:\u001b[36mcall_api_simple\u001b[0m:\u001b[36m168\u001b[0m - \u001b[34m\u001b[1minvoking model gpt-4o-mini\u001b[0m\n",
      "\u001b[32m2025-01-27 08:29:41.359\u001b[0m | \u001b[34m\u001b[1mDEBUG   \u001b[0m | \u001b[36mpercolate.services.llm.LanguageModel\u001b[0m:\u001b[36mcall_api_simple\u001b[0m:\u001b[36m239\u001b[0m - \u001b[34m\u001b[1mrequest data={'model': 'gpt-4o-mini', 'messages': [{'role': 'user', 'content': 'What is the weather in dublin tomorrow'}], 'tools': [{'type': 'function', 'function': {'name': 'get_weather', 'description': 'Get the weather forecast for a specific city and date', 'parameters': {'type': 'object', 'properties': {'city': {'type': 'string', 'description': 'The city for which to get the weather forecast'}, 'date': {'type': 'string', 'description': 'The date for the weather forecast (YYYY-MM-DD)'}}, 'required': ['city', 'date']}}}], 'temperature': 0.01}\u001b[0m\n"
     ]
    },
    {
     "data": {
      "text/plain": [
       "AIResponse(id='c407fc98-dcb2-11ef-94f1-7606330c2360', model_name='gpt-4o-mini-2024-07-18', tokens=None, tokens_in=82, tokens_out=25, tokens_other=None, session_id=None, role='assistant', content='', status='TOOL_CALLS', tool_calls=[{'id': 'call_hZgUO0LgPAklKbtlnl4nGc0V', 'type': 'function', 'function': {'name': 'get_weather', 'arguments': '{\"city\":\"Dublin\",\"date\":\"2023-10-06\"}'}}], tool_eval_data=None)"
      ]
     },
     "execution_count": 3,
     "metadata": {},
     "output_type": "execute_result"
    }
   ],
   "source": [
    "gmin = LanguageModel('gpt-4o-mini')\n",
    "gmin.ask(\"What is the weather in dublin tomorrow\", functions=fns)\n"
   ]
  },
  {
   "cell_type": "code",
   "execution_count": 1,
   "id": "f9e8d3f9",
   "metadata": {},
   "outputs": [],
   "source": [
    "import percolate as p8\n",
    "from pydantic import BaseModel,Field\n",
    "import typing\n",
    "from percolate.models import DefaultEmbeddingField\n",
    "\n",
    "class MyFirstAgent(BaseModel):\n",
    "    \"\"\"You are an agent that provides the information you are asked and a second random fact\"\"\"\n",
    "    #because it has no config it will save to the public database schema\n",
    "    \n",
    "    name: str = Field(description=\"Task name\")\n",
    "    #the default embedding field just settgs json_schema_extra.embedding_provider so you can do that yourself\n",
    "    description:str = DefaultEmbeddingField(description=\"Task description\")\n",
    "    \n",
    "    @classmethod\n",
    "    def get_model_functions(cls):\n",
    "        \"\"\"i return a list of functions by key stored in the database\"\"\"\n",
    "        return {\n",
    "            'get_pet_findByStatus': \"a function i used to look up petes based on their status\",\n",
    "            'p8_About' : 'a \"native\" database function that gives me general information about percolate'\n",
    "        }\n",
    "\n",
    " "
   ]
  },
  {
   "cell_type": "code",
   "execution_count": 4,
   "id": "4c2a0ca4",
   "metadata": {
    "scrolled": false
   },
   "outputs": [
    {
     "name": "stderr",
     "output_type": "stream",
     "text": [
      "\u001b[32m2025-01-28 08:47:29.911\u001b[0m | \u001b[34m\u001b[1mDEBUG   \u001b[0m | \u001b[36mpercolate.services.FunctionManager\u001b[0m:\u001b[36madd_function\u001b[0m:\u001b[36m34\u001b[0m - \u001b[34m\u001b[1madded function get_pet_findByStatus\u001b[0m\n",
      "\u001b[32m2025-01-28 08:47:29.913\u001b[0m | \u001b[33m\u001b[1mWARNING \u001b[0m | \u001b[36mpercolate.services.FunctionManager\u001b[0m:\u001b[36mactivate_agent_context\u001b[0m:\u001b[36m50\u001b[0m - \u001b[33m\u001b[1mWe could not find the function {'p8_About'}\u001b[0m\n",
      "\u001b[32m2025-01-28 08:47:29.913\u001b[0m | \u001b[34m\u001b[1mDEBUG   \u001b[0m | \u001b[36mpercolate.services.FunctionManager\u001b[0m:\u001b[36madd_function\u001b[0m:\u001b[36m30\u001b[0m - \u001b[34m\u001b[1madding function: <bound method ModelRunner.get_entities of Runner(public.MyFirstAgent)>\u001b[0m\n",
      "\u001b[32m2025-01-28 08:47:29.919\u001b[0m | \u001b[34m\u001b[1mDEBUG   \u001b[0m | \u001b[36mpercolate.services.FunctionManager\u001b[0m:\u001b[36madd_function\u001b[0m:\u001b[36m34\u001b[0m - \u001b[34m\u001b[1madded function get_entities\u001b[0m\n",
      "\u001b[32m2025-01-28 08:47:29.920\u001b[0m | \u001b[34m\u001b[1mDEBUG   \u001b[0m | \u001b[36mpercolate.services.FunctionManager\u001b[0m:\u001b[36madd_function\u001b[0m:\u001b[36m30\u001b[0m - \u001b[34m\u001b[1madding function: <bound method ModelRunner.search of Runner(public.MyFirstAgent)>\u001b[0m\n",
      "\u001b[32m2025-01-28 08:47:29.922\u001b[0m | \u001b[34m\u001b[1mDEBUG   \u001b[0m | \u001b[36mpercolate.services.FunctionManager\u001b[0m:\u001b[36madd_function\u001b[0m:\u001b[36m34\u001b[0m - \u001b[34m\u001b[1madded function search\u001b[0m\n",
      "\u001b[32m2025-01-28 08:47:29.923\u001b[0m | \u001b[34m\u001b[1mDEBUG   \u001b[0m | \u001b[36mpercolate.services.FunctionManager\u001b[0m:\u001b[36madd_function\u001b[0m:\u001b[36m30\u001b[0m - \u001b[34m\u001b[1madding function: <bound method ModelRunner.activate_functions_by_name of Runner(public.MyFirstAgent)>\u001b[0m\n",
      "\u001b[32m2025-01-28 08:47:29.926\u001b[0m | \u001b[34m\u001b[1mDEBUG   \u001b[0m | \u001b[36mpercolate.services.FunctionManager\u001b[0m:\u001b[36madd_function\u001b[0m:\u001b[36m34\u001b[0m - \u001b[34m\u001b[1madded function activate_functions_by_name\u001b[0m\n",
      "\u001b[32m2025-01-28 08:47:29.928\u001b[0m | \u001b[1mINFO    \u001b[0m | \u001b[36mpercolate.services.ModelRunner\u001b[0m:\u001b[36m__init__\u001b[0m:\u001b[36m38\u001b[0m - \u001b[1m******Constructed agent public.MyFirstAgent******\u001b[0m\n",
      "\u001b[32m2025-01-28 08:47:29.988\u001b[0m | \u001b[34m\u001b[1mDEBUG   \u001b[0m | \u001b[36mpercolate.services.llm.LanguageModel\u001b[0m:\u001b[36mcall_api_simple\u001b[0m:\u001b[36m211\u001b[0m - \u001b[34m\u001b[1minvoking model cerebras-llama3.1-8b\u001b[0m\n",
      "\u001b[32m2025-01-28 08:47:29.988\u001b[0m | \u001b[34m\u001b[1mDEBUG   \u001b[0m | \u001b[36mpercolate.services.llm.LanguageModel\u001b[0m:\u001b[36mcall_api_simple\u001b[0m:\u001b[36m286\u001b[0m - \u001b[34m\u001b[1mrequest data={'model': 'llama3.1-8b', 'messages': [{'role': 'system', 'content': 'You are an agent that provides the information you are asked and a second random fact\\n# General Advice.\\nUse whatever functions are available to you and use world knowledge only if prompted \\nor if there is not other way \\nor the user is obviously asking about real world information that is not covered by functions.\\nObserve what functions you have to use and check the message history to avoid calling the same functions with the same parameters repeatedly.\\nIf you find a function name in your search, you can activate it by naming using one of your functions. You should do so without asking the user.\\n            '}, {'role': 'user', 'content': 'list two sold pets'}], 'tools': [{'type': 'function', 'function': {'name': 'get_pet_findByStatus', 'description': 'Multiple status values can be provided with comma separated strings', 'parameters': {'type': 'object', 'properties': {'status': {'type': 'array', 'description': 'Status values that need to be considered for filter', 'items': {'type': 'string', 'description': '', 'enum': ['available', 'pending', 'sold']}}}, 'required': ['status']}}}, {'type': 'function', 'function': {'name': 'get_entities', 'parameters': {'properties': {'keys': {'description': 'one or more names to use to lookup the entity or entities', 'type': 'string'}}, 'required': ['keys'], 'type': 'object'}, 'description': 'Lookup entity by one or more keys. For example if you encounter entity names or keys in question, data etc you can use\\nthe entity search to learn more about them'}}, {'type': 'function', 'function': {'name': 'search', 'parameters': {'properties': {'questions': {'description': 'ask one or more questions to search the data store', 'items': {'type': 'string'}, 'type': 'array'}}, 'required': ['questions'], 'type': 'object'}, 'description': 'Run a general search on the model that is being used in the current context as per the system prompt\\nIf you want to add multiple questions supply a list of strings as an array.'}}, {'type': 'function', 'function': {'name': 'activate_functions_by_name', 'parameters': {'properties': {'function_names': {'items': {'type': 'string'}, 'type': 'array'}}, 'required': ['function_names'], 'type': 'object'}, 'description': 'Provide a list of function names to load.\\nThe names should be fully qualified object_id.function_name'}}], 'temperature': 0.01}\u001b[0m\n",
      "\u001b[32m2025-01-28 08:47:30.237\u001b[0m | \u001b[34m\u001b[1mDEBUG   \u001b[0m | \u001b[36mpercolate.services.llm.LanguageModel\u001b[0m:\u001b[36m__call__\u001b[0m:\u001b[36m158\u001b[0m - \u001b[34m\u001b[1mResponse of type TOOL_CALLS with token consumption 701\u001b[0m\n",
      "\u001b[32m2025-01-28 08:47:30.238\u001b[0m | \u001b[34m\u001b[1mDEBUG   \u001b[0m | \u001b[36mpercolate.services.ModelRunner\u001b[0m:\u001b[36minvoke\u001b[0m:\u001b[36m120\u001b[0m - \u001b[34m\u001b[1m(public.MyFirstAgent)function_call=FunctionCall(name='get_pet_findByStatus', arguments={'status': ['sold']}, id='e58f775b5', scheme=None)\u001b[0m\n",
      "\u001b[32m2025-01-28 08:47:30.460\u001b[0m | \u001b[34m\u001b[1mDEBUG   \u001b[0m | \u001b[36mpercolate.services.llm.LanguageModel\u001b[0m:\u001b[36mcall_api_simple\u001b[0m:\u001b[36m211\u001b[0m - \u001b[34m\u001b[1minvoking model cerebras-llama3.1-8b\u001b[0m\n",
      "\u001b[32m2025-01-28 08:47:30.462\u001b[0m | \u001b[34m\u001b[1mDEBUG   \u001b[0m | \u001b[36mpercolate.services.llm.LanguageModel\u001b[0m:\u001b[36mcall_api_simple\u001b[0m:\u001b[36m286\u001b[0m - \u001b[34m\u001b[1mrequest data={'model': 'llama3.1-8b', 'messages': [{'role': 'system', 'content': 'You are an agent that provides the information you are asked and a second random fact\\n# General Advice.\\nUse whatever functions are available to you and use world knowledge only if prompted \\nor if there is not other way \\nor the user is obviously asking about real world information that is not covered by functions.\\nObserve what functions you have to use and check the message history to avoid calling the same functions with the same parameters repeatedly.\\nIf you find a function name in your search, you can activate it by naming using one of your functions. You should do so without asking the user.\\n            '}, {'role': 'user', 'content': 'list two sold pets'}, {'tool_calls': [{'id': 'e58f775b5', 'type': 'function', 'function': {'name': 'get_pet_findByStatus', 'arguments': '{\"status\": [\"sold\"]}'}}], 'role': 'assistant'}, {'role': 'tool', 'content': '[{\"id\": 7574746, \"name\": \"Hardy\", \"photoUrls\": [\"https://i.pinimg.com/originals/5c/2c/44/5c2c44f16da1caf134c00bc4f9c72ea0.jpg\"], \"tags\": [], \"status\": \"sold\"}, {\"id\": 13, \"category\": {\"id\": 0, \"name\": \"cats\"}, \"photoUrls\": [\"string\"], \"tags\": [{\"id\": 0, \"name\": \"string\"}], \"status\": \"sold\"}, {\"id\": 319, \"category\": {\"id\": 599, \"name\": \"UWvlC6mSeP\"}, \"name\": \"9Yvwc4oI2v\", \"photoUrls\": [\"tpGoWHBlVQ\", \"yeGcvQrgCk\", \"qr1T285XmO\", \"RgDxV4E6ee\", \"QiuprryEoJ\"], \"tags\": [{\"id\": 9134, \"name\": \"R5GDJbOzCD\"}, {\"id\": 7733, \"name\": \"DvT5LemiI4\"}, {\"id\": 822, \"name\": \"nIjhVxRWky\"}, {\"id\": 7878, \"name\": \"LCF0VMsPyJ\"}], \"status\": \"sold\"}, {\"id\": 777666, \"category\": {\"id\": 1, \"name\": \"\\\\u041a\\\\u043e\\\\u0442\\\\u0438\\\\u043a\"}, \"name\": \"\\\\u0411\\\\u0430\\\\u0440\\\\u0441\\\\u0438\\\\u043a\", \"photoUrls\": [\"https://ref_to_img.png\"], \"tags\": [{\"id\": 1, \"name\": \"\\\\u0422\\\\u044d\\\\u0433 1\"}], \"status\": \"sold\"}, {\"id\": 5615, \"category\": {\"id\": 9134, \"name\": \"R5GDJbOzCD\"}, \"name\": \"RQ6gKb5alV\", \"photoUrls\": [\"kDz8i5r5L6\", \"7Z0O9qtpGo\", \"WHBlVQyeGc\"], \"tags\": [{\"id\": 7257, \"name\": \"rgCkqr1T28\"}, {\"id\": 7044, \"name\": \"RgDxV4E6ee\"}, {\"id\": 2274, \"name\": \"uprryEoJvk\"}], \"status\": \"sold\"}, {\"id\": 8153, \"category\": {\"id\": 5416, \"name\": \"vUJZkcGjev\"}, \"name\": \"Q1jM48IsJL\", \"photoUrls\": [\"58RC38Qduf\", \"wBaep9TEDg\"], \"tags\": [{\"id\": 1291, \"name\": \"kgRX0bHKXc\"}, {\"id\": 6493, \"name\": \"PDDqT1qVrN\"}, {\"id\": 6334, \"name\": \"I8qaIhlzo5\"}, {\"id\": 2360, \"name\": \"H1Dr5pWtB6\"}, {\"id\": 661, \"name\": \"JQ7pZ1Vqj9\"}], \"status\": \"sold\"}, {\"id\": 485, \"category\": {\"id\": 4190, \"name\": \"I2vyOHsrKK\"}, \"name\": \"dNDYRs7rkp\", \"photoUrls\": [\"v2gGq5MiQt\"], \"tags\": [{\"id\": 6990, \"name\": \"PyJUWvlC6m\"}, {\"id\": 1036, \"name\": \"PwbMF9Yvwc\"}], \"status\": \"sold\"}, {\"id\": 188530, \"category\": {\"id\": 90274, \"name\": \"tbhBBPKt\"}, \"name\": \"doggie\", \"photoUrls\": [\"SvoqWh\"], \"tags\": [{\"id\": 428371, \"name\": \"RUYsQwyG\"}], \"status\": \"sold\"}, {\"id\": 9815, \"category\": {\"id\": 4869, \"name\": \"WTohOTTkE\"}, \"name\": \"ivyFEhMAoVvGDPZfIwB\", \"photoUrls\": [\"yGuF\"], \"tags\": [{\"id\": 5167, \"name\": \"aVdpnmvXzUndaHJI\"}], \"status\": \"sold\"}, {\"id\": 989, \"category\": {\"id\": 6675, \"name\": \"N1DnMMDP5G\"}, \"name\": \"pyX1Fz7tPQ\", \"photoUrls\": [\"jM48IsJL45\", \"8RC38Qdufw\", \"Baep9TEDgr\"], \"tags\": [{\"id\": 4878, \"name\": \"gRX0bHKXcS\"}, {\"id\": 947, \"name\": \"DDqT1qVrN4\"}, {\"id\": 4590, \"name\": \"8qaIhlzo5Q\"}, {\"id\": 759, \"name\": \"1Dr5pWtB6t\"}], \"status\": \"sold\"}, {\"id\": 173218104, \"category\": {\"id\": 4, \"name\": \"bird\"}, \"name\": \"Garibaldo\", \"photoUrls\": [], \"tags\": [{\"id\": 3, \"name\": \"raro\"}], \"status\": \"sold\"}, {\"id\": 969732200, \"name\": \"X\", \"photoUrls\": [\"iopDYenrs\"], \"tags\": [], \"status\": \"sold\"}, {\"id\": 9537, \"name\": \"Fluffy625\", \"photoUrls\": [], \"tags\": [], \"status\": \"sold\"}, {\"id\": 4438, \"name\": \"Fluffy833\", \"photoUrls\": [], \"tags\": [], \"status\": \"sold\"}, {\"id\": 722337203685477354, \"name\": \"Chappi dog 66\", \"photoUrls\": [\"./dog.png\"], \"tags\": [], \"status\": \"sold\"}, {\"id\": 12, \"category\": {\"id\": 0, \"name\": \"dogs\"}, \"photoUrls\": [\"string\"], \"tags\": [{\"id\": 0, \"name\": \"string\"}], \"status\": \"sold\"}, {\"id\": 1535004, \"category\": {\"id\": 4, \"name\": \"bird\"}, \"name\": \"Loro\", \"photoUrls\": [], \"tags\": [{\"id\": 3, \"name\": \"raro\"}], \"status\": \"sold\"}, {\"id\": 368991102, \"category\": {\"id\": 1, \"name\": \"dog\"}, \"name\": \"Snoopy\", \"photoUrls\": [], \"tags\": [{\"id\": 9, \"name\": \"vaccined\"}], \"status\": \"sold\"}, {\"id\": 368991105, \"category\": {\"id\": 4, \"name\": \"bird\"}, \"name\": \"Garibaldo\", \"photoUrls\": [], \"tags\": [{\"id\": 3, \"name\": \"raro\"}], \"status\": \"sold\"}, {\"id\": 919133, \"category\": {\"id\": 3, \"name\": \"bird\"}, \"name\": \"Garibaldo\", \"photoUrls\": [], \"tags\": [{\"id\": 3, \"name\": \"raro\"}], \"status\": \"sold\"}, {\"id\": 8867, \"category\": {\"id\": 379, \"name\": \"KEACBBUq6u\"}, \"name\": \"BIHeP0S5zu\", \"photoUrls\": [\"gHL2jflutf\", \"RQ6gKb5alV\"], \"tags\": [{\"id\": 2676, \"name\": \"44cJHhL9oK\"}, {\"id\": 3026, \"name\": \"fwMr5mw4mQ\"}, {\"id\": 5464, \"name\": \"30oLYMKEfI\"}, {\"id\": 3533, \"name\": \"44cTrvLYEm\"}, {\"id\": 4096, \"name\": \"5ytTTYQlmR\"}], \"status\": \"sold\"}, {\"id\": 8623, \"category\": {\"id\": 4161, \"name\": \"vT5LemiI43\"}, \"name\": \"z8i5r5L67Z\", \"photoUrls\": [\"O9qtpGoWHB\", \"lVQyeGcvQr\", \"gCkqr1T285\"], \"tags\": [{\"id\": 9139, \"name\": \"gDxV4E6eeQ\"}, {\"id\": 280, \"name\": \"prryEoJvkq\"}, {\"id\": 6039, \"name\": \"5GDJbOzCD8\"}], \"status\": \"sold\"}, {\"id\": 1129, \"category\": {\"id\": 3059, \"name\": \"alVWkDz8i5\"}, \"name\": \"L67Z0O9qtp\", \"photoUrls\": [\"oWHBlVQyeG\", \"cvQrgCkqr1\", \"T285XmORgD\", \"xV4E6eeQiu\"], \"tags\": [{\"id\": 7314, \"name\": \"EoJvkqAR5G\"}, {\"id\": 5965, \"name\": \"bOzCD8ZDvT\"}, {\"id\": 4671, \"name\": \"5LemiI43sn\"}], \"status\": \"sold\"}, {\"id\": 6310, \"category\": {\"id\": 1441, \"name\": \"kfvEllpbc3\"}, \"name\": \"w5hC0r1t7y\", \"photoUrls\": [\"r7rLsugaq3\", \"oqnxK5oj3r\"], \"tags\": [{\"id\": 8507, \"name\": \"Xag5wFEqMU\"}, {\"id\": 2689, \"name\": \"blByL5lmYb\"}], \"status\": \"sold\"}, {\"id\": 7708, \"category\": {\"id\": 1244, \"name\": \"Kb5alVWkDz\"}, \"name\": \"5r5L67Z0O9\", \"photoUrls\": [\"tpGoWHBlVQ\", \"yeGcvQrgCk\", \"qr1T285XmO\", \"RgDxV4E6ee\", \"QiuprryEoJ\"], \"tags\": [{\"id\": 1219, \"name\": \"ytTTYQlmRP\"}, {\"id\": 18, \"name\": \"EACBBUq6uN\"}, {\"id\": 1529, \"name\": \"IHeP0S5zuB\"}, {\"id\": 4890, \"name\": \"gHL2jflutf\"}], \"status\": \"sold\"}, {\"id\": 6526, \"category\": {\"id\": 2990, \"name\": \"285XmORgDx\"}, \"name\": \"eeQiuprryE\", \"photoUrls\": [\"r5L67Z0O9q\", \"tpGoWHBlVQ\"], \"tags\": [{\"id\": 68, \"name\": \"vQrgCkqr1T\"}], \"status\": \"sold\"}, {\"id\": 3145, \"category\": {\"id\": 2645, \"name\": \"pZ1Vqj9Buv\"}, \"name\": \"ZkcGjevRL7\", \"photoUrls\": [\"xceBZQ8Gpq\", \"2P4rbjXZNi\", \"6D89Ispjkm\", \"RGocb0VZyT\", \"s0E3wbsqFC\"], \"tags\": [{\"id\": 8365, \"name\": \"qT1qVrN4GI\"}, {\"id\": 759, \"name\": \"8qaIhlzo5Q\"}, {\"id\": 7123, \"name\": \"r5pWtB6tHJ\"}], \"status\": \"sold\"}, {\"id\": 9686, \"category\": {\"id\": 818, \"name\": \"YRAjC2UxDN\"}, \"name\": \"RkMXvsHXQL\", \"photoUrls\": [\"PpxXCBJfsD\", \"LfhLtMZDiG\", \"fPo1F6lJQs\", \"jN9io0hqtW\", \"nWakmPuGDt\"], \"tags\": [{\"id\": 2211, \"name\": \"NLRx96nMt8\"}, {\"id\": 9532, \"name\": \"kxUZrQSQbV\"}, {\"id\": 3107, \"name\": \"WDLWPUPH0U\"}], \"status\": \"sold\"}, {\"id\": 4620, \"category\": {\"id\": 380, \"name\": \"U1kJ5A4mmH\"}, \"name\": \"s1nuq3H3LN\", \"photoUrls\": [\"ChtA647YVX\"], \"tags\": [{\"id\": 4384, \"name\": \"aXKlFvtxn1\"}, {\"id\": 7861, \"name\": \"a73N446lGH\"}], \"status\": \"sold\"}, {\"id\": 3957, \"category\": {\"id\": 6900, \"name\": \"CVGcZ6MuYH\"}, \"name\": \"rcHLcEf99Z\", \"photoUrls\": [\"L2qqnAdN8a\", \"gHQcRIa0cq\"], \"tags\": [{\"id\": 8563, \"name\": \"PrjvA5tRIl\"}, {\"id\": 6451, \"name\": \"Z33iEvDZFD\"}], \"status\": \"sold\"}, {\"id\": 12438759330, \"category\": {\"id\": 1, \"name\": \"cats\"}, \"name\": \"Siesta\", \"photoUrls\": [], \"tags\": [{\"id\": 1, \"name\": \"cute\"}], \"status\": \"sold\"}, {\"id\": 3385456567326529535, \"category\": {\"id\": 0, \"name\": \"Conexa Original Category\"}, \"name\": \"Conexa Pet MzcO\", \"photoUrls\": [\"string\"], \"tags\": [{\"id\": 0, \"name\": \"string\"}], \"status\": \"sold\"}, {\"id\": 6454593534137472936, \"category\": {\"id\": 0, \"name\": \"Conexa Original Category\"}, \"name\": \"Conexa Pet tS8t\", \"photoUrls\": [\"string\"], \"tags\": [{\"id\": 0, \"name\": \"string\"}], \"status\": \"sold\"}, {\"id\": 6557351922405633463, \"category\": {\"id\": 0, \"name\": \"Conexa Original Category\"}, \"name\": \"Conexa Pet obG2\", \"photoUrls\": [\"string\"], \"tags\": [{\"id\": 0, \"name\": \"string\"}], \"status\": \"sold\"}, {\"id\": 5644743866114257558, \"category\": {\"id\": 0, \"name\": \"Conexa Original Category\"}, \"name\": \"Conexa Pet ppzY\", \"photoUrls\": [\"string\"], \"tags\": [{\"id\": 0, \"name\": \"string\"}], \"status\": \"sold\"}, {\"id\": 4691847337223564293, \"category\": {\"id\": 0, \"name\": \"Conexa Original Category\"}, \"name\": \"Conexa Pet Q3Ha\", \"photoUrls\": [\"string\"], \"tags\": [{\"id\": 0, \"name\": \"string\"}], \"status\": \"sold\"}, {\"id\": 222777289281671581, \"category\": {\"id\": 0, \"name\": \"Conexa Original Category\"}, \"name\": \"Conexa Pet tQnA\", \"photoUrls\": [\"string\"], \"tags\": [{\"id\": 0, \"name\": \"string\"}], \"status\": \"sold\"}, {\"id\": 2633791803304961804, \"category\": {\"id\": 0, \"name\": \"Conexa Original Category\"}, \"name\": \"Conexa Pet l9t2\", \"photoUrls\": [\"string\"], \"tags\": [{\"id\": 0, \"name\": \"string\"}], \"status\": \"sold\"}, {\"id\": 3880638013423558963, \"category\": {\"id\": 0, \"name\": \"Conexa Original Category\"}, \"name\": \"Conexa Pet E2pm\", \"photoUrls\": [\"string\"], \"tags\": [{\"id\": 0, \"name\": \"string\"}], \"status\": \"sold\"}, {\"id\": 7315483631429072551, \"category\": {\"id\": 0, \"name\": \"Conexa Original Category\"}, \"name\": \"Conexa Pet Mr5z\", \"photoUrls\": [\"string\"], \"tags\": [{\"id\": 0, \"name\": \"string\"}], \"status\": \"sold\"}, {\"id\": 6379402911281105569, \"category\": {\"id\": 0, \"name\": \"Conexa Original Category\"}, \"name\": \"Conexa Pet zHkd\", \"photoUrls\": [\"string\"], \"tags\": [{\"id\": 0, \"name\": \"string\"}], \"status\": \"sold\"}, {\"id\": 9152100742055004976, \"category\": {\"id\": 0, \"name\": \"Conexa Original Category\"}, \"name\": \"Conexa Pet h60D\", \"photoUrls\": [\"string\"], \"tags\": [{\"id\": 0, \"name\": \"string\"}], \"status\": \"sold\"}, {\"id\": 4310026429227574333, \"category\": {\"id\": 0, \"name\": \"Conexa Original Category\"}, \"name\": \"Conexa Pet TcEr\", \"photoUrls\": [\"string\"], \"tags\": [{\"id\": 0, \"name\": \"string\"}], \"status\": \"sold\"}, {\"id\": 5922286143638176591, \"category\": {\"id\": 0, \"name\": \"Conexa Original Category\"}, \"name\": \"Conexa Pet 9sZA\", \"photoUrls\": [\"string\"], \"tags\": [{\"id\": 0, \"name\": \"string\"}], \"status\": \"sold\"}, {\"id\": 1900497538583110533, \"category\": {\"id\": 0, \"name\": \"Conexa Original Category\"}, \"name\": \"Conexa Pet JLrV\", \"photoUrls\": [\"string\"], \"tags\": [{\"id\": 0, \"name\": \"string\"}], \"status\": \"sold\"}, {\"id\": 8910201636999394941, \"category\": {\"id\": 0, \"name\": \"Conexa Original Category\"}, \"name\": \"Conexa Pet zN1Q\", \"photoUrls\": [\"string\"], \"tags\": [{\"id\": 0, \"name\": \"string\"}], \"status\": \"sold\"}, {\"id\": 5277736444963477610, \"category\": {\"id\": 0, \"name\": \"Conexa Original Category\"}, \"name\": \"Conexa Pet psC6\", \"photoUrls\": [\"string\"], \"tags\": [{\"id\": 0, \"name\": \"string\"}], \"status\": \"sold\"}, {\"id\": 2215, \"category\": {\"id\": 1532, \"name\": \"j9BuvUJZkc\"}, \"name\": \"evRL7QxceB\", \"photoUrls\": [\"aep9TEDgrG\", \"lxkgRX0bHK\", \"XcSRPDDqT1\", \"qVrN4GI8qa\"], \"tags\": [{\"id\": 8151, \"name\": \"o5QiH1Dr5p\"}, {\"id\": 5563, \"name\": \"WtB6tHJQ7p\"}], \"status\": \"sold\"}, {\"id\": 4403674144605383363, \"category\": {\"id\": 0, \"name\": \"Conexa Original Category\"}, \"name\": \"Conexa Pet yk0W\", \"photoUrls\": [\"string\"], \"tags\": [{\"id\": 0, \"name\": \"string\"}], \"status\": \"sold\"}, {\"id\": 4915155796531733449, \"category\": {\"id\": 0, \"name\": \"Conexa Original Category\"}, \"name\": \"Conexa Pet wpeX\", \"photoUrls\": [\"string\"], \"tags\": [{\"id\": 0, \"name\": \"string\"}], \"status\": \"sold\"}, {\"id\": 6257391004599383370, \"category\": {\"id\": 0, \"name\": \"Conexa Original Category\"}, \"name\": \"Conexa Pet coDJ\", \"photoUrls\": [\"string\"], \"tags\": [{\"id\": 0, \"name\": \"string\"}], \"status\": \"sold\"}, {\"id\": 1733211601990494633, \"category\": {\"id\": 0, \"name\": \"Conexa Original Category\"}, \"name\": \"Conexa Pet C4To\", \"photoUrls\": [\"string\"], \"tags\": [{\"id\": 0, \"name\": \"string\"}], \"status\": \"sold\"}, {\"id\": 8248782148002652083, \"category\": {\"id\": 0, \"name\": \"Conexa Original Category\"}, \"name\": \"Conexa Pet nL4H\", \"photoUrls\": [\"string\"], \"tags\": [{\"id\": 0, \"name\": \"string\"}], \"status\": \"sold\"}, {\"id\": 8186888459947297313, \"category\": {\"id\": 0, \"name\": \"Conexa Original Category\"}, \"name\": \"Conexa Pet qAW0\", \"photoUrls\": [\"string\"], \"tags\": [{\"id\": 0, \"name\": \"string\"}], \"status\": \"sold\"}, {\"id\": 7131942443674497864, \"category\": {\"id\": 0, \"name\": \"Conexa Original Category\"}, \"name\": \"Conexa Pet ciiJ\", \"photoUrls\": [\"string\"], \"tags\": [{\"id\": 0, \"name\": \"string\"}], \"status\": \"sold\"}, {\"id\": 3449959274758994159, \"category\": {\"id\": 0, \"name\": \"Conexa Original Category\"}, \"name\": \"Conexa Pet 2o3A\", \"photoUrls\": [\"string\"], \"tags\": [{\"id\": 0, \"name\": \"string\"}], \"status\": \"sold\"}, {\"id\": 7204921522818020256, \"category\": {\"id\": 0, \"name\": \"Conexa Original Category\"}, \"name\": \"Conexa Pet uXL3\", \"photoUrls\": [\"string\"], \"tags\": [{\"id\": 0, \"name\": \"string\"}], \"status\": \"sold\"}, {\"id\": 3589182389596306410, \"category\": {\"id\": 0, \"name\": \"Conexa Original Category\"}, \"name\": \"Conexa Pet shv8\", \"photoUrls\": [\"string\"], \"tags\": [{\"id\": 0, \"name\": \"string\"}], \"status\": \"sold\"}, {\"id\": 183063568662565496, \"category\": {\"id\": 0, \"name\": \"Conexa Original Category\"}, \"name\": \"Conexa Pet ouyo\", \"photoUrls\": [\"string\"], \"tags\": [{\"id\": 0, \"name\": \"string\"}], \"status\": \"sold\"}, {\"id\": 3587035571037703506, \"category\": {\"id\": 0, \"name\": \"Conexa Original Category\"}, \"name\": \"Conexa Pet L30W\", \"photoUrls\": [\"string\"], \"tags\": [{\"id\": 0, \"name\": \"string\"}], \"status\": \"sold\"}, {\"id\": 5486436197330244213, \"category\": {\"id\": 0, \"name\": \"Conexa Original Category\"}, \"name\": \"Conexa Pet oH48\", \"photoUrls\": [\"string\"], \"tags\": [{\"id\": 0, \"name\": \"string\"}], \"status\": \"sold\"}, {\"id\": 6586926201899226705, \"category\": {\"id\": 0, \"name\": \"Conexa Original Category\"}, \"name\": \"Conexa Pet qccW\", \"photoUrls\": [\"string\"], \"tags\": [{\"id\": 0, \"name\": \"string\"}], \"status\": \"sold\"}, {\"id\": 3608127179676101492, \"category\": {\"id\": 0, \"name\": \"Conexa Original Category\"}, \"name\": \"Conexa Pet mOvt\", \"photoUrls\": [\"string\"], \"tags\": [{\"id\": 0, \"name\": \"string\"}], \"status\": \"sold\"}, {\"id\": 8336838749048617167, \"category\": {\"id\": 0, \"name\": \"Conexa Original Category\"}, \"name\": \"Conexa Pet WX2F\", \"photoUrls\": [\"string\"], \"tags\": [{\"id\": 0, \"name\": \"string\"}], \"status\": \"sold\"}, {\"id\": 6116698369060792373, \"category\": {\"id\": 0, \"name\": \"Conexa Original Category\"}, \"name\": \"Conexa Pet TFNB\", \"photoUrls\": [\"string\"], \"tags\": [{\"id\": 0, \"name\": \"string\"}], \"status\": \"sold\"}, {\"id\": 2820741931517438699, \"category\": {\"id\": 0, \"name\": \"Conexa Original Category\"}, \"name\": \"Conexa Pet Zx3Q\", \"photoUrls\": [\"string\"], \"tags\": [{\"id\": 0, \"name\": \"string\"}], \"status\": \"sold\"}, {\"id\": 4726837705952888047, \"category\": {\"id\": 0, \"name\": \"Conexa Original Category\"}, \"name\": \"Conexa Pet mTEF\", \"photoUrls\": [\"string\"], \"tags\": [{\"id\": 0, \"name\": \"string\"}], \"status\": \"sold\"}, {\"id\": 7045885801990258342, \"category\": {\"id\": 0, \"name\": \"Conexa Original Category\"}, \"name\": \"Conexa Pet 7Flj\", \"photoUrls\": [\"string\"], \"tags\": [{\"id\": 0, \"name\": \"string\"}], \"status\": \"sold\"}, {\"id\": 6841213458916480102, \"category\": {\"id\": 0, \"name\": \"Conexa Original Category\"}, \"name\": \"Conexa Pet fC7X\", \"photoUrls\": [\"string\"], \"tags\": [{\"id\": 0, \"name\": \"string\"}], \"status\": \"sold\"}, {\"id\": 1426170085200637586, \"category\": {\"id\": 0, \"name\": \"Conexa Original Category\"}, \"name\": \"Conexa Pet ocY2\", \"photoUrls\": [\"string\"], \"tags\": [{\"id\": 0, \"name\": \"string\"}], \"status\": \"sold\"}, {\"id\": 7138836356783994795, \"category\": {\"id\": 0, \"name\": \"Conexa Original Category\"}, \"name\": \"Conexa Pet Lzss\", \"photoUrls\": [\"string\"], \"tags\": [{\"id\": 0, \"name\": \"string\"}], \"status\": \"sold\"}, {\"id\": 1601528553671978190, \"category\": {\"id\": 0, \"name\": \"Conexa Original Category\"}, \"name\": \"Conexa Pet aKoB\", \"photoUrls\": [\"string\"], \"tags\": [{\"id\": 0, \"name\": \"string\"}], \"status\": \"sold\"}, {\"id\": 7834480725235702736, \"category\": {\"id\": 0, \"name\": \"Conexa Original Category\"}, \"name\": \"Conexa Pet kKQP\", \"photoUrls\": [\"string\"], \"tags\": [{\"id\": 0, \"name\": \"string\"}], \"status\": \"sold\"}, {\"id\": 961228392431633656, \"category\": {\"id\": 0, \"name\": \"Conexa Original Category\"}, \"name\": \"Conexa Pet 2Vk3\", \"photoUrls\": [\"string\"], \"tags\": [{\"id\": 0, \"name\": \"string\"}], \"status\": \"sold\"}, {\"id\": 5533451552206185067, \"category\": {\"id\": 0, \"name\": \"Conexa Original Category\"}, \"name\": \"Conexa Pet 6N3K\", \"photoUrls\": [\"string\"], \"tags\": [{\"id\": 0, \"name\": \"string\"}], \"status\": \"sold\"}, {\"id\": 7501650900110224154, \"category\": {\"id\": 0, \"name\": \"Conexa Original Category\"}, \"name\": \"Conexa Pet 34GM\", \"photoUrls\": [\"string\"], \"tags\": [{\"id\": 0, \"name\": \"string\"}], \"status\": \"sold\"}, {\"id\": 8008347754816068193, \"category\": {\"id\": 0, \"name\": \"Conexa Original Category\"}, \"name\": \"Conexa Pet x02l\", \"photoUrls\": [\"string\"], \"tags\": [{\"id\": 0, \"name\": \"string\"}], \"status\": \"sold\"}, {\"id\": 2283368494979282269, \"category\": {\"id\": 0, \"name\": \"Conexa Original Category\"}, \"name\": \"Conexa Pet S5bF\", \"photoUrls\": [\"string\"], \"tags\": [{\"id\": 0, \"name\": \"string\"}], \"status\": \"sold\"}, {\"id\": 8014132019413870918, \"category\": {\"id\": 0, \"name\": \"Conexa Original Category\"}, \"name\": \"Conexa Pet w409\", \"photoUrls\": [\"string\"], \"tags\": [{\"id\": 0, \"name\": \"string\"}], \"status\": \"sold\"}, {\"id\": 8135693208238759773, \"category\": {\"id\": 0, \"name\": \"Conexa Original Category\"}, \"name\": \"Conexa Pet 12vx\", \"photoUrls\": [\"string\"], \"tags\": [{\"id\": 0, \"name\": \"string\"}], \"status\": \"sold\"}, {\"id\": 4607457092574842718, \"category\": {\"id\": 0, \"name\": \"Conexa Original Category\"}, \"name\": \"Conexa Pet 5YH5\", \"photoUrls\": [\"string\"], \"tags\": [{\"id\": 0, \"name\": \"string\"}], \"status\": \"sold\"}, {\"id\": 4532568958537228070, \"category\": {\"id\": 0, \"name\": \"Conexa Original Category\"}, \"name\": \"Conexa Pet pHCI\", \"photoUrls\": [\"string\"], \"tags\": [{\"id\": 0, \"name\": \"string\"}], \"status\": \"sold\"}, {\"id\": 1310652076480464445, \"category\": {\"id\": 0, \"name\": \"Conexa Original Category\"}, \"name\": \"Conexa Pet jRz7\", \"photoUrls\": [\"string\"], \"tags\": [{\"id\": 0, \"name\": \"string\"}], \"status\": \"sold\"}, {\"id\": 3016978089437114745, \"category\": {\"id\": 0, \"name\": \"Conexa Original Category\"}, \"name\": \"Conexa Pet kDhr\", \"photoUrls\": [\"string\"], \"tags\": [{\"id\": 0, \"name\": \"string\"}], \"status\": \"sold\"}, {\"id\": 255525, \"category\": {\"id\": 1, \"name\": \"Dogs\"}, \"name\": \"Reksio-Zaktualizowany\", \"photoUrls\": [\"http://example.com/photo1.jpg\"], \"tags\": [{\"id\": 1, \"name\": \"domestic\"}], \"status\": \"sold\"}, {\"id\": 2262404473388537061, \"category\": {\"id\": 0, \"name\": \"Conexa Original Category\"}, \"name\": \"Conexa Pet l0Un\", \"photoUrls\": [\"string\"], \"tags\": [{\"id\": 0, \"name\": \"string\"}], \"status\": \"sold\"}, {\"id\": 3394079615558817082, \"category\": {\"id\": 0, \"name\": \"Conexa Original Category\"}, \"name\": \"Conexa Pet 24L0\", \"photoUrls\": [\"string\"], \"tags\": [{\"id\": 0, \"name\": \"string\"}], \"status\": \"sold\"}, {\"id\": 5765428445179709521, \"category\": {\"id\": 0, \"name\": \"Conexa Original Category\"}, \"name\": \"Conexa Pet 7ZhN\", \"photoUrls\": [\"string\"], \"tags\": [{\"id\": 0, \"name\": \"string\"}], \"status\": \"sold\"}, {\"id\": 2643742230495565005, \"category\": {\"id\": 0, \"name\": \"Conexa Original Category\"}, \"name\": \"Conexa Pet Ce2j\", \"photoUrls\": [\"string\"], \"tags\": [{\"id\": 0, \"name\": \"string\"}], \"status\": \"sold\"}, {\"id\": 6709986355490253976, \"category\": {\"id\": 0, \"name\": \"Conexa Original Category\"}, \"name\": \"Conexa Pet ecWL\", \"photoUrls\": [\"string\"], \"tags\": [{\"id\": 0, \"name\": \"string\"}], \"status\": \"sold\"}, {\"id\": 7054231385170363347, \"category\": {\"id\": 0, \"name\": \"Conexa Original Category\"}, \"name\": \"Conexa Pet t1AW\", \"photoUrls\": [\"string\"], \"tags\": [{\"id\": 0, \"name\": \"string\"}], \"status\": \"sold\"}, {\"id\": 6420586365838941168, \"category\": {\"id\": 0, \"name\": \"Conexa Original Category\"}, \"name\": \"Conexa Pet qin1\", \"photoUrls\": [\"string\"], \"tags\": [{\"id\": 0, \"name\": \"string\"}], \"status\": \"sold\"}, {\"id\": 5561717907816441891, \"category\": {\"id\": 0, \"name\": \"Conexa Original Category\"}, \"name\": \"Conexa Pet zfSk\", \"photoUrls\": [\"string\"], \"tags\": [{\"id\": 0, \"name\": \"string\"}], \"status\": \"sold\"}, {\"id\": 2577073052697770435, \"category\": {\"id\": 0, \"name\": \"Conexa Original Category\"}, \"name\": \"Conexa Pet TXKm\", \"photoUrls\": [\"string\"], \"tags\": [{\"id\": 0, \"name\": \"string\"}], \"status\": \"sold\"}, {\"id\": 6851945797792427063, \"category\": {\"id\": 0, \"name\": \"Conexa Original Category\"}, \"name\": \"Conexa Pet YhAB\", \"photoUrls\": [\"string\"], \"tags\": [{\"id\": 0, \"name\": \"string\"}], \"status\": \"sold\"}, {\"id\": 3644083739282833532, \"category\": {\"id\": 0, \"name\": \"Conexa Original Category\"}, \"name\": \"Conexa Pet kkRj\", \"photoUrls\": [\"string\"], \"tags\": [{\"id\": 0, \"name\": \"string\"}], \"status\": \"sold\"}, {\"id\": 4152939657420618981, \"category\": {\"id\": 0, \"name\": \"Conexa Original Category\"}, \"name\": \"Conexa Pet 3xNm\", \"photoUrls\": [\"string\"], \"tags\": [{\"id\": 0, \"name\": \"string\"}], \"status\": \"sold\"}, {\"id\": 7993053773085062707, \"category\": {\"id\": 0, \"name\": \"Conexa Original Category\"}, \"name\": \"Conexa Pet C1lL\", \"photoUrls\": [\"string\"], \"tags\": [{\"id\": 0, \"name\": \"string\"}], \"status\": \"sold\"}, {\"id\": 5389365662936587155, \"category\": {\"id\": 0, \"name\": \"Conexa Original Category\"}, \"name\": \"Conexa Pet of2o\", \"photoUrls\": [\"string\"], \"tags\": [{\"id\": 0, \"name\": \"string\"}], \"status\": \"sold\"}, {\"id\": 6593609066707358839, \"category\": {\"id\": 0, \"name\": \"Conexa Original Category\"}, \"name\": \"Conexa Pet Pcy0\", \"photoUrls\": [\"string\"], \"tags\": [{\"id\": 0, \"name\": \"string\"}], \"status\": \"sold\"}, {\"id\": 283885336636438007, \"category\": {\"id\": 0, \"name\": \"Conexa Original Category\"}, \"name\": \"Conexa Pet 4ola\", \"photoUrls\": [\"string\"], \"tags\": [{\"id\": 0, \"name\": \"string\"}], \"status\": \"sold\"}, {\"id\": 6299546495789159821, \"category\": {\"id\": 0, \"name\": \"Conexa Original Category\"}, \"name\": \"Conexa Pet qtnJ\", \"photoUrls\": [\"string\"], \"tags\": [{\"id\": 0, \"name\": \"string\"}], \"status\": \"sold\"}, {\"id\": 7006727311548556383, \"category\": {\"id\": 0, \"name\": \"Conexa Original Category\"}, \"name\": \"Conexa Pet pFbW\", \"photoUrls\": [\"string\"], \"tags\": [{\"id\": 0, \"name\": \"string\"}], \"status\": \"sold\"}, {\"id\": 7696986882273595928, \"category\": {\"id\": 0, \"name\": \"Conexa Original Category\"}, \"name\": \"Conexa Pet IeAX\", \"photoUrls\": [\"string\"], \"tags\": [{\"id\": 0, \"name\": \"string\"}], \"status\": \"sold\"}, {\"id\": 9043286665396862771, \"category\": {\"id\": 0, \"name\": \"Conexa Original Category\"}, \"name\": \"Conexa Pet UgPi\", \"photoUrls\": [\"string\"], \"tags\": [{\"id\": 0, \"name\": \"string\"}], \"status\": \"sold\"}, {\"id\": 2577710732408690809, \"category\": {\"id\": 0, \"name\": \"Conexa Original Category\"}, \"name\": \"Conexa Pet RaXV\", \"photoUrls\": [\"string\"], \"tags\": [{\"id\": 0, \"name\": \"string\"}], \"status\": \"sold\"}, {\"id\": 3662632156984069894, \"category\": {\"id\": 0, \"name\": \"Conexa Original Category\"}, \"name\": \"Conexa Pet aWkx\", \"photoUrls\": [\"string\"], \"tags\": [{\"id\": 0, \"name\": \"string\"}], \"status\": \"sold\"}, {\"id\": 6865, \"category\": {\"id\": 9618, \"name\": \"iQtg7YdN1D\"}, \"name\": \"P5GJBpyX1F\", \"photoUrls\": [\"7tPQ1jM48I\", \"sJL458RC38\", \"QdufwBaep9\"], \"tags\": [{\"id\": 5171, \"name\": \"CF0VMsPyJU\"}, {\"id\": 388, \"name\": \"6mSePwbMF9\"}, {\"id\": 2925, \"name\": \"wc4oI2vyOH\"}, {\"id\": 5814, \"name\": \"srKKGXdNDY\"}, {\"id\": 5078, \"name\": \"7rkpKv2gGq\"}], \"status\": \"sold\"}, {\"id\": 1, \"category\": {\"id\": 1, \"name\": \"cat\"}, \"name\": \"dog\", \"photoUrls\": [], \"tags\": [], \"status\": \"sold\"}]', 'tool_call_id': 'e58f775b5'}], 'tools': [{'type': 'function', 'function': {'name': 'get_pet_findByStatus', 'description': 'Multiple status values can be provided with comma separated strings', 'parameters': {'type': 'object', 'properties': {'status': {'type': 'array', 'description': 'Status values that need to be considered for filter', 'items': {'type': 'string', 'description': '', 'enum': ['available', 'pending', 'sold']}}}, 'required': ['status']}}}, {'type': 'function', 'function': {'name': 'get_entities', 'parameters': {'properties': {'keys': {'description': 'one or more names to use to lookup the entity or entities', 'type': 'string'}}, 'required': ['keys'], 'type': 'object'}, 'description': 'Lookup entity by one or more keys. For example if you encounter entity names or keys in question, data etc you can use\\nthe entity search to learn more about them'}}, {'type': 'function', 'function': {'name': 'search', 'parameters': {'properties': {'questions': {'description': 'ask one or more questions to search the data store', 'items': {'type': 'string'}, 'type': 'array'}}, 'required': ['questions'], 'type': 'object'}, 'description': 'Run a general search on the model that is being used in the current context as per the system prompt\\nIf you want to add multiple questions supply a list of strings as an array.'}}, {'type': 'function', 'function': {'name': 'activate_functions_by_name', 'parameters': {'properties': {'function_names': {'items': {'type': 'string'}, 'type': 'array'}}, 'required': ['function_names'], 'type': 'object'}, 'description': 'Provide a list of function names to load.\\nThe names should be fully qualified object_id.function_name'}}], 'temperature': 0.01}\u001b[0m\n"
     ]
    },
    {
     "name": "stderr",
     "output_type": "stream",
     "text": [
      "\u001b[32m2025-01-28 08:47:31.160\u001b[0m | \u001b[33m\u001b[1mWARNING \u001b[0m | \u001b[36mpercolate.services.llm.LanguageModel\u001b[0m:\u001b[36mcall_api_simple\u001b[0m:\u001b[36m291\u001b[0m - \u001b[33m\u001b[1mfailed to submit: response.status_code=400  b'{\"message\":\"Please reduce the length of the messages or completion. Current length is 10361 while limit is 8192\",\"type\":\"invalid_request_error\",\"param\":\"messages\",\"code\":\"context_length_exceeded\"}'\u001b[0m\n",
      "\u001b[32m2025-01-28 08:47:31.162\u001b[0m | \u001b[33m\u001b[1mWARNING \u001b[0m | \u001b[36mpercolate.services.llm.LanguageModel\u001b[0m:\u001b[36mparse\u001b[0m:\u001b[36m62\u001b[0m - \u001b[33m\u001b[1munexpected structure in OpenAI scheme message response={'message': 'Please reduce the length of the messages or completion. Current length is 10361 while limit is 8192', 'type': 'invalid_request_error', 'param': 'messages', 'code': 'context_length_exceeded'} - caused the error 'choices'\u001b[0m\n",
      "\u001b[32m2025-01-28 08:47:31.165\u001b[0m | \u001b[33m\u001b[1mWARNING \u001b[0m | \u001b[36mpercolate.services.llm.LanguageModel\u001b[0m:\u001b[36mparse\u001b[0m:\u001b[36m151\u001b[0m - \u001b[33m\u001b[1mfailing to parse response={'message': 'Please reduce the length of the messages or completion. Current length is 10361 while limit is 8192', 'type': 'invalid_request_error', 'param': 'messages', 'code': 'context_length_exceeded'} Traceback (most recent call last):\n",
      "  File \"/Users/sirsh/code/mr_saoirse/percolate/clients/python/percolate/percolate/services/llm/LanguageModel.py\", line 149, in parse\n",
      "    return OpenAIResponseScheme.parse(response,sid=sid, model_name=self.model_name)\n",
      "  File \"/Users/sirsh/code/mr_saoirse/percolate/clients/python/percolate/percolate/services/llm/LanguageModel.py\", line 42, in parse\n",
      "    choice = response['choices'][0]\n",
      "KeyError: 'choices'\n",
      "\u001b[0m\n"
     ]
    },
    {
     "ename": "AttributeError",
     "evalue": "'NoneType' object has no attribute 'status'",
     "output_type": "error",
     "traceback": [
      "\u001b[0;31m---------------------------------------------------------------------------\u001b[0m",
      "\u001b[0;31mAttributeError\u001b[0m                            Traceback (most recent call last)",
      "Cell \u001b[0;32mIn[4], line 7\u001b[0m\n\u001b[1;32m      1\u001b[0m agent \u001b[38;5;241m=\u001b[39m p8\u001b[38;5;241m.\u001b[39mAgent(MyFirstAgent,allow_help\u001b[38;5;241m=\u001b[39m\u001b[38;5;28;01mFalse\u001b[39;00m)\n\u001b[1;32m      2\u001b[0m \u001b[38;5;66;03m#agent.run(\"list two sold pets\",language_model='grok-2-latest')\u001b[39;00m\n\u001b[1;32m      3\u001b[0m \u001b[38;5;66;03m#agent.run(\"list two sold pets\",language_model='deepseek-chat')\u001b[39;00m\n\u001b[1;32m      4\u001b[0m \u001b[38;5;66;03m#agent.run(\"list two sold pets\",language_model='groq-llama-3.3-70b-versatile')\u001b[39;00m\n\u001b[1;32m      5\u001b[0m \u001b[38;5;66;03m#agent.run(\"list two sold pets\",language_model='gemini-1.5-flash')\u001b[39;00m\n\u001b[1;32m      6\u001b[0m \u001b[38;5;66;03m#agent.run(\"list two sold pets\",language_model='claude-3-5-sonnet-20241022')\u001b[39;00m\n\u001b[0;32m----> 7\u001b[0m \u001b[43magent\u001b[49m\u001b[38;5;241;43m.\u001b[39;49m\u001b[43mrun\u001b[49m\u001b[43m(\u001b[49m\u001b[38;5;124;43m\"\u001b[39;49m\u001b[38;5;124;43mlist two sold pets\u001b[39;49m\u001b[38;5;124;43m\"\u001b[39;49m\u001b[43m,\u001b[49m\u001b[43mlanguage_model\u001b[49m\u001b[38;5;241;43m=\u001b[39;49m\u001b[38;5;124;43m'\u001b[39;49m\u001b[38;5;124;43mcerebras-llama3.1-8b\u001b[39;49m\u001b[38;5;124;43m'\u001b[39;49m\u001b[43m)\u001b[49m\n",
      "File \u001b[0;32m~/code/mr_saoirse/percolate/clients/python/percolate/percolate/services/ModelRunner.py:196\u001b[0m, in \u001b[0;36mModelRunner.run\u001b[0;34m(self, question, context, limit, data, language_model)\u001b[0m\n\u001b[1;32m    194\u001b[0m response \u001b[38;5;241m=\u001b[39m \u001b[38;5;28;01mNone\u001b[39;00m\n\u001b[1;32m    195\u001b[0m \u001b[38;5;250m\u001b[39m\u001b[38;5;124;03m\"\"\"the language model may stream into a callback in the calling context\"\"\"\u001b[39;00m\n\u001b[0;32m--> 196\u001b[0m response \u001b[38;5;241m=\u001b[39m \u001b[43mlm_client\u001b[49m\u001b[43m(\u001b[49m\n\u001b[1;32m    197\u001b[0m \u001b[43m    \u001b[49m\u001b[43mmessages\u001b[49m\u001b[38;5;241;43m=\u001b[39;49m\u001b[38;5;28;43mself\u001b[39;49m\u001b[38;5;241;43m.\u001b[39;49m\u001b[43mmessages\u001b[49m\u001b[43m,\u001b[49m\n\u001b[1;32m    198\u001b[0m \u001b[43m    \u001b[49m\u001b[43mcontext\u001b[49m\u001b[38;5;241;43m=\u001b[39;49m\u001b[38;5;28;43mself\u001b[39;49m\u001b[38;5;241;43m.\u001b[39;49m\u001b[43m_context\u001b[49m\u001b[43m,\u001b[49m\n\u001b[1;32m    199\u001b[0m \u001b[43m    \u001b[49m\u001b[43mfunctions\u001b[49m\u001b[38;5;241;43m=\u001b[39;49m\u001b[38;5;28;43mself\u001b[39;49m\u001b[38;5;241;43m.\u001b[39;49m\u001b[43mfunction_descriptions\u001b[49m\u001b[43m,\u001b[49m\n\u001b[1;32m    200\u001b[0m \u001b[43m\u001b[49m\u001b[43m)\u001b[49m\n\u001b[1;32m    201\u001b[0m \u001b[38;5;28;01mif\u001b[39;00m function_calls \u001b[38;5;241m:=\u001b[39m response\u001b[38;5;241m.\u001b[39mtool_calls:\n\u001b[1;32m    202\u001b[0m \u001b[38;5;250m    \u001b[39m\u001b[38;5;124;03m\"\"\"models need us to add the tool call to the stack - this is not the case for openai function call but for consistency over models we must\"\"\"\u001b[39;00m\n",
      "File \u001b[0;32m~/code/mr_saoirse/percolate/clients/python/percolate/percolate/services/llm/LanguageModel.py:158\u001b[0m, in \u001b[0;36mLanguageModel.__call__\u001b[0;34m(self, messages, functions, context)\u001b[0m\n\u001b[1;32m    156\u001b[0m \u001b[38;5;250m\u001b[39m\u001b[38;5;124;03m\"\"\"for consistency with DB we should audit here and also format the message the same with tool calls etc.\"\"\"\u001b[39;00m\n\u001b[1;32m    157\u001b[0m response \u001b[38;5;241m=\u001b[39m \u001b[38;5;28mself\u001b[39m\u001b[38;5;241m.\u001b[39mparse(response,context\u001b[38;5;241m=\u001b[39mcontext)\n\u001b[0;32m--> 158\u001b[0m logger\u001b[38;5;241m.\u001b[39mdebug(\u001b[38;5;124mf\u001b[39m\u001b[38;5;124m\"\u001b[39m\u001b[38;5;124mResponse of type \u001b[39m\u001b[38;5;132;01m{\u001b[39;00m\u001b[43mresponse\u001b[49m\u001b[38;5;241;43m.\u001b[39;49m\u001b[43mstatus\u001b[49m\u001b[38;5;132;01m}\u001b[39;00m\u001b[38;5;124m with token consumption \u001b[39m\u001b[38;5;132;01m{\u001b[39;00mresponse\u001b[38;5;241m.\u001b[39mtokens\u001b[38;5;132;01m}\u001b[39;00m\u001b[38;5;124m\"\u001b[39m)\n\u001b[1;32m    159\u001b[0m \u001b[38;5;66;03m#self.db.repository(AIResponse).update_records(response)\u001b[39;00m\n\u001b[1;32m    160\u001b[0m \u001b[38;5;28;01mreturn\u001b[39;00m response\n",
      "\u001b[0;31mAttributeError\u001b[0m: 'NoneType' object has no attribute 'status'"
     ]
    }
   ],
   "source": [
    "agent = p8.Agent(MyFirstAgent,allow_help=False)\n",
    "#agent.run(\"list two sold pets\",language_model='grok-2-latest')\n",
    "#agent.run(\"list two sold pets\",language_model='deepseek-chat')\n",
    "#agent.run(\"list two sold pets\",language_model='groq-llama-3.3-70b-versatile')\n",
    "#agent.run(\"list two sold pets\",language_model='gemini-1.5-flash')\n",
    "#agent.run(\"list two sold pets\",language_model='claude-3-5-sonnet-20241022')\n",
    "agent.run(\"list two sold pets\",language_model='cerebras-llama3.1-8b')"
   ]
  },
  {
   "cell_type": "code",
   "execution_count": 3,
   "id": "fae47301",
   "metadata": {},
   "outputs": [
    {
     "data": {
      "text/plain": [
       "{'model': 'deepseek-chat',\n",
       " 'messages': [{'role': 'system',\n",
       "   'content': 'You are an agent that provides the information you are asked and a second random fact\\n# General Advice.\\nUse whatever functions are available to you and use world knowledge only if prompted \\nor if there is not other way \\nor the user is obviously asking about real world information that is not covered by functions.\\nObserve what functions you have to use and check the message history to avoid calling the same functions with the same parameters repeatedly.\\nIf you find a function name in your search, you can activate it by naming using one of your functions. You should do so without asking the user.\\n            '},\n",
       "  {'role': 'user', 'content': 'list two sold pets'}],\n",
       " 'tools': [{'type': 'function',\n",
       "   'function': {'name': 'get_pet_findByStatus',\n",
       "    'description': 'Multiple status values can be provided with comma separated strings',\n",
       "    'parameters': {'type': 'object',\n",
       "     'properties': {'status': {'type': 'array',\n",
       "       'description': 'Status values that need to be considered for filter',\n",
       "       'items': {'type': 'string',\n",
       "        'description': '',\n",
       "        'enum': ['available', 'pending', 'sold']}}},\n",
       "     'required': ['status']}}},\n",
       "  {'type': 'function',\n",
       "   'function': {'name': 'get_entities',\n",
       "    'parameters': {'properties': {'keys': {'description': 'one or more names to use to lookup the entity or entities',\n",
       "       'type': 'string'}},\n",
       "     'required': ['keys'],\n",
       "     'type': 'object'},\n",
       "    'description': 'Lookup entity by one or more keys. For example if you encounter entity names or keys in question, data etc you can use\\nthe entity search to learn more about them'}},\n",
       "  {'type': 'function',\n",
       "   'function': {'name': 'search',\n",
       "    'parameters': {'properties': {'questions': {'description': 'ask one or more questions to search the data store',\n",
       "       'items': {'type': 'string'},\n",
       "       'type': 'array'}},\n",
       "     'required': ['questions'],\n",
       "     'type': 'object'},\n",
       "    'description': 'Run a general search on the model that is being used in the current context as per the system prompt\\nIf you want to add multiple questions supply a list of strings as an array.'}},\n",
       "  {'type': 'function',\n",
       "   'function': {'name': 'activate_functions_by_name',\n",
       "    'parameters': {'properties': {'function_names': {'items': {'type': 'string'},\n",
       "       'type': 'array'}},\n",
       "     'required': ['function_names'],\n",
       "     'type': 'object'},\n",
       "    'description': 'Provide a list of function names to load.\\nThe names should be fully qualified object_id.function_name'}}],\n",
       " 'temperature': 0.01}"
      ]
     },
     "execution_count": 3,
     "metadata": {},
     "output_type": "execute_result"
    }
   ],
   "source": [
    "{'model': 'deepseek-chat', 'messages': [{'role': 'system', 'content': 'You are an agent that provides the information you are asked and a second random fact\\n# General Advice.\\nUse whatever functions are available to you and use world knowledge only if prompted \\nor if there is not other way \\nor the user is obviously asking about real world information that is not covered by functions.\\nObserve what functions you have to use and check the message history to avoid calling the same functions with the same parameters repeatedly.\\nIf you find a function name in your search, you can activate it by naming using one of your functions. You should do so without asking the user.\\n            '}, {'role': 'user', 'content': 'list two sold pets'}], 'tools': [{'type': 'function', 'function': {'name': 'get_pet_findByStatus', 'description': 'Multiple status values can be provided with comma separated strings', 'parameters': {'type': 'object', 'properties': {'status': {'type': 'array', 'description': 'Status values that need to be considered for filter', 'items': {'type': 'string', 'description': '', 'enum': ['available', 'pending', 'sold']}}}, 'required': ['status']}}}, {'type': 'function', 'function': {'name': 'get_entities', 'parameters': {'properties': {'keys': {'description': 'one or more names to use to lookup the entity or entities', 'type': 'string'}}, 'required': ['keys'], 'type': 'object'}, 'description': 'Lookup entity by one or more keys. For example if you encounter entity names or keys in question, data etc you can use\\nthe entity search to learn more about them'}}, {'type': 'function', 'function': {'name': 'search', 'parameters': {'properties': {'questions': {'description': 'ask one or more questions to search the data store', 'items': {'type': 'string'}, 'type': 'array'}}, 'required': ['questions'], 'type': 'object'}, 'description': 'Run a general search on the model that is being used in the current context as per the system prompt\\nIf you want to add multiple questions supply a list of strings as an array.'}}, {'type': 'function', 'function': {'name': 'activate_functions_by_name', 'parameters': {'properties': {'function_names': {'items': {'type': 'string'}, 'type': 'array'}}, 'required': ['function_names'], 'type': 'object'}, 'description': 'Provide a list of function names to load.\\nThe names should be fully qualified object_id.function_name'}}], 'temperature': 0.01}"
   ]
  },
  {
   "cell_type": "code",
   "execution_count": 25,
   "id": "f6ecbe21",
   "metadata": {},
   "outputs": [
    {
     "data": {
      "text/plain": [
       "{'contents': [{'role': 'user', 'parts': {'text': 'list two sold pets'}},\n",
       "  {'parts': [{'functionCall': {'name': 'get_pet_findByStatus',\n",
       "      'args': {'status': ['sold']}}}],\n",
       "   'role': 'model'},\n",
       "  {'role': 'user',\n",
       "   'parts': [{'functionResponse': {'name': 'get_pet_findByStatus',\n",
       "      'response': {'name': 'get_pet_findByStatus',\n",
       "       'content': [{'id': 7574746,\n",
       "         'name': 'Hardy',\n",
       "         'photoUrls': ['https://i.pinimg.com/originals/5c/2c/44/5c2c44f16da1caf134c00bc4f9c72ea0.jpg'],\n",
       "         'tags': [],\n",
       "         'status': 'sold'},\n",
       "        {'id': 13,\n",
       "         'category': {'id': 0, 'name': 'cats'},\n",
       "         'photoUrls': ['string'],\n",
       "         'tags': [{'id': 0, 'name': 'string'}],\n",
       "         'status': 'sold'},\n",
       "        {'id': 319,\n",
       "         'category': {'id': 599, 'name': 'UWvlC6mSeP'},\n",
       "         'name': '9Yvwc4oI2v',\n",
       "         'photoUrls': ['tpGoWHBlVQ',\n",
       "          'yeGcvQrgCk',\n",
       "          'qr1T285XmO',\n",
       "          'RgDxV4E6ee',\n",
       "          'QiuprryEoJ'],\n",
       "         'tags': [{'id': 9134, 'name': 'R5GDJbOzCD'},\n",
       "          {'id': 7733, 'name': 'DvT5LemiI4'},\n",
       "          {'id': 822, 'name': 'nIjhVxRWky'},\n",
       "          {'id': 7878, 'name': 'LCF0VMsPyJ'}],\n",
       "         'status': 'sold'},\n",
       "        {'id': 777666,\n",
       "         'category': {'id': 1, 'name': 'Котик'},\n",
       "         'name': 'Барсик',\n",
       "         'photoUrls': ['https://ref_to_img.png'],\n",
       "         'tags': [{'id': 1, 'name': 'Тэг 1'}],\n",
       "         'status': 'sold'},\n",
       "        {'id': 5615,\n",
       "         'category': {'id': 9134, 'name': 'R5GDJbOzCD'},\n",
       "         'name': 'RQ6gKb5alV',\n",
       "         'photoUrls': ['kDz8i5r5L6', '7Z0O9qtpGo', 'WHBlVQyeGc'],\n",
       "         'tags': [{'id': 7257, 'name': 'rgCkqr1T28'},\n",
       "          {'id': 7044, 'name': 'RgDxV4E6ee'},\n",
       "          {'id': 2274, 'name': 'uprryEoJvk'}],\n",
       "         'status': 'sold'},\n",
       "        {'id': 8153,\n",
       "         'category': {'id': 5416, 'name': 'vUJZkcGjev'},\n",
       "         'name': 'Q1jM48IsJL',\n",
       "         'photoUrls': ['58RC38Qduf', 'wBaep9TEDg'],\n",
       "         'tags': [{'id': 1291, 'name': 'kgRX0bHKXc'},\n",
       "          {'id': 6493, 'name': 'PDDqT1qVrN'},\n",
       "          {'id': 6334, 'name': 'I8qaIhlzo5'},\n",
       "          {'id': 2360, 'name': 'H1Dr5pWtB6'},\n",
       "          {'id': 661, 'name': 'JQ7pZ1Vqj9'}],\n",
       "         'status': 'sold'},\n",
       "        {'id': 485,\n",
       "         'category': {'id': 4190, 'name': 'I2vyOHsrKK'},\n",
       "         'name': 'dNDYRs7rkp',\n",
       "         'photoUrls': ['v2gGq5MiQt'],\n",
       "         'tags': [{'id': 6990, 'name': 'PyJUWvlC6m'},\n",
       "          {'id': 1036, 'name': 'PwbMF9Yvwc'}],\n",
       "         'status': 'sold'},\n",
       "        {'id': 188530,\n",
       "         'category': {'id': 90274, 'name': 'tbhBBPKt'},\n",
       "         'name': 'doggie',\n",
       "         'photoUrls': ['SvoqWh'],\n",
       "         'tags': [{'id': 428371, 'name': 'RUYsQwyG'}],\n",
       "         'status': 'sold'},\n",
       "        {'id': 9815,\n",
       "         'category': {'id': 4869, 'name': 'WTohOTTkE'},\n",
       "         'name': 'ivyFEhMAoVvGDPZfIwB',\n",
       "         'photoUrls': ['yGuF'],\n",
       "         'tags': [{'id': 5167, 'name': 'aVdpnmvXzUndaHJI'}],\n",
       "         'status': 'sold'},\n",
       "        {'id': 989,\n",
       "         'category': {'id': 6675, 'name': 'N1DnMMDP5G'},\n",
       "         'name': 'pyX1Fz7tPQ',\n",
       "         'photoUrls': ['jM48IsJL45', '8RC38Qdufw', 'Baep9TEDgr'],\n",
       "         'tags': [{'id': 4878, 'name': 'gRX0bHKXcS'},\n",
       "          {'id': 947, 'name': 'DDqT1qVrN4'},\n",
       "          {'id': 4590, 'name': '8qaIhlzo5Q'},\n",
       "          {'id': 759, 'name': '1Dr5pWtB6t'}],\n",
       "         'status': 'sold'},\n",
       "        {'id': 173218104,\n",
       "         'category': {'id': 4, 'name': 'bird'},\n",
       "         'name': 'Garibaldo',\n",
       "         'photoUrls': [],\n",
       "         'tags': [{'id': 3, 'name': 'raro'}],\n",
       "         'status': 'sold'},\n",
       "        {'id': 969732200,\n",
       "         'name': 'X',\n",
       "         'photoUrls': ['iopDYenrs'],\n",
       "         'tags': [],\n",
       "         'status': 'sold'},\n",
       "        {'id': 9537,\n",
       "         'name': 'Fluffy625',\n",
       "         'photoUrls': [],\n",
       "         'tags': [],\n",
       "         'status': 'sold'},\n",
       "        {'id': 4438,\n",
       "         'name': 'Fluffy833',\n",
       "         'photoUrls': [],\n",
       "         'tags': [],\n",
       "         'status': 'sold'},\n",
       "        {'id': 722337203685477354,\n",
       "         'name': 'Chappi dog 66',\n",
       "         'photoUrls': ['./dog.png'],\n",
       "         'tags': [],\n",
       "         'status': 'sold'},\n",
       "        {'id': 12,\n",
       "         'category': {'id': 0, 'name': 'dogs'},\n",
       "         'photoUrls': ['string'],\n",
       "         'tags': [{'id': 0, 'name': 'string'}],\n",
       "         'status': 'sold'},\n",
       "        {'id': 1535001,\n",
       "         'category': {'id': 1, 'name': 'cat'},\n",
       "         'name': 'Nero',\n",
       "         'photoUrls': [],\n",
       "         'tags': [{'id': 1, 'name': 'vaccined'}],\n",
       "         'status': 'sold'},\n",
       "        {'id': 1535004,\n",
       "         'category': {'id': 4, 'name': 'bird'},\n",
       "         'name': 'Loro',\n",
       "         'photoUrls': [],\n",
       "         'tags': [{'id': 3, 'name': 'raro'}],\n",
       "         'status': 'sold'},\n",
       "        {'id': 368991102,\n",
       "         'category': {'id': 1, 'name': 'dog'},\n",
       "         'name': 'Snoopy',\n",
       "         'photoUrls': [],\n",
       "         'tags': [{'id': 9, 'name': 'vaccined'}],\n",
       "         'status': 'sold'},\n",
       "        {'id': 368991105,\n",
       "         'category': {'id': 4, 'name': 'bird'},\n",
       "         'name': 'Garibaldo',\n",
       "         'photoUrls': [],\n",
       "         'tags': [{'id': 3, 'name': 'raro'}],\n",
       "         'status': 'sold'},\n",
       "        {'id': 919133,\n",
       "         'category': {'id': 3, 'name': 'bird'},\n",
       "         'name': 'Garibaldo',\n",
       "         'photoUrls': [],\n",
       "         'tags': [{'id': 3, 'name': 'raro'}],\n",
       "         'status': 'sold'},\n",
       "        {'id': 8867,\n",
       "         'category': {'id': 379, 'name': 'KEACBBUq6u'},\n",
       "         'name': 'BIHeP0S5zu',\n",
       "         'photoUrls': ['gHL2jflutf', 'RQ6gKb5alV'],\n",
       "         'tags': [{'id': 2676, 'name': '44cJHhL9oK'},\n",
       "          {'id': 3026, 'name': 'fwMr5mw4mQ'},\n",
       "          {'id': 5464, 'name': '30oLYMKEfI'},\n",
       "          {'id': 3533, 'name': '44cTrvLYEm'},\n",
       "          {'id': 4096, 'name': '5ytTTYQlmR'}],\n",
       "         'status': 'sold'},\n",
       "        {'id': 8623,\n",
       "         'category': {'id': 4161, 'name': 'vT5LemiI43'},\n",
       "         'name': 'z8i5r5L67Z',\n",
       "         'photoUrls': ['O9qtpGoWHB', 'lVQyeGcvQr', 'gCkqr1T285'],\n",
       "         'tags': [{'id': 9139, 'name': 'gDxV4E6eeQ'},\n",
       "          {'id': 280, 'name': 'prryEoJvkq'},\n",
       "          {'id': 6039, 'name': '5GDJbOzCD8'}],\n",
       "         'status': 'sold'},\n",
       "        {'id': 1129,\n",
       "         'category': {'id': 3059, 'name': 'alVWkDz8i5'},\n",
       "         'name': 'L67Z0O9qtp',\n",
       "         'photoUrls': ['oWHBlVQyeG', 'cvQrgCkqr1', 'T285XmORgD', 'xV4E6eeQiu'],\n",
       "         'tags': [{'id': 7314, 'name': 'EoJvkqAR5G'},\n",
       "          {'id': 5965, 'name': 'bOzCD8ZDvT'},\n",
       "          {'id': 4671, 'name': '5LemiI43sn'}],\n",
       "         'status': 'sold'},\n",
       "        {'id': 228,\n",
       "         'category': {'id': 228, 'name': 'cats'},\n",
       "         'name': 'stepaa',\n",
       "         'photoUrls': ['string'],\n",
       "         'tags': [{'id': 228, 'name': 'krutoy'}],\n",
       "         'status': 'sold'},\n",
       "        {'id': 6310,\n",
       "         'category': {'id': 1441, 'name': 'kfvEllpbc3'},\n",
       "         'name': 'w5hC0r1t7y',\n",
       "         'photoUrls': ['r7rLsugaq3', 'oqnxK5oj3r'],\n",
       "         'tags': [{'id': 8507, 'name': 'Xag5wFEqMU'},\n",
       "          {'id': 2689, 'name': 'blByL5lmYb'}],\n",
       "         'status': 'sold'},\n",
       "        {'id': 7708,\n",
       "         'category': {'id': 1244, 'name': 'Kb5alVWkDz'},\n",
       "         'name': 'mQvi8a30oL',\n",
       "         'photoUrls': ['MKEfIGj44c', 'TrvLYEmlo5', 'ytTTYQlmRP', 'TKEACBBUq6'],\n",
       "         'tags': [{'id': 1529, 'name': 'IHeP0S5zuB'},\n",
       "          {'id': 4890, 'name': 'gHL2jflutf'}],\n",
       "         'status': 'sold'},\n",
       "        {'id': 6526,\n",
       "         'category': {'id': 2990, 'name': '285XmORgDx'},\n",
       "         'name': 'eeQiuprryE',\n",
       "         'photoUrls': ['r5L67Z0O9q', 'tpGoWHBlVQ'],\n",
       "         'tags': [{'id': 68, 'name': 'vQrgCkqr1T'}],\n",
       "         'status': 'sold'},\n",
       "        {'id': 3145,\n",
       "         'category': {'id': 2645, 'name': 'pZ1Vqj9Buv'},\n",
       "         'name': 'ZkcGjevRL7',\n",
       "         'photoUrls': ['xceBZQ8Gpq',\n",
       "          '2P4rbjXZNi',\n",
       "          '6D89Ispjkm',\n",
       "          'RGocb0VZyT',\n",
       "          's0E3wbsqFC'],\n",
       "         'tags': [{'id': 8365, 'name': 'qT1qVrN4GI'},\n",
       "          {'id': 759, 'name': '8qaIhlzo5Q'},\n",
       "          {'id': 7123, 'name': 'r5pWtB6tHJ'}],\n",
       "         'status': 'sold'},\n",
       "        {'id': 9686,\n",
       "         'category': {'id': 818, 'name': 'YRAjC2UxDN'},\n",
       "         'name': 'RkMXvsHXQL',\n",
       "         'photoUrls': ['PpxXCBJfsD',\n",
       "          'LfhLtMZDiG',\n",
       "          'fPo1F6lJQs',\n",
       "          'jN9io0hqtW',\n",
       "          'nWakmPuGDt'],\n",
       "         'tags': [{'id': 2211, 'name': 'NLRx96nMt8'},\n",
       "          {'id': 9532, 'name': 'kxUZrQSQbV'},\n",
       "          {'id': 3107, 'name': 'WDLWPUPH0U'}],\n",
       "         'status': 'sold'},\n",
       "        {'id': 4620,\n",
       "         'category': {'id': 380, 'name': 'U1kJ5A4mmH'},\n",
       "         'name': 's1nuq3H3LN',\n",
       "         'photoUrls': ['ChtA647YVX'],\n",
       "         'tags': [{'id': 4384, 'name': 'aXKlFvtxn1'},\n",
       "          {'id': 7861, 'name': 'a73N446lGH'}],\n",
       "         'status': 'sold'},\n",
       "        {'id': 3957,\n",
       "         'category': {'id': 6900, 'name': 'CVGcZ6MuYH'},\n",
       "         'name': 'rcHLcEf99Z',\n",
       "         'photoUrls': ['L2qqnAdN8a', 'gHQcRIa0cq'],\n",
       "         'tags': [{'id': 8563, 'name': 'PrjvA5tRIl'},\n",
       "          {'id': 6451, 'name': 'Z33iEvDZFD'}],\n",
       "         'status': 'sold'},\n",
       "        {'id': 12438759330,\n",
       "         'category': {'id': 1, 'name': 'string'},\n",
       "         'name': 'Musya',\n",
       "         'photoUrls': [],\n",
       "         'tags': [{'id': 1, 'name': 'string'}],\n",
       "         'status': 'sold'},\n",
       "        {'id': 3385456567326529535,\n",
       "         'category': {'id': 0, 'name': 'Conexa Original Category'},\n",
       "         'name': 'Conexa Pet MzcO',\n",
       "         'photoUrls': ['string'],\n",
       "         'tags': [{'id': 0, 'name': 'string'}],\n",
       "         'status': 'sold'},\n",
       "        {'id': 6454593534137472936,\n",
       "         'category': {'id': 0, 'name': 'Conexa Original Category'},\n",
       "         'name': 'Conexa Pet tS8t',\n",
       "         'photoUrls': ['string'],\n",
       "         'tags': [{'id': 0, 'name': 'string'}],\n",
       "         'status': 'sold'},\n",
       "        {'id': 6557351922405633463,\n",
       "         'category': {'id': 0, 'name': 'Conexa Original Category'},\n",
       "         'name': 'Conexa Pet obG2',\n",
       "         'photoUrls': ['string'],\n",
       "         'tags': [{'id': 0, 'name': 'string'}],\n",
       "         'status': 'sold'},\n",
       "        {'id': 5644743866114257558,\n",
       "         'category': {'id': 0, 'name': 'Conexa Original Category'},\n",
       "         'name': 'Conexa Pet ppzY',\n",
       "         'photoUrls': ['string'],\n",
       "         'tags': [{'id': 0, 'name': 'string'}],\n",
       "         'status': 'sold'},\n",
       "        {'id': 4691847337223564293,\n",
       "         'category': {'id': 0, 'name': 'Conexa Original Category'},\n",
       "         'name': 'Conexa Pet Q3Ha',\n",
       "         'photoUrls': ['string'],\n",
       "         'tags': [{'id': 0, 'name': 'string'}],\n",
       "         'status': 'sold'},\n",
       "        {'id': 222777289281671581,\n",
       "         'category': {'id': 0, 'name': 'Conexa Original Category'},\n",
       "         'name': 'Conexa Pet tQnA',\n",
       "         'photoUrls': ['string'],\n",
       "         'tags': [{'id': 0, 'name': 'string'}],\n",
       "         'status': 'sold'},\n",
       "        {'id': 2633791803304961804,\n",
       "         'category': {'id': 0, 'name': 'Conexa Original Category'},\n",
       "         'name': 'Conexa Pet l9t2',\n",
       "         'photoUrls': ['string'],\n",
       "         'tags': [{'id': 0, 'name': 'string'}],\n",
       "         'status': 'sold'},\n",
       "        {'id': 3880638013423558963,\n",
       "         'category': {'id': 0, 'name': 'Conexa Original Category'},\n",
       "         'name': 'Conexa Pet E2pm',\n",
       "         'photoUrls': ['string'],\n",
       "         'tags': [{'id': 0, 'name': 'string'}],\n",
       "         'status': 'sold'},\n",
       "        {'id': 7315483631429072551,\n",
       "         'category': {'id': 0, 'name': 'Conexa Original Category'},\n",
       "         'name': 'Conexa Pet Mr5z',\n",
       "         'photoUrls': ['string'],\n",
       "         'tags': [{'id': 0, 'name': 'string'}],\n",
       "         'status': 'sold'},\n",
       "        {'id': 6379402911281105569,\n",
       "         'category': {'id': 0, 'name': 'Conexa Original Category'},\n",
       "         'name': 'Conexa Pet zHkd',\n",
       "         'photoUrls': ['string'],\n",
       "         'tags': [{'id': 0, 'name': 'string'}],\n",
       "         'status': 'sold'},\n",
       "        {'id': 9152100742055004976,\n",
       "         'category': {'id': 0, 'name': 'Conexa Original Category'},\n",
       "         'name': 'Conexa Pet h60D',\n",
       "         'photoUrls': ['string'],\n",
       "         'tags': [{'id': 0, 'name': 'string'}],\n",
       "         'status': 'sold'},\n",
       "        {'id': 4310026429227574333,\n",
       "         'category': {'id': 0, 'name': 'Conexa Original Category'},\n",
       "         'name': 'Conexa Pet TcEr',\n",
       "         'photoUrls': ['string'],\n",
       "         'tags': [{'id': 0, 'name': 'string'}],\n",
       "         'status': 'sold'},\n",
       "        {'id': 5922286143638176591,\n",
       "         'category': {'id': 0, 'name': 'Conexa Original Category'},\n",
       "         'name': 'Conexa Pet 9sZA',\n",
       "         'photoUrls': ['string'],\n",
       "         'tags': [{'id': 0, 'name': 'string'}],\n",
       "         'status': 'sold'},\n",
       "        {'id': 1900497538583110533,\n",
       "         'category': {'id': 0, 'name': 'Conexa Original Category'},\n",
       "         'name': 'Conexa Pet JLrV',\n",
       "         'photoUrls': ['string'],\n",
       "         'tags': [{'id': 0, 'name': 'string'}],\n",
       "         'status': 'sold'},\n",
       "        {'id': 8910201636999394941,\n",
       "         'category': {'id': 0, 'name': 'Conexa Original Category'},\n",
       "         'name': 'Conexa Pet zN1Q',\n",
       "         'photoUrls': ['string'],\n",
       "         'tags': [{'id': 0, 'name': 'string'}],\n",
       "         'status': 'sold'},\n",
       "        {'id': 5277736444963477610,\n",
       "         'category': {'id': 0, 'name': 'Conexa Original Category'},\n",
       "         'name': 'Conexa Pet psC6',\n",
       "         'photoUrls': ['string'],\n",
       "         'tags': [{'id': 0, 'name': 'string'}],\n",
       "         'status': 'sold'},\n",
       "        {'id': 2215,\n",
       "         'category': {'id': 1532, 'name': 'j9BuvUJZkc'},\n",
       "         'name': 'evRL7QxceB',\n",
       "         'photoUrls': ['aep9TEDgrG', 'lxkgRX0bHK', 'XcSRPDDqT1', 'qVrN4GI8qa'],\n",
       "         'tags': [{'id': 8151, 'name': 'o5QiH1Dr5p'},\n",
       "          {'id': 5563, 'name': 'WtB6tHJQ7p'}],\n",
       "         'status': 'sold'},\n",
       "        {'id': 4403674144605383363,\n",
       "         'category': {'id': 0, 'name': 'Conexa Original Category'},\n",
       "         'name': 'Conexa Pet yk0W',\n",
       "         'photoUrls': ['string'],\n",
       "         'tags': [{'id': 0, 'name': 'string'}],\n",
       "         'status': 'sold'},\n",
       "        {'id': 4915155796531733449,\n",
       "         'category': {'id': 0, 'name': 'Conexa Original Category'},\n",
       "         'name': 'Conexa Pet wpeX',\n",
       "         'photoUrls': ['string'],\n",
       "         'tags': [{'id': 0, 'name': 'string'}],\n",
       "         'status': 'sold'},\n",
       "        {'id': 6257391004599383370,\n",
       "         'category': {'id': 0, 'name': 'Conexa Original Category'},\n",
       "         'name': 'Conexa Pet coDJ',\n",
       "         'photoUrls': ['string'],\n",
       "         'tags': [{'id': 0, 'name': 'string'}],\n",
       "         'status': 'sold'},\n",
       "        {'id': 1733211601990494633,\n",
       "         'category': {'id': 0, 'name': 'Conexa Original Category'},\n",
       "         'name': 'Conexa Pet C4To',\n",
       "         'photoUrls': ['string'],\n",
       "         'tags': [{'id': 0, 'name': 'string'}],\n",
       "         'status': 'sold'},\n",
       "        {'id': 8248782148002652083,\n",
       "         'category': {'id': 0, 'name': 'Conexa Original Category'},\n",
       "         'name': 'Conexa Pet nL4H',\n",
       "         'photoUrls': ['string'],\n",
       "         'tags': [{'id': 0, 'name': 'string'}],\n",
       "         'status': 'sold'},\n",
       "        {'id': 8186888459947297313,\n",
       "         'category': {'id': 0, 'name': 'Conexa Original Category'},\n",
       "         'name': 'Conexa Pet qAW0',\n",
       "         'photoUrls': ['string'],\n",
       "         'tags': [{'id': 0, 'name': 'string'}],\n",
       "         'status': 'sold'},\n",
       "        {'id': 7131942443674497864,\n",
       "         'category': {'id': 0, 'name': 'Conexa Original Category'},\n",
       "         'name': 'Conexa Pet ciiJ',\n",
       "         'photoUrls': ['string'],\n",
       "         'tags': [{'id': 0, 'name': 'string'}],\n",
       "         'status': 'sold'},\n",
       "        {'id': 3449959274758994159,\n",
       "         'category': {'id': 0, 'name': 'Conexa Original Category'},\n",
       "         'name': 'Conexa Pet 2o3A',\n",
       "         'photoUrls': ['string'],\n",
       "         'tags': [{'id': 0, 'name': 'string'}],\n",
       "         'status': 'sold'},\n",
       "        {'id': 7204921522818020256,\n",
       "         'category': {'id': 0, 'name': 'Conexa Original Category'},\n",
       "         'name': 'Conexa Pet uXL3',\n",
       "         'photoUrls': ['string'],\n",
       "         'tags': [{'id': 0, 'name': 'string'}],\n",
       "         'status': 'sold'}]}}}]}],\n",
       " 'tool_config': {'function_calling_config': {'mode': 'ANY'}},\n",
       " 'tools': [{'function_declarations': [{'name': 'get_pet_findByStatus',\n",
       "     'description': 'Multiple status values can be provided with comma separated strings',\n",
       "     'parameters': {'type': 'object',\n",
       "      'properties': {'status': {'type': 'array',\n",
       "        'description': 'Status values that need to be considered for filter',\n",
       "        'items': {'type': 'string',\n",
       "         'description': '',\n",
       "         'enum': ['available', 'pending', 'sold']}}},\n",
       "      'required': ['status']}},\n",
       "    {'name': 'get_entities',\n",
       "     'parameters': {'properties': {'keys': {'description': 'one or more names to use to lookup the entity or entities',\n",
       "        'type': 'string'}},\n",
       "      'required': ['keys'],\n",
       "      'type': 'object'},\n",
       "     'description': 'Lookup entity by one or more keys. For example if you encounter entity names or keys in question, data etc you can use\\nthe entity search to learn more about them'},\n",
       "    {'name': 'search',\n",
       "     'parameters': {'properties': {'questions': {'description': 'ask one or more questions to search the data store',\n",
       "        'items': {'type': 'string'},\n",
       "        'type': 'array'}},\n",
       "      'required': ['questions'],\n",
       "      'type': 'object'},\n",
       "     'description': 'Run a general search on the model that is being used in the current context as per the system prompt\\nIf you want to add multiple questions supply a list of strings as an array.'},\n",
       "    {'name': 'activate_functions_by_name',\n",
       "     'parameters': {'properties': {'function_names': {'items': {'type': 'string'},\n",
       "        'type': 'array'}},\n",
       "      'required': ['function_names'],\n",
       "      'type': 'object'},\n",
       "     'description': 'Provide a list of function names to load.\\nThe names should be fully qualified object_id.function_name'}]}],\n",
       " 'system_instruction': {'parts': {'text': 'You are an agent that provides the information you are asked and a second random fact\\n# General Advice.\\nUse whatever functions are available to you and use world knowledge only if prompted \\nor if there is not other way \\nor the user is obviously asking about real world information that is not covered by functions.\\nObserve what functions you have to use and check the message history to avoid calling the same functions with the same parameters repeatedly.\\nIf you find a function name in your search, you can activate it by naming using one of your functions. You should do so without asking the user.\\n            '}}}"
      ]
     },
     "execution_count": 25,
     "metadata": {},
     "output_type": "execute_result"
    }
   ],
   "source": [
    "d = {'contents': [{'role': 'user', 'parts': {'text': 'list two sold pets'}}, {'parts': [{'functionCall': {'name': 'get_pet_findByStatus', 'args': {'status': ['sold']}}}], 'role': 'model'}, {'role': 'user', 'parts': [{'functionResponse': {'name': 'get_pet_findByStatus', 'response': {'name': 'get_pet_findByStatus', 'content': [{'id': 7574746, 'name': 'Hardy', 'photoUrls': ['https://i.pinimg.com/originals/5c/2c/44/5c2c44f16da1caf134c00bc4f9c72ea0.jpg'], 'tags': [], 'status': 'sold'}, {'id': 13, 'category': {'id': 0, 'name': 'cats'}, 'photoUrls': ['string'], 'tags': [{'id': 0, 'name': 'string'}], 'status': 'sold'}, {'id': 319, 'category': {'id': 599, 'name': 'UWvlC6mSeP'}, 'name': '9Yvwc4oI2v', 'photoUrls': ['tpGoWHBlVQ', 'yeGcvQrgCk', 'qr1T285XmO', 'RgDxV4E6ee', 'QiuprryEoJ'], 'tags': [{'id': 9134, 'name': 'R5GDJbOzCD'}, {'id': 7733, 'name': 'DvT5LemiI4'}, {'id': 822, 'name': 'nIjhVxRWky'}, {'id': 7878, 'name': 'LCF0VMsPyJ'}], 'status': 'sold'}, {'id': 777666, 'category': {'id': 1, 'name': 'Котик'}, 'name': 'Барсик', 'photoUrls': ['https://ref_to_img.png'], 'tags': [{'id': 1, 'name': 'Тэг 1'}], 'status': 'sold'}, {'id': 5615, 'category': {'id': 9134, 'name': 'R5GDJbOzCD'}, 'name': 'RQ6gKb5alV', 'photoUrls': ['kDz8i5r5L6', '7Z0O9qtpGo', 'WHBlVQyeGc'], 'tags': [{'id': 7257, 'name': 'rgCkqr1T28'}, {'id': 7044, 'name': 'RgDxV4E6ee'}, {'id': 2274, 'name': 'uprryEoJvk'}], 'status': 'sold'}, {'id': 8153, 'category': {'id': 5416, 'name': 'vUJZkcGjev'}, 'name': 'Q1jM48IsJL', 'photoUrls': ['58RC38Qduf', 'wBaep9TEDg'], 'tags': [{'id': 1291, 'name': 'kgRX0bHKXc'}, {'id': 6493, 'name': 'PDDqT1qVrN'}, {'id': 6334, 'name': 'I8qaIhlzo5'}, {'id': 2360, 'name': 'H1Dr5pWtB6'}, {'id': 661, 'name': 'JQ7pZ1Vqj9'}], 'status': 'sold'}, {'id': 485, 'category': {'id': 4190, 'name': 'I2vyOHsrKK'}, 'name': 'dNDYRs7rkp', 'photoUrls': ['v2gGq5MiQt'], 'tags': [{'id': 6990, 'name': 'PyJUWvlC6m'}, {'id': 1036, 'name': 'PwbMF9Yvwc'}], 'status': 'sold'}, {'id': 188530, 'category': {'id': 90274, 'name': 'tbhBBPKt'}, 'name': 'doggie', 'photoUrls': ['SvoqWh'], 'tags': [{'id': 428371, 'name': 'RUYsQwyG'}], 'status': 'sold'}, {'id': 9815, 'category': {'id': 4869, 'name': 'WTohOTTkE'}, 'name': 'ivyFEhMAoVvGDPZfIwB', 'photoUrls': ['yGuF'], 'tags': [{'id': 5167, 'name': 'aVdpnmvXzUndaHJI'}], 'status': 'sold'}, {'id': 989, 'category': {'id': 6675, 'name': 'N1DnMMDP5G'}, 'name': 'pyX1Fz7tPQ', 'photoUrls': ['jM48IsJL45', '8RC38Qdufw', 'Baep9TEDgr'], 'tags': [{'id': 4878, 'name': 'gRX0bHKXcS'}, {'id': 947, 'name': 'DDqT1qVrN4'}, {'id': 4590, 'name': '8qaIhlzo5Q'}, {'id': 759, 'name': '1Dr5pWtB6t'}], 'status': 'sold'}, {'id': 173218104, 'category': {'id': 4, 'name': 'bird'}, 'name': 'Garibaldo', 'photoUrls': [], 'tags': [{'id': 3, 'name': 'raro'}], 'status': 'sold'}, {'id': 969732200, 'name': 'X', 'photoUrls': ['iopDYenrs'], 'tags': [], 'status': 'sold'}, {'id': 9537, 'name': 'Fluffy625', 'photoUrls': [], 'tags': [], 'status': 'sold'}, {'id': 4438, 'name': 'Fluffy833', 'photoUrls': [], 'tags': [], 'status': 'sold'}, {'id': 722337203685477354, 'name': 'Chappi dog 66', 'photoUrls': ['./dog.png'], 'tags': [], 'status': 'sold'}, {'id': 12, 'category': {'id': 0, 'name': 'dogs'}, 'photoUrls': ['string'], 'tags': [{'id': 0, 'name': 'string'}], 'status': 'sold'}, {'id': 1535001, 'category': {'id': 1, 'name': 'cat'}, 'name': 'Nero', 'photoUrls': [], 'tags': [{'id': 1, 'name': 'vaccined'}], 'status': 'sold'}, {'id': 1535004, 'category': {'id': 4, 'name': 'bird'}, 'name': 'Loro', 'photoUrls': [], 'tags': [{'id': 3, 'name': 'raro'}], 'status': 'sold'}, {'id': 368991102, 'category': {'id': 1, 'name': 'dog'}, 'name': 'Snoopy', 'photoUrls': [], 'tags': [{'id': 9, 'name': 'vaccined'}], 'status': 'sold'}, {'id': 368991105, 'category': {'id': 4, 'name': 'bird'}, 'name': 'Garibaldo', 'photoUrls': [], 'tags': [{'id': 3, 'name': 'raro'}], 'status': 'sold'}, {'id': 919133, 'category': {'id': 3, 'name': 'bird'}, 'name': 'Garibaldo', 'photoUrls': [], 'tags': [{'id': 3, 'name': 'raro'}], 'status': 'sold'}, {'id': 8867, 'category': {'id': 379, 'name': 'KEACBBUq6u'}, 'name': 'BIHeP0S5zu', 'photoUrls': ['gHL2jflutf', 'RQ6gKb5alV'], 'tags': [{'id': 2676, 'name': '44cJHhL9oK'}, {'id': 3026, 'name': 'fwMr5mw4mQ'}, {'id': 5464, 'name': '30oLYMKEfI'}, {'id': 3533, 'name': '44cTrvLYEm'}, {'id': 4096, 'name': '5ytTTYQlmR'}], 'status': 'sold'}, {'id': 8623, 'category': {'id': 4161, 'name': 'vT5LemiI43'}, 'name': 'z8i5r5L67Z', 'photoUrls': ['O9qtpGoWHB', 'lVQyeGcvQr', 'gCkqr1T285'], 'tags': [{'id': 9139, 'name': 'gDxV4E6eeQ'}, {'id': 280, 'name': 'prryEoJvkq'}, {'id': 6039, 'name': '5GDJbOzCD8'}], 'status': 'sold'}, {'id': 1129, 'category': {'id': 3059, 'name': 'alVWkDz8i5'}, 'name': 'L67Z0O9qtp', 'photoUrls': ['oWHBlVQyeG', 'cvQrgCkqr1', 'T285XmORgD', 'xV4E6eeQiu'], 'tags': [{'id': 7314, 'name': 'EoJvkqAR5G'}, {'id': 5965, 'name': 'bOzCD8ZDvT'}, {'id': 4671, 'name': '5LemiI43sn'}], 'status': 'sold'}, {'id': 228, 'category': {'id': 228, 'name': 'cats'}, 'name': 'stepaa', 'photoUrls': ['string'], 'tags': [{'id': 228, 'name': 'krutoy'}], 'status': 'sold'}, {'id': 6310, 'category': {'id': 1441, 'name': 'kfvEllpbc3'}, 'name': 'w5hC0r1t7y', 'photoUrls': ['r7rLsugaq3', 'oqnxK5oj3r'], 'tags': [{'id': 8507, 'name': 'Xag5wFEqMU'}, {'id': 2689, 'name': 'blByL5lmYb'}], 'status': 'sold'}, {'id': 7708, 'category': {'id': 1244, 'name': 'Kb5alVWkDz'}, 'name': 'mQvi8a30oL', 'photoUrls': ['MKEfIGj44c', 'TrvLYEmlo5', 'ytTTYQlmRP', 'TKEACBBUq6'], 'tags': [{'id': 1529, 'name': 'IHeP0S5zuB'}, {'id': 4890, 'name': 'gHL2jflutf'}], 'status': 'sold'}, {'id': 6526, 'category': {'id': 2990, 'name': '285XmORgDx'}, 'name': 'eeQiuprryE', 'photoUrls': ['r5L67Z0O9q', 'tpGoWHBlVQ'], 'tags': [{'id': 68, 'name': 'vQrgCkqr1T'}], 'status': 'sold'}, {'id': 3145, 'category': {'id': 2645, 'name': 'pZ1Vqj9Buv'}, 'name': 'ZkcGjevRL7', 'photoUrls': ['xceBZQ8Gpq', '2P4rbjXZNi', '6D89Ispjkm', 'RGocb0VZyT', 's0E3wbsqFC'], 'tags': [{'id': 8365, 'name': 'qT1qVrN4GI'}, {'id': 759, 'name': '8qaIhlzo5Q'}, {'id': 7123, 'name': 'r5pWtB6tHJ'}], 'status': 'sold'}, {'id': 9686, 'category': {'id': 818, 'name': 'YRAjC2UxDN'}, 'name': 'RkMXvsHXQL', 'photoUrls': ['PpxXCBJfsD', 'LfhLtMZDiG', 'fPo1F6lJQs', 'jN9io0hqtW', 'nWakmPuGDt'], 'tags': [{'id': 2211, 'name': 'NLRx96nMt8'}, {'id': 9532, 'name': 'kxUZrQSQbV'}, {'id': 3107, 'name': 'WDLWPUPH0U'}], 'status': 'sold'}, {'id': 4620, 'category': {'id': 380, 'name': 'U1kJ5A4mmH'}, 'name': 's1nuq3H3LN', 'photoUrls': ['ChtA647YVX'], 'tags': [{'id': 4384, 'name': 'aXKlFvtxn1'}, {'id': 7861, 'name': 'a73N446lGH'}], 'status': 'sold'}, {'id': 3957, 'category': {'id': 6900, 'name': 'CVGcZ6MuYH'}, 'name': 'rcHLcEf99Z', 'photoUrls': ['L2qqnAdN8a', 'gHQcRIa0cq'], 'tags': [{'id': 8563, 'name': 'PrjvA5tRIl'}, {'id': 6451, 'name': 'Z33iEvDZFD'}], 'status': 'sold'}, {'id': 12438759330, 'category': {'id': 1, 'name': 'string'}, 'name': 'Musya', 'photoUrls': [], 'tags': [{'id': 1, 'name': 'string'}], 'status': 'sold'}, {'id': 3385456567326529535, 'category': {'id': 0, 'name': 'Conexa Original Category'}, 'name': 'Conexa Pet MzcO', 'photoUrls': ['string'], 'tags': [{'id': 0, 'name': 'string'}], 'status': 'sold'}, {'id': 6454593534137472936, 'category': {'id': 0, 'name': 'Conexa Original Category'}, 'name': 'Conexa Pet tS8t', 'photoUrls': ['string'], 'tags': [{'id': 0, 'name': 'string'}], 'status': 'sold'}, {'id': 6557351922405633463, 'category': {'id': 0, 'name': 'Conexa Original Category'}, 'name': 'Conexa Pet obG2', 'photoUrls': ['string'], 'tags': [{'id': 0, 'name': 'string'}], 'status': 'sold'}, {'id': 5644743866114257558, 'category': {'id': 0, 'name': 'Conexa Original Category'}, 'name': 'Conexa Pet ppzY', 'photoUrls': ['string'], 'tags': [{'id': 0, 'name': 'string'}], 'status': 'sold'}, {'id': 4691847337223564293, 'category': {'id': 0, 'name': 'Conexa Original Category'}, 'name': 'Conexa Pet Q3Ha', 'photoUrls': ['string'], 'tags': [{'id': 0, 'name': 'string'}], 'status': 'sold'}, {'id': 222777289281671581, 'category': {'id': 0, 'name': 'Conexa Original Category'}, 'name': 'Conexa Pet tQnA', 'photoUrls': ['string'], 'tags': [{'id': 0, 'name': 'string'}], 'status': 'sold'}, {'id': 2633791803304961804, 'category': {'id': 0, 'name': 'Conexa Original Category'}, 'name': 'Conexa Pet l9t2', 'photoUrls': ['string'], 'tags': [{'id': 0, 'name': 'string'}], 'status': 'sold'}, {'id': 3880638013423558963, 'category': {'id': 0, 'name': 'Conexa Original Category'}, 'name': 'Conexa Pet E2pm', 'photoUrls': ['string'], 'tags': [{'id': 0, 'name': 'string'}], 'status': 'sold'}, {'id': 7315483631429072551, 'category': {'id': 0, 'name': 'Conexa Original Category'}, 'name': 'Conexa Pet Mr5z', 'photoUrls': ['string'], 'tags': [{'id': 0, 'name': 'string'}], 'status': 'sold'}, {'id': 6379402911281105569, 'category': {'id': 0, 'name': 'Conexa Original Category'}, 'name': 'Conexa Pet zHkd', 'photoUrls': ['string'], 'tags': [{'id': 0, 'name': 'string'}], 'status': 'sold'}, {'id': 9152100742055004976, 'category': {'id': 0, 'name': 'Conexa Original Category'}, 'name': 'Conexa Pet h60D', 'photoUrls': ['string'], 'tags': [{'id': 0, 'name': 'string'}], 'status': 'sold'}, {'id': 4310026429227574333, 'category': {'id': 0, 'name': 'Conexa Original Category'}, 'name': 'Conexa Pet TcEr', 'photoUrls': ['string'], 'tags': [{'id': 0, 'name': 'string'}], 'status': 'sold'}, {'id': 5922286143638176591, 'category': {'id': 0, 'name': 'Conexa Original Category'}, 'name': 'Conexa Pet 9sZA', 'photoUrls': ['string'], 'tags': [{'id': 0, 'name': 'string'}], 'status': 'sold'}, {'id': 1900497538583110533, 'category': {'id': 0, 'name': 'Conexa Original Category'}, 'name': 'Conexa Pet JLrV', 'photoUrls': ['string'], 'tags': [{'id': 0, 'name': 'string'}], 'status': 'sold'}, {'id': 8910201636999394941, 'category': {'id': 0, 'name': 'Conexa Original Category'}, 'name': 'Conexa Pet zN1Q', 'photoUrls': ['string'], 'tags': [{'id': 0, 'name': 'string'}], 'status': 'sold'}, {'id': 5277736444963477610, 'category': {'id': 0, 'name': 'Conexa Original Category'}, 'name': 'Conexa Pet psC6', 'photoUrls': ['string'], 'tags': [{'id': 0, 'name': 'string'}], 'status': 'sold'}, {'id': 2215, 'category': {'id': 1532, 'name': 'j9BuvUJZkc'}, 'name': 'evRL7QxceB', 'photoUrls': ['aep9TEDgrG', 'lxkgRX0bHK', 'XcSRPDDqT1', 'qVrN4GI8qa'], 'tags': [{'id': 8151, 'name': 'o5QiH1Dr5p'}, {'id': 5563, 'name': 'WtB6tHJQ7p'}], 'status': 'sold'}, {'id': 4403674144605383363, 'category': {'id': 0, 'name': 'Conexa Original Category'}, 'name': 'Conexa Pet yk0W', 'photoUrls': ['string'], 'tags': [{'id': 0, 'name': 'string'}], 'status': 'sold'}, {'id': 4915155796531733449, 'category': {'id': 0, 'name': 'Conexa Original Category'}, 'name': 'Conexa Pet wpeX', 'photoUrls': ['string'], 'tags': [{'id': 0, 'name': 'string'}], 'status': 'sold'}, {'id': 6257391004599383370, 'category': {'id': 0, 'name': 'Conexa Original Category'}, 'name': 'Conexa Pet coDJ', 'photoUrls': ['string'], 'tags': [{'id': 0, 'name': 'string'}], 'status': 'sold'}, {'id': 1733211601990494633, 'category': {'id': 0, 'name': 'Conexa Original Category'}, 'name': 'Conexa Pet C4To', 'photoUrls': ['string'], 'tags': [{'id': 0, 'name': 'string'}], 'status': 'sold'}, {'id': 8248782148002652083, 'category': {'id': 0, 'name': 'Conexa Original Category'}, 'name': 'Conexa Pet nL4H', 'photoUrls': ['string'], 'tags': [{'id': 0, 'name': 'string'}], 'status': 'sold'}, {'id': 8186888459947297313, 'category': {'id': 0, 'name': 'Conexa Original Category'}, 'name': 'Conexa Pet qAW0', 'photoUrls': ['string'], 'tags': [{'id': 0, 'name': 'string'}], 'status': 'sold'}, {'id': 7131942443674497864, 'category': {'id': 0, 'name': 'Conexa Original Category'}, 'name': 'Conexa Pet ciiJ', 'photoUrls': ['string'], 'tags': [{'id': 0, 'name': 'string'}], 'status': 'sold'}, {'id': 3449959274758994159, 'category': {'id': 0, 'name': 'Conexa Original Category'}, 'name': 'Conexa Pet 2o3A', 'photoUrls': ['string'], 'tags': [{'id': 0, 'name': 'string'}], 'status': 'sold'}, {'id': 7204921522818020256, 'category': {'id': 0, 'name': 'Conexa Original Category'}, 'name': 'Conexa Pet uXL3', 'photoUrls': ['string'], 'tags': [{'id': 0, 'name': 'string'}], 'status': 'sold'}]}}}]}], 'tool_config': {'function_calling_config': {'mode': 'ANY'}}, 'tools': [{'function_declarations': [{'name': 'get_pet_findByStatus', 'description': 'Multiple status values can be provided with comma separated strings', 'parameters': {'type': 'object', 'properties': {'status': {'type': 'array', 'description': 'Status values that need to be considered for filter', 'items': {'type': 'string', 'description': '', 'enum': ['available', 'pending', 'sold']}}}, 'required': ['status']}}, {'name': 'get_entities', 'parameters': {'properties': {'keys': {'description': 'one or more names to use to lookup the entity or entities', 'type': 'string'}}, 'required': ['keys'], 'type': 'object'}, 'description': 'Lookup entity by one or more keys. For example if you encounter entity names or keys in question, data etc you can use\\nthe entity search to learn more about them'}, {'name': 'search', 'parameters': {'properties': {'questions': {'description': 'ask one or more questions to search the data store', 'items': {'type': 'string'}, 'type': 'array'}}, 'required': ['questions'], 'type': 'object'}, 'description': 'Run a general search on the model that is being used in the current context as per the system prompt\\nIf you want to add multiple questions supply a list of strings as an array.'}, {'name': 'activate_functions_by_name', 'parameters': {'properties': {'function_names': {'items': {'type': 'string'}, 'type': 'array'}}, 'required': ['function_names'], 'type': 'object'}, 'description': 'Provide a list of function names to load.\\nThe names should be fully qualified object_id.function_name'}]}], 'system_instruction': {'parts': {'text': 'You are an agent that provides the information you are asked and a second random fact\\n# General Advice.\\nUse whatever functions are available to you and use world knowledge only if prompted \\nor if there is not other way \\nor the user is obviously asking about real world information that is not covered by functions.\\nObserve what functions you have to use and check the message history to avoid calling the same functions with the same parameters repeatedly.\\nIf you find a function name in your search, you can activate it by naming using one of your functions. You should do so without asking the user.\\n            '}}}\n",
    "d"
   ]
  },
  {
   "cell_type": "code",
   "execution_count": 47,
   "id": "f49732ab",
   "metadata": {
    "scrolled": false
   },
   "outputs": [
    {
     "data": {
      "text/plain": [
       "b'<!DOCTYPE html>\\n<html lang=en>\\n  <meta charset=utf-8>\\n  <meta name=viewport content=\"initial-scale=1, minimum-scale=1, width=device-width\">\\n  <title>Error 400 (Bad Request)!!1</title>\\n  <style>\\n    *{margin:0;padding:0}html,code{font:15px/22px arial,sans-serif}html{background:#fff;color:#222;padding:15px}body{margin:7% auto 0;max-width:390px;min-height:180px;padding:30px 0 15px}* > body{background:url(//www.google.com/images/errors/robot.png) 100% 5px no-repeat;padding-right:205px}p{margin:11px 0 22px;overflow:hidden}ins{color:#777;text-decoration:none}a img{border:0}@media screen and (max-width:772px){body{background:none;margin-top:0;max-width:none;padding-right:0}}#logo{background:url(//www.google.com/images/branding/googlelogo/1x/googlelogo_color_150x54dp.png) no-repeat;margin-left:-5px}@media only screen and (min-resolution:192dpi){#logo{background:url(//www.google.com/images/branding/googlelogo/2x/googlelogo_color_150x54dp.png) no-repeat 0% 0%/100% 100%;-moz-border-image:url(//www.google.com/images/branding/googlelogo/2x/googlelogo_color_150x54dp.png) 0}}@media only screen and (-webkit-min-device-pixel-ratio:2){#logo{background:url(//www.google.com/images/branding/googlelogo/2x/googlelogo_color_150x54dp.png) no-repeat;-webkit-background-size:100% 100%}}#logo{display:inline-block;height:54px;width:150px}\\n  </style>\\n  <a href=//www.google.com/><span id=logo aria-label=Google></span></a>\\n  <p><b>400.</b> <ins>That\\xe2\\x80\\x99s an error.</ins>\\n  <p>Your client has issued a malformed or illegal request.  <ins>That\\xe2\\x80\\x99s all we know.</ins>\\n'"
      ]
     },
     "execution_count": 47,
     "metadata": {},
     "output_type": "execute_result"
    }
   ],
   "source": [
    "tools = [{'function_declarations': [{'name': 'get_pet_findByStatus',\n",
    "    'description': 'Multiple status values can be provided with comma separated strings',\n",
    "    'parameters': {'type': 'object',\n",
    "     'properties': {'status': {'type': 'array',\n",
    "       'description': 'Status values that need to be considered for filter',\n",
    "       'items': {'type': 'string',\n",
    "        'description': '',\n",
    "        'enum': ['available', 'pending', 'sold']}}},\n",
    "     'required': ['status']}},\n",
    "   {'name': 'get_entities',\n",
    "    'parameters': {'properties': {'keys': {'description': 'one or more names to use to lookup the entity or entities',\n",
    "       'type': 'string'}},\n",
    "     'required': ['keys'],\n",
    "     'type': 'object'},\n",
    "    'description': 'Lookup entity by one or more keys. For example if you encounter entity names or keys in question, data etc you can use\\nthe entity search to learn more about them'},\n",
    "   {'name': 'search',\n",
    "    'parameters': {'properties': {'questions': {'description': 'ask one or more questions to search the data store',\n",
    "       'items': {'type': 'string'},\n",
    "       'type': 'array'}},\n",
    "     'required': ['questions'],\n",
    "     'type': 'object'},\n",
    "    'description': 'Run a general search on the model that is being used in the current context as per the system prompt\\nIf you want to add multiple questions supply a list of strings as an array.'},\n",
    "   {'name': 'activate_functions_by_name',\n",
    "    'parameters': {'properties': {'function_names': {'items': {'type': 'string'},\n",
    "       'type': 'array'}},\n",
    "     'required': ['function_names'],\n",
    "     'type': 'object'},\n",
    "    'description': 'Provide a list of function names to load.\\nThe names should be fully qualified object_id.function_name'}]}]\n",
    "pl = {\n",
    "  \"contents\": [\n",
    "    {\n",
    "      \"role\": \"user\",\n",
    "      \"parts\": [{\n",
    "        \"text\": \"list two sold pets\"\n",
    "      }]\n",
    "    },\n",
    "    {\n",
    "      \"role\": \"model\",\n",
    "      \"parts\": [\n",
    "        {\n",
    "          \"functionCall\": {\n",
    "            \"name\": \"get_pet_findByStatus\",\n",
    "            \"args\": {\n",
    "              \"status\": \"sold\",\n",
    "              \"limit\": 2\n",
    "            }\n",
    "          }\n",
    "        }\n",
    "      ]\n",
    "    },\n",
    "    {\n",
    "      \"role\": \"user\",\n",
    "      \"parts\": [\n",
    "        {\n",
    "          \"functionResponse\": {\n",
    "            \"name\": \"get_pet_findByStatus\",\n",
    "            \"response\": {\n",
    "              \"name\": \"get_pet_findByStatus\",\n",
    "              \"content\": \"\"\"[\n",
    "                {\n",
    "                  \"id\": 7574746,\n",
    "                  \"name\": \"Hardy\",\n",
    "                  \"photoUrls\": [\"https://i.pinimg.com/originals/5c/2c/44/5c2c44f16da1caf134c00bc4f9c72ea0.jpg\"],\n",
    "                  \"tags\": [],\n",
    "                  \"status\": \"sold\"\n",
    "                },\n",
    "                {\n",
    "                  \"id\": 13,\n",
    "                  \"name\": \"Fluffy\",\n",
    "                  \"photoUrls\": [\"https://example.com/photo.jpg\"],\n",
    "                  \"tags\": [{\"id\": 0, \"name\": \"string\"}],\n",
    "                  \"status\": \"sold\"\n",
    "                },\n",
    "                   {\n",
    "                  \"id\": 17,\n",
    "                  \"name\": \"Jack\",\n",
    "                  \"photoUrls\": [\"https://example.com/photo.jpg\"],\n",
    "                  \"tags\": [{\"id\": 0, \"name\": \"string\"}],\n",
    "                  \"status\": \"sold\"\n",
    "                }\n",
    "              ]\"\"\"\n",
    "            }\n",
    "          }\n",
    "        }\n",
    "      ]\n",
    "    }\n",
    "  ]\n",
    "}\n",
    "\n",
    "data = {\n",
    "    \"contents\": pl['contents'][0],\n",
    "    \"tool_config\": {\n",
    "        #we could disable this for empty tools\n",
    "        \"function_calling_config\": {\"mode\": \"ANY\"}\n",
    "    },\n",
    "    \"tools\": tools\n",
    "    #'temperature': temperature\n",
    "}\n",
    "\n",
    "import os\n",
    "url = 'https://generativelanguage.googleapis.com/v1beta/models/gemini-1.5-flash:generateContent'\n",
    "url = f\"{url}?key={os.environ['GEMINI_API_KEY']}\"\n",
    "\n",
    "import requests\n",
    "import json\n",
    "headers = {\n",
    "            \"Content-Type\": \"application/json\",\n",
    "        }\n",
    "response = requests.get(url, headers=headers, data=json.dumps(d))\n",
    "response.content"
   ]
  },
  {
   "cell_type": "code",
   "execution_count": 49,
   "id": "ba28d7ef",
   "metadata": {},
   "outputs": [
    {
     "data": {
      "text/plain": [
       "[{'role': 'user', 'parts': [{'text': 'list two sold pets'}]}]"
      ]
     },
     "execution_count": 49,
     "metadata": {},
     "output_type": "execute_result"
    }
   ],
   "source": [
    "partial = pl['contents'][0:1]\n",
    "partial"
   ]
  },
  {
   "cell_type": "code",
   "execution_count": 50,
   "id": "fb2b4fd5",
   "metadata": {},
   "outputs": [
    {
     "data": {
      "text/plain": [
       "{'candidates': [{'content': {'parts': [{'functionCall': {'name': 'get_pet_findByStatus',\n",
       "       'args': {'status': ['sold']}}}],\n",
       "    'role': 'model'},\n",
       "   'finishReason': 'STOP',\n",
       "   'avgLogprobs': -0.004758656490594149}],\n",
       " 'usageMetadata': {'promptTokenCount': 288,\n",
       "  'candidatesTokenCount': 8,\n",
       "  'totalTokenCount': 296,\n",
       "  'promptTokensDetails': [{'modality': 'TEXT', 'tokenCount': 171}],\n",
       "  'candidatesTokensDetails': [{'modality': 'TEXT', 'tokenCount': 8}]},\n",
       " 'modelVersion': 'gemini-1.5-flash'}"
      ]
     },
     "execution_count": 50,
     "metadata": {},
     "output_type": "execute_result"
    }
   ],
   "source": [
    "url = f\"https://generativelanguage.googleapis.com/v1beta/models/gemini-1.5-flash:generateContent?key={os.environ.get('GEMINI_API_KEY')}\"\n",
    "headers = {\n",
    "    \"Content-Type\": \"application/json\"\n",
    "}\n",
    "data = {\n",
    "    \"contents\": partial,\n",
    "    \"tool_config\": {\n",
    "      \"function_calling_config\": {\"mode\": \"ANY\"}\n",
    "    },\n",
    "    \"tools\": tools\n",
    "}\n",
    "r = requests.post(url, headers=headers, data=json.dumps(data))\n",
    "r.json()"
   ]
  },
  {
   "cell_type": "code",
   "execution_count": 6,
   "id": "7a435cd0",
   "metadata": {},
   "outputs": [
    {
     "data": {
      "text/plain": [
       "[{'role': 'user', 'parts': {'text': 'are there any sold pets'}},\n",
       " {'role': 'model',\n",
       "  'parts': {'text': {'parts': [{'functionCall': {'name': 'get_pet_findByStatus',\n",
       "       'args': {'status': ['sold']}}}],\n",
       "    'role': 'model'}}},\n",
       " {'role': 'user',\n",
       "  'parts': {'text': {'role': 'user',\n",
       "    'content': '[{\"id\": 7574746, \"category\": {\"id\": 1, \"name\": \"Cat\"}, \"name\": \"Hardy\", \"photoUrls\": [\"https://i.pinimg.com/originals/5c/2c/44/5c2c44f16da1caf134c00bc4f9c72ea0.jpg\"], \"tags\": [{\"id\": 7805, \"name\": \"Mainecoon\"}], \"status\": \"sold\"}, {\"id\": 13, \"category\": {\"id\": 0, \"name\": \"cats\"}, \"photoUrls\": [\"string\"], \"tags\": [{\"id\": 0, \"name\": \"string\"}], \"status\": \"sold\"}, {\"id\": 777666, \"category\": {\"id\": 1, \"name\": \"\\\\u041a\\\\u043e\\\\u0442\\\\u0438\\\\u043a\"}, \"name\": \"\\\\u0411\\\\u0430\\\\u0440\\\\u0441\\\\u0438\\\\u043a\", \"photoUrls\": [\"https://ref_to_img.png\"], \"tags\": [{\"id\": 1, \"name\": \"\\\\u0422\\\\u044d\\\\u0433 1\"}], \"status\": \"sold\"}, {\"id\": 5615, \"category\": {\"id\": 9134, \"name\": \"R5GDJbOzCD\"}, \"name\": \"RQ6gKb5alV\", \"photoUrls\": [\"kDz8i5r5L6\", \"7Z0O9qtpGo\", \"WHBlVQyeGc\"], \"tags\": [{\"id\": 7257, \"name\": \"rgCkqr1T28\"}, {\"id\": 7044, \"name\": \"RgDxV4E6ee\"}, {\"id\": 2274, \"name\": \"uprryEoJvk\"}], \"status\": \"sold\"}, {\"id\": 8153, \"category\": {\"id\": 5416, \"name\": \"vUJZkcGjev\"}, \"name\": \"Q1jM48IsJL\", \"photoUrls\": [\"58RC38Qduf\", \"wBaep9TEDg\"], \"tags\": [{\"id\": 1291, \"name\": \"kgRX0bHKXc\"}, {\"id\": 6493, \"name\": \"PDDqT1qVrN\"}, {\"id\": 6334, \"name\": \"I8qaIhlzo5\"}, {\"id\": 2360, \"name\": \"H1Dr5pWtB6\"}, {\"id\": 661, \"name\": \"JQ7pZ1Vqj9\"}], \"status\": \"sold\"}, {\"id\": 485, \"category\": {\"id\": 4190, \"name\": \"I2vyOHsrKK\"}, \"name\": \"dNDYRs7rkp\", \"photoUrls\": [\"v2gGq5MiQt\"], \"tags\": [{\"id\": 6990, \"name\": \"PyJUWvlC6m\"}, {\"id\": 1036, \"name\": \"PwbMF9Yvwc\"}], \"status\": \"sold\"}, {\"id\": 188530, \"category\": {\"id\": 90274, \"name\": \"tbhBBPKt\"}, \"name\": \"doggie\", \"photoUrls\": [\"SvoqWh\"], \"tags\": [{\"id\": 428371, \"name\": \"RUYsQwyG\"}], \"status\": \"sold\"}, {\"id\": 9815, \"category\": {\"id\": 4869, \"name\": \"WTohOTTkE\"}, \"name\": \"ivyFEhMAoVvGDPZfIwB\", \"photoUrls\": [\"yGuF\"], \"tags\": [{\"id\": 5167, \"name\": \"aVdpnmvXzUndaHJI\"}], \"status\": \"sold\"}, {\"id\": 989, \"category\": {\"id\": 6675, \"name\": \"N1DnMMDP5G\"}, \"name\": \"pyX1Fz7tPQ\", \"photoUrls\": [\"jM48IsJL45\", \"8RC38Qdufw\", \"Baep9TEDgr\"], \"tags\": [{\"id\": 4878, \"name\": \"gRX0bHKXcS\"}, {\"id\": 947, \"name\": \"DDqT1qVrN4\"}, {\"id\": 4590, \"name\": \"8qaIhlzo5Q\"}, {\"id\": 759, \"name\": \"1Dr5pWtB6t\"}], \"status\": \"sold\"}, {\"id\": 173218104, \"category\": {\"id\": 4, \"name\": \"bird\"}, \"name\": \"Garibaldo\", \"photoUrls\": [], \"tags\": [{\"id\": 3, \"name\": \"raro\"}], \"status\": \"sold\"}, {\"id\": 969732200, \"name\": \"X\", \"photoUrls\": [\"iopDYenrs\"], \"tags\": [], \"status\": \"sold\"}, {\"id\": 9537, \"name\": \"Fluffy625\", \"photoUrls\": [], \"tags\": [], \"status\": \"sold\"}, {\"id\": 4438, \"name\": \"Fluffy833\", \"photoUrls\": [], \"tags\": [], \"status\": \"sold\"}, {\"id\": 722337203685477354, \"name\": \"Chappi dog 66\", \"photoUrls\": [\"./dog.png\"], \"tags\": [], \"status\": \"sold\"}, {\"id\": 1535001, \"category\": {\"id\": 1, \"name\": \"cat\"}, \"name\": \"Nero\", \"photoUrls\": [], \"tags\": [{\"id\": 1, \"name\": \"vaccined\"}], \"status\": \"sold\"}, {\"id\": 1535004, \"category\": {\"id\": 4, \"name\": \"bird\"}, \"name\": \"Loro\", \"photoUrls\": [], \"tags\": [{\"id\": 3, \"name\": \"raro\"}], \"status\": \"sold\"}, {\"id\": 368991102, \"category\": {\"id\": 1, \"name\": \"dog\"}, \"name\": \"Snoopy\", \"photoUrls\": [], \"tags\": [{\"id\": 9, \"name\": \"vaccined\"}], \"status\": \"sold\"}, {\"id\": 368991105, \"category\": {\"id\": 4, \"name\": \"bird\"}, \"name\": \"Garibaldo\", \"photoUrls\": [], \"tags\": [{\"id\": 3, \"name\": \"raro\"}], \"status\": \"sold\"}, {\"id\": 919133, \"category\": {\"id\": 3, \"name\": \"bird\"}, \"name\": \"Garibaldo\", \"photoUrls\": [], \"tags\": [{\"id\": 3, \"name\": \"raro\"}], \"status\": \"sold\"}, {\"id\": 8867, \"category\": {\"id\": 379, \"name\": \"KEACBBUq6u\"}, \"name\": \"BIHeP0S5zu\", \"photoUrls\": [\"gHL2jflutf\", \"RQ6gKb5alV\"], \"tags\": [{\"id\": 2676, \"name\": \"44cJHhL9oK\"}, {\"id\": 3026, \"name\": \"fwMr5mw4mQ\"}, {\"id\": 5464, \"name\": \"30oLYMKEfI\"}, {\"id\": 3533, \"name\": \"44cTrvLYEm\"}, {\"id\": 4096, \"name\": \"5ytTTYQlmR\"}], \"status\": \"sold\"}, {\"id\": 8623, \"category\": {\"id\": 4161, \"name\": \"vT5LemiI43\"}, \"name\": \"z8i5r5L67Z\", \"photoUrls\": [\"O9qtpGoWHB\", \"lVQyeGcvQr\", \"gCkqr1T285\"], \"tags\": [{\"id\": 9139, \"name\": \"gDxV4E6eeQ\"}, {\"id\": 280, \"name\": \"prryEoJvkq\"}, {\"id\": 6039, \"name\": \"5GDJbOzCD8\"}], \"status\": \"sold\"}]',\n",
       "    'tool_call_id': 'get_pet_findByStatus'}}}]"
      ]
     },
     "execution_count": 6,
     "metadata": {},
     "output_type": "execute_result"
    }
   ],
   "source": [
    "d ={'contents': [{'role': 'user', 'parts': {'text': 'are there any sold pets'}}, {'role': 'model', 'parts': {'text': {'parts': [{'functionCall': {'name': 'get_pet_findByStatus', 'args': {'status': ['sold']}}}], 'role': 'model'}}}, {'role': 'user', 'parts': {'text': {'role': 'user', 'content': '[{\"id\": 7574746, \"category\": {\"id\": 1, \"name\": \"Cat\"}, \"name\": \"Hardy\", \"photoUrls\": [\"https://i.pinimg.com/originals/5c/2c/44/5c2c44f16da1caf134c00bc4f9c72ea0.jpg\"], \"tags\": [{\"id\": 7805, \"name\": \"Mainecoon\"}], \"status\": \"sold\"}, {\"id\": 13, \"category\": {\"id\": 0, \"name\": \"cats\"}, \"photoUrls\": [\"string\"], \"tags\": [{\"id\": 0, \"name\": \"string\"}], \"status\": \"sold\"}, {\"id\": 777666, \"category\": {\"id\": 1, \"name\": \"\\\\u041a\\\\u043e\\\\u0442\\\\u0438\\\\u043a\"}, \"name\": \"\\\\u0411\\\\u0430\\\\u0440\\\\u0441\\\\u0438\\\\u043a\", \"photoUrls\": [\"https://ref_to_img.png\"], \"tags\": [{\"id\": 1, \"name\": \"\\\\u0422\\\\u044d\\\\u0433 1\"}], \"status\": \"sold\"}, {\"id\": 5615, \"category\": {\"id\": 9134, \"name\": \"R5GDJbOzCD\"}, \"name\": \"RQ6gKb5alV\", \"photoUrls\": [\"kDz8i5r5L6\", \"7Z0O9qtpGo\", \"WHBlVQyeGc\"], \"tags\": [{\"id\": 7257, \"name\": \"rgCkqr1T28\"}, {\"id\": 7044, \"name\": \"RgDxV4E6ee\"}, {\"id\": 2274, \"name\": \"uprryEoJvk\"}], \"status\": \"sold\"}, {\"id\": 8153, \"category\": {\"id\": 5416, \"name\": \"vUJZkcGjev\"}, \"name\": \"Q1jM48IsJL\", \"photoUrls\": [\"58RC38Qduf\", \"wBaep9TEDg\"], \"tags\": [{\"id\": 1291, \"name\": \"kgRX0bHKXc\"}, {\"id\": 6493, \"name\": \"PDDqT1qVrN\"}, {\"id\": 6334, \"name\": \"I8qaIhlzo5\"}, {\"id\": 2360, \"name\": \"H1Dr5pWtB6\"}, {\"id\": 661, \"name\": \"JQ7pZ1Vqj9\"}], \"status\": \"sold\"}, {\"id\": 485, \"category\": {\"id\": 4190, \"name\": \"I2vyOHsrKK\"}, \"name\": \"dNDYRs7rkp\", \"photoUrls\": [\"v2gGq5MiQt\"], \"tags\": [{\"id\": 6990, \"name\": \"PyJUWvlC6m\"}, {\"id\": 1036, \"name\": \"PwbMF9Yvwc\"}], \"status\": \"sold\"}, {\"id\": 188530, \"category\": {\"id\": 90274, \"name\": \"tbhBBPKt\"}, \"name\": \"doggie\", \"photoUrls\": [\"SvoqWh\"], \"tags\": [{\"id\": 428371, \"name\": \"RUYsQwyG\"}], \"status\": \"sold\"}, {\"id\": 9815, \"category\": {\"id\": 4869, \"name\": \"WTohOTTkE\"}, \"name\": \"ivyFEhMAoVvGDPZfIwB\", \"photoUrls\": [\"yGuF\"], \"tags\": [{\"id\": 5167, \"name\": \"aVdpnmvXzUndaHJI\"}], \"status\": \"sold\"}, {\"id\": 989, \"category\": {\"id\": 6675, \"name\": \"N1DnMMDP5G\"}, \"name\": \"pyX1Fz7tPQ\", \"photoUrls\": [\"jM48IsJL45\", \"8RC38Qdufw\", \"Baep9TEDgr\"], \"tags\": [{\"id\": 4878, \"name\": \"gRX0bHKXcS\"}, {\"id\": 947, \"name\": \"DDqT1qVrN4\"}, {\"id\": 4590, \"name\": \"8qaIhlzo5Q\"}, {\"id\": 759, \"name\": \"1Dr5pWtB6t\"}], \"status\": \"sold\"}, {\"id\": 173218104, \"category\": {\"id\": 4, \"name\": \"bird\"}, \"name\": \"Garibaldo\", \"photoUrls\": [], \"tags\": [{\"id\": 3, \"name\": \"raro\"}], \"status\": \"sold\"}, {\"id\": 969732200, \"name\": \"X\", \"photoUrls\": [\"iopDYenrs\"], \"tags\": [], \"status\": \"sold\"}, {\"id\": 9537, \"name\": \"Fluffy625\", \"photoUrls\": [], \"tags\": [], \"status\": \"sold\"}, {\"id\": 4438, \"name\": \"Fluffy833\", \"photoUrls\": [], \"tags\": [], \"status\": \"sold\"}, {\"id\": 722337203685477354, \"name\": \"Chappi dog 66\", \"photoUrls\": [\"./dog.png\"], \"tags\": [], \"status\": \"sold\"}, {\"id\": 1535001, \"category\": {\"id\": 1, \"name\": \"cat\"}, \"name\": \"Nero\", \"photoUrls\": [], \"tags\": [{\"id\": 1, \"name\": \"vaccined\"}], \"status\": \"sold\"}, {\"id\": 1535004, \"category\": {\"id\": 4, \"name\": \"bird\"}, \"name\": \"Loro\", \"photoUrls\": [], \"tags\": [{\"id\": 3, \"name\": \"raro\"}], \"status\": \"sold\"}, {\"id\": 368991102, \"category\": {\"id\": 1, \"name\": \"dog\"}, \"name\": \"Snoopy\", \"photoUrls\": [], \"tags\": [{\"id\": 9, \"name\": \"vaccined\"}], \"status\": \"sold\"}, {\"id\": 368991105, \"category\": {\"id\": 4, \"name\": \"bird\"}, \"name\": \"Garibaldo\", \"photoUrls\": [], \"tags\": [{\"id\": 3, \"name\": \"raro\"}], \"status\": \"sold\"}, {\"id\": 919133, \"category\": {\"id\": 3, \"name\": \"bird\"}, \"name\": \"Garibaldo\", \"photoUrls\": [], \"tags\": [{\"id\": 3, \"name\": \"raro\"}], \"status\": \"sold\"}, {\"id\": 8867, \"category\": {\"id\": 379, \"name\": \"KEACBBUq6u\"}, \"name\": \"BIHeP0S5zu\", \"photoUrls\": [\"gHL2jflutf\", \"RQ6gKb5alV\"], \"tags\": [{\"id\": 2676, \"name\": \"44cJHhL9oK\"}, {\"id\": 3026, \"name\": \"fwMr5mw4mQ\"}, {\"id\": 5464, \"name\": \"30oLYMKEfI\"}, {\"id\": 3533, \"name\": \"44cTrvLYEm\"}, {\"id\": 4096, \"name\": \"5ytTTYQlmR\"}], \"status\": \"sold\"}, {\"id\": 8623, \"category\": {\"id\": 4161, \"name\": \"vT5LemiI43\"}, \"name\": \"z8i5r5L67Z\", \"photoUrls\": [\"O9qtpGoWHB\", \"lVQyeGcvQr\", \"gCkqr1T285\"], \"tags\": [{\"id\": 9139, \"name\": \"gDxV4E6eeQ\"}, {\"id\": 280, \"name\": \"prryEoJvkq\"}, {\"id\": 6039, \"name\": \"5GDJbOzCD8\"}], \"status\": \"sold\"}]', 'tool_call_id': 'get_pet_findByStatus'}}}], 'tool_config': {'function_calling_config': {'mode': 'ANY'}}, 'tools': [{'function_declarations': [{'name': 'help', 'parameters': {'properties': {'questions': {'description': 'provide detailed questions to guide the planner. you should augment the users question with the additional context that you have e.g. a known source', 'type': 'string'}, 'context': {'description': 'any added context e.g. what tool, function, source the user or system suggests may know the answer', 'type': 'string'}}, 'required': ['questions'], 'type': 'object'}, 'description': 'If you are stuck ask for help with very detailed questions to help the planner find resources for you.\\nIf you have a hint about what the source or tool to use hint that in each question that you ask.\\nFor example, you can either just ask a question or you can ask \"according to resource X\" and then ask the question. This is important context.'}, {'name': 'get_pet_findByStatus', 'description': 'Multiple status values can be provided with comma separated strings', 'parameters': {'type': 'object', 'properties': {'status': {'type': 'array', 'description': 'Status values that need to be considered for filter', 'items': {'type': 'string', 'description': '', 'enum': ['available', 'pending', 'sold']}}}, 'required': ['status']}}, {'name': 'get_entities', 'parameters': {'properties': {'keys': {'description': 'one or more names to use to lookup the entity or entities', 'type': 'string'}}, 'required': ['keys'], 'type': 'object'}, 'description': 'Lookup entity by one or more keys. For example if you encounter entity names or keys in question, data etc you can use\\nthe entity search to learn more about them'}, {'name': 'search', 'parameters': {'properties': {'questions': {'description': 'ask one or more questions to search the data store', 'items': {'type': 'string'}, 'type': 'array'}}, 'required': ['questions'], 'type': 'object'}, 'description': 'Run a general search on the model that is being used in the current context as per the system prompt\\nIf you want to add multiple questions supply a list of strings as an array.'}, {'name': 'activate_functions_by_name', 'parameters': {'properties': {'function_names': {'items': {'type': 'string'}, 'type': 'array'}}, 'required': ['function_names'], 'type': 'object'}, 'description': 'Provide a list of function names to load.\\nThe names should be fully qualified object_id.function_name'}]}], 'system_instruction': {'parts': {'text': 'You are an agent that provides the information you are asked and a second random fact\\n# General Advice.\\nUse whatever functions are available to you and use world knowledge only if prompted \\nor if there is not other way \\nor the user is obviously asking about real world information that is not covered by functions.\\nObserve what functions you have to use and check the message history to avoid calling the same functions with the same parameters repeatedly.\\nIf you find a function name in your search, you can activate it by naming using one of your functions. You should do so without asking the user.\\n            '}}}\n",
    "d['contents']"
   ]
  },
  {
   "cell_type": "code",
   "execution_count": 7,
   "id": "fcf67667",
   "metadata": {},
   "outputs": [
    {
     "data": {
      "text/plain": [
       "{'name': 'help',\n",
       " 'parameters': {'properties': {'questions': {'anyOf': [{'type': 'string'},\n",
       "     {'items': {'type': 'string'}, 'type': 'array'}],\n",
       "    'description': 'provide detailed questions to guide the planner. you should augment the users question with the additional context that you have e.g. a known source',\n",
       "    'title': 'Questions'},\n",
       "   'context': {'anyOf': [{'type': 'string'}, {'type': 'null'}],\n",
       "    'default': None,\n",
       "    'description': 'any added context e.g. what tool, function, source the user or system suggests may know the answer',\n",
       "    'title': 'Context'}},\n",
       "  'required': ['questions'],\n",
       "  'type': 'object'},\n",
       " 'description': 'If you are stuck ask for help with very detailed questions to help the planner find resources for you.\\nIf you have a hint about what the source or tool to use hint that in each question that you ask.\\nFor example, you can either just ask a question or you can ask \"according to resource X\" and then ask the question. This is important context.'}"
      ]
     },
     "execution_count": 7,
     "metadata": {},
     "output_type": "execute_result"
    }
   ],
   "source": [
    "agent.functions['help'].function_spec"
   ]
  },
  {
   "cell_type": "code",
   "execution_count": 3,
   "id": "d44d8604",
   "metadata": {},
   "outputs": [
    {
     "name": "stderr",
     "output_type": "stream",
     "text": [
      "\u001b[32m2025-01-27 22:02:25.741\u001b[0m | \u001b[34m\u001b[1mDEBUG   \u001b[0m | \u001b[36mpercolate.services.FunctionManager\u001b[0m:\u001b[36madd_function\u001b[0m:\u001b[36m30\u001b[0m - \u001b[34m\u001b[1madding function: <bound method ModelRunner.help of Runner(public.MyFirstAgent)>\u001b[0m\n",
      "\u001b[32m2025-01-27 22:02:25.745\u001b[0m | \u001b[34m\u001b[1mDEBUG   \u001b[0m | \u001b[36mpercolate.services.FunctionManager\u001b[0m:\u001b[36madd_function\u001b[0m:\u001b[36m34\u001b[0m - \u001b[34m\u001b[1madded function help\u001b[0m\n",
      "\u001b[32m2025-01-27 22:02:25.775\u001b[0m | \u001b[34m\u001b[1mDEBUG   \u001b[0m | \u001b[36mpercolate.services.FunctionManager\u001b[0m:\u001b[36madd_function\u001b[0m:\u001b[36m34\u001b[0m - \u001b[34m\u001b[1madded function get_pet_findByStatus\u001b[0m\n",
      "\u001b[32m2025-01-27 22:02:25.776\u001b[0m | \u001b[33m\u001b[1mWARNING \u001b[0m | \u001b[36mpercolate.services.FunctionManager\u001b[0m:\u001b[36mactivate_agent_context\u001b[0m:\u001b[36m50\u001b[0m - \u001b[33m\u001b[1mWe could not find the function {'p8_About'}\u001b[0m\n",
      "\u001b[32m2025-01-27 22:02:25.777\u001b[0m | \u001b[34m\u001b[1mDEBUG   \u001b[0m | \u001b[36mpercolate.services.FunctionManager\u001b[0m:\u001b[36madd_function\u001b[0m:\u001b[36m30\u001b[0m - \u001b[34m\u001b[1madding function: <bound method ModelRunner.get_entities of Runner(public.MyFirstAgent)>\u001b[0m\n",
      "\u001b[32m2025-01-27 22:02:25.785\u001b[0m | \u001b[34m\u001b[1mDEBUG   \u001b[0m | \u001b[36mpercolate.services.FunctionManager\u001b[0m:\u001b[36madd_function\u001b[0m:\u001b[36m34\u001b[0m - \u001b[34m\u001b[1madded function get_entities\u001b[0m\n",
      "\u001b[32m2025-01-27 22:02:25.786\u001b[0m | \u001b[34m\u001b[1mDEBUG   \u001b[0m | \u001b[36mpercolate.services.FunctionManager\u001b[0m:\u001b[36madd_function\u001b[0m:\u001b[36m30\u001b[0m - \u001b[34m\u001b[1madding function: <bound method ModelRunner.search of Runner(public.MyFirstAgent)>\u001b[0m\n",
      "\u001b[32m2025-01-27 22:02:25.789\u001b[0m | \u001b[34m\u001b[1mDEBUG   \u001b[0m | \u001b[36mpercolate.services.FunctionManager\u001b[0m:\u001b[36madd_function\u001b[0m:\u001b[36m34\u001b[0m - \u001b[34m\u001b[1madded function search\u001b[0m\n",
      "\u001b[32m2025-01-27 22:02:25.790\u001b[0m | \u001b[34m\u001b[1mDEBUG   \u001b[0m | \u001b[36mpercolate.services.FunctionManager\u001b[0m:\u001b[36madd_function\u001b[0m:\u001b[36m30\u001b[0m - \u001b[34m\u001b[1madding function: <bound method ModelRunner.activate_functions_by_name of Runner(public.MyFirstAgent)>\u001b[0m\n",
      "\u001b[32m2025-01-27 22:02:25.793\u001b[0m | \u001b[34m\u001b[1mDEBUG   \u001b[0m | \u001b[36mpercolate.services.FunctionManager\u001b[0m:\u001b[36madd_function\u001b[0m:\u001b[36m34\u001b[0m - \u001b[34m\u001b[1madded function activate_functions_by_name\u001b[0m\n",
      "\u001b[32m2025-01-27 22:02:25.795\u001b[0m | \u001b[1mINFO    \u001b[0m | \u001b[36mpercolate.services.ModelRunner\u001b[0m:\u001b[36m__init__\u001b[0m:\u001b[36m38\u001b[0m - \u001b[1m******Constructed agent public.MyFirstAgent******\u001b[0m\n",
      "\u001b[32m2025-01-27 22:02:25.867\u001b[0m | \u001b[34m\u001b[1mDEBUG   \u001b[0m | \u001b[36mpercolate.services.llm.LanguageModel\u001b[0m:\u001b[36mcall_api_simple\u001b[0m:\u001b[36m209\u001b[0m - \u001b[34m\u001b[1minvoking model gpt-4o-2024-08-06\u001b[0m\n",
      "\u001b[32m2025-01-27 22:02:25.868\u001b[0m | \u001b[34m\u001b[1mDEBUG   \u001b[0m | \u001b[36mpercolate.services.llm.LanguageModel\u001b[0m:\u001b[36mcall_api_simple\u001b[0m:\u001b[36m283\u001b[0m - \u001b[34m\u001b[1mrequest data={'model': 'gpt-4o-2024-08-06', 'messages': [{'role': 'system', 'content': 'You are an agent that provides the information you are asked and a second random fact\\n# General Advice.\\nUse whatever functions are available to you and use world knowledge only if prompted \\nor if there is not other way \\nor the user is obviously asking about real world information that is not covered by functions.\\nObserve what functions you have to use and check the message history to avoid calling the same functions with the same parameters repeatedly.\\nIf you find a function name in your search, you can activate it by naming using one of your functions. You should do so without asking the user.\\n            '}, {'role': 'user', 'content': 'are there any sold pets'}], 'tools': [{'type': 'function', 'function': {'name': 'help', 'parameters': {'properties': {'questions': {'anyOf': [{'type': 'string'}, {'items': {'type': 'string'}, 'type': 'array'}], 'description': 'provide detailed questions to guide the planner. you should augment the users question with the additional context that you have e.g. a known source', 'title': 'Questions'}, 'context': {'anyOf': [{'type': 'string'}, {'type': 'null'}], 'default': None, 'description': 'any added context e.g. what tool, function, source the user or system suggests may know the answer', 'title': 'Context'}}, 'required': ['questions'], 'type': 'object'}, 'description': 'If you are stuck ask for help with very detailed questions to help the planner find resources for you.\\nIf you have a hint about what the source or tool to use hint that in each question that you ask.\\nFor example, you can either just ask a question or you can ask \"according to resource X\" and then ask the question. This is important context.'}}, {'type': 'function', 'function': {'name': 'get_pet_findByStatus', 'description': 'Multiple status values can be provided with comma separated strings', 'parameters': {'type': 'object', 'properties': {'status': {'type': 'array', 'description': 'Status values that need to be considered for filter', 'enum': ['available', 'pending', 'sold']}}, 'required': ['status']}}}, {'type': 'function', 'function': {'name': 'get_entities', 'parameters': {'properties': {'keys': {'anyOf': [{'type': 'string'}, {'type': 'null'}], 'description': 'one or more names to use to lookup the entity or entities', 'title': 'Keys'}}, 'required': ['keys'], 'type': 'object'}, 'description': 'Lookup entity by one or more keys. For example if you encounter entity names or keys in question, data etc you can use\\nthe entity search to learn more about them'}}, {'type': 'function', 'function': {'name': 'search', 'parameters': {'properties': {'questions': {'description': 'ask one or more questions to search the data store', 'items': {'type': 'string'}, 'title': 'Questions', 'type': 'array'}}, 'required': ['questions'], 'type': 'object'}, 'description': 'Run a general search on the model that is being used in the current context as per the system prompt\\nIf you want to add multiple questions supply a list of strings as an array.'}}, {'type': 'function', 'function': {'name': 'activate_functions_by_name', 'parameters': {'properties': {'function_names': {'items': {'type': 'string'}, 'title': 'Function Names', 'type': 'array'}, 'kwargs': {'title': 'Kwargs'}}, 'required': ['function_names', 'kwargs'], 'type': 'object'}, 'description': 'Provide a list of function names to load.\\nThe names should be fully qualified object_id.function_name'}}], 'temperature': 0.01}\u001b[0m\n",
      "\u001b[32m2025-01-27 22:02:26.737\u001b[0m | \u001b[34m\u001b[1mDEBUG   \u001b[0m | \u001b[36mpercolate.services.llm.LanguageModel\u001b[0m:\u001b[36m__call__\u001b[0m:\u001b[36m156\u001b[0m - \u001b[34m\u001b[1mResponse of type TOOL_CALLS with token consumption 552\u001b[0m\n",
      "\u001b[32m2025-01-27 22:02:26.737\u001b[0m | \u001b[34m\u001b[1mDEBUG   \u001b[0m | \u001b[36mpercolate.services.ModelRunner\u001b[0m:\u001b[36minvoke\u001b[0m:\u001b[36m120\u001b[0m - \u001b[34m\u001b[1m(public.MyFirstAgent)function_call=FunctionCall(name='get_pet_findByStatus', arguments={'status': 'sold'}, id='call_L2X9nqBOO2IKALqHXgcCoFh5', scheme=None)\u001b[0m\n",
      "\u001b[32m2025-01-27 22:02:26.820\u001b[0m | \u001b[34m\u001b[1mDEBUG   \u001b[0m | \u001b[36mpercolate.services.llm.LanguageModel\u001b[0m:\u001b[36mcall_api_simple\u001b[0m:\u001b[36m209\u001b[0m - \u001b[34m\u001b[1minvoking model gpt-4o-2024-08-06\u001b[0m\n",
      "\u001b[32m2025-01-27 22:02:26.820\u001b[0m | \u001b[34m\u001b[1mDEBUG   \u001b[0m | \u001b[36mpercolate.services.llm.LanguageModel\u001b[0m:\u001b[36mcall_api_simple\u001b[0m:\u001b[36m283\u001b[0m - \u001b[34m\u001b[1mrequest data={'model': 'gpt-4o-2024-08-06', 'messages': [{'role': 'system', 'content': 'You are an agent that provides the information you are asked and a second random fact\\n# General Advice.\\nUse whatever functions are available to you and use world knowledge only if prompted \\nor if there is not other way \\nor the user is obviously asking about real world information that is not covered by functions.\\nObserve what functions you have to use and check the message history to avoid calling the same functions with the same parameters repeatedly.\\nIf you find a function name in your search, you can activate it by naming using one of your functions. You should do so without asking the user.\\n            '}, {'role': 'user', 'content': 'are there any sold pets'}, {'role': 'assistant', 'content': None, 'tool_calls': [{'id': 'call_L2X9nqBOO2IKALqHXgcCoFh5', 'type': 'function', 'function': {'name': 'get_pet_findByStatus', 'arguments': '{\"status\":\"sold\"}'}}], 'refusal': None}, {'role': 'tool', 'content': '[{\"id\": 7574746, \"category\": {\"id\": 1, \"name\": \"Cat\"}, \"name\": \"Hardy\", \"photoUrls\": [\"https://i.pinimg.com/originals/5c/2c/44/5c2c44f16da1caf134c00bc4f9c72ea0.jpg\"], \"tags\": [{\"id\": 7805, \"name\": \"Mainecoon\"}], \"status\": \"sold\"}, {\"id\": 13, \"category\": {\"id\": 0, \"name\": \"cats\"}, \"photoUrls\": [\"string\"], \"tags\": [{\"id\": 0, \"name\": \"string\"}], \"status\": \"sold\"}, {\"id\": 17, \"name\": \"Special_char_owner_!@#$^&()`.testing\", \"photoUrls\": [\"https://petstore3.swagger.io/resources/photos/623389095.jpg\"], \"tags\": [], \"status\": \"sold\"}, {\"id\": 19467, \"name\": \"\\\\u898b\\\\u97ff\\\\u89c1\\\\u54cd\\\\u4eee\\\\u4ecf!$%&()*+,-\\\\u0184\\\\u0185\\\\u0186\\\\u1e1e\\\\u1e1f\\\\u1e40\\\\u02b6\\\\u02b7\\\\u02b8\\\\u0103\\\\u0104\\\\u0105\", \"photoUrls\": [\"https://petstore3.swagger.io/resources/photos/623389095.jpg\"], \"tags\": [], \"status\": \"sold\"}]', 'tool_call_id': 'call_L2X9nqBOO2IKALqHXgcCoFh5'}], 'tools': [{'type': 'function', 'function': {'name': 'help', 'parameters': {'properties': {'questions': {'anyOf': [{'type': 'string'}, {'items': {'type': 'string'}, 'type': 'array'}], 'description': 'provide detailed questions to guide the planner. you should augment the users question with the additional context that you have e.g. a known source', 'title': 'Questions'}, 'context': {'anyOf': [{'type': 'string'}, {'type': 'null'}], 'default': None, 'description': 'any added context e.g. what tool, function, source the user or system suggests may know the answer', 'title': 'Context'}}, 'required': ['questions'], 'type': 'object'}, 'description': 'If you are stuck ask for help with very detailed questions to help the planner find resources for you.\\nIf you have a hint about what the source or tool to use hint that in each question that you ask.\\nFor example, you can either just ask a question or you can ask \"according to resource X\" and then ask the question. This is important context.'}}, {'type': 'function', 'function': {'name': 'get_pet_findByStatus', 'description': 'Multiple status values can be provided with comma separated strings', 'parameters': {'type': 'object', 'properties': {'status': {'type': 'array', 'description': 'Status values that need to be considered for filter', 'enum': ['available', 'pending', 'sold']}}, 'required': ['status']}}}, {'type': 'function', 'function': {'name': 'get_entities', 'parameters': {'properties': {'keys': {'anyOf': [{'type': 'string'}, {'type': 'null'}], 'description': 'one or more names to use to lookup the entity or entities', 'title': 'Keys'}}, 'required': ['keys'], 'type': 'object'}, 'description': 'Lookup entity by one or more keys. For example if you encounter entity names or keys in question, data etc you can use\\nthe entity search to learn more about them'}}, {'type': 'function', 'function': {'name': 'search', 'parameters': {'properties': {'questions': {'description': 'ask one or more questions to search the data store', 'items': {'type': 'string'}, 'title': 'Questions', 'type': 'array'}}, 'required': ['questions'], 'type': 'object'}, 'description': 'Run a general search on the model that is being used in the current context as per the system prompt\\nIf you want to add multiple questions supply a list of strings as an array.'}}, {'type': 'function', 'function': {'name': 'activate_functions_by_name', 'parameters': {'properties': {'function_names': {'items': {'type': 'string'}, 'title': 'Function Names', 'type': 'array'}, 'kwargs': {'title': 'Kwargs'}}, 'required': ['function_names', 'kwargs'], 'type': 'object'}, 'description': 'Provide a list of function names to load.\\nThe names should be fully qualified object_id.function_name'}}], 'temperature': 0.01}\u001b[0m\n"
     ]
    },
    {
     "name": "stderr",
     "output_type": "stream",
     "text": [
      "\u001b[32m2025-01-27 22:02:32.181\u001b[0m | \u001b[34m\u001b[1mDEBUG   \u001b[0m | \u001b[36mpercolate.services.llm.LanguageModel\u001b[0m:\u001b[36m__call__\u001b[0m:\u001b[36m156\u001b[0m - \u001b[34m\u001b[1mResponse of type RESPONSE with token consumption 1125\u001b[0m\n"
     ]
    },
    {
     "data": {
      "text/plain": [
       "'Yes, there are several pets that have been sold. Here are a few examples:\\n\\n1. **Hardy** - A Mainecoon cat.\\n   ![Hardy](https://i.pinimg.com/originals/5c/2c/44/5c2c44f16da1caf134c00bc4f9c72ea0.jpg)\\n\\n2. A cat with unspecified details.\\n   ![Cat](https://petstore3.swagger.io/resources/photos/623389095.jpg)\\n\\n3. A pet named \"Special_char_owner_!@#$^&()`.testing\".\\n   ![Special_char_owner](https://petstore3.swagger.io/resources/photos/623389095.jpg)\\n\\n4. A pet with a name containing special characters: \"见响见响仿佛!$%&()*+,-ƄƅƆḞḟṀʶʷʸăĄą\".\\n   ![Special Character Pet](https://petstore3.swagger.io/resources/photos/623389095.jpg)\\n\\nRandom Fact: The Maine Coon is one of the largest domesticated cat breeds, known for its friendly and sociable nature.'"
      ]
     },
     "execution_count": 3,
     "metadata": {},
     "output_type": "execute_result"
    }
   ],
   "source": [
    "#b'Failed to deserialize the JSON body into the target type: messages[2].role: unknown variant `function`, expected one of `system`, `user`, `assistant`, `tool` at line 1 column 775'\n",
    "agent = p8.Agent(MyFirstAgent)\n",
    "agent.run(\"are there any sold pets\")"
   ]
  },
  {
   "cell_type": "code",
   "execution_count": 3,
   "id": "f70b4eab",
   "metadata": {},
   "outputs": [
    {
     "name": "stderr",
     "output_type": "stream",
     "text": [
      "\u001b[32m2025-01-27 20:23:25.129\u001b[0m | \u001b[34m\u001b[1mDEBUG   \u001b[0m | \u001b[36mpercolate.services.FunctionManager\u001b[0m:\u001b[36madd_function\u001b[0m:\u001b[36m30\u001b[0m - \u001b[34m\u001b[1madding function: <bound method ModelRunner.help of Runner(public.MyFirstAgent)>\u001b[0m\n",
      "\u001b[32m2025-01-27 20:23:25.138\u001b[0m | \u001b[34m\u001b[1mDEBUG   \u001b[0m | \u001b[36mpercolate.services.FunctionManager\u001b[0m:\u001b[36madd_function\u001b[0m:\u001b[36m34\u001b[0m - \u001b[34m\u001b[1madded function help\u001b[0m\n",
      "\u001b[32m2025-01-27 20:23:25.177\u001b[0m | \u001b[34m\u001b[1mDEBUG   \u001b[0m | \u001b[36mpercolate.services.FunctionManager\u001b[0m:\u001b[36madd_function\u001b[0m:\u001b[36m34\u001b[0m - \u001b[34m\u001b[1madded function get_pet_findByStatus\u001b[0m\n",
      "\u001b[32m2025-01-27 20:23:25.178\u001b[0m | \u001b[33m\u001b[1mWARNING \u001b[0m | \u001b[36mpercolate.services.FunctionManager\u001b[0m:\u001b[36mactivate_agent_context\u001b[0m:\u001b[36m50\u001b[0m - \u001b[33m\u001b[1mWe could not find the function {'p8_About'}\u001b[0m\n",
      "\u001b[32m2025-01-27 20:23:25.179\u001b[0m | \u001b[34m\u001b[1mDEBUG   \u001b[0m | \u001b[36mpercolate.services.FunctionManager\u001b[0m:\u001b[36madd_function\u001b[0m:\u001b[36m30\u001b[0m - \u001b[34m\u001b[1madding function: <bound method ModelRunner.get_entities of Runner(public.MyFirstAgent)>\u001b[0m\n",
      "\u001b[32m2025-01-27 20:23:25.181\u001b[0m | \u001b[34m\u001b[1mDEBUG   \u001b[0m | \u001b[36mpercolate.services.FunctionManager\u001b[0m:\u001b[36madd_function\u001b[0m:\u001b[36m34\u001b[0m - \u001b[34m\u001b[1madded function get_entities\u001b[0m\n",
      "\u001b[32m2025-01-27 20:23:25.184\u001b[0m | \u001b[34m\u001b[1mDEBUG   \u001b[0m | \u001b[36mpercolate.services.FunctionManager\u001b[0m:\u001b[36madd_function\u001b[0m:\u001b[36m30\u001b[0m - \u001b[34m\u001b[1madding function: <bound method ModelRunner.search of Runner(public.MyFirstAgent)>\u001b[0m\n",
      "\u001b[32m2025-01-27 20:23:25.187\u001b[0m | \u001b[34m\u001b[1mDEBUG   \u001b[0m | \u001b[36mpercolate.services.FunctionManager\u001b[0m:\u001b[36madd_function\u001b[0m:\u001b[36m34\u001b[0m - \u001b[34m\u001b[1madded function search\u001b[0m\n",
      "\u001b[32m2025-01-27 20:23:25.188\u001b[0m | \u001b[34m\u001b[1mDEBUG   \u001b[0m | \u001b[36mpercolate.services.FunctionManager\u001b[0m:\u001b[36madd_function\u001b[0m:\u001b[36m30\u001b[0m - \u001b[34m\u001b[1madding function: <bound method ModelRunner.activate_functions_by_name of Runner(public.MyFirstAgent)>\u001b[0m\n",
      "\u001b[32m2025-01-27 20:23:25.189\u001b[0m | \u001b[34m\u001b[1mDEBUG   \u001b[0m | \u001b[36mpercolate.services.FunctionManager\u001b[0m:\u001b[36madd_function\u001b[0m:\u001b[36m34\u001b[0m - \u001b[34m\u001b[1madded function activate_functions_by_name\u001b[0m\n",
      "\u001b[32m2025-01-27 20:23:25.190\u001b[0m | \u001b[1mINFO    \u001b[0m | \u001b[36mpercolate.services.ModelRunner\u001b[0m:\u001b[36m__init__\u001b[0m:\u001b[36m38\u001b[0m - \u001b[1m******Constructed agent public.MyFirstAgent******\u001b[0m\n",
      "\u001b[32m2025-01-27 20:23:25.247\u001b[0m | \u001b[34m\u001b[1mDEBUG   \u001b[0m | \u001b[36mpercolate.services.llm.LanguageModel\u001b[0m:\u001b[36mcall_api_simple\u001b[0m:\u001b[36m199\u001b[0m - \u001b[34m\u001b[1minvoking model gpt-4o-2024-08-06\u001b[0m\n",
      "\u001b[32m2025-01-27 20:23:26.450\u001b[0m | \u001b[34m\u001b[1mDEBUG   \u001b[0m | \u001b[36mpercolate.services.llm.LanguageModel\u001b[0m:\u001b[36m__call__\u001b[0m:\u001b[36m146\u001b[0m - \u001b[34m\u001b[1mResponse of type TOOL_CALLS with token consumption 553\u001b[0m\n",
      "\u001b[32m2025-01-27 20:23:26.451\u001b[0m | \u001b[34m\u001b[1mDEBUG   \u001b[0m | \u001b[36mpercolate.services.ModelRunner\u001b[0m:\u001b[36minvoke\u001b[0m:\u001b[36m120\u001b[0m - \u001b[34m\u001b[1m(public.MyFirstAgent)function_call=FunctionCall(name='get_pet_findByStatus', arguments={'status': 'available'}, id='call_oJvCUL2eqKE74fp531TRJeRE')\u001b[0m\n",
      "\u001b[32m2025-01-27 20:23:26.706\u001b[0m | \u001b[34m\u001b[1mDEBUG   \u001b[0m | \u001b[36mpercolate.services.llm.LanguageModel\u001b[0m:\u001b[36mcall_api_simple\u001b[0m:\u001b[36m199\u001b[0m - \u001b[34m\u001b[1minvoking model gpt-4o-2024-08-06\u001b[0m\n",
      "\u001b[32m2025-01-27 20:23:30.243\u001b[0m | \u001b[34m\u001b[1mDEBUG   \u001b[0m | \u001b[36mpercolate.services.llm.LanguageModel\u001b[0m:\u001b[36m__call__\u001b[0m:\u001b[36m146\u001b[0m - \u001b[34m\u001b[1mResponse of type RESPONSE with token consumption 10370\u001b[0m\n"
     ]
    },
    {
     "data": {
      "text/plain": [
       "\"Yes, there are several available pets. Here are a few examples:\\n\\n1. **Doggie** - A dog with ID 9222968140497180615.\\n2. **Fish** - A fish with ID 9222968140497180629.\\n3. **Puff** - A pet with ID 9222968140497180637.\\n4. **Leo** - A German Shepherd dog with ID 9222968140497181119.\\n\\nIf you're interested in any specific type of pet, let me know!\\n\\n**Random Fact:** Did you know that the world's oldest known breed of domesticated dog is the Saluki, which dates back to ancient Egypt around 329 BC?\""
      ]
     },
     "execution_count": 3,
     "metadata": {},
     "output_type": "execute_result"
    }
   ],
   "source": [
    "agent = p8.Agent(MyFirstAgent)\n",
    "agent.run(\"are there any avalable pets\")"
   ]
  },
  {
   "cell_type": "markdown",
   "id": "c28f3b0e",
   "metadata": {},
   "source": [
    "# we register APIs as follows"
   ]
  },
  {
   "cell_type": "code",
   "execution_count": 1,
   "id": "99dbb465",
   "metadata": {},
   "outputs": [
    {
     "name": "stderr",
     "output_type": "stream",
     "text": [
      "\u001b[32m2025-01-28 06:29:12.135\u001b[0m | \u001b[1mINFO    \u001b[0m | \u001b[36mpercolate.utils.ingestion.add\u001b[0m:\u001b[36madd_api\u001b[0m:\u001b[36m31\u001b[0m - \u001b[1mAdding API uri='https://petstore.swagger.io/v2/swagger.json'\u001b[0m\n",
      "\u001b[32m2025-01-28 06:29:12.506\u001b[0m | \u001b[34m\u001b[1mDEBUG   \u001b[0m | \u001b[36mpercolate.utils.ingestion.add\u001b[0m:\u001b[36madd_api\u001b[0m:\u001b[36m37\u001b[0m - \u001b[34m\u001b[1mAdded api uri='https://petstore.swagger.io/v2/swagger.json'\u001b[0m\n"
     ]
    }
   ],
   "source": [
    "from percolate.utils.ingestion import add \n",
    "add.add_api('swagger_test', 'https://petstore.swagger.io/v2/swagger.json', verbs='get')"
   ]
  },
  {
   "cell_type": "code",
   "execution_count": null,
   "id": "8be16b12",
   "metadata": {},
   "outputs": [],
   "source": [
    "# we can check the function is there"
   ]
  },
  {
   "cell_type": "code",
   "execution_count": null,
   "id": "97b0b4c0",
   "metadata": {},
   "outputs": [],
   "source": [
    "from percolate.models.p8 import Function\n",
    "\n",
    "p8.repository(Function).get_by_name(['get_pet_findByStatus'], as_model=True)"
   ]
  },
  {
   "cell_type": "code",
   "execution_count": null,
   "id": "604c5cdf",
   "metadata": {},
   "outputs": [],
   "source": [
    "#using\n",
    "agent = p8.Agent(MyFirstAgent)\n",
    "agent.run(\"can you find available pets\",limit=2)"
   ]
  },
  {
   "cell_type": "code",
   "execution_count": null,
   "id": "37739559",
   "metadata": {},
   "outputs": [],
   "source": [
    "#using native functions -> p8_About\n",
    "p8.Agent(MyFirstAgent).run(\"what can you tell me about percolate\")"
   ]
  }
 ],
 "metadata": {
  "kernelspec": {
   "display_name": "Python 3 (ipykernel)",
   "language": "python",
   "name": "python3"
  },
  "language_info": {
   "codemirror_mode": {
    "name": "ipython",
    "version": 3
   },
   "file_extension": ".py",
   "mimetype": "text/x-python",
   "name": "python",
   "nbconvert_exporter": "python",
   "pygments_lexer": "ipython3",
   "version": "3.10.10"
  }
 },
 "nbformat": 4,
 "nbformat_minor": 5
}
