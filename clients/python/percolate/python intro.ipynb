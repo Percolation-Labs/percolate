{
 "cells": [
  {
   "cell_type": "markdown",
   "id": "ee1418e4",
   "metadata": {},
   "source": [
    "# Introduction to p8 python client for agentic systems\n",
    "- Percolate is a database that allows agents to be built entirely in the data tier\n",
    "- However either for testing or to orchastrate more complex agents in code, we provide a python guide\n",
    "- This giude assumes that you have followed the guides to add some initial data and tools\n",
    "- to learn more see here"
   ]
  },
  {
   "cell_type": "code",
   "execution_count": null,
   "id": "74fa49e7",
   "metadata": {},
   "outputs": [],
   "source": [
    "import percolate as p8"
   ]
  },
  {
   "cell_type": "markdown",
   "id": "ca51de90",
   "metadata": {},
   "source": [
    "# Agents are simple in Percolate\n",
    "- They are just Pydantic objects with references to extenral tools in your function repository\n",
    "- You can provide structure and you can use this structure to save and search data in the database for your agent\n"
   ]
  },
  {
   "cell_type": "code",
   "execution_count": null,
   "id": "44448ec6",
   "metadata": {},
   "outputs": [],
   "source": [
    "from pydantic import BaseModel,Field\n",
    "import typing\n",
    "from percolate.models import DefaultEmbeddingField\n",
    "\n",
    "class MyFirstAgent(BaseModel):\n",
    "    \"\"\"You are an agent that provides the information you are asked and a second random fact\"\"\"\n",
    "    #because it has no config it will save to the public database schema\n",
    "    \n",
    "    name: str = Field(description=\"Task name\")\n",
    "    #the default embedding field just settgs json_schema_extra.embedding_provider so you can do that yourself\n",
    "    description:str = DefaultEmbeddingField(description=\"Task description\")\n",
    "    \n",
    "    @classmethod\n",
    "    def get_functions(cls):\n",
    "        \"\"\"i return a list of functions by key stored in the database\"\"\"\n",
    "        return {}"
   ]
  },
  {
   "cell_type": "code",
   "execution_count": null,
   "id": "50068b10",
   "metadata": {},
   "outputs": [],
   "source": [
    "p8.Agent(MyFirstAgent).run(\"what is the capital of ireland\")"
   ]
  },
  {
   "cell_type": "code",
   "execution_count": null,
   "id": "5e1dcd9a",
   "metadata": {},
   "outputs": [],
   "source": [
    "# 0.test registering api fuctions and later apis\n",
    "# 1.add the functions that we have in get_funtions on register external functions in this context are added as inline functions in this approach\n",
    "# 2.test other models including grok xai\n",
    "# 3.external functions are searchable by plans\n",
    "# 4.test inline functions even though we dont use them\n",
    "# 5.test restoring a function from the database as above\n",
    "# 6.test planning over entities / functions\n",
    "# 7.test using native functions\n",
    "# 8.add the database interface for function calls - lots of tests for different api responses\n",
    "# 9.test loading entities and their functions\n",
    "#10.test crud"
   ]
  },
  {
   "cell_type": "markdown",
   "id": "4612d4c0",
   "metadata": {},
   "source": [
    "## Behind the scenes\n",
    "- we created a simple rest api wrapper instead of adding various api python clients\n",
    "- you can can iterate over these check the response of each model for which you have an API key defined\n",
    "- you should first check the langauge model is in your data store - either you have added the API token there or in the env var given by the reference to the env\n",
    "- we will then iterate and ask the same question first with tools and then without tools to see what the payloads look like for testing\n",
    "- **This is illustrated in `percolate.services.llm._check_all`**\n",
    "- the high level wrapper we use parsers to a single response scheme"
   ]
  },
  {
   "cell_type": "code",
   "execution_count": 9,
   "id": "000a33b1",
   "metadata": {},
   "outputs": [],
   "source": [
    "from percolate.services.llm import _check_all, LanguageModel\n",
    "#some example response are in the tests"
   ]
  },
  {
   "cell_type": "markdown",
   "id": "366616b1",
   "metadata": {},
   "source": [
    "### asking without tools"
   ]
  },
  {
   "cell_type": "code",
   "execution_count": 2,
   "id": "4d6236b3",
   "metadata": {},
   "outputs": [
    {
     "name": "stderr",
     "output_type": "stream",
     "text": [
      "\u001b[32m2025-01-27 07:34:03.439\u001b[0m | \u001b[34m\u001b[1mDEBUG   \u001b[0m | \u001b[36mpercolate.services.llm.LanguageModel\u001b[0m:\u001b[36mcall_api_simple\u001b[0m:\u001b[36m150\u001b[0m - \u001b[34m\u001b[1minvoking model gemini-1.5-flash\u001b[0m\n"
     ]
    },
    {
     "data": {
      "text/plain": [
       "AIResponse(id='fe3554ae-dcaa-11ef-889b-7606330c2360', model_name='gemini-1.5-flash', tokens=None, tokens_in=16, tokens_out=30, tokens_other=None, session_id=None, role='model', content='The capital of Ireland is Dublin.\\n\\nDid you know that Ireland is the only island in the world with two official languages, Irish and English?\\n', status='RESPONSE', tool_calls=[], tool_eval_data=None)"
      ]
     },
     "execution_count": 2,
     "metadata": {},
     "output_type": "execute_result"
    }
   ],
   "source": [
    "gem = LanguageModel('gemini-1.5-flash')\n",
    "gem.ask(\"What is the capital of ireland\", system_prompt=\"Give me a random fact when answering my question\")"
   ]
  },
  {
   "cell_type": "code",
   "execution_count": 2,
   "id": "2e755236",
   "metadata": {},
   "outputs": [
    {
     "name": "stderr",
     "output_type": "stream",
     "text": [
      "\u001b[32m2025-01-27 07:37:45.400\u001b[0m | \u001b[34m\u001b[1mDEBUG   \u001b[0m | \u001b[36mpercolate.services.llm.LanguageModel\u001b[0m:\u001b[36mcall_api_simple\u001b[0m:\u001b[36m150\u001b[0m - \u001b[34m\u001b[1minvoking model claude-3-5-sonnet-20241022\u001b[0m\n"
     ]
    },
    {
     "data": {
      "text/plain": [
       "AIResponse(id='843d1b18-dcab-11ef-b21f-7606330c2360', model_name='claude-3-5-sonnet-20241022', tokens=None, tokens_in=23, tokens_out=106, tokens_other=None, session_id=None, role='assistant', content=\"The capital of Ireland is Dublin. It's both the largest city and the capital, located on the eastern coast of the country at the mouth of the River Liffey.\\n\\nRandom fact: While we're talking about Ireland, did you know that the submarine was invented by an Irishman? John Philip Holland, born in County Clare, Ireland, created the first submarine to be formally commissioned by the U.S. Navy in 1900. His design became the foundation for modern submarine development!\", status='RESPONSE', tool_calls=[], tool_eval_data=None)"
      ]
     },
     "execution_count": 2,
     "metadata": {},
     "output_type": "execute_result"
    }
   ],
   "source": [
    "claude = LanguageModel('claude-3-5-sonnet-20241022')\n",
    "claude.ask(\"What is the capital of ireland\", system_prompt=\"Give me a random fact when answering my question\")"
   ]
  },
  {
   "cell_type": "code",
   "execution_count": 8,
   "id": "8e104d1f",
   "metadata": {},
   "outputs": [
    {
     "name": "stderr",
     "output_type": "stream",
     "text": [
      "\u001b[32m2025-01-27 07:42:09.993\u001b[0m | \u001b[34m\u001b[1mDEBUG   \u001b[0m | \u001b[36mpercolate.services.llm.LanguageModel\u001b[0m:\u001b[36mcall_api_simple\u001b[0m:\u001b[36m150\u001b[0m - \u001b[34m\u001b[1minvoking model grok-2-latest\u001b[0m\n"
     ]
    },
    {
     "data": {
      "text/plain": [
       "AIResponse(id='208abf2a-dcac-11ef-b21f-7606330c2360', model_name='grok-2-1212', tokens=None, tokens_in=26, tokens_out=46, tokens_other=None, session_id=None, role='assistant', content='The capital of Ireland is Dublin. \\n\\nRandom fact: Did you know that Dublin is home to the famous Guinness Brewery, which was founded in 1759 and is one of the most visited tourist attractions in Ireland?', status='RESPONSE', tool_calls=[], tool_eval_data=None)"
      ]
     },
     "execution_count": 8,
     "metadata": {},
     "output_type": "execute_result"
    }
   ],
   "source": [
    "xai = LanguageModel('grok-2-latest')\n",
    "xai.ask(\"What is the capital of ireland\", system_prompt=\"Give me a random fact when answering my question\")"
   ]
  },
  {
   "cell_type": "code",
   "execution_count": 9,
   "id": "7f50f71f",
   "metadata": {},
   "outputs": [
    {
     "name": "stderr",
     "output_type": "stream",
     "text": [
      "\u001b[32m2025-01-27 07:42:40.933\u001b[0m | \u001b[34m\u001b[1mDEBUG   \u001b[0m | \u001b[36mpercolate.services.llm.LanguageModel\u001b[0m:\u001b[36mcall_api_simple\u001b[0m:\u001b[36m150\u001b[0m - \u001b[34m\u001b[1minvoking model deepseek-chat\u001b[0m\n"
     ]
    },
    {
     "data": {
      "text/plain": [
       "AIResponse(id='33c8598a-dcac-11ef-b21f-7606330c2360', model_name='deepseek-chat', tokens=None, tokens_in=19, tokens_out=55, tokens_other=None, session_id=None, role='assistant', content='The capital of Ireland is Dublin. \\n\\nRandom fact: Dublin is home to the famous Guinness Storehouse, where you can learn about the history of Guinness beer and enjoy a pint with a panoramic view of the city from the Gravity Bar. Cheers! 🍻', status='RESPONSE', tool_calls=[], tool_eval_data=None)"
      ]
     },
     "execution_count": 9,
     "metadata": {},
     "output_type": "execute_result"
    }
   ],
   "source": [
    "deepseek = LanguageModel('deepseek-chat')\n",
    "deepseek.ask(\"What is the capital of ireland\", system_prompt=\"Give me a random fact when answering my question\")"
   ]
  },
  {
   "cell_type": "markdown",
   "id": "b89d5807",
   "metadata": {},
   "source": [
    "### asking with tools\n",
    "- we create a fictitious tool first - this tested the response in a simple way"
   ]
  },
  {
   "cell_type": "code",
   "execution_count": 1,
   "id": "d6b6467d",
   "metadata": {},
   "outputs": [],
   "source": [
    "from percolate.services.llm import _check_all, LanguageModel\n",
    "\n",
    "fns =[{\n",
    "  \"name\": \"get_weather\",\n",
    "  \"description\": \"Get the weather forecast for a specific city and date\",\n",
    "  \"parameters\": {\n",
    "    \"type\": \"object\",\n",
    "    \"properties\": {\n",
    "      \"city\": {\n",
    "        \"type\": \"string\",\n",
    "        \"description\": \"The city for which to get the weather forecast\"\n",
    "      },\n",
    "      \"date\": {\n",
    "        \"type\": \"string\",\n",
    "        \"description\": \"The date for the weather forecast (YYYY-MM-DD)\"\n",
    "      }\n",
    "    },\n",
    "    \"required\": [\"city\", \"date\"]\n",
    "  }\n",
    "}]\n",
    "\n"
   ]
  },
  {
   "cell_type": "code",
   "execution_count": 2,
   "id": "f7c3793d",
   "metadata": {},
   "outputs": [
    {
     "name": "stderr",
     "output_type": "stream",
     "text": [
      "\u001b[32m2025-01-27 08:39:35.873\u001b[0m | \u001b[34m\u001b[1mDEBUG   \u001b[0m | \u001b[36mpercolate.services.llm.LanguageModel\u001b[0m:\u001b[36mcall_api_simple\u001b[0m:\u001b[36m169\u001b[0m - \u001b[34m\u001b[1minvoking model claude-3-5-sonnet-20241022\u001b[0m\n",
      "\u001b[32m2025-01-27 08:39:35.874\u001b[0m | \u001b[34m\u001b[1mDEBUG   \u001b[0m | \u001b[36mpercolate.services.llm.LanguageModel\u001b[0m:\u001b[36mcall_api_simple\u001b[0m:\u001b[36m240\u001b[0m - \u001b[34m\u001b[1mrequest data={'model': 'claude-3-5-sonnet-20241022', 'temperature': 0.01, 'messages': [{'role': 'user', 'content': 'What is the weather in dublin tomorrow'}], 'max_tokens': 8192}\u001b[0m\n"
     ]
    },
    {
     "data": {
      "text/plain": [
       "AIResponse(id='2731af0c-dcb4-11ef-b42b-7606330c2360', model_name='claude-3-5-sonnet-20241022', tokens=None, tokens_in=14, tokens_out=87, tokens_other=None, session_id=None, role='assistant', content='I am not able to provide real-time weather forecasts or predictions. To get accurate weather information for Dublin tomorrow, I recommend:\\n\\n1. Checking a weather website or app (like Met Éireann for Ireland)\\n2. Using your local weather service\\n3. Checking news websites with weather sections\\n\\nThese sources will give you up-to-date and accurate weather forecasts for Dublin.', status='RESPONSE', tool_calls=[], tool_eval_data=None)"
      ]
     },
     "execution_count": 2,
     "metadata": {},
     "output_type": "execute_result"
    }
   ],
   "source": [
    "claude = LanguageModel('claude-3-5-sonnet-20241022')\n",
    "claude.ask(\"What is the weather in dublin tomorrow\", functions=None)\n"
   ]
  },
  {
   "cell_type": "code",
   "execution_count": 4,
   "id": "49577478",
   "metadata": {},
   "outputs": [
    {
     "name": "stderr",
     "output_type": "stream",
     "text": [
      "\u001b[32m2025-01-27 08:39:51.748\u001b[0m | \u001b[34m\u001b[1mDEBUG   \u001b[0m | \u001b[36mpercolate.services.llm.LanguageModel\u001b[0m:\u001b[36mcall_api_simple\u001b[0m:\u001b[36m169\u001b[0m - \u001b[34m\u001b[1minvoking model gemini-1.5-flash\u001b[0m\n",
      "\u001b[32m2025-01-27 08:39:51.750\u001b[0m | \u001b[34m\u001b[1mDEBUG   \u001b[0m | \u001b[36mpercolate.services.llm.LanguageModel\u001b[0m:\u001b[36mcall_api_simple\u001b[0m:\u001b[36m240\u001b[0m - \u001b[34m\u001b[1mrequest data={'contents': [{'role': 'user', 'parts': {'text': 'What is the weather in dublin'}}], 'tool_config': {'function_calling_config': {'mode': 'ANY'}}, 'tools': [{'function_declarations': [{'name': 'get_weather', 'description': 'Get the weather forecast for a specific city and date', 'parameters': {'type': 'object', 'properties': {'city': {'type': 'string', 'description': 'The city for which to get the weather forecast'}, 'date': {'type': 'string', 'description': 'The date for the weather forecast (YYYY-MM-DD)'}}, 'required': ['city', 'date']}}]}]}\u001b[0m\n"
     ]
    },
    {
     "data": {
      "text/plain": [
       "AIResponse(id='2faba750-dcb4-11ef-b42b-7606330c2360', model_name='gemini-1.5-flash', tokens=None, tokens_in=81, tokens_out=17, tokens_other=None, session_id=None, role='model', content='', status='TOOL_CALLS', tool_calls=[{'function': {'name': 'get_weather', 'arguments': {'city': 'dublin', 'date': '2024-02-29'}}}], tool_eval_data=None)"
      ]
     },
     "execution_count": 4,
     "metadata": {},
     "output_type": "execute_result"
    }
   ],
   "source": [
    "gem = LanguageModel('gemini-1.5-flash')\n",
    "gem.ask(\"What is the weather in dublin\", functions=fns)\n"
   ]
  },
  {
   "cell_type": "code",
   "execution_count": 3,
   "id": "2079f21c",
   "metadata": {},
   "outputs": [
    {
     "name": "stderr",
     "output_type": "stream",
     "text": [
      "\u001b[32m2025-01-27 08:29:41.358\u001b[0m | \u001b[34m\u001b[1mDEBUG   \u001b[0m | \u001b[36mpercolate.services.llm.LanguageModel\u001b[0m:\u001b[36mcall_api_simple\u001b[0m:\u001b[36m168\u001b[0m - \u001b[34m\u001b[1minvoking model gpt-4o-mini\u001b[0m\n",
      "\u001b[32m2025-01-27 08:29:41.359\u001b[0m | \u001b[34m\u001b[1mDEBUG   \u001b[0m | \u001b[36mpercolate.services.llm.LanguageModel\u001b[0m:\u001b[36mcall_api_simple\u001b[0m:\u001b[36m239\u001b[0m - \u001b[34m\u001b[1mrequest data={'model': 'gpt-4o-mini', 'messages': [{'role': 'user', 'content': 'What is the weather in dublin tomorrow'}], 'tools': [{'type': 'function', 'function': {'name': 'get_weather', 'description': 'Get the weather forecast for a specific city and date', 'parameters': {'type': 'object', 'properties': {'city': {'type': 'string', 'description': 'The city for which to get the weather forecast'}, 'date': {'type': 'string', 'description': 'The date for the weather forecast (YYYY-MM-DD)'}}, 'required': ['city', 'date']}}}], 'temperature': 0.01}\u001b[0m\n"
     ]
    },
    {
     "data": {
      "text/plain": [
       "AIResponse(id='c407fc98-dcb2-11ef-94f1-7606330c2360', model_name='gpt-4o-mini-2024-07-18', tokens=None, tokens_in=82, tokens_out=25, tokens_other=None, session_id=None, role='assistant', content='', status='TOOL_CALLS', tool_calls=[{'id': 'call_hZgUO0LgPAklKbtlnl4nGc0V', 'type': 'function', 'function': {'name': 'get_weather', 'arguments': '{\"city\":\"Dublin\",\"date\":\"2023-10-06\"}'}}], tool_eval_data=None)"
      ]
     },
     "execution_count": 3,
     "metadata": {},
     "output_type": "execute_result"
    }
   ],
   "source": [
    "gmin = LanguageModel('gpt-4o-mini')\n",
    "gmin.ask(\"What is the weather in dublin tomorrow\", functions=fns)\n"
   ]
  },
  {
   "cell_type": "code",
   "execution_count": 5,
   "id": "60a0e673",
   "metadata": {},
   "outputs": [],
   "source": [
    "import percolate as p8\n",
    "from pydantic import BaseModel,Field\n",
    "import typing\n",
    "from percolate.models import DefaultEmbeddingField\n",
    "\n",
    "class MyFirstAgent(BaseModel):\n",
    "    \"\"\"You are an agent that provides the information you are asked and a second random fact\"\"\"\n",
    "    #because it has no config it will save to the public database schema\n",
    "    \n",
    "    name: str = Field(description=\"Task name\")\n",
    "    #the default embedding field just settgs json_schema_extra.embedding_provider so you can do that yourself\n",
    "    description:str = DefaultEmbeddingField(description=\"Task description\")\n",
    "    \n",
    "    @classmethod\n",
    "    def get_model_functions(cls):\n",
    "        \"\"\"i return a list of functions by key stored in the database\"\"\"\n",
    "        return {\n",
    "            'get_pet_findByStatus': \"a function i used to look up petes based on their status\",\n",
    "            'p8_About' : 'a \"native\" database function that gives me general information about percolate'\n",
    "        }\n",
    " "
   ]
  },
  {
   "cell_type": "code",
   "execution_count": null,
   "id": "c5484605",
   "metadata": {},
   "outputs": [],
   "source": [
    "# we register APIs as follows"
   ]
  },
  {
   "cell_type": "code",
   "execution_count": null,
   "id": "d52feae2",
   "metadata": {},
   "outputs": [],
   "source": [
    "from percolate.utils.ingestion import add \n",
    "add.add_api('swagger_test', 'https://petstore.swagger.io/v2/swagger.json', verbs='get')"
   ]
  },
  {
   "cell_type": "code",
   "execution_count": null,
   "id": "e408777d",
   "metadata": {},
   "outputs": [],
   "source": [
    "# we can check the function is there"
   ]
  },
  {
   "cell_type": "code",
   "execution_count": null,
   "id": "4629a5be",
   "metadata": {},
   "outputs": [],
   "source": [
    "from percolate.models.p8 import Function\n",
    "\n",
    "p8.repository(Function).get_by_name(['get_pet_findByStatus'], as_model=True)"
   ]
  },
  {
   "cell_type": "code",
   "execution_count": null,
   "id": "3bbe6e99",
   "metadata": {},
   "outputs": [],
   "source": [
    "#using\n",
    "agent = p8.Agent(MyFirstAgent)\n",
    "agent.run(\"can you find available pets\",limit=2)"
   ]
  },
  {
   "cell_type": "code",
   "execution_count": null,
   "id": "54826ff7",
   "metadata": {},
   "outputs": [],
   "source": [
    "#using native functions -> p8_About\n",
    "p8.Agent(MyFirstAgent).run(\"what can you tell me about percolate\")"
   ]
  }
 ],
 "metadata": {
  "kernelspec": {
   "display_name": "Python 3 (ipykernel)",
   "language": "python",
   "name": "python3"
  },
  "language_info": {
   "codemirror_mode": {
    "name": "ipython",
    "version": 3
   },
   "file_extension": ".py",
   "mimetype": "text/x-python",
   "name": "python",
   "nbconvert_exporter": "python",
   "pygments_lexer": "ipython3",
   "version": "3.10.10"
  }
 },
 "nbformat": 4,
 "nbformat_minor": 5
}
