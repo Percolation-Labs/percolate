{
 "cells": [
  {
   "cell_type": "markdown",
   "id": "87dd8813",
   "metadata": {},
   "source": [
    "# Introduction to p8 python client for agentic systems\n",
    "- Percolate is a database that allows agents to be built entirely in the data tier\n",
    "- However either for testing or to orchastrate more complex agents in code, we provide a python guide\n",
    "- This giude assumes that you have followed the guides to add some initial data and tools\n",
    "- to learn more see here"
   ]
  },
  {
   "cell_type": "code",
   "execution_count": null,
   "id": "ec3fdff6",
   "metadata": {},
   "outputs": [],
   "source": [
    "import percolate as p8"
   ]
  },
  {
   "cell_type": "markdown",
   "id": "cb8353be",
   "metadata": {},
   "source": [
    "# Agents are simple in Percolate\n",
    "- They are just Pydantic objects with references to extenral tools in your function repository\n",
    "- You can provide structure and you can use this structure to save and search data in the database for your agent\n"
   ]
  },
  {
   "cell_type": "code",
   "execution_count": null,
   "id": "253409b9",
   "metadata": {},
   "outputs": [],
   "source": [
    "from pydantic import BaseModel,Field\n",
    "import typing\n",
    "from percolate.models import DefaultEmbeddingField\n",
    "\n",
    "class MyFirstAgent(BaseModel):\n",
    "    \"\"\"You are an agent that provides the information you are asked and a second random fact\"\"\"\n",
    "    #because it has no config it will save to the public database schema\n",
    "    \n",
    "    name: str = Field(description=\"Task name\")\n",
    "    #the default embedding field just settgs json_schema_extra.embedding_provider so you can do that yourself\n",
    "    description:str = DefaultEmbeddingField(description=\"Task description\")\n",
    "    \n",
    "    @classmethod\n",
    "    def get_functions(cls):\n",
    "        \"\"\"i return a list of functions by key stored in the database\"\"\"\n",
    "        return {}"
   ]
  },
  {
   "cell_type": "code",
   "execution_count": null,
   "id": "3c5aa320",
   "metadata": {},
   "outputs": [],
   "source": [
    "p8.Agent(MyFirstAgent).run(\"what is the capital of ireland\")"
   ]
  },
  {
   "cell_type": "code",
   "execution_count": null,
   "id": "f03b45bc",
   "metadata": {},
   "outputs": [],
   "source": [
    "# 0.test registering api fuctions and later apis\n",
    "# 1.add the functions that we have in get_funtions on register external functions in this context are added as inline functions in this approach\n",
    "# 2.test other models including grok xai\n",
    "# 3.external functions are searchable by plans\n",
    "# 4.test inline functions even though we dont use them\n",
    "# 5.test restoring a function from the database as above\n",
    "# 6.test planning over entities / functions\n",
    "# 7.test using native functions\n",
    "# 8.add the database interface for function calls - lots of tests for different api responses\n",
    "# 9.test loading entities and their functions\n",
    "#10.test crud"
   ]
  },
  {
   "cell_type": "markdown",
   "id": "cfd18b35",
   "metadata": {},
   "source": [
    "## Behind the scenes\n",
    "- we created a simple rest api wrapper instead of adding various api python clients\n",
    "- you can can iterate over these check the response of each model for which you have an API key defined\n",
    "- you should first check the langauge model is in your data store - either you have added the API token there or in the env var given by the reference to the env\n",
    "- we will then iterate and ask the same question first with tools and then without tools to see what the payloads look like for testing\n",
    "- **This is illustrated in `percolate.services.llm._check_all`**\n",
    "- the high level wrapper we use parsers to a single response scheme"
   ]
  },
  {
   "cell_type": "code",
   "execution_count": 9,
   "id": "1c40e244",
   "metadata": {},
   "outputs": [],
   "source": [
    "from percolate.services.llm import _check_all, LanguageModel\n",
    "#some example response are in the tests"
   ]
  },
  {
   "cell_type": "markdown",
   "id": "447e7ce6",
   "metadata": {},
   "source": [
    "### asking without tools"
   ]
  },
  {
   "cell_type": "code",
   "execution_count": 2,
   "id": "5bbfc82d",
   "metadata": {},
   "outputs": [],
   "source": [
    "gem = LanguageModel('gemini-1.5-flash')\n",
    "gem.ask(\"What is the capital of ireland\", system_prompt=\"Give me a random fact when answering my question\")"
   ]
  },
  {
   "cell_type": "code",
   "execution_count": 2,
   "id": "3b2d222d",
   "metadata": {},
   "outputs": [],
   "source": [
    "claude = LanguageModel('claude-3-5-sonnet-20241022')\n",
    "claude.ask(\"What is the capital of ireland\", system_prompt=\"Give me a random fact when answering my question\")"
   ]
  },
  {
   "cell_type": "code",
   "execution_count": 8,
   "id": "1398f154",
   "metadata": {},
   "outputs": [],
   "source": [
    "xai = LanguageModel('grok-2-latest')\n",
    "xai.ask(\"What is the capital of ireland\", system_prompt=\"Give me a random fact when answering my question\")"
   ]
  },
  {
   "cell_type": "code",
   "execution_count": 9,
   "id": "2aca983e",
   "metadata": {},
   "outputs": [],
   "source": [
    "deepseek = LanguageModel('deepseek-chat')\n",
    "deepseek.ask(\"What is the capital of ireland\", system_prompt=\"Give me a random fact when answering my question\")"
   ]
  },
  {
   "cell_type": "markdown",
   "id": "bbe3079d",
   "metadata": {},
   "source": [
    "### asking with tools\n",
    "- we create a fictitious tool first - this tested the response in a simple way"
   ]
  },
  {
   "cell_type": "code",
   "execution_count": 6,
   "id": "f790d249",
   "metadata": {},
   "outputs": [],
   "source": [
    "from percolate.services.llm import _check_all, LanguageModel\n",
    "\n",
    "fns =[{\n",
    "  \"name\": \"get_weather\",\n",
    "  \"description\": \"Get the weather forecast for a specific city and date\",\n",
    "  \"parameters\": {\n",
    "    \"type\": \"object\",\n",
    "    \"properties\": {\n",
    "      \"city\": {\n",
    "        \"type\": \"string\",\n",
    "        \"description\": \"The city for which to get the weather forecast\"\n",
    "      },\n",
    "      \"date\": {\n",
    "        \"type\": \"string\",\n",
    "        \"description\": \"The date for the weather forecast (YYYY-MM-DD)\"\n",
    "      }\n",
    "    },\n",
    "    \"required\": [\"city\", \"date\"]\n",
    "  }\n",
    "}]\n",
    "\n"
   ]
  },
  {
   "cell_type": "code",
   "execution_count": 7,
   "id": "69f59311",
   "metadata": {},
   "outputs": [],
   "source": [
    "claude = LanguageModel('claude-3-5-sonnet-20241022')\n",
    "claude.ask(\"What is the weather in dublin tomorrow\", functions=None)\n"
   ]
  },
  {
   "cell_type": "code",
   "execution_count": 8,
   "id": "bf62bda2",
   "metadata": {},
   "outputs": [],
   "source": [
    "gem = LanguageModel('gemini-1.5-flash')\n",
    "gem.ask(\"What is the weather in dublin\", functions=fns)\n"
   ]
  },
  {
   "cell_type": "code",
   "execution_count": 9,
   "id": "7745945c",
   "metadata": {},
   "outputs": [],
   "source": [
    "gmin = LanguageModel('gpt-4o-mini')\n",
    "gmin.ask(\"What is the weather in dublin tomorrow\", functions=fns)\n"
   ]
  },
  {
   "cell_type": "code",
   "execution_count": 1,
   "id": "f9e8d3f9",
   "metadata": {},
   "outputs": [],
   "source": [
    "import percolate as p8\n",
    "from pydantic import BaseModel,Field\n",
    "import typing\n",
    "from percolate.models import DefaultEmbeddingField\n",
    "\n",
    "class MyFirstAgent(BaseModel):\n",
    "    \"\"\"You are an agent that provides the information you are asked and a second random fact\"\"\"\n",
    "    #because it has no config it will save to the public database schema\n",
    "    \n",
    "    name: str = Field(description=\"Task name\")\n",
    "    #the default embedding field just settgs json_schema_extra.embedding_provider so you can do that yourself\n",
    "    description:str = DefaultEmbeddingField(description=\"Task description\")\n",
    "    \n",
    "    @classmethod\n",
    "    def get_model_functions(cls):\n",
    "        \"\"\"i return a list of functions by key stored in the database\"\"\"\n",
    "        return {\n",
    "            'get_pet_findByStatus': \"a function i used to look up petes based on their status\",\n",
    "            'p8_About' : 'a \"native\" database function that gives me general information about percolate'\n",
    "        }"
   ]
  },
  {
   "cell_type": "code",
   "execution_count": 4,
   "id": "4c2a0ca4",
   "metadata": {
    "scrolled": false
   },
   "outputs": [],
   "source": [
    "agent = p8.Agent(MyFirstAgent,allow_help=False)\n",
    "#agent.run(\"list two sold pets\",language_model='grok-2-latest')\n",
    "#agent.run(\"list two sold pets\",language_model='deepseek-chat')\n",
    "#agent.run(\"list two sold pets\",language_model='groq-llama-3.3-70b-versatile')\n",
    "#agent.run(\"list two sold pets\",language_model='gemini-1.5-flash')\n",
    "#agent.run(\"list two sold pets\",language_model='claude-3-5-sonnet-20241022')\n",
    "#agent.run(\"list two sold pets\",language_model='cerebras-llama3.1-8b')"
   ]
  },
  {
   "cell_type": "code",
   "execution_count": 3,
   "id": "593c4d32",
   "metadata": {},
   "outputs": [],
   "source": [
    "{'model': 'deepseek-chat', 'messages': [{'role': 'system', 'content': 'You are an agent that provides the information you are asked and a second random fact\\n# General Advice.\\nUse whatever functions are available to you and use world knowledge only if prompted \\nor if there is not other way \\nor the user is obviously asking about real world information that is not covered by functions.\\nObserve what functions you have to use and check the message history to avoid calling the same functions with the same parameters repeatedly.\\nIf you find a function name in your search, you can activate it by naming using one of your functions. You should do so without asking the user.\\n            '}, {'role': 'user', 'content': 'list two sold pets'}], 'tools': [{'type': 'function', 'function': {'name': 'get_pet_findByStatus', 'description': 'Multiple status values can be provided with comma separated strings', 'parameters': {'type': 'object', 'properties': {'status': {'type': 'array', 'description': 'Status values that need to be considered for filter', 'items': {'type': 'string', 'description': '', 'enum': ['available', 'pending', 'sold']}}}, 'required': ['status']}}}, {'type': 'function', 'function': {'name': 'get_entities', 'parameters': {'properties': {'keys': {'description': 'one or more names to use to lookup the entity or entities', 'type': 'string'}}, 'required': ['keys'], 'type': 'object'}, 'description': 'Lookup entity by one or more keys. For example if you encounter entity names or keys in question, data etc you can use\\nthe entity search to learn more about them'}}, {'type': 'function', 'function': {'name': 'search', 'parameters': {'properties': {'questions': {'description': 'ask one or more questions to search the data store', 'items': {'type': 'string'}, 'type': 'array'}}, 'required': ['questions'], 'type': 'object'}, 'description': 'Run a general search on the model that is being used in the current context as per the system prompt\\nIf you want to add multiple questions supply a list of strings as an array.'}}, {'type': 'function', 'function': {'name': 'activate_functions_by_name', 'parameters': {'properties': {'function_names': {'items': {'type': 'string'}, 'type': 'array'}}, 'required': ['function_names'], 'type': 'object'}, 'description': 'Provide a list of function names to load.\\nThe names should be fully qualified object_id.function_name'}}], 'temperature': 0.01}"
   ]
  },
  {
   "cell_type": "code",
   "execution_count": 25,
   "id": "2238554f",
   "metadata": {},
   "outputs": [],
   "source": [
    "d = {'contents': [{'role': 'user', 'parts': {'text': 'list two sold pets'}}, {'parts': [{'functionCall': {'name': 'get_pet_findByStatus', 'args': {'status': ['sold']}}}], 'role': 'model'}, {'role': 'user', 'parts': [{'functionResponse': {'name': 'get_pet_findByStatus', 'response': {'name': 'get_pet_findByStatus', 'content': [{'id': 7574746, 'name': 'Hardy', 'photoUrls': ['https://i.pinimg.com/originals/5c/2c/44/5c2c44f16da1caf134c00bc4f9c72ea0.jpg'], 'tags': [], 'status': 'sold'}, {'id': 13, 'category': {'id': 0, 'name': 'cats'}, 'photoUrls': ['string'], 'tags': [{'id': 0, 'name': 'string'}], 'status': 'sold'}, {'id': 319, 'category': {'id': 599, 'name': 'UWvlC6mSeP'}, 'name': '9Yvwc4oI2v', 'photoUrls': ['tpGoWHBlVQ', 'yeGcvQrgCk', 'qr1T285XmO', 'RgDxV4E6ee', 'QiuprryEoJ'], 'tags': [{'id': 9134, 'name': 'R5GDJbOzCD'}, {'id': 7733, 'name': 'DvT5LemiI4'}, {'id': 822, 'name': 'nIjhVxRWky'}, {'id': 7878, 'name': 'LCF0VMsPyJ'}], 'status': 'sold'}, {'id': 777666, 'category': {'id': 1, 'name': 'Котик'}, 'name': 'Барсик', 'photoUrls': ['https://ref_to_img.png'], 'tags': [{'id': 1, 'name': 'Тэг 1'}], 'status': 'sold'}, {'id': 5615, 'category': {'id': 9134, 'name': 'R5GDJbOzCD'}, 'name': 'RQ6gKb5alV', 'photoUrls': ['kDz8i5r5L6', '7Z0O9qtpGo', 'WHBlVQyeGc'], 'tags': [{'id': 7257, 'name': 'rgCkqr1T28'}, {'id': 7044, 'name': 'RgDxV4E6ee'}, {'id': 2274, 'name': 'uprryEoJvk'}], 'status': 'sold'}, {'id': 8153, 'category': {'id': 5416, 'name': 'vUJZkcGjev'}, 'name': 'Q1jM48IsJL', 'photoUrls': ['58RC38Qduf', 'wBaep9TEDg'], 'tags': [{'id': 1291, 'name': 'kgRX0bHKXc'}, {'id': 6493, 'name': 'PDDqT1qVrN'}, {'id': 6334, 'name': 'I8qaIhlzo5'}, {'id': 2360, 'name': 'H1Dr5pWtB6'}, {'id': 661, 'name': 'JQ7pZ1Vqj9'}], 'status': 'sold'}, {'id': 485, 'category': {'id': 4190, 'name': 'I2vyOHsrKK'}, 'name': 'dNDYRs7rkp', 'photoUrls': ['v2gGq5MiQt'], 'tags': [{'id': 6990, 'name': 'PyJUWvlC6m'}, {'id': 1036, 'name': 'PwbMF9Yvwc'}], 'status': 'sold'}, {'id': 188530, 'category': {'id': 90274, 'name': 'tbhBBPKt'}, 'name': 'doggie', 'photoUrls': ['SvoqWh'], 'tags': [{'id': 428371, 'name': 'RUYsQwyG'}], 'status': 'sold'}, {'id': 9815, 'category': {'id': 4869, 'name': 'WTohOTTkE'}, 'name': 'ivyFEhMAoVvGDPZfIwB', 'photoUrls': ['yGuF'], 'tags': [{'id': 5167, 'name': 'aVdpnmvXzUndaHJI'}], 'status': 'sold'}, {'id': 989, 'category': {'id': 6675, 'name': 'N1DnMMDP5G'}, 'name': 'pyX1Fz7tPQ', 'photoUrls': ['jM48IsJL45', '8RC38Qdufw', 'Baep9TEDgr'], 'tags': [{'id': 4878, 'name': 'gRX0bHKXcS'}, {'id': 947, 'name': 'DDqT1qVrN4'}, {'id': 4590, 'name': '8qaIhlzo5Q'}, {'id': 759, 'name': '1Dr5pWtB6t'}], 'status': 'sold'}, {'id': 173218104, 'category': {'id': 4, 'name': 'bird'}, 'name': 'Garibaldo', 'photoUrls': [], 'tags': [{'id': 3, 'name': 'raro'}], 'status': 'sold'}, {'id': 969732200, 'name': 'X', 'photoUrls': ['iopDYenrs'], 'tags': [], 'status': 'sold'}, {'id': 9537, 'name': 'Fluffy625', 'photoUrls': [], 'tags': [], 'status': 'sold'}, {'id': 4438, 'name': 'Fluffy833', 'photoUrls': [], 'tags': [], 'status': 'sold'}, {'id': 722337203685477354, 'name': 'Chappi dog 66', 'photoUrls': ['./dog.png'], 'tags': [], 'status': 'sold'}, {'id': 12, 'category': {'id': 0, 'name': 'dogs'}, 'photoUrls': ['string'], 'tags': [{'id': 0, 'name': 'string'}], 'status': 'sold'}, {'id': 1535001, 'category': {'id': 1, 'name': 'cat'}, 'name': 'Nero', 'photoUrls': [], 'tags': [{'id': 1, 'name': 'vaccined'}], 'status': 'sold'}, {'id': 1535004, 'category': {'id': 4, 'name': 'bird'}, 'name': 'Loro', 'photoUrls': [], 'tags': [{'id': 3, 'name': 'raro'}], 'status': 'sold'}, {'id': 368991102, 'category': {'id': 1, 'name': 'dog'}, 'name': 'Snoopy', 'photoUrls': [], 'tags': [{'id': 9, 'name': 'vaccined'}], 'status': 'sold'}, {'id': 368991105, 'category': {'id': 4, 'name': 'bird'}, 'name': 'Garibaldo', 'photoUrls': [], 'tags': [{'id': 3, 'name': 'raro'}], 'status': 'sold'}, {'id': 919133, 'category': {'id': 3, 'name': 'bird'}, 'name': 'Garibaldo', 'photoUrls': [], 'tags': [{'id': 3, 'name': 'raro'}], 'status': 'sold'}, {'id': 8867, 'category': {'id': 379, 'name': 'KEACBBUq6u'}, 'name': 'BIHeP0S5zu', 'photoUrls': ['gHL2jflutf', 'RQ6gKb5alV'], 'tags': [{'id': 2676, 'name': '44cJHhL9oK'}, {'id': 3026, 'name': 'fwMr5mw4mQ'}, {'id': 5464, 'name': '30oLYMKEfI'}, {'id': 3533, 'name': '44cTrvLYEm'}, {'id': 4096, 'name': '5ytTTYQlmR'}], 'status': 'sold'}, {'id': 8623, 'category': {'id': 4161, 'name': 'vT5LemiI43'}, 'name': 'z8i5r5L67Z', 'photoUrls': ['O9qtpGoWHB', 'lVQyeGcvQr', 'gCkqr1T285'], 'tags': [{'id': 9139, 'name': 'gDxV4E6eeQ'}, {'id': 280, 'name': 'prryEoJvkq'}, {'id': 6039, 'name': '5GDJbOzCD8'}], 'status': 'sold'}, {'id': 1129, 'category': {'id': 3059, 'name': 'alVWkDz8i5'}, 'name': 'L67Z0O9qtp', 'photoUrls': ['oWHBlVQyeG', 'cvQrgCkqr1', 'T285XmORgD', 'xV4E6eeQiu'], 'tags': [{'id': 7314, 'name': 'EoJvkqAR5G'}, {'id': 5965, 'name': 'bOzCD8ZDvT'}, {'id': 4671, 'name': '5LemiI43sn'}], 'status': 'sold'}, {'id': 228, 'category': {'id': 228, 'name': 'cats'}, 'name': 'stepaa', 'photoUrls': ['string'], 'tags': [{'id': 228, 'name': 'krutoy'}], 'status': 'sold'}, {'id': 6310, 'category': {'id': 1441, 'name': 'kfvEllpbc3'}, 'name': 'w5hC0r1t7y', 'photoUrls': ['r7rLsugaq3', 'oqnxK5oj3r'], 'tags': [{'id': 8507, 'name': 'Xag5wFEqMU'}, {'id': 2689, 'name': 'blByL5lmYb'}], 'status': 'sold'}, {'id': 7708, 'category': {'id': 1244, 'name': 'Kb5alVWkDz'}, 'name': 'mQvi8a30oL', 'photoUrls': ['MKEfIGj44c', 'TrvLYEmlo5', 'ytTTYQlmRP', 'TKEACBBUq6'], 'tags': [{'id': 1529, 'name': 'IHeP0S5zuB'}, {'id': 4890, 'name': 'gHL2jflutf'}], 'status': 'sold'}, {'id': 6526, 'category': {'id': 2990, 'name': '285XmORgDx'}, 'name': 'eeQiuprryE', 'photoUrls': ['r5L67Z0O9q', 'tpGoWHBlVQ'], 'tags': [{'id': 68, 'name': 'vQrgCkqr1T'}], 'status': 'sold'}, {'id': 3145, 'category': {'id': 2645, 'name': 'pZ1Vqj9Buv'}, 'name': 'ZkcGjevRL7', 'photoUrls': ['xceBZQ8Gpq', '2P4rbjXZNi', '6D89Ispjkm', 'RGocb0VZyT', 's0E3wbsqFC'], 'tags': [{'id': 8365, 'name': 'qT1qVrN4GI'}, {'id': 759, 'name': '8qaIhlzo5Q'}, {'id': 7123, 'name': 'r5pWtB6tHJ'}], 'status': 'sold'}, {'id': 9686, 'category': {'id': 818, 'name': 'YRAjC2UxDN'}, 'name': 'RkMXvsHXQL', 'photoUrls': ['PpxXCBJfsD', 'LfhLtMZDiG', 'fPo1F6lJQs', 'jN9io0hqtW', 'nWakmPuGDt'], 'tags': [{'id': 2211, 'name': 'NLRx96nMt8'}, {'id': 9532, 'name': 'kxUZrQSQbV'}, {'id': 3107, 'name': 'WDLWPUPH0U'}], 'status': 'sold'}, {'id': 4620, 'category': {'id': 380, 'name': 'U1kJ5A4mmH'}, 'name': 's1nuq3H3LN', 'photoUrls': ['ChtA647YVX'], 'tags': [{'id': 4384, 'name': 'aXKlFvtxn1'}, {'id': 7861, 'name': 'a73N446lGH'}], 'status': 'sold'}, {'id': 3957, 'category': {'id': 6900, 'name': 'CVGcZ6MuYH'}, 'name': 'rcHLcEf99Z', 'photoUrls': ['L2qqnAdN8a', 'gHQcRIa0cq'], 'tags': [{'id': 8563, 'name': 'PrjvA5tRIl'}, {'id': 6451, 'name': 'Z33iEvDZFD'}], 'status': 'sold'}, {'id': 12438759330, 'category': {'id': 1, 'name': 'string'}, 'name': 'Musya', 'photoUrls': [], 'tags': [{'id': 1, 'name': 'string'}], 'status': 'sold'}, {'id': 3385456567326529535, 'category': {'id': 0, 'name': 'Conexa Original Category'}, 'name': 'Conexa Pet MzcO', 'photoUrls': ['string'], 'tags': [{'id': 0, 'name': 'string'}], 'status': 'sold'}, {'id': 6454593534137472936, 'category': {'id': 0, 'name': 'Conexa Original Category'}, 'name': 'Conexa Pet tS8t', 'photoUrls': ['string'], 'tags': [{'id': 0, 'name': 'string'}], 'status': 'sold'}, {'id': 6557351922405633463, 'category': {'id': 0, 'name': 'Conexa Original Category'}, 'name': 'Conexa Pet obG2', 'photoUrls': ['string'], 'tags': [{'id': 0, 'name': 'string'}], 'status': 'sold'}, {'id': 5644743866114257558, 'category': {'id': 0, 'name': 'Conexa Original Category'}, 'name': 'Conexa Pet ppzY', 'photoUrls': ['string'], 'tags': [{'id': 0, 'name': 'string'}], 'status': 'sold'}, {'id': 4691847337223564293, 'category': {'id': 0, 'name': 'Conexa Original Category'}, 'name': 'Conexa Pet Q3Ha', 'photoUrls': ['string'], 'tags': [{'id': 0, 'name': 'string'}], 'status': 'sold'}, {'id': 222777289281671581, 'category': {'id': 0, 'name': 'Conexa Original Category'}, 'name': 'Conexa Pet tQnA', 'photoUrls': ['string'], 'tags': [{'id': 0, 'name': 'string'}], 'status': 'sold'}, {'id': 2633791803304961804, 'category': {'id': 0, 'name': 'Conexa Original Category'}, 'name': 'Conexa Pet l9t2', 'photoUrls': ['string'], 'tags': [{'id': 0, 'name': 'string'}], 'status': 'sold'}, {'id': 3880638013423558963, 'category': {'id': 0, 'name': 'Conexa Original Category'}, 'name': 'Conexa Pet E2pm', 'photoUrls': ['string'], 'tags': [{'id': 0, 'name': 'string'}], 'status': 'sold'}, {'id': 7315483631429072551, 'category': {'id': 0, 'name': 'Conexa Original Category'}, 'name': 'Conexa Pet Mr5z', 'photoUrls': ['string'], 'tags': [{'id': 0, 'name': 'string'}], 'status': 'sold'}, {'id': 6379402911281105569, 'category': {'id': 0, 'name': 'Conexa Original Category'}, 'name': 'Conexa Pet zHkd', 'photoUrls': ['string'], 'tags': [{'id': 0, 'name': 'string'}], 'status': 'sold'}, {'id': 9152100742055004976, 'category': {'id': 0, 'name': 'Conexa Original Category'}, 'name': 'Conexa Pet h60D', 'photoUrls': ['string'], 'tags': [{'id': 0, 'name': 'string'}], 'status': 'sold'}, {'id': 4310026429227574333, 'category': {'id': 0, 'name': 'Conexa Original Category'}, 'name': 'Conexa Pet TcEr', 'photoUrls': ['string'], 'tags': [{'id': 0, 'name': 'string'}], 'status': 'sold'}, {'id': 5922286143638176591, 'category': {'id': 0, 'name': 'Conexa Original Category'}, 'name': 'Conexa Pet 9sZA', 'photoUrls': ['string'], 'tags': [{'id': 0, 'name': 'string'}], 'status': 'sold'}, {'id': 1900497538583110533, 'category': {'id': 0, 'name': 'Conexa Original Category'}, 'name': 'Conexa Pet JLrV', 'photoUrls': ['string'], 'tags': [{'id': 0, 'name': 'string'}], 'status': 'sold'}, {'id': 8910201636999394941, 'category': {'id': 0, 'name': 'Conexa Original Category'}, 'name': 'Conexa Pet zN1Q', 'photoUrls': ['string'], 'tags': [{'id': 0, 'name': 'string'}], 'status': 'sold'}, {'id': 5277736444963477610, 'category': {'id': 0, 'name': 'Conexa Original Category'}, 'name': 'Conexa Pet psC6', 'photoUrls': ['string'], 'tags': [{'id': 0, 'name': 'string'}], 'status': 'sold'}, {'id': 2215, 'category': {'id': 1532, 'name': 'j9BuvUJZkc'}, 'name': 'evRL7QxceB', 'photoUrls': ['aep9TEDgrG', 'lxkgRX0bHK', 'XcSRPDDqT1', 'qVrN4GI8qa'], 'tags': [{'id': 8151, 'name': 'o5QiH1Dr5p'}, {'id': 5563, 'name': 'WtB6tHJQ7p'}], 'status': 'sold'}, {'id': 4403674144605383363, 'category': {'id': 0, 'name': 'Conexa Original Category'}, 'name': 'Conexa Pet yk0W', 'photoUrls': ['string'], 'tags': [{'id': 0, 'name': 'string'}], 'status': 'sold'}, {'id': 4915155796531733449, 'category': {'id': 0, 'name': 'Conexa Original Category'}, 'name': 'Conexa Pet wpeX', 'photoUrls': ['string'], 'tags': [{'id': 0, 'name': 'string'}], 'status': 'sold'}, {'id': 6257391004599383370, 'category': {'id': 0, 'name': 'Conexa Original Category'}, 'name': 'Conexa Pet coDJ', 'photoUrls': ['string'], 'tags': [{'id': 0, 'name': 'string'}], 'status': 'sold'}, {'id': 1733211601990494633, 'category': {'id': 0, 'name': 'Conexa Original Category'}, 'name': 'Conexa Pet C4To', 'photoUrls': ['string'], 'tags': [{'id': 0, 'name': 'string'}], 'status': 'sold'}, {'id': 8248782148002652083, 'category': {'id': 0, 'name': 'Conexa Original Category'}, 'name': 'Conexa Pet nL4H', 'photoUrls': ['string'], 'tags': [{'id': 0, 'name': 'string'}], 'status': 'sold'}, {'id': 8186888459947297313, 'category': {'id': 0, 'name': 'Conexa Original Category'}, 'name': 'Conexa Pet qAW0', 'photoUrls': ['string'], 'tags': [{'id': 0, 'name': 'string'}], 'status': 'sold'}, {'id': 7131942443674497864, 'category': {'id': 0, 'name': 'Conexa Original Category'}, 'name': 'Conexa Pet ciiJ', 'photoUrls': ['string'], 'tags': [{'id': 0, 'name': 'string'}], 'status': 'sold'}, {'id': 3449959274758994159, 'category': {'id': 0, 'name': 'Conexa Original Category'}, 'name': 'Conexa Pet 2o3A', 'photoUrls': ['string'], 'tags': [{'id': 0, 'name': 'string'}], 'status': 'sold'}, {'id': 7204921522818020256, 'category': {'id': 0, 'name': 'Conexa Original Category'}, 'name': 'Conexa Pet uXL3', 'photoUrls': ['string'], 'tags': [{'id': 0, 'name': 'string'}], 'status': 'sold'}]}}}]}], 'tool_config': {'function_calling_config': {'mode': 'ANY'}}, 'tools': [{'function_declarations': [{'name': 'get_pet_findByStatus', 'description': 'Multiple status values can be provided with comma separated strings', 'parameters': {'type': 'object', 'properties': {'status': {'type': 'array', 'description': 'Status values that need to be considered for filter', 'items': {'type': 'string', 'description': '', 'enum': ['available', 'pending', 'sold']}}}, 'required': ['status']}}, {'name': 'get_entities', 'parameters': {'properties': {'keys': {'description': 'one or more names to use to lookup the entity or entities', 'type': 'string'}}, 'required': ['keys'], 'type': 'object'}, 'description': 'Lookup entity by one or more keys. For example if you encounter entity names or keys in question, data etc you can use\\nthe entity search to learn more about them'}, {'name': 'search', 'parameters': {'properties': {'questions': {'description': 'ask one or more questions to search the data store', 'items': {'type': 'string'}, 'type': 'array'}}, 'required': ['questions'], 'type': 'object'}, 'description': 'Run a general search on the model that is being used in the current context as per the system prompt\\nIf you want to add multiple questions supply a list of strings as an array.'}, {'name': 'activate_functions_by_name', 'parameters': {'properties': {'function_names': {'items': {'type': 'string'}, 'type': 'array'}}, 'required': ['function_names'], 'type': 'object'}, 'description': 'Provide a list of function names to load.\\nThe names should be fully qualified object_id.function_name'}]}], 'system_instruction': {'parts': {'text': 'You are an agent that provides the information you are asked and a second random fact\\n# General Advice.\\nUse whatever functions are available to you and use world knowledge only if prompted \\nor if there is not other way \\nor the user is obviously asking about real world information that is not covered by functions.\\nObserve what functions you have to use and check the message history to avoid calling the same functions with the same parameters repeatedly.\\nIf you find a function name in your search, you can activate it by naming using one of your functions. You should do so without asking the user.\\n            '}}}\n",
    "d"
   ]
  },
  {
   "cell_type": "code",
   "execution_count": 47,
   "id": "557bcb71",
   "metadata": {
    "scrolled": false
   },
   "outputs": [],
   "source": [
    "tools = [{'function_declarations': [{'name': 'get_pet_findByStatus',\n",
    "    'description': 'Multiple status values can be provided with comma separated strings',\n",
    "    'parameters': {'type': 'object',\n",
    "     'properties': {'status': {'type': 'array',\n",
    "       'description': 'Status values that need to be considered for filter',\n",
    "       'items': {'type': 'string',\n",
    "        'description': '',\n",
    "        'enum': ['available', 'pending', 'sold']}}},\n",
    "     'required': ['status']}},\n",
    "   {'name': 'get_entities',\n",
    "    'parameters': {'properties': {'keys': {'description': 'one or more names to use to lookup the entity or entities',\n",
    "       'type': 'string'}},\n",
    "     'required': ['keys'],\n",
    "     'type': 'object'},\n",
    "    'description': 'Lookup entity by one or more keys. For example if you encounter entity names or keys in question, data etc you can use\\nthe entity search to learn more about them'},\n",
    "   {'name': 'search',\n",
    "    'parameters': {'properties': {'questions': {'description': 'ask one or more questions to search the data store',\n",
    "       'items': {'type': 'string'},\n",
    "       'type': 'array'}},\n",
    "     'required': ['questions'],\n",
    "     'type': 'object'},\n",
    "    'description': 'Run a general search on the model that is being used in the current context as per the system prompt\\nIf you want to add multiple questions supply a list of strings as an array.'},\n",
    "   {'name': 'activate_functions_by_name',\n",
    "    'parameters': {'properties': {'function_names': {'items': {'type': 'string'},\n",
    "       'type': 'array'}},\n",
    "     'required': ['function_names'],\n",
    "     'type': 'object'},\n",
    "    'description': 'Provide a list of function names to load.\\nThe names should be fully qualified object_id.function_name'}]}]\n",
    "pl = {\n",
    "  \"contents\": [\n",
    "    {\n",
    "      \"role\": \"user\",\n",
    "      \"parts\": [{\n",
    "        \"text\": \"list two sold pets\"\n",
    "      }]\n",
    "    },\n",
    "    {\n",
    "      \"role\": \"model\",\n",
    "      \"parts\": [\n",
    "        {\n",
    "          \"functionCall\": {\n",
    "            \"name\": \"get_pet_findByStatus\",\n",
    "            \"args\": {\n",
    "              \"status\": \"sold\",\n",
    "              \"limit\": 2\n",
    "            }\n",
    "          }\n",
    "        }\n",
    "      ]\n",
    "    },\n",
    "    {\n",
    "      \"role\": \"user\",\n",
    "      \"parts\": [\n",
    "        {\n",
    "          \"functionResponse\": {\n",
    "            \"name\": \"get_pet_findByStatus\",\n",
    "            \"response\": {\n",
    "              \"name\": \"get_pet_findByStatus\",\n",
    "              \"content\": \"\"\"[\n",
    "                {\n",
    "                  \"id\": 7574746,\n",
    "                  \"name\": \"Hardy\",\n",
    "                  \"photoUrls\": [\"https://i.pinimg.com/originals/5c/2c/44/5c2c44f16da1caf134c00bc4f9c72ea0.jpg\"],\n",
    "                  \"tags\": [],\n",
    "                  \"status\": \"sold\"\n",
    "                },\n",
    "                {\n",
    "                  \"id\": 13,\n",
    "                  \"name\": \"Fluffy\",\n",
    "                  \"photoUrls\": [\"https://example.com/photo.jpg\"],\n",
    "                  \"tags\": [{\"id\": 0, \"name\": \"string\"}],\n",
    "                  \"status\": \"sold\"\n",
    "                },\n",
    "                   {\n",
    "                  \"id\": 17,\n",
    "                  \"name\": \"Jack\",\n",
    "                  \"photoUrls\": [\"https://example.com/photo.jpg\"],\n",
    "                  \"tags\": [{\"id\": 0, \"name\": \"string\"}],\n",
    "                  \"status\": \"sold\"\n",
    "                }\n",
    "              ]\"\"\"\n",
    "            }\n",
    "          }\n",
    "        }\n",
    "      ]\n",
    "    }\n",
    "  ]\n",
    "}\n",
    "\n",
    "data = {\n",
    "    \"contents\": pl['contents'][0],\n",
    "    \"tool_config\": {\n",
    "        #we could disable this for empty tools\n",
    "        \"function_calling_config\": {\"mode\": \"ANY\"}\n",
    "    },\n",
    "    \"tools\": tools\n",
    "    #'temperature': temperature\n",
    "}\n",
    "\n",
    "import os\n",
    "url = 'https://generativelanguage.googleapis.com/v1beta/models/gemini-1.5-flash:generateContent'\n",
    "url = f\"{url}?key={os.environ['GEMINI_API_KEY']}\"\n",
    "\n",
    "import requests\n",
    "import json\n",
    "headers = {\n",
    "            \"Content-Type\": \"application/json\",\n",
    "        }\n",
    "response = requests.get(url, headers=headers, data=json.dumps(d))\n",
    "response.content"
   ]
  },
  {
   "cell_type": "code",
   "execution_count": 49,
   "id": "9dd636ad",
   "metadata": {},
   "outputs": [],
   "source": [
    "partial = pl['contents'][0:1]\n",
    "partial"
   ]
  },
  {
   "cell_type": "code",
   "execution_count": 50,
   "id": "0bca18c3",
   "metadata": {},
   "outputs": [],
   "source": [
    "url = f\"https://generativelanguage.googleapis.com/v1beta/models/gemini-1.5-flash:generateContent?key={os.environ.get('GEMINI_API_KEY')}\"\n",
    "headers = {\n",
    "    \"Content-Type\": \"application/json\"\n",
    "}\n",
    "data = {\n",
    "    \"contents\": partial,\n",
    "    \"tool_config\": {\n",
    "      \"function_calling_config\": {\"mode\": \"ANY\"}\n",
    "    },\n",
    "    \"tools\": tools\n",
    "}\n",
    "r = requests.post(url, headers=headers, data=json.dumps(data))\n",
    "r.json()"
   ]
  },
  {
   "cell_type": "code",
   "execution_count": 6,
   "id": "fe5e92ef",
   "metadata": {},
   "outputs": [],
   "source": [
    "d ={'contents': [{'role': 'user', 'parts': {'text': 'are there any sold pets'}}, {'role': 'model', 'parts': {'text': {'parts': [{'functionCall': {'name': 'get_pet_findByStatus', 'args': {'status': ['sold']}}}], 'role': 'model'}}}, {'role': 'user', 'parts': {'text': {'role': 'user', 'content': '[{\"id\": 7574746, \"category\": {\"id\": 1, \"name\": \"Cat\"}, \"name\": \"Hardy\", \"photoUrls\": [\"https://i.pinimg.com/originals/5c/2c/44/5c2c44f16da1caf134c00bc4f9c72ea0.jpg\"], \"tags\": [{\"id\": 7805, \"name\": \"Mainecoon\"}], \"status\": \"sold\"}, {\"id\": 13, \"category\": {\"id\": 0, \"name\": \"cats\"}, \"photoUrls\": [\"string\"], \"tags\": [{\"id\": 0, \"name\": \"string\"}], \"status\": \"sold\"}, {\"id\": 777666, \"category\": {\"id\": 1, \"name\": \"\\\\u041a\\\\u043e\\\\u0442\\\\u0438\\\\u043a\"}, \"name\": \"\\\\u0411\\\\u0430\\\\u0440\\\\u0441\\\\u0438\\\\u043a\", \"photoUrls\": [\"https://ref_to_img.png\"], \"tags\": [{\"id\": 1, \"name\": \"\\\\u0422\\\\u044d\\\\u0433 1\"}], \"status\": \"sold\"}, {\"id\": 5615, \"category\": {\"id\": 9134, \"name\": \"R5GDJbOzCD\"}, \"name\": \"RQ6gKb5alV\", \"photoUrls\": [\"kDz8i5r5L6\", \"7Z0O9qtpGo\", \"WHBlVQyeGc\"], \"tags\": [{\"id\": 7257, \"name\": \"rgCkqr1T28\"}, {\"id\": 7044, \"name\": \"RgDxV4E6ee\"}, {\"id\": 2274, \"name\": \"uprryEoJvk\"}], \"status\": \"sold\"}, {\"id\": 8153, \"category\": {\"id\": 5416, \"name\": \"vUJZkcGjev\"}, \"name\": \"Q1jM48IsJL\", \"photoUrls\": [\"58RC38Qduf\", \"wBaep9TEDg\"], \"tags\": [{\"id\": 1291, \"name\": \"kgRX0bHKXc\"}, {\"id\": 6493, \"name\": \"PDDqT1qVrN\"}, {\"id\": 6334, \"name\": \"I8qaIhlzo5\"}, {\"id\": 2360, \"name\": \"H1Dr5pWtB6\"}, {\"id\": 661, \"name\": \"JQ7pZ1Vqj9\"}], \"status\": \"sold\"}, {\"id\": 485, \"category\": {\"id\": 4190, \"name\": \"I2vyOHsrKK\"}, \"name\": \"dNDYRs7rkp\", \"photoUrls\": [\"v2gGq5MiQt\"], \"tags\": [{\"id\": 6990, \"name\": \"PyJUWvlC6m\"}, {\"id\": 1036, \"name\": \"PwbMF9Yvwc\"}], \"status\": \"sold\"}, {\"id\": 188530, \"category\": {\"id\": 90274, \"name\": \"tbhBBPKt\"}, \"name\": \"doggie\", \"photoUrls\": [\"SvoqWh\"], \"tags\": [{\"id\": 428371, \"name\": \"RUYsQwyG\"}], \"status\": \"sold\"}, {\"id\": 9815, \"category\": {\"id\": 4869, \"name\": \"WTohOTTkE\"}, \"name\": \"ivyFEhMAoVvGDPZfIwB\", \"photoUrls\": [\"yGuF\"], \"tags\": [{\"id\": 5167, \"name\": \"aVdpnmvXzUndaHJI\"}], \"status\": \"sold\"}, {\"id\": 989, \"category\": {\"id\": 6675, \"name\": \"N1DnMMDP5G\"}, \"name\": \"pyX1Fz7tPQ\", \"photoUrls\": [\"jM48IsJL45\", \"8RC38Qdufw\", \"Baep9TEDgr\"], \"tags\": [{\"id\": 4878, \"name\": \"gRX0bHKXcS\"}, {\"id\": 947, \"name\": \"DDqT1qVrN4\"}, {\"id\": 4590, \"name\": \"8qaIhlzo5Q\"}, {\"id\": 759, \"name\": \"1Dr5pWtB6t\"}], \"status\": \"sold\"}, {\"id\": 173218104, \"category\": {\"id\": 4, \"name\": \"bird\"}, \"name\": \"Garibaldo\", \"photoUrls\": [], \"tags\": [{\"id\": 3, \"name\": \"raro\"}], \"status\": \"sold\"}, {\"id\": 969732200, \"name\": \"X\", \"photoUrls\": [\"iopDYenrs\"], \"tags\": [], \"status\": \"sold\"}, {\"id\": 9537, \"name\": \"Fluffy625\", \"photoUrls\": [], \"tags\": [], \"status\": \"sold\"}, {\"id\": 4438, \"name\": \"Fluffy833\", \"photoUrls\": [], \"tags\": [], \"status\": \"sold\"}, {\"id\": 722337203685477354, \"name\": \"Chappi dog 66\", \"photoUrls\": [\"./dog.png\"], \"tags\": [], \"status\": \"sold\"}, {\"id\": 1535001, \"category\": {\"id\": 1, \"name\": \"cat\"}, \"name\": \"Nero\", \"photoUrls\": [], \"tags\": [{\"id\": 1, \"name\": \"vaccined\"}], \"status\": \"sold\"}, {\"id\": 1535004, \"category\": {\"id\": 4, \"name\": \"bird\"}, \"name\": \"Loro\", \"photoUrls\": [], \"tags\": [{\"id\": 3, \"name\": \"raro\"}], \"status\": \"sold\"}, {\"id\": 368991102, \"category\": {\"id\": 1, \"name\": \"dog\"}, \"name\": \"Snoopy\", \"photoUrls\": [], \"tags\": [{\"id\": 9, \"name\": \"vaccined\"}], \"status\": \"sold\"}, {\"id\": 368991105, \"category\": {\"id\": 4, \"name\": \"bird\"}, \"name\": \"Garibaldo\", \"photoUrls\": [], \"tags\": [{\"id\": 3, \"name\": \"raro\"}], \"status\": \"sold\"}, {\"id\": 919133, \"category\": {\"id\": 3, \"name\": \"bird\"}, \"name\": \"Garibaldo\", \"photoUrls\": [], \"tags\": [{\"id\": 3, \"name\": \"raro\"}], \"status\": \"sold\"}, {\"id\": 8867, \"category\": {\"id\": 379, \"name\": \"KEACBBUq6u\"}, \"name\": \"BIHeP0S5zu\", \"photoUrls\": [\"gHL2jflutf\", \"RQ6gKb5alV\"], \"tags\": [{\"id\": 2676, \"name\": \"44cJHhL9oK\"}, {\"id\": 3026, \"name\": \"fwMr5mw4mQ\"}, {\"id\": 5464, \"name\": \"30oLYMKEfI\"}, {\"id\": 3533, \"name\": \"44cTrvLYEm\"}, {\"id\": 4096, \"name\": \"5ytTTYQlmR\"}], \"status\": \"sold\"}, {\"id\": 8623, \"category\": {\"id\": 4161, \"name\": \"vT5LemiI43\"}, \"name\": \"z8i5r5L67Z\", \"photoUrls\": [\"O9qtpGoWHB\", \"lVQyeGcvQr\", \"gCkqr1T285\"], \"tags\": [{\"id\": 9139, \"name\": \"gDxV4E6eeQ\"}, {\"id\": 280, \"name\": \"prryEoJvkq\"}, {\"id\": 6039, \"name\": \"5GDJbOzCD8\"}], \"status\": \"sold\"}]', 'tool_call_id': 'get_pet_findByStatus'}}}], 'tool_config': {'function_calling_config': {'mode': 'ANY'}}, 'tools': [{'function_declarations': [{'name': 'help', 'parameters': {'properties': {'questions': {'description': 'provide detailed questions to guide the planner. you should augment the users question with the additional context that you have e.g. a known source', 'type': 'string'}, 'context': {'description': 'any added context e.g. what tool, function, source the user or system suggests may know the answer', 'type': 'string'}}, 'required': ['questions'], 'type': 'object'}, 'description': 'If you are stuck ask for help with very detailed questions to help the planner find resources for you.\\nIf you have a hint about what the source or tool to use hint that in each question that you ask.\\nFor example, you can either just ask a question or you can ask \"according to resource X\" and then ask the question. This is important context.'}, {'name': 'get_pet_findByStatus', 'description': 'Multiple status values can be provided with comma separated strings', 'parameters': {'type': 'object', 'properties': {'status': {'type': 'array', 'description': 'Status values that need to be considered for filter', 'items': {'type': 'string', 'description': '', 'enum': ['available', 'pending', 'sold']}}}, 'required': ['status']}}, {'name': 'get_entities', 'parameters': {'properties': {'keys': {'description': 'one or more names to use to lookup the entity or entities', 'type': 'string'}}, 'required': ['keys'], 'type': 'object'}, 'description': 'Lookup entity by one or more keys. For example if you encounter entity names or keys in question, data etc you can use\\nthe entity search to learn more about them'}, {'name': 'search', 'parameters': {'properties': {'questions': {'description': 'ask one or more questions to search the data store', 'items': {'type': 'string'}, 'type': 'array'}}, 'required': ['questions'], 'type': 'object'}, 'description': 'Run a general search on the model that is being used in the current context as per the system prompt\\nIf you want to add multiple questions supply a list of strings as an array.'}, {'name': 'activate_functions_by_name', 'parameters': {'properties': {'function_names': {'items': {'type': 'string'}, 'type': 'array'}}, 'required': ['function_names'], 'type': 'object'}, 'description': 'Provide a list of function names to load.\\nThe names should be fully qualified object_id.function_name'}]}], 'system_instruction': {'parts': {'text': 'You are an agent that provides the information you are asked and a second random fact\\n# General Advice.\\nUse whatever functions are available to you and use world knowledge only if prompted \\nor if there is not other way \\nor the user is obviously asking about real world information that is not covered by functions.\\nObserve what functions you have to use and check the message history to avoid calling the same functions with the same parameters repeatedly.\\nIf you find a function name in your search, you can activate it by naming using one of your functions. You should do so without asking the user.\\n            '}}}\n",
    "d['contents']"
   ]
  },
  {
   "cell_type": "code",
   "execution_count": 7,
   "id": "fbf21d41",
   "metadata": {},
   "outputs": [],
   "source": [
    "agent.functions['help'].function_spec"
   ]
  },
  {
   "cell_type": "code",
   "execution_count": 3,
   "id": "d44d8604",
   "metadata": {},
   "outputs": [],
   "source": [
    "#b'Failed to deserialize the JSON body into the target type: messages[2].role: unknown variant `function`, expected one of `system`, `user`, `assistant`, `tool` at line 1 column 775'\n",
    "agent = p8.Agent(MyFirstAgent)\n",
    "agent.run(\"are there any sold pets\")"
   ]
  },
  {
   "cell_type": "code",
   "execution_count": 3,
   "id": "f70b4eab",
   "metadata": {},
   "outputs": [],
   "source": [
    "agent = p8.Agent(MyFirstAgent)\n",
    "agent.run(\"are there any avalable pets\")"
   ]
  },
  {
   "cell_type": "markdown",
   "id": "c28f3b0e",
   "metadata": {},
   "source": [
    "# we register APIs as follows"
   ]
  },
  {
   "cell_type": "code",
   "execution_count": 1,
   "id": "99dbb465",
   "metadata": {},
   "outputs": [],
   "source": [
    "from percolate.utils.ingestion import add \n",
    "add.add_api('swagger_test', 'https://petstore.swagger.io/v2/swagger.json', verbs='get')"
   ]
  },
  {
   "cell_type": "code",
   "execution_count": null,
   "id": "8be16b12",
   "metadata": {},
   "outputs": [],
   "source": [
    "# we can check the function is there"
   ]
  },
  {
   "cell_type": "code",
   "execution_count": null,
   "id": "97b0b4c0",
   "metadata": {},
   "outputs": [],
   "source": [
    "from percolate.models.p8 import Function\n",
    "\n",
    "p8.repository(Function).get_by_name(['get_pet_findByStatus'], as_model=True)"
   ]
  },
  {
   "cell_type": "code",
   "execution_count": null,
   "id": "604c5cdf",
   "metadata": {},
   "outputs": [],
   "source": [
    "#using\n",
    "agent = p8.Agent(MyFirstAgent)\n",
    "agent.run(\"can you find available pets\",limit=2)"
   ]
  },
  {
   "cell_type": "code",
   "execution_count": null,
   "id": "37739559",
   "metadata": {},
   "outputs": [],
   "source": [
    "#using native functions -> p8_About\n",
    "p8.Agent(MyFirstAgent).run(\"what can you tell me about percolate\")"
   ]
  }
 ],
 "metadata": {},
 "nbformat": 4,
 "nbformat_minor": 5
}
