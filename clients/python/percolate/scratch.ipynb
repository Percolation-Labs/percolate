{
 "cells": [
  {
   "cell_type": "code",
   "execution_count": 1,
   "id": "bb31fb45",
   "metadata": {},
   "outputs": [],
   "source": [
    "\n",
    "import os\n",
    "os.environ['P8_PG_HOST'] = 'eepis.percolationlabs.ai'\n",
    "os.environ['P8_PG_PORT'] = '5434'\n",
    "os.environ['P8_PG_PASSWORD'] = os.environ.get('P8_TEST_BEARER_TOKEN')\n",
    "import nest_asyncio\n",
    "nest_asyncio.apply()\n",
    "#print(os.environ.get('P8_TEST_BEARER_TOKEN'))\n",
    "import percolate as p8\n",
    "import io\n",
    "from percolate.services import FileSystemService\n",
    "fs = FileSystemService()\n"
   ]
  },
  {
   "cell_type": "code",
   "execution_count": 3,
   "id": "f141b9f1",
   "metadata": {},
   "outputs": [
    {
     "name": "stderr",
     "output_type": "stream",
     "text": [
      "\u001b[32m2025-06-10 21:33:33.640\u001b[0m | \u001b[33m\u001b[1mWARNING \u001b[0m | \u001b[36mpercolate.services.PostgresService\u001b[0m:\u001b[36mexecute\u001b[0m:\u001b[36m595\u001b[0m - \u001b[33m\u001b[1mFailing to execute query model <class 'percolate.models.p8.types.User'> - verbose_errors=False - relation \"User\" already exists\n",
      "\u001b[0m\n",
      "\u001b[32m2025-06-10 21:33:33.688\u001b[0m | \u001b[33m\u001b[1mWARNING \u001b[0m | \u001b[36mpercolate.services.PostgresService\u001b[0m:\u001b[36mregister\u001b[0m:\u001b[36m464\u001b[0m - \u001b[33m\u001b[1mThe table already exists - will check for schema migration or ignore\u001b[0m\n",
      "\u001b[32m2025-06-10 21:33:34.683\u001b[0m | \u001b[34m\u001b[1mDEBUG   \u001b[0m | \u001b[36mpercolate.services.PostgresService\u001b[0m:\u001b[36mregister\u001b[0m:\u001b[36m478\u001b[0m - \u001b[34m\u001b[1mCreated embedding table - p8_embeddings.\"p8_User_embeddings\"\u001b[0m\n",
      "\u001b[32m2025-06-10 21:33:34.683\u001b[0m | \u001b[34m\u001b[1mDEBUG   \u001b[0m | \u001b[36mpercolate.services.PostgresService\u001b[0m:\u001b[36mregister\u001b[0m:\u001b[36m489\u001b[0m - \u001b[34m\u001b[1mUpdating model fields\u001b[0m\n",
      "\u001b[32m2025-06-10 21:33:35.220\u001b[0m | \u001b[34m\u001b[1mDEBUG   \u001b[0m | \u001b[36mpercolate.services.PostgresService\u001b[0m:\u001b[36mregister\u001b[0m:\u001b[36m494\u001b[0m - \u001b[34m\u001b[1mAdding the model agent\u001b[0m\n",
      "\u001b[32m2025-06-10 21:33:36.320\u001b[0m | \u001b[1mINFO    \u001b[0m | \u001b[36mpercolate.services.PostgresService\u001b[0m:\u001b[36mregister\u001b[0m:\u001b[36m505\u001b[0m - \u001b[1mEntity registered\u001b[0m\n"
     ]
    }
   ],
   "source": [
    "from percolate.models import Resources, User\n",
    "p8.repository(User).register()"
   ]
  },
  {
   "cell_type": "code",
   "execution_count": null,
   "id": "cd310b04",
   "metadata": {},
   "outputs": [],
   "source": [
    "from percolate.services import PostgresService\n",
    "pg = PostgresService()\n",
    "pg.execute(\"\"\"\n",
    "\n",
    "-- Function to set user context for row-level security\n",
    "DROP FUNCTION IF EXISTS p8.set_user_context;\n",
    "CREATE OR REPLACE FUNCTION p8.set_user_context(\n",
    "    p_user_id UUID, \n",
    "    p_role_level INTEGER = NULL\n",
    ")\n",
    "RETURNS VOID AS $$\n",
    "DECLARE\n",
    "    v_role_level INTEGER;\n",
    "    v_user_record RECORD;\n",
    "    v_groups TEXT[];\n",
    "BEGIN\n",
    "    -- If role_level not provided, try to load it from the User table\n",
    "    IF p_role_level IS NULL THEN\n",
    "        -- Get role_level, required_access_level, and groups from the User table\n",
    "        SELECT u.role_level, u.required_access_level, u.groups\n",
    "        INTO v_user_record\n",
    "        FROM p8.\"User\" u\n",
    "        WHERE u.id = p_user_id;\n",
    "        \n",
    "        -- Use role_level if available, otherwise use required_access_level\n",
    "        -- If neither is found, default to public access (100)\n",
    "        IF v_user_record.role_level IS NOT NULL THEN\n",
    "            v_role_level := v_user_record.role_level;\n",
    "        ELSIF v_user_record.required_access_level IS NOT NULL THEN\n",
    "            -- Use the required_access_level as a fallback\n",
    "            -- This makes sense because God users have required_access_level=0\n",
    "            -- Admin users have required_access_level=1, etc.\n",
    "            v_role_level := v_user_record.required_access_level;\n",
    "        ELSE\n",
    "            -- Default to public access if nothing is found\n",
    "            v_role_level := 100;\n",
    "        END IF;\n",
    "        \n",
    "        -- Get user groups if available\n",
    "        v_groups := v_user_record.groups;\n",
    "    ELSE\n",
    "        -- Use the explicitly provided role level\n",
    "        v_role_level := p_role_level;\n",
    "        \n",
    "        -- Still need to get groups from User table\n",
    "        SELECT u.groups\n",
    "        INTO v_groups\n",
    "        FROM p8.\"User\" u\n",
    "        WHERE u.id = p_user_id;\n",
    "    END IF;\n",
    "    \n",
    "    -- Set the session variables\n",
    "    PERFORM set_config('percolate.user_id', p_user_id::TEXT, false);\n",
    "    PERFORM set_config('percolate.role_level', v_role_level::TEXT, false);\n",
    "    \n",
    "    -- Set user groups if available\n",
    "    IF v_groups IS NOT NULL AND array_length(v_groups, 1) > 0 THEN\n",
    "        -- For LIKE pattern matching in the policy, we need commas as separators\n",
    "        PERFORM set_config('percolate.user_groups', ',' || array_to_string(v_groups, ',') || ',', false);\n",
    "    ELSE\n",
    "        -- Set empty string if no groups\n",
    "        PERFORM set_config('percolate.user_groups', '', false);\n",
    "    END IF;\n",
    "    \n",
    "    -- Return the role level as a message for debugging\n",
    "    RAISE NOTICE 'Set user context: user_id=%, role_level=%, groups=%', \n",
    "                 p_user_id, v_role_level, v_groups;\n",
    "END;\n",
    "$$ LANGUAGE plpgsql SECURITY DEFINER;\n",
    "\n",
    "\n",
    "\"\"\")"
   ]
  },
  {
   "cell_type": "code",
   "execution_count": null,
   "id": "acfdbe36",
   "metadata": {},
   "outputs": [],
   "source": [
    "from percolate.api.controllers.tus import process_pending_s3_resources\n",
    "\n",
    "await process_pending_s3_resources()"
   ]
  },
  {
   "cell_type": "code",
   "execution_count": null,
   "id": "047d9a2a",
   "metadata": {},
   "outputs": [],
   "source": [
    "from percolate.models import   Resources\n",
    "\n",
    "class ExecutiveResources(Resources):\n",
    "    class Config:\n",
    "            namespace:str='executive'\n",
    "            access_level = 1\n",
    "            description: str = \"\"\"Executive docs are used as the Resonance data room and may contain confidential information.\n",
    "    Certain users that have the system admin or executive roles can access these documents.\n",
    "    We provide information e.g. for due diligence (investors) or to understand Resonance's \n",
    "    - Value proposition\n",
    "    - Mission\n",
    "    - Values\n",
    "    - Strategy\n",
    "    - IP\n",
    "    etc.\n",
    "    \n",
    "    If you dont know how to answer the question from search you can use other resources\n",
    "    - Entities can be looked up by keys\n",
    "    - you can recruit the help of other resources by calling the help function and executing the plan\n",
    "    \"\"\"\n",
    "                \n",
    "import percolate as p8\n",
    "p8.repository(ExecutiveResources).register()\n"
   ]
  },
  {
   "cell_type": "code",
   "execution_count": null,
   "id": "6a893ea6",
   "metadata": {},
   "outputs": [],
   "source": []
  },
  {
   "cell_type": "code",
   "execution_count": null,
   "id": "a497c406",
   "metadata": {},
   "outputs": [],
   "source": [
    "import asyncio\n",
    "import httpx\n",
    "import os\n",
    "import json\n",
    "#print(os.environ.get('P8_TEST_BEARER_TOKEN'))\n",
    "\n",
    "async def stream_openai_endpoint(url: str):\n",
    "    headers = {\n",
    "        \"Authorization\": f\"Bearer {os.environ.get('P8_TEST_BEARER_TOKEN')}\",\n",
    "        \"Accept\": \"text/event-stream\",\n",
    "        \"X-User-Email\": \"sirsh@resonance.nyc\",\n",
    "        \"Content-Type\": \"application/json\"\n",
    "    }\n",
    "\n",
    "    payload = {\n",
    "        \"model\": 'gpt-4.1-mini',\n",
    "        \"messages\": [\n",
    "            {\"role\": \"user\", \"content\": \"By seaching for info on Resonance business model using a function, what can you tell me about please be detailed\"}\n",
    "          #  {\"role\": \"user\", \"content\": \"what country was i interested in and what did you tell me?\"}\n",
    "           # {\"role\": \"user\", \"content\": \"tell me a long poem 10 verses?\"}\n",
    "        ],\n",
    "        \"stream\": True\n",
    "    }\n",
    "        \n",
    "    async with httpx.AsyncClient(timeout=None) as client:\n",
    "        async with client.stream(\"POST\", url, headers=headers, json=payload) as response:\n",
    "            async for line in response.aiter_lines():\n",
    "                #print(line)\n",
    "                if line.startswith(\"data: \"):\n",
    "                    data = line[len(\"data: \"):]\n",
    "                    if data.strip() == \"[DONE]\":\n",
    "                        print(\"[DONE]\")\n",
    "                        break\n",
    "                    try:\n",
    "                        a = json.loads(data)['choices'][0]['delta']['content']\n",
    "                        print(a, end='')\n",
    "                    except:\n",
    "                        pass\n",
    "                        print(data)\n",
    "\n",
    "# Example usage:\n",
    "import uuid\n",
    "\n",
    "session_aka_thread_id = str(uuid.uuid1())\n",
    "#await stream_openai_endpoint(f\"http://localhost:5009/v1/agents/executive-ExecutiveDocs/chat/completions?&session_id={session_aka_thread_id}\")\n",
    "await stream_openai_endpoint(f\"http://localhost:5009/v1/agents/executive-ExecutiveDocs/chat/completions\")\n",
    "#await stream_openai_endpoint(f\"http://p8.resmagic.io/v1/agents/executive-ExecutiveDocs/chat/completions?&session_id={session_aka_thread_id}\")\n"
   ]
  },
  {
   "cell_type": "code",
   "execution_count": null,
   "id": "91e6a5ce",
   "metadata": {},
   "outputs": [],
   "source": [
    "from percolate.services.llm.CallingContext import get_user_memory\n",
    "\n",
    "#get_user_memory('4114f279-f345-511b-b375-1953089e078f')"
   ]
  },
  {
   "cell_type": "code",
   "execution_count": null,
   "id": "4307c25c",
   "metadata": {},
   "outputs": [],
   "source": [
    "from percolate.models import AbstractModel, User\n",
    "import percolate as p8\n",
    "#p8.repository(User).register()"
   ]
  },
  {
   "cell_type": "code",
   "execution_count": null,
   "id": "fcd9965b",
   "metadata": {},
   "outputs": [],
   "source": [
    "from percolate.interface import try_load_model\n"
   ]
  },
  {
   "cell_type": "code",
   "execution_count": null,
   "id": "413dac02",
   "metadata": {},
   "outputs": [],
   "source": [
    "M = p8.try_load_model('executive.ExecutiveDocs')"
   ]
  },
  {
   "cell_type": "code",
   "execution_count": null,
   "id": "b7a0e0cb",
   "metadata": {},
   "outputs": [],
   "source": [
    "from IPython.display import Markdown\n",
    "#Markdown(p8.Agent(M)(\"If i wanted to scale REsonance in 2026, what do you think, based on the model, would be a good strategy for breaking into new markets\"))\n",
    "#Markdown(p8.Agent(M)(\"tell me about the network effects that REsonance can levergage to scale different parts of the business\"))\n",
    "Markdown(p8.Agent(M)(\"If i were a brand, how would i launch with the REsonance platform. Please provide easy to follow steps\", audit_on_flush=True))"
   ]
  },
  {
   "cell_type": "code",
   "execution_count": null,
   "id": "b103d400",
   "metadata": {},
   "outputs": [],
   "source": [
    "\n",
    "p8.repository(M).search(\"Saoirse Amarteifio\")"
   ]
  },
  {
   "cell_type": "code",
   "execution_count": null,
   "id": "0ac1249b",
   "metadata": {},
   "outputs": [],
   "source": [
    "import sys\n",
    "from warnings import filterwarnings\n",
    "filterwarnings('ignore')\n",
    "from percolate.models.p8.types import Resources\n",
    "\n",
    "sys.path.append('/Users/sirsh/code/res/one-core')"
   ]
  },
  {
   "cell_type": "code",
   "execution_count": null,
   "id": "556064b4",
   "metadata": {},
   "outputs": [],
   "source": [
    "resources = Resources.chunked_resource(\n",
    "    uri=\"/Users/sirsh/Downloads/INST_018.wav\",\n",
    "    parsing_mode=\"extended\",\n",
    "    chunk_size=1000,\n",
    "    chunk_overlap=200,\n",
    "    save_to_db=False,\n",
    "    \n",
    ")\n",
    "\n",
    "len(resources)"
   ]
  },
  {
   "cell_type": "code",
   "execution_count": null,
   "id": "cfd97b5f",
   "metadata": {},
   "outputs": [],
   "source": [
    "\n",
    "# Simple chunking - basic text extraction (fast, no API costs)\n",
    "resources = Resources.chunked_resource(\n",
    "    uri=\"/Users/sirsh/Downloads/6-Month Roadmap & Milestones.pdf\",\n",
    "    parsing_mode=\"simple\",\n",
    "    chunk_size=1000,\n",
    "    chunk_overlap=200,\n",
    "    save_to_db=False\n",
    ")\n",
    "\n",
    "len(resources)"
   ]
  },
  {
   "cell_type": "code",
   "execution_count": null,
   "id": "e5e02b3c",
   "metadata": {},
   "outputs": [],
   "source": [
    "resources = Resources.chunked_resource(\n",
    "    uri=\"/Users/sirsh/Downloads/Transit Insurance Form.pdf\", \n",
    "    parsing_mode=\"extended\",\n",
    "    save_to_db=True\n",
    ")\n",
    "resources"
   ]
  },
  {
   "cell_type": "code",
   "execution_count": null,
   "id": "9ff9cc8c",
   "metadata": {},
   "outputs": [],
   "source": [
    "resources = Resources.chunked_resource(\n",
    "    uri=\"/path/to/document.pdf\", \n",
    "    parsing_mode=\"extended\",\n",
    "    chunk_size=1000,\n",
    "    chunk_overlap=200\n",
    ")"
   ]
  },
  {
   "cell_type": "code",
   "execution_count": null,
   "id": "33822803",
   "metadata": {},
   "outputs": [],
   "source": [
    "\"\"\"integration test\"\"\""
   ]
  },
  {
   "cell_type": "code",
   "execution_count": null,
   "id": "4ba19bfd",
   "metadata": {},
   "outputs": [],
   "source": [
    "from one.services.ask_one import AgentCallingContext\n",
    "from one.services.slack.models import SlackMessage\n",
    "from percolate.utils import make_uuid\n",
    "def _get_userid_from_username(name:str):\n",
    "    \"\"\"map the user id from the email address or slack name\"\"\"\n",
    "    from percolate.services import PostgresService\n",
    "    pg = PostgresService()\n",
    "    Q = f\"\"\"\n",
    "            SELECT * FROM p8.\"User\" where LOWER(email) = LOWER(%s) or LOWER(slack_id) = LOWER(%s) limit 1\n",
    "    \"\"\"\n",
    "    \n",
    "    data = pg.execute(Q, data=(name, name))\n",
    "    if data:\n",
    "        return data[0]['id']\n",
    "    \n",
    "    \n",
    "channel_ts = f\"123445\"\n",
    "message = SlackMessage(user='U01JDKSB196', \n",
    "                       text='hi, can you tell me thre things about resonance', \n",
    "                       thread_ts=\"123454\", \n",
    "                       ts=channel_ts, \n",
    "                       channel='C08TE6NNY7L')\n",
    "\"\"\"TODO think about this session id interface\"\"\"\n",
    "ctx = AgentCallingContext(\n",
    "    channel_context=message.channel,\n",
    "    streaming_callback=None,#,buffer.add_data,\n",
    "    username=message.user,\n",
    "\n",
    "    session_id=make_uuid( message.thread_ts or message.ts), #the slack message thread is used as a session id - when there is no message thread_ts its because we are the originator\n",
    "    channel_ts=str(channel_ts),\n",
    "    session_context=f\"{message.channel}-{message.thread_ts or message.ts}\",\n",
    "    s3_files=None,\n",
    "    process_files_async=True,\n",
    "    user_id=_get_userid_from_username(message.user)\n",
    "    \n",
    ")\n",
    "setattr(ctx,'max_iterations',5)"
   ]
  },
  {
   "cell_type": "code",
   "execution_count": null,
   "id": "938e2149",
   "metadata": {},
   "outputs": [],
   "source": [
    "import percolate as p8\n",
    "from percolate.models import PercolateAgent\n",
    "\n",
    "p8.Agent(PercolateAgent).run('what is a fashion brand',context=ctx)"
   ]
  },
  {
   "cell_type": "code",
   "execution_count": null,
   "id": "8f858789",
   "metadata": {},
   "outputs": [],
   "source": [
    "#!pip install -U boto3"
   ]
  },
  {
   "cell_type": "code",
   "execution_count": null,
   "id": "9fa17a54",
   "metadata": {},
   "outputs": [],
   "source": [
    "from percolate.services import S3Service\n",
    "\n",
    "s =S3Service()\n",
    "s"
   ]
  },
  {
   "cell_type": "code",
   "execution_count": null,
   "id": "bd76efe0",
   "metadata": {},
   "outputs": [],
   "source": [
    "from io import BytesIO\n",
    "with open(\"/Users/sirsh/Downloads/6_Proposed Endeavor Guide and Clarifications.pdf\", 'rb') as f:\n",
    "    data = BytesIO(f.read())\n",
    "    data.seek(0)\n",
    "    s.upload_filebytes_to_uri(\"s3://percolate/test/file.pdf\", data)"
   ]
  },
  {
   "cell_type": "code",
   "execution_count": null,
   "id": "2b4fb995",
   "metadata": {},
   "outputs": [],
   "source": [
    "s.upload_file_to_uri(\"s3://percolate/test/file.pdf\",\n",
    "                     \"/Users/sirsh/Downloads/6_Proposed Endeavor Guide and Clarifications.pdf\" )"
   ]
  },
  {
   "cell_type": "code",
   "execution_count": null,
   "id": "b2b7720f",
   "metadata": {},
   "outputs": [],
   "source": [
    "import percolate as p8\n",
    "from percolate.models.media.tus import register_tus_models\n",
    "from percolate.models import User\n",
    "#p8.repository(User).register()\n",
    "#register_tus_models()\n",
    "from percolate.services import PostgresService\n",
    "\n",
    "pg = PostgresService()\n",
    " "
   ]
  },
  {
   "cell_type": "code",
   "execution_count": null,
   "id": "ee8489fd",
   "metadata": {},
   "outputs": [],
   "source": [
    "pg.execute(\"\"\" select * from p8.\"Resources\" order by updated_at desc limit 5 \"\"\")"
   ]
  },
  {
   "cell_type": "code",
   "execution_count": null,
   "id": "85529b03",
   "metadata": {},
   "outputs": [],
   "source": [
    "import requests\n",
    "\n",
    "session = requests.Session()\n",
    "session.cookies.set('session', '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.aCdQlQ.qHKMWsxfHuBLHnk3Ck3Ux_tiqp8')\n",
    "\n",
    "response = session.get('http://localhost:5008/auth/ping')\n",
    "print(response.json())\n",
    "\n",
    "response = session.get('http://localhost:5008/auth/session/info')\n",
    "print(response.json())"
   ]
  },
  {
   "cell_type": "code",
   "execution_count": null,
   "id": "d5181d65",
   "metadata": {},
   "outputs": [],
   "source": [
    "session.get('http://localhost:5008/tus/user/uploads?query=anything').json()"
   ]
  },
  {
   "cell_type": "code",
   "execution_count": null,
   "id": "56886053",
   "metadata": {},
   "outputs": [],
   "source": [
    "response = session.get('http://localhost:5008/auth/me')\n",
    "print(response.json())"
   ]
  },
  {
   "cell_type": "code",
   "execution_count": null,
   "id": "5d8a83ba",
   "metadata": {},
   "outputs": [],
   "source": [
    "from percolate.api.routes.auth.utils import get_user_from_email, is_valid_token_for_user, extract_user_info_from_token\n",
    "extract_user_info_from_token('eyJhbGciOiJSUzI1NiIsImtpZCI6IjY2MGVmM2I5Nzg0YmRmNTZlYmU4NTlmNTc3ZjdmYjJlOGMxY2VmZmIiLCJ0eXAiOiJKV1QifQ.eyJpc3MiOiJodHRwczovL2FjY291bnRzLmdvb2dsZS5jb20iLCJhenAiOiIxMDk5MjM3ODk0OTM1LXAzbjdna2w2czk3aGoyMDhub3FtNHJoOHJrM2diYnZ0LmFwcHMuZ29vZ2xldXNlcmNvbnRlbnQuY29tIiwiYXVkIjoiMTA5OTIzNzg5NDkzNS1wM243Z2tsNnM5N2hqMjA4bm9xbTRyaDhyazNnYmJ2dC5hcHBzLmdvb2dsZXVzZXJjb250ZW50LmNvbSIsInN1YiI6IjEwMjE2NTQ3NjExNDgwNDA5NjIzMCIsImVtYWlsIjoiYW1hcnRleUBnbWFpbC5jb20iLCJlbWFpbF92ZXJpZmllZCI6dHJ1ZSwiYXRfaGFzaCI6ImlBS2ZoVXRMU1ZDbkR4aVE1X3NwUUEiLCJub25jZSI6IjhGamhCTE5TYzBFeDJ2Qm5KSVA1IiwibmFtZSI6IlNhb2lyc2UgQW1hcnRlaWZpbyIsInBpY3R1cmUiOiJodHRwczovL2xoMy5nb29nbGV1c2VyY29udGVudC5jb20vYS9BQ2c4b2NMaVlQM3BtLXR6aHNWTFJuOVhiZ1BQVkh4SDBaeTBjR2dNdDJqYUVBY2twT0lvTFREZz1zOTYtYyIsImdpdmVuX25hbWUiOiJTYW9pcnNlIiwiZmFtaWx5X25hbWUiOiJBbWFydGVpZmlvIiwiaWF0IjoxNzQ3NTk4Mjk0LCJleHAiOjE3NDc2MDE4OTR9.P0goYoml9dxdPHiH-f7IjeEFWMv6qDT6cv-GxHma2drk14pkIuwwdU0w2OCDSlFRGc4hfePIvMU3KIddNPGnkc8qvBKDNvafdBkndMQ0D1rae8BNScVr3EuZiikv_O54Eff1Lv6cmcKd978m5I7p8xVx-2aGGrxGELz3OFszgnh6POo1efiuznp6sPIQJbskfI1a8YR1_GArU9jkwhjhczEsibWNtLn5hIzox02qBTdjfrh69eOOKSmysb2SjWl54AmWxubYfR1M1IO0CAPHUQFzVrdouUsBvZnIk3xWnF-roSMrt68aoWWCtzAxtupzy3ziY8RdTVyWy7uEnr-k6g')"
   ]
  },
  {
   "cell_type": "code",
   "execution_count": null,
   "id": "398fda9a",
   "metadata": {},
   "outputs": [],
   "source": [
    "import requests\n",
    "\n",
    "session = requests.Session()\n",
    "#session.cookies.set('session', 'eyJhbGciOiJSUzI1NiIsImtpZCI6IjY2MGVmM2I5Nzg0YmRmNTZlYmU4NTlmNTc3ZjdmYjJlOGMxY2VmZmIiLCJ0eXAiOiJKV1QifQ.eyJpc3MiOiJodHRwczovL2FjY291bnRzLmdvb2dsZS5jb20iLCJhenAiOiIxMDk5MjM3ODk0OTM1LXAzbjdna2w2czk3aGoyMDhub3FtNHJoOHJrM2diYnZ0LmFwcHMuZ29vZ2xldXNlcmNvbnRlbnQuY29tIiwiYXVkIjoiMTA5OTIzNzg5NDkzNS1wM243Z2tsNnM5N2hqMjA4bm9xbTRyaDhyazNnYmJ2dC5hcHBzLmdvb2dsZXVzZXJjb250ZW50LmNvbSIsInN1YiI6IjEwMjE2NTQ3NjExNDgwNDA5NjIzMCIsImVtYWlsIjoiYW1hcnRleUBnbWFpbC5jb20iLCJlbWFpbF92ZXJpZmllZCI6dHJ1ZSwiYXRfaGFzaCI6InNlN2FuOVhHd19BeEVGdkFOSTZSckEiLCJub25jZSI6InZWRlVBekpTU3RsMGZmQnp3RXBsIiwibmFtZSI6IlNhb2lyc2UgQW1hcnRlaWZpbyIsInBpY3R1cmUiOiJodHRwczovL2xoMy5nb29nbGV1c2VyY29udGVudC5jb20vYS9BQ2c4b2NMaVlQM3BtLXR6aHNWTFJuOVhiZ1BQVkh4SDBaeTBjR2dNdDJqYUVBY2twT0lvTFREZz1zOTYtYyIsImdpdmVuX25hbWUiOiJTYW9pcnNlIiwiZmFtaWx5X25hbWUiOiJBbWFydGVpZmlvIiwiaWF0IjoxNzQ3NTkzNjk4LCJleHAiOjE3NDc1OTcyOTh9.Z61fPlHZ__DZ38rhlU-PmloMjfs6Tj2xLFqgLj5r2yOHsPDUSEmBYm8Ay7qEmUj5kWV-iyHRgW1c7Z-p3z1k8KUyPVsKXXbZlHvlHUDBmTQo8Uy3axHyei02Vz2ejImBspjlLzjg1bf_wQUXOo5pAdR8D0elaWoRLseslRvyLdZf3k2mk_pxy3c3utkefco1psIaGcdRC44OIdqCCWtPh1MXsSu0fMW4vsdpJQYRrIlmodMWwTLph6Rv2jJ6Rl5JQU3OG6Bx9dW5XQld1k1eQuP2_UEij4-lo3_JsJD4zdbFDSAbiNUbZICof6tatbsDiCpHd3o9-AV_BBlcn_lKdA')\n",
    "\n",
    "session.cookies.set('session', 'eyJhbGciOiJSUzI1NiIsImtpZCI6IjY2MGVmM2I5Nzg0YmRmNTZlYmU4NTlmNTc3ZjdmYjJlOGMxY2VmZmIiLCJ0eXAiOiJKV1QifQ.eyJpc3MiOiJodHRwczovL2FjY291bnRzLmdvb2dsZS5jb20iLCJhenAiOiIxMDk5MjM3ODk0OTM1LXAzbjdna2w2czk3aGoyMDhub3FtNHJoOHJrM2diYnZ0LmFwcHMuZ29vZ2xldXNlcmNvbnRlbnQuY29tIiwiYXVkIjoiMTA5OTIzNzg5NDkzNS1wM243Z2tsNnM5N2hqMjA4bm9xbTRyaDhyazNnYmJ2dC5hcHBzLmdvb2dsZXVzZXJjb250ZW50LmNvbSIsInN1YiI6IjEwMjE2NTQ3NjExNDgwNDA5NjIzMCIsImVtYWlsIjoiYW1hcnRleUBnbWFpbC5jb20iLCJlbWFpbF92ZXJpZmllZCI6dHJ1ZSwiYXRfaGFzaCI6Im5KcnJIMm9lanZvSHRrSUJyS1FLckEiLCJub25jZSI6Imc1bVk5Z3AyaVduSDF6Q2U2MFl5IiwibmFtZSI6IlNhb2lyc2UgQW1hcnRlaWZpbyIsInBpY3R1cmUiOiJodHRwczovL2xoMy5nb29nbGV1c2VyY29udGVudC5jb20vYS9BQ2c4b2NMaVlQM3BtLXR6aHNWTFJuOVhiZ1BQVkh4SDBaeTBjR2dNdDJqYUVBY2twT0lvTFREZz1zOTYtYyIsImdpdmVuX25hbWUiOiJTYW9pcnNlIiwiZmFtaWx5X25hbWUiOiJBbWFydGVpZmlvIiwiaWF0IjoxNzQ3NTk4NTcwLCJleHAiOjE3NDc2MDIxNzB9.NpUvgWfPSpQLaQL8UR1mr2Vd4S7-3ZLEoeK2Dbpbi_uBES51dm8MUFnDTQPNULwo-IVUE9GBAr5HInqTx6L95cTiAohTUG-Qzio96rwtnNYF0YWkBByhTKWRKhdQ6YK97TwGffZMrEzaQ_QvHe_XF17exJpKkRLtjijCuMmmAMMqbdgtsd5XVtxSma_HFapIi4dTcZOiVqWglzsGCXWxvZqtWXiHii1niKFYb95aF8q4sRgsRGs4Z7cCc1l6YzD8sSnkTPyay_qWuAWvMlS3iY9x3777zG82U9Fi38sZ2IaQ7CS1IbZ7CrBo45-2iuh28PSw7H0v2qGcTwfOF0lhTA')\n",
    "\n",
    "response = session.get('https://eepis.percolationlabs.ai/auth/ping')\n",
    "print(response.json())\n",
    "\n",
    "response = session.get('https://eepis.percolationlabs.ai/auth/session/info')\n",
    "print(response.json())"
   ]
  },
  {
   "cell_type": "code",
   "execution_count": null,
   "id": "4f3880fd",
   "metadata": {},
   "outputs": [],
   "source": [
    "session.get('https://eepis.percolationlabs.ai/tus/user/uploads?limit=10').json()"
   ]
  },
  {
   "cell_type": "code",
   "execution_count": null,
   "id": "de4c9802",
   "metadata": {},
   "outputs": [],
   "source": [
    "session.get('https://eepis.percolationlabs.ai/tus/user/uploads?query=CevolvingAnyibodies.').json()"
   ]
  },
  {
   "cell_type": "code",
   "execution_count": null,
   "id": "e735e9ac",
   "metadata": {},
   "outputs": [],
   "source": [
    "session.get('https://eepis.percolationlabs.ai/tus/user/uploads?query=Eta Carinae pulsed in the distance.').json()"
   ]
  },
  {
   "cell_type": "code",
   "execution_count": null,
   "id": "c317d40e",
   "metadata": {},
   "outputs": [],
   "source": []
  }
 ],
 "metadata": {
  "kernelspec": {
   "display_name": "Python 3 (ipykernel)",
   "language": "python",
   "name": "python3"
  },
  "language_info": {
   "codemirror_mode": {
    "name": "ipython",
    "version": 3
   },
   "file_extension": ".py",
   "mimetype": "text/x-python",
   "name": "python",
   "nbconvert_exporter": "python",
   "pygments_lexer": "ipython3",
   "version": "3.10.10"
  }
 },
 "nbformat": 4,
 "nbformat_minor": 5
}
