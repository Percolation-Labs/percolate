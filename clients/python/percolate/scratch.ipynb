{
 "cells": [
  {
   "cell_type": "code",
   "execution_count": 1,
   "id": "bb31fb45",
   "metadata": {},
   "outputs": [],
   "source": [
    "\n",
    "import os\n",
    "os.environ['P8_PG_HOST'] = 'localhost'\n",
    "os.environ['P8_PG_PORT'] = '25432'\n",
    "os.environ['P8_PG_PASSWORD'] = os.environ.get('P8_TEST_BEARER_TOKEN')\n",
    "import nest_asyncio\n",
    "nest_asyncio.apply()"
   ]
  },
  {
   "cell_type": "code",
   "execution_count": 2,
   "id": "0ac1249b",
   "metadata": {},
   "outputs": [
    {
     "name": "stderr",
     "output_type": "stream",
     "text": [
      "/Library/Frameworks/Python.framework/Versions/3.10/lib/python3.10/site-packages/polars/_cpu_check.py:239: RuntimeWarning: Missing required CPU features.\n",
      "\n",
      "The following required CPU features were not detected:\n",
      "    avx, fma\n",
      "Continuing to use this version of Polars on this processor will likely result in a crash.\n",
      "Install the `polars-lts-cpu` package instead of `polars` to run Polars with better compatibility.\n",
      "\n",
      "Hint: If you are on an Apple ARM machine (e.g. M1) this is likely due to running Python under Rosetta.\n",
      "It is recommended to install a native version of Python that does not run under Rosetta x86-64 emulation.\n",
      "\n",
      "If you believe this warning to be a false positive, you can set the `POLARS_SKIP_CPU_CHECK` environment variable to bypass this check.\n",
      "\n",
      "  warnings.warn(\n"
     ]
    }
   ],
   "source": [
    "import sys\n",
    "from percolate.models.p8.types import Resources\n",
    "\n",
    "sys.path.append('/Users/sirsh/code/res/one-core')"
   ]
  },
  {
   "cell_type": "code",
   "execution_count": 3,
   "id": "2d435d4f",
   "metadata": {},
   "outputs": [
    {
     "name": "stderr",
     "output_type": "stream",
     "text": [
      "\u001b[32m2025-05-22 13:17:51.624\u001b[0m | \u001b[1mINFO    \u001b[0m | \u001b[36mpercolate.services.FileSystemService\u001b[0m:\u001b[36mchunk_resource_from_uri\u001b[0m:\u001b[36m1093\u001b[0m - \u001b[1mChunking resource from URI: /Users/sirsh/Downloads/INST_018.wav (mode: extended)\u001b[0m\n",
      "\u001b[32m2025-05-22 13:17:52.271\u001b[0m | \u001b[1mINFO    \u001b[0m | \u001b[36mpercolate.services.FileSystemService\u001b[0m:\u001b[36m_chunk_media_resource\u001b[0m:\u001b[36m1220\u001b[0m - \u001b[1mProcessing audio file: /Users/sirsh/Downloads/INST_018.wav\u001b[0m\n",
      "\u001b[32m2025-05-22 13:17:52.389\u001b[0m | \u001b[1mINFO    \u001b[0m | \u001b[36mpercolate.services.FileSystemService\u001b[0m:\u001b[36m_chunk_media_resource\u001b[0m:\u001b[36m1234\u001b[0m - \u001b[1mAudio file size: 80.5MB\u001b[0m\n",
      "\u001b[32m2025-05-22 13:17:52.390\u001b[0m | \u001b[1mINFO    \u001b[0m | \u001b[36mpercolate.services.FileSystemService\u001b[0m:\u001b[36m_chunk_media_resource\u001b[0m:\u001b[36m1245\u001b[0m - \u001b[1mFile size (80.5MB) exceeds limit, chunking audio\u001b[0m\n",
      "\u001b[32m2025-05-22 13:17:52.410\u001b[0m | \u001b[1mINFO    \u001b[0m | \u001b[36mpercolate.services.FileSystemService\u001b[0m:\u001b[36m_chunk_large_audio_file\u001b[0m:\u001b[36m1378\u001b[0m - \u001b[1mLoading audio file for chunking: /var/folders/tp/cbc5g2n10qgb0lt3tg00dq2h0000gn/T/tmpec03jmmc.wav\u001b[0m\n",
      "\u001b[32m2025-05-22 13:17:53.186\u001b[0m | \u001b[1mINFO    \u001b[0m | \u001b[36mpercolate.services.FileSystemService\u001b[0m:\u001b[36m_chunk_large_audio_file\u001b[0m:\u001b[36m1385\u001b[0m - \u001b[1mAudio duration: 439.6s, file size: 80.5MB\u001b[0m\n",
      "\u001b[32m2025-05-22 13:17:53.188\u001b[0m | \u001b[1mINFO    \u001b[0m | \u001b[36mpercolate.services.FileSystemService\u001b[0m:\u001b[36m_chunk_large_audio_file\u001b[0m:\u001b[36m1395\u001b[0m - \u001b[1mSplitting into 4 chunks of ~109.9s each\u001b[0m\n",
      "\u001b[32m2025-05-22 13:17:53.218\u001b[0m | \u001b[1mINFO    \u001b[0m | \u001b[36mpercolate.services.FileSystemService\u001b[0m:\u001b[36m_chunk_large_audio_file\u001b[0m:\u001b[36m1419\u001b[0m - \u001b[1mCreated chunk 1: 0.0s - 109.9s (20.1MB)\u001b[0m\n",
      "\u001b[32m2025-05-22 13:17:53.249\u001b[0m | \u001b[1mINFO    \u001b[0m | \u001b[36mpercolate.services.FileSystemService\u001b[0m:\u001b[36m_chunk_large_audio_file\u001b[0m:\u001b[36m1419\u001b[0m - \u001b[1mCreated chunk 2: 109.9s - 219.8s (20.1MB)\u001b[0m\n",
      "\u001b[32m2025-05-22 13:17:53.273\u001b[0m | \u001b[1mINFO    \u001b[0m | \u001b[36mpercolate.services.FileSystemService\u001b[0m:\u001b[36m_chunk_large_audio_file\u001b[0m:\u001b[36m1419\u001b[0m - \u001b[1mCreated chunk 3: 219.8s - 329.7s (20.1MB)\u001b[0m\n",
      "\u001b[32m2025-05-22 13:17:53.294\u001b[0m | \u001b[1mINFO    \u001b[0m | \u001b[36mpercolate.services.FileSystemService\u001b[0m:\u001b[36m_chunk_large_audio_file\u001b[0m:\u001b[36m1419\u001b[0m - \u001b[1mCreated chunk 4: 329.7s - 439.6s (20.1MB)\u001b[0m\n",
      "\u001b[32m2025-05-22 13:17:53.294\u001b[0m | \u001b[1mINFO    \u001b[0m | \u001b[36mpercolate.services.FileSystemService\u001b[0m:\u001b[36m_chunk_media_resource\u001b[0m:\u001b[36m1255\u001b[0m - \u001b[1mTranscribing audio chunk 1/4\u001b[0m\n",
      "\u001b[32m2025-05-22 13:17:53.296\u001b[0m | \u001b[1mINFO    \u001b[0m | \u001b[36mpercolate.services.llm.TranscriptionService\u001b[0m:\u001b[36mtranscribe_file\u001b[0m:\u001b[36m92\u001b[0m - \u001b[1mTranscribing file: /var/folders/tp/cbc5g2n10qgb0lt3tg00dq2h0000gn/T/audio_chunks_e3p78cnl/chunk_1.wav (20.1MB)\u001b[0m\n",
      "\u001b[32m2025-05-22 13:18:15.269\u001b[0m | \u001b[1mINFO    \u001b[0m | \u001b[36mpercolate.services.llm.TranscriptionService\u001b[0m:\u001b[36mtranscribe_file\u001b[0m:\u001b[36m106\u001b[0m - \u001b[1mTranscription successful: 1159 characters\u001b[0m\n",
      "\u001b[32m2025-05-22 13:18:15.475\u001b[0m | \u001b[1mINFO    \u001b[0m | \u001b[36mpercolate.services.FileSystemService\u001b[0m:\u001b[36m_chunk_media_resource\u001b[0m:\u001b[36m1284\u001b[0m - \u001b[1mChunk 1 transcribed: 1159 characters\u001b[0m\n",
      "\u001b[32m2025-05-22 13:18:15.479\u001b[0m | \u001b[1mINFO    \u001b[0m | \u001b[36mpercolate.services.FileSystemService\u001b[0m:\u001b[36m_chunk_media_resource\u001b[0m:\u001b[36m1255\u001b[0m - \u001b[1mTranscribing audio chunk 2/4\u001b[0m\n",
      "\u001b[32m2025-05-22 13:18:15.481\u001b[0m | \u001b[1mINFO    \u001b[0m | \u001b[36mpercolate.services.llm.TranscriptionService\u001b[0m:\u001b[36mtranscribe_file\u001b[0m:\u001b[36m92\u001b[0m - \u001b[1mTranscribing file: /var/folders/tp/cbc5g2n10qgb0lt3tg00dq2h0000gn/T/audio_chunks_e3p78cnl/chunk_2.wav (20.1MB)\u001b[0m\n",
      "\u001b[32m2025-05-22 13:18:34.275\u001b[0m | \u001b[1mINFO    \u001b[0m | \u001b[36mpercolate.services.llm.TranscriptionService\u001b[0m:\u001b[36mtranscribe_file\u001b[0m:\u001b[36m106\u001b[0m - \u001b[1mTranscription successful: 1142 characters\u001b[0m\n",
      "\u001b[32m2025-05-22 13:18:34.292\u001b[0m | \u001b[1mINFO    \u001b[0m | \u001b[36mpercolate.services.FileSystemService\u001b[0m:\u001b[36m_chunk_media_resource\u001b[0m:\u001b[36m1284\u001b[0m - \u001b[1mChunk 2 transcribed: 1142 characters\u001b[0m\n",
      "\u001b[32m2025-05-22 13:18:34.297\u001b[0m | \u001b[1mINFO    \u001b[0m | \u001b[36mpercolate.services.FileSystemService\u001b[0m:\u001b[36m_chunk_media_resource\u001b[0m:\u001b[36m1255\u001b[0m - \u001b[1mTranscribing audio chunk 3/4\u001b[0m\n",
      "\u001b[32m2025-05-22 13:18:34.301\u001b[0m | \u001b[1mINFO    \u001b[0m | \u001b[36mpercolate.services.llm.TranscriptionService\u001b[0m:\u001b[36mtranscribe_file\u001b[0m:\u001b[36m92\u001b[0m - \u001b[1mTranscribing file: /var/folders/tp/cbc5g2n10qgb0lt3tg00dq2h0000gn/T/audio_chunks_e3p78cnl/chunk_3.wav (20.1MB)\u001b[0m\n",
      "\u001b[32m2025-05-22 13:18:59.813\u001b[0m | \u001b[1mINFO    \u001b[0m | \u001b[36mpercolate.services.llm.TranscriptionService\u001b[0m:\u001b[36mtranscribe_file\u001b[0m:\u001b[36m106\u001b[0m - \u001b[1mTranscription successful: 1117 characters\u001b[0m\n",
      "\u001b[32m2025-05-22 13:18:59.820\u001b[0m | \u001b[1mINFO    \u001b[0m | \u001b[36mpercolate.services.FileSystemService\u001b[0m:\u001b[36m_chunk_media_resource\u001b[0m:\u001b[36m1284\u001b[0m - \u001b[1mChunk 3 transcribed: 1117 characters\u001b[0m\n",
      "\u001b[32m2025-05-22 13:18:59.827\u001b[0m | \u001b[1mINFO    \u001b[0m | \u001b[36mpercolate.services.FileSystemService\u001b[0m:\u001b[36m_chunk_media_resource\u001b[0m:\u001b[36m1255\u001b[0m - \u001b[1mTranscribing audio chunk 4/4\u001b[0m\n",
      "\u001b[32m2025-05-22 13:18:59.831\u001b[0m | \u001b[1mINFO    \u001b[0m | \u001b[36mpercolate.services.llm.TranscriptionService\u001b[0m:\u001b[36mtranscribe_file\u001b[0m:\u001b[36m92\u001b[0m - \u001b[1mTranscribing file: /var/folders/tp/cbc5g2n10qgb0lt3tg00dq2h0000gn/T/audio_chunks_e3p78cnl/chunk_4.wav (20.1MB)\u001b[0m\n",
      "\u001b[32m2025-05-22 13:19:17.256\u001b[0m | \u001b[1mINFO    \u001b[0m | \u001b[36mpercolate.services.llm.TranscriptionService\u001b[0m:\u001b[36mtranscribe_file\u001b[0m:\u001b[36m106\u001b[0m - \u001b[1mTranscription successful: 888 characters\u001b[0m\n",
      "\u001b[32m2025-05-22 13:19:17.262\u001b[0m | \u001b[1mINFO    \u001b[0m | \u001b[36mpercolate.services.FileSystemService\u001b[0m:\u001b[36m_chunk_media_resource\u001b[0m:\u001b[36m1284\u001b[0m - \u001b[1mChunk 4 transcribed: 888 characters\u001b[0m\n",
      "\u001b[32m2025-05-22 13:19:17.268\u001b[0m | \u001b[1mINFO    \u001b[0m | \u001b[36mpercolate.services.FileSystemService\u001b[0m:\u001b[36m_chunk_media_resource\u001b[0m:\u001b[36m1297\u001b[0m - \u001b[1mComplete transcription: 4386 characters from 4 chunks\u001b[0m\n",
      "\u001b[32m2025-05-22 13:19:17.270\u001b[0m | \u001b[1mINFO    \u001b[0m | \u001b[36mpercolate.services.FileSystemService\u001b[0m:\u001b[36m_chunk_media_resource\u001b[0m:\u001b[36m1349\u001b[0m - \u001b[1mCreated 5 transcription resources for INST_018.wav\u001b[0m\n"
     ]
    },
    {
     "data": {
      "text/plain": [
       "5"
      ]
     },
     "execution_count": 3,
     "metadata": {},
     "output_type": "execute_result"
    }
   ],
   "source": [
    "resources = Resources.chunked_resource(\n",
    "    uri=\"/Users/sirsh/Downloads/INST_018.wav\",\n",
    "    parsing_mode=\"extended\",\n",
    "    chunk_size=1000,\n",
    "    chunk_overlap=200,\n",
    "    save_to_db=False,\n",
    "    \n",
    ")\n",
    "\n",
    "len(resources)"
   ]
  },
  {
   "cell_type": "code",
   "execution_count": 1,
   "id": "c3099446",
   "metadata": {},
   "outputs": [
    {
     "name": "stderr",
     "output_type": "stream",
     "text": [
      "/Library/Frameworks/Python.framework/Versions/3.10/lib/python3.10/site-packages/polars/_cpu_check.py:239: RuntimeWarning: Missing required CPU features.\n",
      "\n",
      "The following required CPU features were not detected:\n",
      "    avx, fma\n",
      "Continuing to use this version of Polars on this processor will likely result in a crash.\n",
      "Install the `polars-lts-cpu` package instead of `polars` to run Polars with better compatibility.\n",
      "\n",
      "Hint: If you are on an Apple ARM machine (e.g. M1) this is likely due to running Python under Rosetta.\n",
      "It is recommended to install a native version of Python that does not run under Rosetta x86-64 emulation.\n",
      "\n",
      "If you believe this warning to be a false positive, you can set the `POLARS_SKIP_CPU_CHECK` environment variable to bypass this check.\n",
      "\n",
      "  warnings.warn(\n",
      "\u001b[32m2025-05-22 13:02:40.839\u001b[0m | \u001b[1mINFO    \u001b[0m | \u001b[36mpercolate.services.FileSystemService\u001b[0m:\u001b[36mchunk_resource_from_uri\u001b[0m:\u001b[36m1093\u001b[0m - \u001b[1mChunking resource from URI: /Users/sirsh/Downloads/6-Month Roadmap & Milestones.pdf (mode: simple)\u001b[0m\n",
      "\u001b[32m2025-05-22 13:02:40.840\u001b[0m | \u001b[1mINFO    \u001b[0m | \u001b[36mpercolate.services.FileSystemService\u001b[0m:\u001b[36mread\u001b[0m:\u001b[36m574\u001b[0m - \u001b[1mReading file: /Users/sirsh/Downloads/6-Month Roadmap & Milestones.pdf\u001b[0m\n",
      "\u001b[32m2025-05-22 13:02:42.103\u001b[0m | \u001b[1mINFO    \u001b[0m | \u001b[36mpercolate.services.FileSystemService\u001b[0m:\u001b[36mchunk_resource_from_uri\u001b[0m:\u001b[36m1148\u001b[0m - \u001b[1mCreated 56 chunks from 6-Month Roadmap & Milestones.pdf\u001b[0m\n"
     ]
    },
    {
     "data": {
      "text/plain": [
       "56"
      ]
     },
     "execution_count": 1,
     "metadata": {},
     "output_type": "execute_result"
    }
   ],
   "source": [
    "\n",
    "# Simple chunking - basic text extraction (fast, no API costs)\n",
    "resources = Resources.chunked_resource(\n",
    "    uri=\"/Users/sirsh/Downloads/6-Month Roadmap & Milestones.pdf\",\n",
    "    parsing_mode=\"simple\",\n",
    "    chunk_size=1000,\n",
    "    chunk_overlap=200,\n",
    "    save_to_db=False\n",
    ")\n",
    "\n",
    "len(resources)"
   ]
  },
  {
   "cell_type": "code",
   "execution_count": 2,
   "id": "301b9c36",
   "metadata": {},
   "outputs": [
    {
     "name": "stderr",
     "output_type": "stream",
     "text": [
      "\u001b[32m2025-05-22 13:02:45.131\u001b[0m | \u001b[1mINFO    \u001b[0m | \u001b[36mpercolate.services.FileSystemService\u001b[0m:\u001b[36mchunk_resource_from_uri\u001b[0m:\u001b[36m1093\u001b[0m - \u001b[1mChunking resource from URI: /Users/sirsh/Downloads/Transit Insurance Form.pdf (mode: extended)\u001b[0m\n",
      "\u001b[32m2025-05-22 13:02:45.133\u001b[0m | \u001b[1mINFO    \u001b[0m | \u001b[36mpercolate.services.FileSystemService\u001b[0m:\u001b[36mread\u001b[0m:\u001b[36m574\u001b[0m - \u001b[1mReading file: /Users/sirsh/Downloads/Transit Insurance Form.pdf\u001b[0m\n",
      "\u001b[32m2025-05-22 13:02:47.933\u001b[0m | \u001b[1mINFO    \u001b[0m | \u001b[36mpercolate.services.FileSystemService\u001b[0m:\u001b[36m_convert_pdf_pages_to_images\u001b[0m:\u001b[36m849\u001b[0m - \u001b[1mConverting PDF pages to images using pdf2image convert_from_path for Transit Insurance Form.pdf\u001b[0m\n",
      "\u001b[32m2025-05-22 13:02:49.872\u001b[0m | \u001b[1mINFO    \u001b[0m | \u001b[36mpercolate.services.FileSystemService\u001b[0m:\u001b[36m_convert_pdf_pages_to_images\u001b[0m:\u001b[36m851\u001b[0m - \u001b[1mSuccessfully converted 7 pages to images using convert_from_path\u001b[0m\n",
      "\u001b[32m2025-05-22 13:02:49.877\u001b[0m | \u001b[1mINFO    \u001b[0m | \u001b[36mpercolate.services.FileSystemService\u001b[0m:\u001b[36m_extract_extended_pdf_content\u001b[0m:\u001b[36m1497\u001b[0m - \u001b[1mAnalyzing 7 PDF pages with LLM vision\u001b[0m\n",
      "\u001b[32m2025-05-22 13:02:51.066\u001b[0m | \u001b[1mINFO    \u001b[0m | \u001b[36mpercolate.services.llm.ImageInterpreter\u001b[0m:\u001b[36mdescribe_images\u001b[0m:\u001b[36m109\u001b[0m - \u001b[1mDescribing 1 images using openai\u001b[0m\n",
      "\u001b[32m2025-05-22 13:03:30.727\u001b[0m | \u001b[1mINFO    \u001b[0m | \u001b[36mpercolate.services.FileSystemService\u001b[0m:\u001b[36m_extract_extended_pdf_content\u001b[0m:\u001b[36m1524\u001b[0m - \u001b[1mSuccessfully analyzed page 1\u001b[0m\n",
      "\u001b[32m2025-05-22 13:03:30.942\u001b[0m | \u001b[1mINFO    \u001b[0m | \u001b[36mpercolate.services.llm.ImageInterpreter\u001b[0m:\u001b[36mdescribe_images\u001b[0m:\u001b[36m109\u001b[0m - \u001b[1mDescribing 1 images using openai\u001b[0m\n",
      "\u001b[32m2025-05-22 13:04:06.600\u001b[0m | \u001b[1mINFO    \u001b[0m | \u001b[36mpercolate.services.FileSystemService\u001b[0m:\u001b[36m_extract_extended_pdf_content\u001b[0m:\u001b[36m1524\u001b[0m - \u001b[1mSuccessfully analyzed page 2\u001b[0m\n",
      "\u001b[32m2025-05-22 13:04:06.816\u001b[0m | \u001b[1mINFO    \u001b[0m | \u001b[36mpercolate.services.llm.ImageInterpreter\u001b[0m:\u001b[36mdescribe_images\u001b[0m:\u001b[36m109\u001b[0m - \u001b[1mDescribing 1 images using openai\u001b[0m\n",
      "\u001b[32m2025-05-22 13:04:37.769\u001b[0m | \u001b[1mINFO    \u001b[0m | \u001b[36mpercolate.services.FileSystemService\u001b[0m:\u001b[36m_extract_extended_pdf_content\u001b[0m:\u001b[36m1524\u001b[0m - \u001b[1mSuccessfully analyzed page 3\u001b[0m\n",
      "\u001b[32m2025-05-22 13:04:38.061\u001b[0m | \u001b[1mINFO    \u001b[0m | \u001b[36mpercolate.services.llm.ImageInterpreter\u001b[0m:\u001b[36mdescribe_images\u001b[0m:\u001b[36m109\u001b[0m - \u001b[1mDescribing 1 images using openai\u001b[0m\n",
      "\u001b[32m2025-05-22 13:05:09.374\u001b[0m | \u001b[1mINFO    \u001b[0m | \u001b[36mpercolate.services.FileSystemService\u001b[0m:\u001b[36m_extract_extended_pdf_content\u001b[0m:\u001b[36m1524\u001b[0m - \u001b[1mSuccessfully analyzed page 4\u001b[0m\n",
      "\u001b[32m2025-05-22 13:05:09.722\u001b[0m | \u001b[1mINFO    \u001b[0m | \u001b[36mpercolate.services.llm.ImageInterpreter\u001b[0m:\u001b[36mdescribe_images\u001b[0m:\u001b[36m109\u001b[0m - \u001b[1mDescribing 1 images using openai\u001b[0m\n",
      "\u001b[32m2025-05-22 13:05:45.106\u001b[0m | \u001b[1mINFO    \u001b[0m | \u001b[36mpercolate.services.FileSystemService\u001b[0m:\u001b[36m_extract_extended_pdf_content\u001b[0m:\u001b[36m1524\u001b[0m - \u001b[1mSuccessfully analyzed page 5\u001b[0m\n",
      "\u001b[32m2025-05-22 13:05:45.370\u001b[0m | \u001b[1mINFO    \u001b[0m | \u001b[36mpercolate.services.llm.ImageInterpreter\u001b[0m:\u001b[36mdescribe_images\u001b[0m:\u001b[36m109\u001b[0m - \u001b[1mDescribing 1 images using openai\u001b[0m\n",
      "\u001b[32m2025-05-22 13:06:44.366\u001b[0m | \u001b[1mINFO    \u001b[0m | \u001b[36mpercolate.services.FileSystemService\u001b[0m:\u001b[36m_extract_extended_pdf_content\u001b[0m:\u001b[36m1524\u001b[0m - \u001b[1mSuccessfully analyzed page 6\u001b[0m\n",
      "\u001b[32m2025-05-22 13:06:44.560\u001b[0m | \u001b[1mINFO    \u001b[0m | \u001b[36mpercolate.services.llm.ImageInterpreter\u001b[0m:\u001b[36mdescribe_images\u001b[0m:\u001b[36m109\u001b[0m - \u001b[1mDescribing 1 images using openai\u001b[0m\n",
      "\u001b[32m2025-05-22 13:07:06.413\u001b[0m | \u001b[1mINFO    \u001b[0m | \u001b[36mpercolate.services.FileSystemService\u001b[0m:\u001b[36m_extract_extended_pdf_content\u001b[0m:\u001b[36m1524\u001b[0m - \u001b[1mSuccessfully analyzed page 7\u001b[0m\n",
      "\u001b[32m2025-05-22 13:07:06.415\u001b[0m | \u001b[1mINFO    \u001b[0m | \u001b[36mpercolate.services.FileSystemService\u001b[0m:\u001b[36m_extract_extended_pdf_content\u001b[0m:\u001b[36m1556\u001b[0m - \u001b[1mExtended PDF analysis complete: 29429 characters\u001b[0m\n",
      "\u001b[32m2025-05-22 13:07:06.420\u001b[0m | \u001b[1mINFO    \u001b[0m | \u001b[36mpercolate.services.FileSystemService\u001b[0m:\u001b[36mchunk_resource_from_uri\u001b[0m:\u001b[36m1148\u001b[0m - \u001b[1mCreated 31 chunks from Transit Insurance Form.pdf\u001b[0m\n"
     ]
    },
    {
     "data": {
      "text/plain": [
       "[Resources(id='5b5608c6-c350-5e24-a6b7-e4a80d4c3a86', name='Transit Insurance Form.pdf_chunk_1', category='pdf_chunk', content='DOCUMENT ANALYSIS SUMMARY:\\n- Document: Transit Insurance Form.pdf\\n- Total Pages: 7\\n- Analysis Method: LLM Vision + Text Extraction\\n- Pages Successfully Analyzed: 7\\n\\nFULL CONTENT:\\n=== PAGE 1 ===\\n1. **Text Content Transcription:**\\n\\n   **Header:**\\n   - WTI Logo\\n   - \"WORLDWIDE TRANSIT INSURANCE BROKERS, INC\"\\n   - \"INTERNATIONAL PROTECTION PLAN - HOUSEHOLD GOODS PROPOSAL FORM\"\\n\\n   **Personal Information:**\\n   - Name: saoirse amarteifio\\n   - Origin: New York\\n   - Email: amartey@gmail.com\\n   - Lump sum Amount: $5000.00\\n\\n   **Conveyance Information:**\\n   - Conveyance: Sea\\n   - Destination: London\\n   - Type of Valuation: Platinum Plan (Lump Sum)\\n\\n   **Sections with Tables:**\\n\\n   **Section A - Living Room:**\\n   - ARTICLE: CHAIR(S), END TABLE(S), COFFEE TABLE, etc.\\n   - QTY and VALUE $ columns\\n\\n   **Section B - Bathrooms:**\\n   - ARTICLE: RUG(S)/MAT(S), TOWEL(S)/LINEN, etc.\\n   - QTY and VALUE $ columns\\n\\n   **Section C - Dining Room:**\\n   - ARTICLE: TABLE(S) & CHAIRS, CHINA CABINET, etc.\\n   -', summary=None, ordinal=0, uri='/Users/sirsh/Downloads/Transit Insurance Form.pdf', metadata={'source_file': 'Transit Insurance Form.pdf', 'parsing_mode': 'extended', 'chunk_index': 0, 'total_chunks': 31, 'chunk_size': 1000, 'chunk_overlap': 200, 'file_type': 'pdf', 'original_uri': '/Users/sirsh/Downloads/Transit Insurance Form.pdf'}, graph_paths=None, resource_timestamp=datetime.datetime(2025, 5, 22, 17, 7, 6, 418862, tzinfo=datetime.timezone.utc), userid=None),\n",
       " Resources(id='3425ab1d-bf06-5656-be05-861e3b946d97', name='Transit Insurance Form.pdf_chunk_2', category='pdf_chunk', content='**Section B - Bathrooms:**\\n   - ARTICLE: RUG(S)/MAT(S), TOWEL(S)/LINEN, etc.\\n   - QTY and VALUE $ columns\\n\\n   **Section C - Dining Room:**\\n   - ARTICLE: TABLE(S) & CHAIRS, CHINA CABINET, etc.\\n   - QTY and VALUE $ columns\\n\\n   **Section D - Office:**\\n   - ARTICLE: SOFA, TABLE(S) & CHAIR(S), etc.\\n   - QTY and VALUE $ columns\\n\\n   **Section G - Chinaware:**\\n   - ARTICLE and TOTAL columns\\n\\n   **Section H - Silverware:**\\n   - ARTICLE and TOTAL columns\\n\\n   **Section I - Antiques:**\\n   - ARTICLE and TOTAL columns\\n\\n   **Section J - Master Room:**\\n   - ARTICLE: BED FRAME, MATTRESS, CHAIRS, etc.\\n   - QTY and VALUE $ columns\\n\\n   **Section K - Bedroom 2:**\\n   - ARTICLE: BED FRAME, MATTRESS, CHAIRS, etc.\\n   - QTY and VALUE $ columns\\n\\n   **Section L - Bedroom 3:**\\n   - ARTICLE: BED FRAME, MATTRESS, etc.\\n   - QTY and VALUE $ columns\\n\\n   **Section M - Clothing - Womens:**\\n   - ARTICLE: BLOUSES, DRESSES, etc.\\n   - QTY and VALUE $ columns\\n\\n   **Section N - Clothing - Mens:**\\n   - ARTICLE: SUITS,', summary=None, ordinal=0, uri='/Users/sirsh/Downloads/Transit Insurance Form.pdf', metadata={'source_file': 'Transit Insurance Form.pdf', 'parsing_mode': 'extended', 'chunk_index': 1, 'total_chunks': 31, 'chunk_size': 1000, 'chunk_overlap': 200, 'file_type': 'pdf', 'original_uri': '/Users/sirsh/Downloads/Transit Insurance Form.pdf'}, graph_paths=None, resource_timestamp=datetime.datetime(2025, 5, 22, 17, 7, 6, 420090, tzinfo=datetime.timezone.utc), userid=None),\n",
       " Resources(id='8af86986-0558-5a3c-85df-fd7d9c5d7ba2', name='Transit Insurance Form.pdf_chunk_3', category='pdf_chunk', content='SS, etc.\\n   - QTY and VALUE $ columns\\n\\n   **Section M - Clothing - Womens:**\\n   - ARTICLE: BLOUSES, DRESSES, etc.\\n   - QTY and VALUE $ columns\\n\\n   **Section N - Clothing - Mens:**\\n   - ARTICLE: SUITS, SHIRTS & TIES, etc.\\n   - QTY and VALUE $ columns\\n\\n   **Section O - Clothing - Childrens:**\\n   - ARTICLE: SHIRTS, TROUSERS/SHORTS, etc.\\n   - QTY and VALUE $ columns\\n\\n   **Section P - Miscellaneous:**\\n   - ARTICLE: TABLE(S) OUTDOOR, CHAIR(S) OUTDOOR, etc.\\n   - QTY and VALUE $ columns\\n\\n2. **Tables, Charts, or Structured Data:**\\n\\n   Each section from A to P includes structured data with columns labeled ARTICLE, QTY, and VALUE $. All totals are marked as $0. Each section header is in bold with a black background and white text.\\n\\n3. **Images, Diagrams, or Visual Elements:**\\n\\n   - WTI Logo at the top.\\n   - No other images or diagrams.\\n\\n4. **Layout and Formatting Structure:**\\n\\n   - The form is structured in a grid format with clearly labeled sections and tables.\\n   - There are bold section', summary=None, ordinal=0, uri='/Users/sirsh/Downloads/Transit Insurance Form.pdf', metadata={'source_file': 'Transit Insurance Form.pdf', 'parsing_mode': 'extended', 'chunk_index': 2, 'total_chunks': 31, 'chunk_size': 1000, 'chunk_overlap': 200, 'file_type': 'pdf', 'original_uri': '/Users/sirsh/Downloads/Transit Insurance Form.pdf'}, graph_paths=None, resource_timestamp=datetime.datetime(2025, 5, 22, 17, 7, 6, 420144, tzinfo=datetime.timezone.utc), userid=None),\n",
       " Resources(id='515caf57-3adf-58ff-896e-c41765354770', name='Transit Insurance Form.pdf_chunk_4', category='pdf_chunk', content='the top.\\n   - No other images or diagrams.\\n\\n4. **Layout and Formatting Structure:**\\n\\n   - The form is structured in a grid format with clearly labeled sections and tables.\\n   - There are bold section headers with black backgrounds.\\n   - Information is organized into columns for ARTICLE, QTY, and VALUE $.\\n   - Personal and conveyance information is separated from the sectional tables.\\n\\n5. **Important Visual Information Not Captured in Plain Text:**\\n\\n   - The layout is clean and organized, intended for easy data entry with emphasis on categorization.\\n   - The bold section headers and black backgrounds help in visually separating different categories for quick reference.\\n   - The use of a grid layout suggests a standard form used for inventory or insurance purposes, allowing systematic recording of items.\\n\\n=== PAGE 2 ===\\n### Text Content\\n\\n#### SECTION E - KITCHEN\\n- **ARTICLE** | **QTY** | **VALUE $**\\n- COOKER/STOVE \\n- MICROWAVE OVEN\\n- OVEN\\n- DISHWASHER\\n- REFRIGERATOR\\n- FREEZER\\n-', summary=None, ordinal=0, uri='/Users/sirsh/Downloads/Transit Insurance Form.pdf', metadata={'source_file': 'Transit Insurance Form.pdf', 'parsing_mode': 'extended', 'chunk_index': 3, 'total_chunks': 31, 'chunk_size': 1000, 'chunk_overlap': 200, 'file_type': 'pdf', 'original_uri': '/Users/sirsh/Downloads/Transit Insurance Form.pdf'}, graph_paths=None, resource_timestamp=datetime.datetime(2025, 5, 22, 17, 7, 6, 420166, tzinfo=datetime.timezone.utc), userid=None),\n",
       " Resources(id='f0bc0715-aa43-5eeb-ba76-5250a8e3b083', name='Transit Insurance Form.pdf_chunk_5', category='pdf_chunk', content='tic recording of items.\\n\\n=== PAGE 2 ===\\n### Text Content\\n\\n#### SECTION E - KITCHEN\\n- **ARTICLE** | **QTY** | **VALUE $**\\n- COOKER/STOVE \\n- MICROWAVE OVEN\\n- OVEN\\n- DISHWASHER\\n- REFRIGERATOR\\n- FREEZER\\n- TABLE(S)/CHAIR(S)\\n- OVEN\\n- CUTLERY/UTENSILS\\n- CROCKERY\\n- FREEZER\\n- CLOCK\\n- LINENS\\n- **TOTAL** $0\\n\\n#### SECTION F - LAUNDRY ROOM\\n- **ARTICLE** | **QTY** | **VALUE $**\\n- WASHING MACHINE\\n- DRYER\\n- IRON\\n- IRONING BOARD\\n- **TOTAL** $0\\n\\n#### SECTION Q - BASEMENT & GAMES\\n- **ARTICLE** | **QTY** | **VALUE $**\\n- WORKBENCH\\n- TOOL BOX\\n- GARDEN TOOLS\\n- FURNITURE(PATIO)\\n- LUGGAGE/TRUNKS\\n- BBQ\\n- HANDTOOLS\\n- **TOTAL** $0\\n\\n#### SECTION R - ELECTRICAL/ELECTRONIC\\n- **ARTICLE** | **QTY** | **VALUE $**\\n- TURNTABLE\\n- COMPACT DISC PLAYER\\n- TUNER\\n- HI FI AMPLIFIER\\n- CASSETTE PLAYER\\n- SPEAKERS\\n- RADIO(S)\\n- SEWING MACHINE\\n- VACUUM CLEANER\\n- COMPUTER(S)\\n- COMPUTER SUPPLIES\\n- COMPUTER SCREEN\\n- COMPUTER PRINTER\\n- VIDEO CAMERA\\n- CAMERA/CAMERA LENS\\n- DIGITAL CAMERA\\n- **TOTAL** $0\\n\\n#### AutoMobile Declaration\\n-', summary=None, ordinal=0, uri='/Users/sirsh/Downloads/Transit Insurance Form.pdf', metadata={'source_file': 'Transit Insurance Form.pdf', 'parsing_mode': 'extended', 'chunk_index': 4, 'total_chunks': 31, 'chunk_size': 1000, 'chunk_overlap': 200, 'file_type': 'pdf', 'original_uri': '/Users/sirsh/Downloads/Transit Insurance Form.pdf'}, graph_paths=None, resource_timestamp=datetime.datetime(2025, 5, 22, 17, 7, 6, 420179, tzinfo=datetime.timezone.utc), userid=None),\n",
       " Resources(id='c064f127-7d3d-5ed4-b5f9-129eba8c827b', name='Transit Insurance Form.pdf_chunk_6', category='pdf_chunk', content='HING - MENS | 0\\n- SECTION O - CLOTHING - CHILDRENS | 0\\n- SECTION P - MISCELLANEOUS | 0\\n- SECTION Q - BASEMENT & GAMES | 0\\n- SECTION R - ELECTRICAL/ELECTRONIC | 0\\n- **LUMP SUM AMOUNT** | 5000.00\\n- **AUTO DECLARATION AMOUNT** | 0.00\\n- **TOTAL** | $5000.00\\n\\n### Tables and Structured Data\\n\\n- The document contains multiple tables organized by sections (e.g., Kitchen, Laundry Room, Basement & Games, Electrical/Electronic). Each table lists articles, quantity, and value.\\n- There is a summary table listing all sections with their corresponding values.\\n- The \"AutoMobile Declaration\" section has structured fields for vehicle details.\\n\\n### Images, Diagrams, or Visual Elements\\n\\n- No specific images or diagrams are present aside from the tabular content.\\n\\n### Layout and Formatting Structure\\n\\n- The document is divided into sections with bold headings.\\n- Tables use columns for organizing data with labels such as “ARTICLE,” “QTY,” and “VALUE $.”\\n- The summary and auto declaration sections are boxed', summary=None, ordinal=0, uri='/Users/sirsh/Downloads/Transit Insurance Form.pdf', metadata={'source_file': 'Transit Insurance Form.pdf', 'parsing_mode': 'extended', 'chunk_index': 5, 'total_chunks': 31, 'chunk_size': 1000, 'chunk_overlap': 200, 'file_type': 'pdf', 'original_uri': '/Users/sirsh/Downloads/Transit Insurance Form.pdf'}, graph_paths=None, resource_timestamp=datetime.datetime(2025, 5, 22, 17, 7, 6, 420191, tzinfo=datetime.timezone.utc), userid=None),\n",
       " Resources(id='4943bdc0-52c3-56dc-a551-7e56ae6c4ab8', name='Transit Insurance Form.pdf_chunk_7', category='pdf_chunk', content='ocument is divided into sections with bold headings.\\n- Tables use columns for organizing data with labels such as “ARTICLE,” “QTY,” and “VALUE $.”\\n- The summary and auto declaration sections are boxed separately to distinguish them from the rest of the content.\\n- Some sections have grid formatting with clear lines separating different parts.\\n\\n### Important Visual Information Not Captured in Plain Text\\n\\n- The document makes use of bold text for section titles and headers for emphasis and categorization.\\n- The layout suggests a checklist format suitable for inventory and assessment purposes.\\n\\nOverall, this page of the PDF appears to be part of an insurance or inventory form, categorizing household goods and associated values. The summary and automobile declaration sections provide an overarching financial overview related to the insured items.\\n\\n=== PAGE 3 ===\\n### Text Content\\n\\n**Terms & Conditions**\\n**All Risk Coverage**\\n\\n1. **INSURER**\\n\\n   100% Dual Commercial Risk under reference', summary=None, ordinal=0, uri='/Users/sirsh/Downloads/Transit Insurance Form.pdf', metadata={'source_file': 'Transit Insurance Form.pdf', 'parsing_mode': 'extended', 'chunk_index': 6, 'total_chunks': 31, 'chunk_size': 1000, 'chunk_overlap': 200, 'file_type': 'pdf', 'original_uri': '/Users/sirsh/Downloads/Transit Insurance Form.pdf'}, graph_paths=None, resource_timestamp=datetime.datetime(2025, 5, 22, 17, 7, 6, 420202, tzinfo=datetime.timezone.utc), userid=None),\n",
       " Resources(id='e27f4b4c-5c1a-5cb3-8fa6-1a3b77483dbd', name='Transit Insurance Form.pdf_chunk_8', category='pdf_chunk', content='verarching financial overview related to the insured items.\\n\\n=== PAGE 3 ===\\n### Text Content\\n\\n**Terms & Conditions**\\n**All Risk Coverage**\\n\\n1. **INSURER**\\n\\n   100% Dual Commercial Risk under reference number B60149272122 on behalf of Chaucer Insurance Company DAC\\n\\n2. **INSURED PERILS**\\n\\n   Full All Risks’ – Professionally packed.\\n\\n   All Risks of physical loss or damage subject to the version of the following London Institute Clauses current at the time of commencement of transit:\\n\\n   Institute Cargo Clauses (A), and the War Clauses, Strikes Clauses, Termination of Transit Clause (Terrorism), Classification Clause, Insolvency Exclusion Amendment Clause, Radioactive Contamination, Chemical, Biological, Bio-Chemical, Electromagnetic Weapons Exclusion Clause and Cyber Attack Exclusion Clause.\\n   \\n   For the purposes of general average contribution and salvage charges recoverable hereunder, the effects insured shall be deemed to be insured for their full contributory value.\\n\\n   OR', summary=None, ordinal=0, uri='/Users/sirsh/Downloads/Transit Insurance Form.pdf', metadata={'source_file': 'Transit Insurance Form.pdf', 'parsing_mode': 'extended', 'chunk_index': 7, 'total_chunks': 31, 'chunk_size': 1000, 'chunk_overlap': 200, 'file_type': 'pdf', 'original_uri': '/Users/sirsh/Downloads/Transit Insurance Form.pdf'}, graph_paths=None, resource_timestamp=datetime.datetime(2025, 5, 22, 17, 7, 6, 420214, tzinfo=datetime.timezone.utc), userid=None),\n",
       " Resources(id='f4e80045-28e2-5a86-8233-38ac90ffc821', name='Transit Insurance Form.pdf_chunk_9', category='pdf_chunk', content='ause.\\n   \\n   For the purposes of general average contribution and salvage charges recoverable hereunder, the effects insured shall be deemed to be insured for their full contributory value.\\n\\n   OR\\n\\n   Owner Packed Goods - As above but excluding \\n   Breakage, scratching, denting, chipping, staining and tearing of owner packed effects unless directly caused by fire, stranding, sinking or collision of the vessel or collision or overturn of transporting land conveyance. Also excluding claims for missing items of owner packed cartons or packages unless an itemised valued list of contents of each carton or package is supplied by the owner prior to commencement of transit.\\n   \\n   OR\\n\\n   Restricted Conditions\\n   Cover is subject to the Institute Cargo Clauses (B), and the War Clauses, Strikes Clauses, Termination of Transit Clause (Terrorism), Classification Clause, Insolvency Exclusion Amendment Clause, Radioactive Contamination, Chemical, Biological, Bio-Chemical, Electromagnetic Weapons', summary=None, ordinal=0, uri='/Users/sirsh/Downloads/Transit Insurance Form.pdf', metadata={'source_file': 'Transit Insurance Form.pdf', 'parsing_mode': 'extended', 'chunk_index': 8, 'total_chunks': 31, 'chunk_size': 1000, 'chunk_overlap': 200, 'file_type': 'pdf', 'original_uri': '/Users/sirsh/Downloads/Transit Insurance Form.pdf'}, graph_paths=None, resource_timestamp=datetime.datetime(2025, 5, 22, 17, 7, 6, 420225, tzinfo=datetime.timezone.utc), userid=None),\n",
       " Resources(id='8c412f2a-c863-5f2e-a7d6-4560468f81eb', name='Transit Insurance Form.pdf_chunk_10', category='pdf_chunk', content='y is limited to a maximum of USD1,000 per item, set or contents of an individual box. Any item or individual box containing values in excess of USD 1,000 must still be listed and declared on the valued inventory and is in addition to the minimum suggested value of USD 12.50 per lb calculation basis\\n\\n   Antiques and fine art, automobiles, campers, boats, motorcycles and trailers must be valued at their replacement cost at destination taking into account costs of duties, shipping and carriage charges.\\n\\n5. **100% CO-INSURANCE CLAUSE**\\n\\n   If you fail to insure for the full replacement value of goods at destination, you will only be entitled to recover from Underwriters the proportion of the loss as the declared value bears to the total value of the property you shipped.\\n\\n6. **PAIRS & SETS**\\n\\n   Where any item is part of a pair or set Underwriters will only pay for the actual items which are lost or damaged. No payment will be made by Underwriters for any items which are part of a pair or', summary=None, ordinal=0, uri='/Users/sirsh/Downloads/Transit Insurance Form.pdf', metadata={'source_file': 'Transit Insurance Form.pdf', 'parsing_mode': 'extended', 'chunk_index': 9, 'total_chunks': 31, 'chunk_size': 1000, 'chunk_overlap': 200, 'file_type': 'pdf', 'original_uri': '/Users/sirsh/Downloads/Transit Insurance Form.pdf'}, graph_paths=None, resource_timestamp=datetime.datetime(2025, 5, 22, 17, 7, 6, 420244, tzinfo=datetime.timezone.utc), userid=None),\n",
       " Resources(id='f7feddbf-f3e4-503d-bc27-360791baa190', name='Transit Insurance Form.pdf_chunk_11', category='pdf_chunk', content='Where any item is part of a pair or set Underwriters will only pay for the actual items which are lost or damaged. No payment will be made by Underwriters for any items which are part of a pair or of a set and which are not lost or damaged.\\n\\n7. **DEPRECIATION**\\n\\n### Tables, Charts, or Structured Data\\n\\n- There are no tables, charts, or structured data present on the page.\\n\\n### Images, Diagrams, or Visual Elements\\n\\n- There are no images, diagrams, or visual elements present on the page.\\n\\n### Layout and Formatting Structure\\n\\n- The document is organized into numbered sections with headings, each bolded for emphasis.\\n- The text uses a clear hierarchical structure, beginning with main headings, subheadings, and paragraph content.\\n- Headings are in a bold font and sections are numbered for easy reference.\\n- The document features consistent spacing and alignment, with sections of text grouped logically.\\n\\n### Important Visual Information Not Captured in Plain Text\\n\\n- The document uses', summary=None, ordinal=0, uri='/Users/sirsh/Downloads/Transit Insurance Form.pdf', metadata={'source_file': 'Transit Insurance Form.pdf', 'parsing_mode': 'extended', 'chunk_index': 10, 'total_chunks': 31, 'chunk_size': 1000, 'chunk_overlap': 200, 'file_type': 'pdf', 'original_uri': '/Users/sirsh/Downloads/Transit Insurance Form.pdf'}, graph_paths=None, resource_timestamp=datetime.datetime(2025, 5, 22, 17, 7, 6, 420256, tzinfo=datetime.timezone.utc), userid=None),\n",
       " Resources(id='e0ac1a80-c3fe-5361-b457-492bb43e987f', name='Transit Insurance Form.pdf_chunk_12', category='pdf_chunk', content='for easy reference.\\n- The document features consistent spacing and alignment, with sections of text grouped logically.\\n\\n### Important Visual Information Not Captured in Plain Text\\n\\n- The document uses clear spacing and alignment to differentiate between different sections, enhancing readability.\\n- Bold text for headings and key clauses helps in emphasizing important sections within the terms and conditions.\\n\\nOverall, the page focuses on outlining the terms and conditions for all-risk coverage, detailing various clauses and conditions in a clear and organized manner.\\n\\n=== PAGE 4 ===\\n### Text Content\\n\\n1. **Text Transcription:**\\n\\n   - \"Underwriter’s liability is restricted to the reasonable cost of repair and no claim is to attach hereto for depreciation consequent thereon. In no case shall liability hereunder for such repairs exceed the sum insured in respect of the damaged article.\"\\n   \\n   - **8. RIGHT TO CANCEL**\\n     - \"You have the right to cancel this insurance without penalty at', summary=None, ordinal=0, uri='/Users/sirsh/Downloads/Transit Insurance Form.pdf', metadata={'source_file': 'Transit Insurance Form.pdf', 'parsing_mode': 'extended', 'chunk_index': 11, 'total_chunks': 31, 'chunk_size': 1000, 'chunk_overlap': 200, 'file_type': 'pdf', 'original_uri': '/Users/sirsh/Downloads/Transit Insurance Form.pdf'}, graph_paths=None, resource_timestamp=datetime.datetime(2025, 5, 22, 17, 7, 6, 420267, tzinfo=datetime.timezone.utc), userid=None),\n",
       " Resources(id='b0b2ab39-2905-5fbc-a0b8-6dee8a5c9e2e', name='Transit Insurance Form.pdf_chunk_13', category='pdf_chunk', content='l liability hereunder for such repairs exceed the sum insured in respect of the damaged article.\"\\n   \\n   - **8. RIGHT TO CANCEL**\\n     - \"You have the right to cancel this insurance without penalty at any time PRIOR TO THE COMMENCEMENT OF THE INSURANCE. Once the insurance has commenced, your right to cancel ceases and you will be charged the full premium for the insurance.\"\\n   \\n   - **9. BASIS OF CLAIMS SETTLEMENT**\\n     - \"Underwriters shall be entitled at their option to repair or replace any article lost or damaged (whether wholly or in part) or to pay cash not exceeding the insured value thereof. Underwriters may require proof of ownership, and/or value of any items claimed missing.\"\\n\\n   - **10. POLICY EXCESS**\\n     - \"Policy deductible applicable as stated on Insurance Certificate.\"\\n\\n   - **11. PAYMENT OF PREMIUMS**\\n     - \"Insurers shall only be liable to settle a claim recoverable under the terms of this insurance provided the Mover (the Agent) confirms that insurance premiums', summary=None, ordinal=0, uri='/Users/sirsh/Downloads/Transit Insurance Form.pdf', metadata={'source_file': 'Transit Insurance Form.pdf', 'parsing_mode': 'extended', 'chunk_index': 12, 'total_chunks': 31, 'chunk_size': 1000, 'chunk_overlap': 200, 'file_type': 'pdf', 'original_uri': '/Users/sirsh/Downloads/Transit Insurance Form.pdf'}, graph_paths=None, resource_timestamp=datetime.datetime(2025, 5, 22, 17, 7, 6, 420278, tzinfo=datetime.timezone.utc), userid=None),\n",
       " Resources(id='77267e64-5c25-55fe-93f0-26470d353ccd', name='Transit Insurance Form.pdf_chunk_14', category='pdf_chunk', content='- **11. PAYMENT OF PREMIUMS**\\n     - \"Insurers shall only be liable to settle a claim recoverable under the terms of this insurance provided the Mover (the Agent) confirms that insurance premiums have been received by the Mover (the Agent). In the event that the Mover (the Agent) advises premiums are outstanding, Insurers will settle a valid claim once premiums have been paid.\"\\n\\n   - **12. DURATION OF COVER**\\n     - \"Other than in respect of the War Clauses contained herein coverage attached from the time the household goods and personal effects and/or automobile and/or other approved items are being professionally packed and picked up at the residence or business location of the insured for the commencement of the transit and continues during the ordinary course of transit, including customary transhipment, if any, until the insured property is professionally delivered to the final destination. Coverage is extended to include transits to and from the premises of Cleaners,', summary=None, ordinal=0, uri='/Users/sirsh/Downloads/Transit Insurance Form.pdf', metadata={'source_file': 'Transit Insurance Form.pdf', 'parsing_mode': 'extended', 'chunk_index': 13, 'total_chunks': 31, 'chunk_size': 1000, 'chunk_overlap': 200, 'file_type': 'pdf', 'original_uri': '/Users/sirsh/Downloads/Transit Insurance Form.pdf'}, graph_paths=None, resource_timestamp=datetime.datetime(2025, 5, 22, 17, 7, 6, 420291, tzinfo=datetime.timezone.utc), userid=None),\n",
       " Resources(id='bc6e05c0-151c-5f19-bb4a-c1bbd42444e1', name='Transit Insurance Form.pdf_chunk_15', category='pdf_chunk', content='- \"In the event of loss or damage which may give rise to a claim under this Insurance, immediate notice must be given in writing to Underwriters’ representatives. It is a condition precedent to Underwriters liability under this insurance that full details of any losses and/or damages incurred must be notified within 30 days after delivery or 30 days after scheduled delivery in the event of non-delivery. Further it is understood that presentation of claim in its entirety after notice will be in a timely fashion not to exceed 60 days from the time of such notice.\"\\n\\n   - **14. OPTIONAL COVERAGE EXTENSIONS**\\n     - **MOULD AND MILDEW RISKS (Excluding Goods in Permanent Storage)**\\n       - \"To include loss or damage to the interest insured, howsoever arising, subject to the goods being professionally packed.\"\\n       - \"Underwriter’s maximum liability shall not exceed 75% of the sum insured for any one consignment. This limitation shall not apply to claims arising from external water', summary=None, ordinal=0, uri='/Users/sirsh/Downloads/Transit Insurance Form.pdf', metadata={'source_file': 'Transit Insurance Form.pdf', 'parsing_mode': 'extended', 'chunk_index': 14, 'total_chunks': 31, 'chunk_size': 1000, 'chunk_overlap': 200, 'file_type': 'pdf', 'original_uri': '/Users/sirsh/Downloads/Transit Insurance Form.pdf'}, graph_paths=None, resource_timestamp=datetime.datetime(2025, 5, 22, 17, 7, 6, 420303, tzinfo=datetime.timezone.utc), userid=None),\n",
       " Resources(id='e7f0102a-b611-529c-800b-791ac151eebd', name='Transit Insurance Form.pdf_chunk_16', category='pdf_chunk', content='professionally packed.\"\\n       - \"Underwriter’s maximum liability shall not exceed 75% of the sum insured for any one consignment. This limitation shall not apply to claims arising from external water damage.\"\\n     - **ELECTRICAL AND MECHANICAL DERANGEMENT (Excluding Automobiles)**\\n       - \"To include loss or damage to the interest insured which is caused by electronic and/or electrical and/or mechanical derangement, provided the interest insured does not exceed six years old. Subject to the goods being professionally packed.\"\\n     - **PAIR OR SETS CLAUSE**\\n       - \"In the event of loss or damage recoverable to any item or items forming part of a pair or set, the indemnity afforded by this policy shall be limited to the reasonable and fair reduction in value of the pair or set by reason of the loss or damage to the affected item or items having regard to the importance of the affected items within the pair or set. All the articles constituting the pair or set shall, at Underwriters’', summary=None, ordinal=0, uri='/Users/sirsh/Downloads/Transit Insurance Form.pdf', metadata={'source_file': 'Transit Insurance Form.pdf', 'parsing_mode': 'extended', 'chunk_index': 15, 'total_chunks': 31, 'chunk_size': 1000, 'chunk_overlap': 200, 'file_type': 'pdf', 'original_uri': '/Users/sirsh/Downloads/Transit Insurance Form.pdf'}, graph_paths=None, resource_timestamp=datetime.datetime(2025, 5, 22, 17, 7, 6, 420316, tzinfo=datetime.timezone.utc), userid=None),\n",
       " Resources(id='0bf2e22c-cc7f-5446-860d-5ec08e7df1eb', name='Transit Insurance Form.pdf_chunk_17', category='pdf_chunk', content='of the loss or damage to the affected item or items having regard to the importance of the affected items within the pair or set. All the articles constituting the pair or set shall, at Underwriters’ option, become their property in the event that the Underwriters agree to pay the total loss of the pair or entire set.\"\\n     - **MOVING COSTS**\\n       - \"In the event of loss or damage resulting in the non-delivery of your entire consignment Underwriters agree to provide full reimbursement of moving charges paid if insured under this policy.\"\\n\\n### Visual Elements\\n\\n2. **Tables, Charts, or Structured Data:**\\n   - No tables, charts, or structured data are present in this image.\\n\\n3. **Images, Diagrams, or Visual Elements:**\\n   - There are no images, diagrams, or visual elements on this page.\\n\\n### Layout and Formatting Structure\\n\\n4. **Layout and Formatting:**\\n   - The document is organized into numbered sections and subsections with bold headings for each section (e.g., \"8. RIGHT TO', summary=None, ordinal=0, uri='/Users/sirsh/Downloads/Transit Insurance Form.pdf', metadata={'source_file': 'Transit Insurance Form.pdf', 'parsing_mode': 'extended', 'chunk_index': 16, 'total_chunks': 31, 'chunk_size': 1000, 'chunk_overlap': 200, 'file_type': 'pdf', 'original_uri': '/Users/sirsh/Downloads/Transit Insurance Form.pdf'}, graph_paths=None, resource_timestamp=datetime.datetime(2025, 5, 22, 17, 7, 6, 420330, tzinfo=datetime.timezone.utc), userid=None),\n",
       " Resources(id='729ea2ac-7697-52b5-b3c0-a84a1e8d809a', name='Transit Insurance Form.pdf_chunk_18', category='pdf_chunk', content='page.\\n\\n### Layout and Formatting Structure\\n\\n4. **Layout and Formatting:**\\n   - The document is organized into numbered sections and subsections with bold headings for each section (e.g., \"8. RIGHT TO CANCEL\").\\n   - Text is left-aligned and formatted in a standard, readable font.\\n   - Bullet points are used within sections to organize sub-points, particularly within \"14. OPTIONAL COVERAGE EXTENSIONS.\"\\n   - Overall layout is clean and structured for ease of reading, with clear distinction between different sections and their contents.\\n\\n### Important Visual Information Not Captured in Plain Text\\n\\n5. **Other Visual Information:**\\n   - Emphasis on certain terms using uppercase letters (e.g., \"PRIOR TO THE COMMENCEMENT OF THE INSURANCE\") to highlight key points.\\n   - Sections are clearly numbered and ordered to facilitate navigation and understanding of the document contents.\\n\\n=== PAGE 5 ===\\n1. **Text Content:**\\n\\n   **15. CHOICE OF LAW AND JURISDICTION**\\n\\n   The parties are free to choose', summary=None, ordinal=0, uri='/Users/sirsh/Downloads/Transit Insurance Form.pdf', metadata={'source_file': 'Transit Insurance Form.pdf', 'parsing_mode': 'extended', 'chunk_index': 17, 'total_chunks': 31, 'chunk_size': 1000, 'chunk_overlap': 200, 'file_type': 'pdf', 'original_uri': '/Users/sirsh/Downloads/Transit Insurance Form.pdf'}, graph_paths=None, resource_timestamp=datetime.datetime(2025, 5, 22, 17, 7, 6, 420342, tzinfo=datetime.timezone.utc), userid=None),\n",
       " Resources(id='9efbe427-e6bf-5ad4-8aff-748c31b9589e', name='Transit Insurance Form.pdf_chunk_19', category='pdf_chunk', content='hereto in date and by whomsoever effected, directly or indirectly covering the same property and the Underwriters shall be liable for loss or damage only for the excess value beyond the amount due from such other insurance.\\n\\n   **18. MISREPRESENTATION**\\n\\n   It is your responsibility to take reasonable care not to make misrepresentations to insurers. This requirement includes (but is not limited to) a requirement to disclose to us if you are unable to comply with any term of this document and/or the Valued Inventory. This insurance may be voidable in the event of your deliberate or reckless or careless misrepresentation that, without the misrepresentation, the insurer would not have entered into the contract at all or would have done so only with different terms.\\n\\n   **19. PROPERTY COVERED SUBJECT TO SPECIFIED LIMITATIONS**\\n\\n   Unless agreed otherwise in writing by us, the following limitations apply:\\n   1. Jewelry and furs unless declared and valued but subject to a limit of USD', summary=None, ordinal=0, uri='/Users/sirsh/Downloads/Transit Insurance Form.pdf', metadata={'source_file': 'Transit Insurance Form.pdf', 'parsing_mode': 'extended', 'chunk_index': 18, 'total_chunks': 31, 'chunk_size': 1000, 'chunk_overlap': 200, 'file_type': 'pdf', 'original_uri': '/Users/sirsh/Downloads/Transit Insurance Form.pdf'}, graph_paths=None, resource_timestamp=datetime.datetime(2025, 5, 22, 17, 7, 6, 420352, tzinfo=datetime.timezone.utc), userid=None),\n",
       " Resources(id='df4915a9-2c79-5282-a24a-9b2dbee82bda', name='Transit Insurance Form.pdf_chunk_20', category='pdf_chunk', content='OVERED SUBJECT TO SPECIFIED LIMITATIONS**\\n\\n   Unless agreed otherwise in writing by us, the following limitations apply:\\n   1. Jewelry and furs unless declared and valued but subject to a limit of USD 3,500 any one transit.\\n   2. Artwork greater than USD 10,000 any one item must be prior approved by WTI.\\n   3. Fragiles & Antiques - Warranted that the maximum value of fragiles &/or antiques does not exceed 15% of the overall consignment value unless specifically agreed with insurers prior to the commencement of transit.\\n   4. Automobiles - Respraying limited of vehicles limited to damaged parts only. Excluding third party liability absolutely.\\n\\n   **20. EXCLUDED PROPERTY**\\n\\n   No cover is provided for the following:\\n   1. Money and securities.\\n\\n   **21. EXCLUDED CAUSES**\\n\\n   A. Excluding claims for missing items unless a full valued inventory is completed and signed by the owners of the goods prior to the commencement of transit. Warranted that any item valued above US$1,000 is', summary=None, ordinal=0, uri='/Users/sirsh/Downloads/Transit Insurance Form.pdf', metadata={'source_file': 'Transit Insurance Form.pdf', 'parsing_mode': 'extended', 'chunk_index': 19, 'total_chunks': 31, 'chunk_size': 1000, 'chunk_overlap': 200, 'file_type': 'pdf', 'original_uri': '/Users/sirsh/Downloads/Transit Insurance Form.pdf'}, graph_paths=None, resource_timestamp=datetime.datetime(2025, 5, 22, 17, 7, 6, 420363, tzinfo=datetime.timezone.utc), userid=None),\n",
       " Resources(id='6fbefb70-1188-59b5-a3fb-8047b895df2e', name='Transit Insurance Form.pdf_chunk_21', category='pdf_chunk', content='luding claims for missing items unless a full valued inventory is completed and signed by the owners of the goods prior to the commencement of transit. Warranted that any item valued above US$1,000 is listed.\\n\\n   B. Owner Packed Effects: Excluding breakage, scratching, denting, chipping, bruising, bending, marring, staining and tearing of owner packed effects, including trunks, suitcases and the like.\\n\\n   C. Mechanical & Electrical Derangement - excluding loss or damage due to mechanical, electrical or electronic breakdown &/or derangement unless there is evidence of external damage to the insured item or its packing.\\n\\n   D. Moth, Vermin, Wear & Tear - excluding loss or damage due to moth, vermin, mildew, mold, rust, discoloration, inherent vice, wear, tear and gradual deterioration.\\n\\n   E. Climatic Conditions - Excluding loss or damage by climatic or atmospheric conditions or extremes of temperature unless such claim is recoverable under the terms of the Institute Cargo Clauses', summary=None, ordinal=0, uri='/Users/sirsh/Downloads/Transit Insurance Form.pdf', metadata={'source_file': 'Transit Insurance Form.pdf', 'parsing_mode': 'extended', 'chunk_index': 20, 'total_chunks': 31, 'chunk_size': 1000, 'chunk_overlap': 200, 'file_type': 'pdf', 'original_uri': '/Users/sirsh/Downloads/Transit Insurance Form.pdf'}, graph_paths=None, resource_timestamp=datetime.datetime(2025, 5, 22, 17, 7, 6, 420374, tzinfo=datetime.timezone.utc), userid=None),\n",
       " Resources(id='bd4c05be-f25d-5381-bbcb-f884ad6ecd4f', name='Transit Insurance Form.pdf_chunk_22', category='pdf_chunk', content='.\\n\\n   E. Climatic Conditions - Excluding loss or damage by climatic or atmospheric conditions or extremes of temperature unless such claim is recoverable under the terms of the Institute Cargo Clauses (C).\\n\\n   F. No claim to attach hereto for damage to strings, reeds &/or drumheads in respect of musical instruments.\\n\\n   G. Confiscation - excluding the risks of confiscation & seizure\\n\\n   H. Excluding loss of or damage to money, securities, cash, bank notes, cheques, travelers cheques, money orders, postal orders, national saving certificates, premium bonds, stamps, deeds, tickets, passports, manuscripts, lottery tickets or documents of any description, medals, coins, bonds, securities, jewellery, watches, trinkets, personal ornaments, precious stones & metals, furs and any other article of similar description. Also excluding any accompanied luggage or any article used or worn during the course of the transit.\\n\\n   I. Perishable Goods & Liquids - excluding loss of or damage caused by', summary=None, ordinal=0, uri='/Users/sirsh/Downloads/Transit Insurance Form.pdf', metadata={'source_file': 'Transit Insurance Form.pdf', 'parsing_mode': 'extended', 'chunk_index': 21, 'total_chunks': 31, 'chunk_size': 1000, 'chunk_overlap': 200, 'file_type': 'pdf', 'original_uri': '/Users/sirsh/Downloads/Transit Insurance Form.pdf'}, graph_paths=None, resource_timestamp=datetime.datetime(2025, 5, 22, 17, 7, 6, 420385, tzinfo=datetime.timezone.utc), userid=None),\n",
       " Resources(id='eda0e694-d2c5-5232-85c7-c4eeec43e851', name='Transit Insurance Form.pdf_chunk_23', category='pdf_chunk', content='CTION,\" \"SUBROGATION CLAUSE,\" and others are in bold to stand out.\\n   - The text uses a mix of sentence case and all caps for emphasis on section titles.\\n   - Bulleted lists provide details on covered property and excluded causes.\\n\\n5. **Important Visual Information Not Captured in Plain Text:**\\n   - The use of bold text for section titles adds emphasis and helps in navigation.\\n   - The structured list format assists in clearly separating detailed points, especially in exclusion clauses.\\n\\nOverall, the page is dense with text and focuses on detailing insurance terms, exclusions, and clauses, formatted in a clear and systematically structured manner for ease of understanding.\\n\\n=== PAGE 6 ===\\n### Text Content:\\n\\n1. **Exclusions:**\\n   - J. Excluding any loss or damage due to wrinkling, normal wear and tear, scratching, scuffing, creasing or similar causes to clothing, curtains, shoes, purses, handbags or similar items.\\n   - K. Missing items not noted as packed at origin on Packing List or', summary=None, ordinal=0, uri='/Users/sirsh/Downloads/Transit Insurance Form.pdf', metadata={'source_file': 'Transit Insurance Form.pdf', 'parsing_mode': 'extended', 'chunk_index': 22, 'total_chunks': 31, 'chunk_size': 1000, 'chunk_overlap': 200, 'file_type': 'pdf', 'original_uri': '/Users/sirsh/Downloads/Transit Insurance Form.pdf'}, graph_paths=None, resource_timestamp=datetime.datetime(2025, 5, 22, 17, 7, 6, 420395, tzinfo=datetime.timezone.utc), userid=None),\n",
       " Resources(id='cb3f934c-881e-550a-bea9-a4cc235cdedf', name='Transit Insurance Form.pdf_chunk_24', category='pdf_chunk', content='wear and tear, scratching, scuffing, creasing or similar causes to clothing, curtains, shoes, purses, handbags or similar items.\\n   - K. Missing items not noted as packed at origin on Packing List or noted as missing on Delivery Documents.\\n   - L. Loss of data on CPU’s, Tablets or any other similar device. Liability is limited to the hardware only.\\n   - M. Depreciation arising from inadequate or substandard repairs or restoration of a damaged item.\\n   - N. Loss of or damage to an automobile while being driven under its own power except while on premises of the port or while being driven by an authorized driver who is an employee of the freight forwarder or his agent in direct furtherance of the transit.\\n   - O. Loss or damage caused by scratching, denting or marring of automobiles\\n   - P. Excluding the risks of scratching, denting, chipping, bruising, marring, staining, rust, oxidisation & discolouration unless the forwarder and the owner both agree and sign a “certificate of', summary=None, ordinal=0, uri='/Users/sirsh/Downloads/Transit Insurance Form.pdf', metadata={'source_file': 'Transit Insurance Form.pdf', 'parsing_mode': 'extended', 'chunk_index': 23, 'total_chunks': 31, 'chunk_size': 1000, 'chunk_overlap': 200, 'file_type': 'pdf', 'original_uri': '/Users/sirsh/Downloads/Transit Insurance Form.pdf'}, graph_paths=None, resource_timestamp=datetime.datetime(2025, 5, 22, 17, 7, 6, 420408, tzinfo=datetime.timezone.utc), userid=None),\n",
       " Resources(id='77f86bc7-9fd0-5e75-998f-fc9bc986f389', name='Transit Insurance Form.pdf_chunk_25', category='pdf_chunk', content='s\\n   - P. Excluding the risks of scratching, denting, chipping, bruising, marring, staining, rust, oxidisation & discolouration unless the forwarder and the owner both agree and sign a “certificate of condition” or similar document issued the freight forwarder stating the condition of the automobile prior to shipment, noting all defects.\\n   - Q. Loss or damage to non-factory installed automobile accessories not specifically declared and valued for insurance.\\n   - R. Loss or damage to goods packed in autos.\\n   - S. Audio Equipment (autos) - excluding theft &/or pilferage of audio equipment, including but not limited to radios, CD players, speakers and similar items unless stolen with the vehicle.\\n   - T. Ensuing or indirect losses resulting from or as a consequence of claims made for loss or damage arising from an insured peril.\\n   - U. Other exclusions as detailed in the Addendum Clauses in this policy.\\n\\n2. **CLAIMS PROCEDURE:**\\n   - If your goods become lost or damaged and you wish', summary=None, ordinal=0, uri='/Users/sirsh/Downloads/Transit Insurance Form.pdf', metadata={'source_file': 'Transit Insurance Form.pdf', 'parsing_mode': 'extended', 'chunk_index': 24, 'total_chunks': 31, 'chunk_size': 1000, 'chunk_overlap': 200, 'file_type': 'pdf', 'original_uri': '/Users/sirsh/Downloads/Transit Insurance Form.pdf'}, graph_paths=None, resource_timestamp=datetime.datetime(2025, 5, 22, 17, 7, 6, 420426, tzinfo=datetime.timezone.utc), userid=None),\n",
       " Resources(id='22202e58-c2a0-561a-985d-f5762a803af7', name='Transit Insurance Form.pdf_chunk_26', category='pdf_chunk', content='s or damage arising from an insured peril.\\n   - U. Other exclusions as detailed in the Addendum Clauses in this policy.\\n\\n2. **CLAIMS PROCEDURE:**\\n   - If your goods become lost or damaged and you wish to make a claim on this insurance please send written notification within 30 days of delivery to WTlclaims@anovamarine.com. Do not dispose or discard of any items without insurers prior approval.\\n\\n   - Any claimant under this insurance shall at the request and at the expense of the Underwriters do and concur in doing and permit to be done all such acts and things as may be necessary or reasonably required by the Underwriters for the purpose of enforcing any rights and remedies, or of obtaining relief or indemnity from other parties to which the Underwriters shall be or would become entitled or subrogated upon their paying for or making good any loss or damage under this insurance, whether such acts and things shall be or become necessary or required before or after his indemnification by', summary=None, ordinal=0, uri='/Users/sirsh/Downloads/Transit Insurance Form.pdf', metadata={'source_file': 'Transit Insurance Form.pdf', 'parsing_mode': 'extended', 'chunk_index': 25, 'total_chunks': 31, 'chunk_size': 1000, 'chunk_overlap': 200, 'file_type': 'pdf', 'original_uri': '/Users/sirsh/Downloads/Transit Insurance Form.pdf'}, graph_paths=None, resource_timestamp=datetime.datetime(2025, 5, 22, 17, 7, 6, 420437, tzinfo=datetime.timezone.utc), userid=None),\n",
       " Resources(id='730c98cc-e811-571d-bb01-9587e4107ff3', name='Transit Insurance Form.pdf_chunk_27', category='pdf_chunk', content='Your State Department of Insurance should be contacted only after discussions with the insurer, its agent, or representative, have failed to produce a satisfactory resolution. Alternatively, as your insurer is based in Ireland, and if you remain dissatisfied after we have considered your complaint, or you have not received a decision by the time we have taken 40 working days to consider your complaint, you may be eligible to refer your complaint to the Financial Services and Pensions Ombudsman (FSPO), an independent body that adjudicates on complaints, at the following address:\\n\\n     Financial Services and Pensions Ombudsman  \\n     3rd Floor, Lincoln House  \\n     Lincoln Place  \\n     Dublin 2 Ireland  \\n     Tel: +353 1 567 7000\\n\\n### Tables, Charts, or Structured Data:\\n- This page does not contain any tables, charts, or other structured data.\\n\\n### Images, Diagrams, or Visual Elements:\\n- There are no images, diagrams, or visual images present on this page.\\n\\n### Layout and Formatting', summary=None, ordinal=0, uri='/Users/sirsh/Downloads/Transit Insurance Form.pdf', metadata={'source_file': 'Transit Insurance Form.pdf', 'parsing_mode': 'extended', 'chunk_index': 26, 'total_chunks': 31, 'chunk_size': 1000, 'chunk_overlap': 200, 'file_type': 'pdf', 'original_uri': '/Users/sirsh/Downloads/Transit Insurance Form.pdf'}, graph_paths=None, resource_timestamp=datetime.datetime(2025, 5, 22, 17, 7, 6, 420450, tzinfo=datetime.timezone.utc), userid=None),\n",
       " Resources(id='fd213ca6-5abd-544d-ae34-0919861042bd', name='Transit Insurance Form.pdf_chunk_28', category='pdf_chunk', content='not contain any tables, charts, or other structured data.\\n\\n### Images, Diagrams, or Visual Elements:\\n- There are no images, diagrams, or visual images present on this page.\\n\\n### Layout and Formatting Structure:\\n- **Headings**: The page includes bold headings for sections such as \"CLAIMS PROCEDURE\" and \"COMPLAINT PROCEDURE.\"\\n- **Numbered Lists**: The exclusions and main procedural steps are listed with letters and numbers, providing a systematic outline.\\n- **Contact Information**: Presented in a structured format, making it easy to identify and locate.\\n- **Email**: Highlighted in bold within the text, providing a clear emphasis on action required.\\n\\n### Important Visual Information Not Captured in Plain Text:\\n- The layout and formatting emphasize organizational clarity through bold headings and systematic listing which facilitate easy navigation and comprehension of the document\\'s procedural content.\\n\\n=== PAGE 7 ===\\nCertainly! Here is a detailed analysis of the PDF page:\\n\\n### 1. Text', summary=None, ordinal=0, uri='/Users/sirsh/Downloads/Transit Insurance Form.pdf', metadata={'source_file': 'Transit Insurance Form.pdf', 'parsing_mode': 'extended', 'chunk_index': 27, 'total_chunks': 31, 'chunk_size': 1000, 'chunk_overlap': 200, 'file_type': 'pdf', 'original_uri': '/Users/sirsh/Downloads/Transit Insurance Form.pdf'}, graph_paths=None, resource_timestamp=datetime.datetime(2025, 5, 22, 17, 7, 6, 420461, tzinfo=datetime.timezone.utc), userid=None),\n",
       " Resources(id='ddd0b59a-6469-5ad9-961f-159005da081a', name='Transit Insurance Form.pdf_chunk_29', category='pdf_chunk', content='ngs and systematic listing which facilitate easy navigation and comprehension of the document\\'s procedural content.\\n\\n=== PAGE 7 ===\\nCertainly! Here is a detailed analysis of the PDF page:\\n\\n### 1. Text Content\\n\\n**Header:**\\n- Email: info@fspo.ie www.fspo.ie\\n- \"The complaints handling arrangements above are without prejudice to your rights in law.\"\\n\\n**Main Title:**\\n- \"APPLICABLE OVERSEAS REMOVAL CLAUSES\"\\n\\n**List of Clauses:**\\n1. INSTITUTE CARGO CLAUSES (A)\\n2. INSTITUTE CARGO CLAUSES (B)\\n3. INSTITUTE WAR CLAUSES\\n4. INSTITUTE STRIKES CLAUSES\\n5. TERMINATION OF TRANSIT CLAUSE (TERRORISM)\\n6. INSTITUTE CLASSIFICATION CLAUSE\\n7. INSOLVENCY EXCLUSION AMENDMENT CLAUSE (J.C.93)\\n8. RADIOACTIVE CONTAMINATION, CHEMICAL, BIOLOGICAL, BIO-CHEMICAL, ELECTROMAGNETIC WEAPONS EXCLUSION CLAUSE\\n9. CYBER ATTACK EXCLUSION CLAUSE\\n10. SANCTION LIMITATION AND EXCLUSION CLAUSE\\n\\n**Declaration:**\\n- \"I declare that I have disclosed all material facts and that failure to do so could render the Protection Plan & coverage', summary=None, ordinal=0, uri='/Users/sirsh/Downloads/Transit Insurance Form.pdf', metadata={'source_file': 'Transit Insurance Form.pdf', 'parsing_mode': 'extended', 'chunk_index': 28, 'total_chunks': 31, 'chunk_size': 1000, 'chunk_overlap': 200, 'file_type': 'pdf', 'original_uri': '/Users/sirsh/Downloads/Transit Insurance Form.pdf'}, graph_paths=None, resource_timestamp=datetime.datetime(2025, 5, 22, 17, 7, 6, 420472, tzinfo=datetime.timezone.utc), userid=None),\n",
       " Resources(id='4904ca74-a7b2-5bdf-87df-599a47eae417', name='Transit Insurance Form.pdf_chunk_30', category='pdf_chunk', content='LUSION CLAUSE\\n10. SANCTION LIMITATION AND EXCLUSION CLAUSE\\n\\n**Declaration:**\\n- \"I declare that I have disclosed all material facts and that failure to do so could render the Protection Plan & coverage void. I declare that the amounts above stated are the full values of the goods at destination. I have read the Terms and Conditions of the Plan and understand that these shall form the basis of the proposed contract between me and Worldwide Transit Insurance Brokers Inc.\"\\n\\n**Signature Section:**\\n- \"Date: 4/30/2025\"\\n- \"Signature: Saoirse Amarteifio\"\\n\\n### 2. Tables, Charts, or Structured Data\\n\\n- There are no tables, charts, or structured data elements on this page.\\n\\n### 3. Images, Diagrams, or Visual Elements\\n\\n- No images or diagrams are present on this page.\\n\\n### 4. Layout and Formatting Structure\\n\\n- The document has a clean, structured layout with clear sections:\\n  - A header with contact information and legal disclaimer.\\n  - A bold main title for easy identification.\\n  - A numbered list', summary=None, ordinal=0, uri='/Users/sirsh/Downloads/Transit Insurance Form.pdf', metadata={'source_file': 'Transit Insurance Form.pdf', 'parsing_mode': 'extended', 'chunk_index': 29, 'total_chunks': 31, 'chunk_size': 1000, 'chunk_overlap': 200, 'file_type': 'pdf', 'original_uri': '/Users/sirsh/Downloads/Transit Insurance Form.pdf'}, graph_paths=None, resource_timestamp=datetime.datetime(2025, 5, 22, 17, 7, 6, 420482, tzinfo=datetime.timezone.utc), userid=None),\n",
       " Resources(id='7cbffe31-6d34-54ca-befa-0ee25ab0c7bb', name='Transit Insurance Form.pdf_chunk_31', category='pdf_chunk', content='cture\\n\\n- The document has a clean, structured layout with clear sections:\\n  - A header with contact information and legal disclaimer.\\n  - A bold main title for easy identification.\\n  - A numbered list of clauses for structured reading.\\n  - A declaration paragraph clarifying the terms and responsibilities.\\n  - A signature section at the bottom right.\\n\\n### 5. Important Visual Information Not Captured in Plain Text\\n\\n- The text is likely formatted with varying font sizes and bold text to differentiate sections, such as headings and clauses.\\n- There is likely consistent use of spacing and alignment to ensure clarity and readability.\\n\\nThis structure and format indicate a formal and organized document, likely designed for legal or official use related to transit insurance.', summary=None, ordinal=0, uri='/Users/sirsh/Downloads/Transit Insurance Form.pdf', metadata={'source_file': 'Transit Insurance Form.pdf', 'parsing_mode': 'extended', 'chunk_index': 30, 'total_chunks': 31, 'chunk_size': 1000, 'chunk_overlap': 200, 'file_type': 'pdf', 'original_uri': '/Users/sirsh/Downloads/Transit Insurance Form.pdf'}, graph_paths=None, resource_timestamp=datetime.datetime(2025, 5, 22, 17, 7, 6, 420493, tzinfo=datetime.timezone.utc), userid=None)]"
      ]
     },
     "execution_count": 2,
     "metadata": {},
     "output_type": "execute_result"
    }
   ],
   "source": [
    "resources = Resources.chunked_resource(\n",
    "    uri=\"/Users/sirsh/Downloads/Transit Insurance Form.pdf\", \n",
    "    parsing_mode=\"extended\",\n",
    "    save_to_db=True\n",
    ")\n",
    "resources"
   ]
  },
  {
   "cell_type": "code",
   "execution_count": null,
   "id": "72a0043f",
   "metadata": {},
   "outputs": [],
   "source": [
    "resources = Resources.chunked_resource(\n",
    "    uri=\"/path/to/document.pdf\", \n",
    "    parsing_mode=\"extended\",\n",
    "    chunk_size=1000,\n",
    "    chunk_overlap=200\n",
    ")"
   ]
  },
  {
   "cell_type": "code",
   "execution_count": null,
   "id": "33822803",
   "metadata": {},
   "outputs": [],
   "source": [
    "\"\"\"integration test\"\"\""
   ]
  },
  {
   "cell_type": "code",
   "execution_count": 3,
   "id": "4ba19bfd",
   "metadata": {},
   "outputs": [
    {
     "name": "stderr",
     "output_type": "stream",
     "text": [
      "/Library/Frameworks/Python.framework/Versions/3.10/lib/python3.10/site-packages/polars/_cpu_check.py:239: RuntimeWarning: Missing required CPU features.\n",
      "\n",
      "The following required CPU features were not detected:\n",
      "    avx, fma\n",
      "Continuing to use this version of Polars on this processor will likely result in a crash.\n",
      "Install the `polars-lts-cpu` package instead of `polars` to run Polars with better compatibility.\n",
      "\n",
      "Hint: If you are on an Apple ARM machine (e.g. M1) this is likely due to running Python under Rosetta.\n",
      "It is recommended to install a native version of Python that does not run under Rosetta x86-64 emulation.\n",
      "\n",
      "If you believe this warning to be a false positive, you can set the `POLARS_SKIP_CPU_CHECK` environment variable to bypass this check.\n",
      "\n",
      "  warnings.warn(\n"
     ]
    }
   ],
   "source": [
    "from one.services.ask_one import AgentCallingContext\n",
    "from one.services.slack.models import SlackMessage\n",
    "from percolate.utils import make_uuid\n",
    "def _get_userid_from_username(name:str):\n",
    "    \"\"\"map the user id from the email address or slack name\"\"\"\n",
    "    from percolate.services import PostgresService\n",
    "    pg = PostgresService()\n",
    "    Q = f\"\"\"\n",
    "            SELECT * FROM p8.\"User\" where LOWER(email) = LOWER(%s) or LOWER(slack_id) = LOWER(%s) limit 1\n",
    "    \"\"\"\n",
    "    \n",
    "    data = pg.execute(Q, data=(name, name))\n",
    "    if data:\n",
    "        return data[0]['id']\n",
    "    \n",
    "    \n",
    "channel_ts = f\"123445\"\n",
    "message = SlackMessage(user='U01JDKSB196', \n",
    "                       text='hi, can you tell me thre things about resonance', \n",
    "                       thread_ts=\"123454\", \n",
    "                       ts=channel_ts, \n",
    "                       channel='C08TE6NNY7L')\n",
    "\"\"\"TODO think about this session id interface\"\"\"\n",
    "ctx = AgentCallingContext(\n",
    "    channel_context=message.channel,\n",
    "    streaming_callback=None,#,buffer.add_data,\n",
    "    username=message.user,\n",
    "\n",
    "    session_id=make_uuid( message.thread_ts or message.ts), #the slack message thread is used as a session id - when there is no message thread_ts its because we are the originator\n",
    "    channel_ts=str(channel_ts),\n",
    "    session_context=f\"{message.channel}-{message.thread_ts or message.ts}\",\n",
    "    s3_files=None,\n",
    "    process_files_async=True,\n",
    "    user_id=_get_userid_from_username(message.user)\n",
    "    \n",
    ")\n",
    "setattr(ctx,'max_iterations',5)"
   ]
  },
  {
   "cell_type": "code",
   "execution_count": 6,
   "id": "938e2149",
   "metadata": {},
   "outputs": [
    {
     "name": "stderr",
     "output_type": "stream",
     "text": [
      "\u001b[32m2025-05-21 12:09:13.437\u001b[0m | \u001b[34m\u001b[1mDEBUG   \u001b[0m | \u001b[36mpercolate.services.FunctionManager\u001b[0m:\u001b[36madd_function\u001b[0m:\u001b[36m40\u001b[0m - \u001b[34m\u001b[1madded function help\u001b[0m\n",
      "\u001b[32m2025-05-21 12:09:13.517\u001b[0m | \u001b[34m\u001b[1mDEBUG   \u001b[0m | \u001b[36mpercolate.services.FunctionManager\u001b[0m:\u001b[36madd_function\u001b[0m:\u001b[36m40\u001b[0m - \u001b[34m\u001b[1madded function get_entities\u001b[0m\n",
      "\u001b[32m2025-05-21 12:09:13.520\u001b[0m | \u001b[34m\u001b[1mDEBUG   \u001b[0m | \u001b[36mpercolate.services.FunctionManager\u001b[0m:\u001b[36madd_function\u001b[0m:\u001b[36m40\u001b[0m - \u001b[34m\u001b[1madded function search\u001b[0m\n",
      "\u001b[32m2025-05-21 12:09:13.521\u001b[0m | \u001b[34m\u001b[1mDEBUG   \u001b[0m | \u001b[36mpercolate.services.FunctionManager\u001b[0m:\u001b[36madd_function\u001b[0m:\u001b[36m40\u001b[0m - \u001b[34m\u001b[1madded function activate_functions_by_name\u001b[0m\n",
      "\u001b[32m2025-05-21 12:09:13.522\u001b[0m | \u001b[1mINFO    \u001b[0m | \u001b[36mpercolate.services.ModelRunner\u001b[0m:\u001b[36m__init__\u001b[0m:\u001b[36m57\u001b[0m - \u001b[1m******Constructed agent p8.PercolateAgent******\u001b[0m\n",
      "\u001b[32m2025-05-21 12:09:13.831\u001b[0m | \u001b[34m\u001b[1mDEBUG   \u001b[0m | \u001b[36mpercolate.services.llm.LanguageModel\u001b[0m:\u001b[36mcall_api_simple\u001b[0m:\u001b[36m320\u001b[0m - \u001b[34m\u001b[1minvoking model gpt-4.1-2025-04-14, is_streaming=False\u001b[0m\n",
      "\u001b[32m2025-05-21 12:09:16.902\u001b[0m | \u001b[34m\u001b[1mDEBUG   \u001b[0m | \u001b[36mpercolate.services.llm.LanguageModel\u001b[0m:\u001b[36m__call__\u001b[0m:\u001b[36m198\u001b[0m - \u001b[34m\u001b[1mresponse=<Response [200]>, context=AgentCallingContext(session_id='07f67440-4201-554f-bd28-dc32b652c0e5', session_context='C08TE6NNY7L-123454', prefer_json=False, response_model=None, username='U01JDKSB196', user_id='4114f279-f345-511b-b375-1953089e078f', channel_context='C08TE6NNY7L', channel_ts='123445', prefers_streaming=False, temperature=0.0, plan=None, looping_limit=10, max_iterations=5, model='gpt-4.1-2025-04-14', s3_files=None, process_files_async=True, streaming_callback=None, response_callback=None, question=None)\u001b[0m\n"
     ]
    },
    {
     "data": {
      "text/plain": [
       "'A fashion brand is a company or label that designs, produces, and sells clothing, accessories, footwear, or other items related to personal style and appearance. Fashion brands often have a distinct identity, aesthetic, or philosophy that sets them apart from others in the industry. They may focus on specific markets, such as luxury, streetwear, sportswear, or fast fashion, and use branding, marketing, and design to create a recognizable image and attract customers.\\n\\nExamples of well-known fashion brands include Gucci, Nike, Zara, and Louis Vuitton. Each of these brands has its own unique style, target audience, and reputation in the fashion world.'"
      ]
     },
     "execution_count": 6,
     "metadata": {},
     "output_type": "execute_result"
    }
   ],
   "source": [
    "import percolate as p8\n",
    "from percolate.models import PercolateAgent\n",
    "\n",
    "p8.Agent(PercolateAgent).run('what is a fashion brand',context=ctx)"
   ]
  },
  {
   "cell_type": "code",
   "execution_count": null,
   "id": "8f858789",
   "metadata": {},
   "outputs": [],
   "source": [
    "#!pip install -U boto3"
   ]
  },
  {
   "cell_type": "code",
   "execution_count": null,
   "id": "9fa17a54",
   "metadata": {},
   "outputs": [],
   "source": [
    "from percolate.services import S3Service\n",
    "\n",
    "s =S3Service()\n",
    "s"
   ]
  },
  {
   "cell_type": "code",
   "execution_count": null,
   "id": "bd76efe0",
   "metadata": {},
   "outputs": [],
   "source": [
    "from io import BytesIO\n",
    "with open(\"/Users/sirsh/Downloads/6_Proposed Endeavor Guide and Clarifications.pdf\", 'rb') as f:\n",
    "    data = BytesIO(f.read())\n",
    "    data.seek(0)\n",
    "    s.upload_filebytes_to_uri(\"s3://percolate/test/file.pdf\", data)"
   ]
  },
  {
   "cell_type": "code",
   "execution_count": null,
   "id": "2b4fb995",
   "metadata": {},
   "outputs": [],
   "source": [
    "s.upload_file_to_uri(\"s3://percolate/test/file.pdf\",\n",
    "                     \"/Users/sirsh/Downloads/6_Proposed Endeavor Guide and Clarifications.pdf\" )"
   ]
  },
  {
   "cell_type": "code",
   "execution_count": null,
   "id": "b2b7720f",
   "metadata": {},
   "outputs": [],
   "source": [
    "import percolate as p8\n",
    "from percolate.models.media.tus import register_tus_models\n",
    "from percolate.models import User\n",
    "#p8.repository(User).register()\n",
    "#register_tus_models()\n",
    "from percolate.services import PostgresService\n",
    "\n",
    "pg = PostgresService()\n",
    " "
   ]
  },
  {
   "cell_type": "code",
   "execution_count": null,
   "id": "ee8489fd",
   "metadata": {},
   "outputs": [],
   "source": [
    "pg.execute(\"\"\" select * from p8.\"Resources\" order by updated_at desc limit 5 \"\"\")"
   ]
  },
  {
   "cell_type": "code",
   "execution_count": null,
   "id": "85529b03",
   "metadata": {},
   "outputs": [],
   "source": [
    "import requests\n",
    "\n",
    "session = requests.Session()\n",
    "session.cookies.set('session', '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.aCdQlQ.qHKMWsxfHuBLHnk3Ck3Ux_tiqp8')\n",
    "\n",
    "response = session.get('http://localhost:5008/auth/ping')\n",
    "print(response.json())\n",
    "\n",
    "response = session.get('http://localhost:5008/auth/session/info')\n",
    "print(response.json())"
   ]
  },
  {
   "cell_type": "code",
   "execution_count": null,
   "id": "d5181d65",
   "metadata": {},
   "outputs": [],
   "source": [
    "session.get('http://localhost:5008/tus/user/uploads?query=anything').json()"
   ]
  },
  {
   "cell_type": "code",
   "execution_count": null,
   "id": "56886053",
   "metadata": {},
   "outputs": [],
   "source": [
    "response = session.get('http://localhost:5008/auth/me')\n",
    "print(response.json())"
   ]
  },
  {
   "cell_type": "code",
   "execution_count": null,
   "id": "5d8a83ba",
   "metadata": {},
   "outputs": [],
   "source": [
    "from percolate.api.routes.auth.utils import get_user_from_email, is_valid_token_for_user, extract_user_info_from_token\n",
    "extract_user_info_from_token('eyJhbGciOiJSUzI1NiIsImtpZCI6IjY2MGVmM2I5Nzg0YmRmNTZlYmU4NTlmNTc3ZjdmYjJlOGMxY2VmZmIiLCJ0eXAiOiJKV1QifQ.eyJpc3MiOiJodHRwczovL2FjY291bnRzLmdvb2dsZS5jb20iLCJhenAiOiIxMDk5MjM3ODk0OTM1LXAzbjdna2w2czk3aGoyMDhub3FtNHJoOHJrM2diYnZ0LmFwcHMuZ29vZ2xldXNlcmNvbnRlbnQuY29tIiwiYXVkIjoiMTA5OTIzNzg5NDkzNS1wM243Z2tsNnM5N2hqMjA4bm9xbTRyaDhyazNnYmJ2dC5hcHBzLmdvb2dsZXVzZXJjb250ZW50LmNvbSIsInN1YiI6IjEwMjE2NTQ3NjExNDgwNDA5NjIzMCIsImVtYWlsIjoiYW1hcnRleUBnbWFpbC5jb20iLCJlbWFpbF92ZXJpZmllZCI6dHJ1ZSwiYXRfaGFzaCI6ImlBS2ZoVXRMU1ZDbkR4aVE1X3NwUUEiLCJub25jZSI6IjhGamhCTE5TYzBFeDJ2Qm5KSVA1IiwibmFtZSI6IlNhb2lyc2UgQW1hcnRlaWZpbyIsInBpY3R1cmUiOiJodHRwczovL2xoMy5nb29nbGV1c2VyY29udGVudC5jb20vYS9BQ2c4b2NMaVlQM3BtLXR6aHNWTFJuOVhiZ1BQVkh4SDBaeTBjR2dNdDJqYUVBY2twT0lvTFREZz1zOTYtYyIsImdpdmVuX25hbWUiOiJTYW9pcnNlIiwiZmFtaWx5X25hbWUiOiJBbWFydGVpZmlvIiwiaWF0IjoxNzQ3NTk4Mjk0LCJleHAiOjE3NDc2MDE4OTR9.P0goYoml9dxdPHiH-f7IjeEFWMv6qDT6cv-GxHma2drk14pkIuwwdU0w2OCDSlFRGc4hfePIvMU3KIddNPGnkc8qvBKDNvafdBkndMQ0D1rae8BNScVr3EuZiikv_O54Eff1Lv6cmcKd978m5I7p8xVx-2aGGrxGELz3OFszgnh6POo1efiuznp6sPIQJbskfI1a8YR1_GArU9jkwhjhczEsibWNtLn5hIzox02qBTdjfrh69eOOKSmysb2SjWl54AmWxubYfR1M1IO0CAPHUQFzVrdouUsBvZnIk3xWnF-roSMrt68aoWWCtzAxtupzy3ziY8RdTVyWy7uEnr-k6g')"
   ]
  },
  {
   "cell_type": "code",
   "execution_count": null,
   "id": "398fda9a",
   "metadata": {},
   "outputs": [],
   "source": [
    "import requests\n",
    "\n",
    "session = requests.Session()\n",
    "#session.cookies.set('session', 'eyJhbGciOiJSUzI1NiIsImtpZCI6IjY2MGVmM2I5Nzg0YmRmNTZlYmU4NTlmNTc3ZjdmYjJlOGMxY2VmZmIiLCJ0eXAiOiJKV1QifQ.eyJpc3MiOiJodHRwczovL2FjY291bnRzLmdvb2dsZS5jb20iLCJhenAiOiIxMDk5MjM3ODk0OTM1LXAzbjdna2w2czk3aGoyMDhub3FtNHJoOHJrM2diYnZ0LmFwcHMuZ29vZ2xldXNlcmNvbnRlbnQuY29tIiwiYXVkIjoiMTA5OTIzNzg5NDkzNS1wM243Z2tsNnM5N2hqMjA4bm9xbTRyaDhyazNnYmJ2dC5hcHBzLmdvb2dsZXVzZXJjb250ZW50LmNvbSIsInN1YiI6IjEwMjE2NTQ3NjExNDgwNDA5NjIzMCIsImVtYWlsIjoiYW1hcnRleUBnbWFpbC5jb20iLCJlbWFpbF92ZXJpZmllZCI6dHJ1ZSwiYXRfaGFzaCI6InNlN2FuOVhHd19BeEVGdkFOSTZSckEiLCJub25jZSI6InZWRlVBekpTU3RsMGZmQnp3RXBsIiwibmFtZSI6IlNhb2lyc2UgQW1hcnRlaWZpbyIsInBpY3R1cmUiOiJodHRwczovL2xoMy5nb29nbGV1c2VyY29udGVudC5jb20vYS9BQ2c4b2NMaVlQM3BtLXR6aHNWTFJuOVhiZ1BQVkh4SDBaeTBjR2dNdDJqYUVBY2twT0lvTFREZz1zOTYtYyIsImdpdmVuX25hbWUiOiJTYW9pcnNlIiwiZmFtaWx5X25hbWUiOiJBbWFydGVpZmlvIiwiaWF0IjoxNzQ3NTkzNjk4LCJleHAiOjE3NDc1OTcyOTh9.Z61fPlHZ__DZ38rhlU-PmloMjfs6Tj2xLFqgLj5r2yOHsPDUSEmBYm8Ay7qEmUj5kWV-iyHRgW1c7Z-p3z1k8KUyPVsKXXbZlHvlHUDBmTQo8Uy3axHyei02Vz2ejImBspjlLzjg1bf_wQUXOo5pAdR8D0elaWoRLseslRvyLdZf3k2mk_pxy3c3utkefco1psIaGcdRC44OIdqCCWtPh1MXsSu0fMW4vsdpJQYRrIlmodMWwTLph6Rv2jJ6Rl5JQU3OG6Bx9dW5XQld1k1eQuP2_UEij4-lo3_JsJD4zdbFDSAbiNUbZICof6tatbsDiCpHd3o9-AV_BBlcn_lKdA')\n",
    "\n",
    "session.cookies.set('session', 'eyJhbGciOiJSUzI1NiIsImtpZCI6IjY2MGVmM2I5Nzg0YmRmNTZlYmU4NTlmNTc3ZjdmYjJlOGMxY2VmZmIiLCJ0eXAiOiJKV1QifQ.eyJpc3MiOiJodHRwczovL2FjY291bnRzLmdvb2dsZS5jb20iLCJhenAiOiIxMDk5MjM3ODk0OTM1LXAzbjdna2w2czk3aGoyMDhub3FtNHJoOHJrM2diYnZ0LmFwcHMuZ29vZ2xldXNlcmNvbnRlbnQuY29tIiwiYXVkIjoiMTA5OTIzNzg5NDkzNS1wM243Z2tsNnM5N2hqMjA4bm9xbTRyaDhyazNnYmJ2dC5hcHBzLmdvb2dsZXVzZXJjb250ZW50LmNvbSIsInN1YiI6IjEwMjE2NTQ3NjExNDgwNDA5NjIzMCIsImVtYWlsIjoiYW1hcnRleUBnbWFpbC5jb20iLCJlbWFpbF92ZXJpZmllZCI6dHJ1ZSwiYXRfaGFzaCI6Im5KcnJIMm9lanZvSHRrSUJyS1FLckEiLCJub25jZSI6Imc1bVk5Z3AyaVduSDF6Q2U2MFl5IiwibmFtZSI6IlNhb2lyc2UgQW1hcnRlaWZpbyIsInBpY3R1cmUiOiJodHRwczovL2xoMy5nb29nbGV1c2VyY29udGVudC5jb20vYS9BQ2c4b2NMaVlQM3BtLXR6aHNWTFJuOVhiZ1BQVkh4SDBaeTBjR2dNdDJqYUVBY2twT0lvTFREZz1zOTYtYyIsImdpdmVuX25hbWUiOiJTYW9pcnNlIiwiZmFtaWx5X25hbWUiOiJBbWFydGVpZmlvIiwiaWF0IjoxNzQ3NTk4NTcwLCJleHAiOjE3NDc2MDIxNzB9.NpUvgWfPSpQLaQL8UR1mr2Vd4S7-3ZLEoeK2Dbpbi_uBES51dm8MUFnDTQPNULwo-IVUE9GBAr5HInqTx6L95cTiAohTUG-Qzio96rwtnNYF0YWkBByhTKWRKhdQ6YK97TwGffZMrEzaQ_QvHe_XF17exJpKkRLtjijCuMmmAMMqbdgtsd5XVtxSma_HFapIi4dTcZOiVqWglzsGCXWxvZqtWXiHii1niKFYb95aF8q4sRgsRGs4Z7cCc1l6YzD8sSnkTPyay_qWuAWvMlS3iY9x3777zG82U9Fi38sZ2IaQ7CS1IbZ7CrBo45-2iuh28PSw7H0v2qGcTwfOF0lhTA')\n",
    "\n",
    "response = session.get('https://eepis.percolationlabs.ai/auth/ping')\n",
    "print(response.json())\n",
    "\n",
    "response = session.get('https://eepis.percolationlabs.ai/auth/session/info')\n",
    "print(response.json())"
   ]
  },
  {
   "cell_type": "code",
   "execution_count": null,
   "id": "4f3880fd",
   "metadata": {},
   "outputs": [],
   "source": [
    "session.get('https://eepis.percolationlabs.ai/tus/user/uploads?limit=10').json()"
   ]
  },
  {
   "cell_type": "code",
   "execution_count": null,
   "id": "de4c9802",
   "metadata": {},
   "outputs": [],
   "source": [
    "session.get('https://eepis.percolationlabs.ai/tus/user/uploads?query=CevolvingAnyibodies.').json()"
   ]
  },
  {
   "cell_type": "code",
   "execution_count": null,
   "id": "e735e9ac",
   "metadata": {},
   "outputs": [],
   "source": [
    "session.get('https://eepis.percolationlabs.ai/tus/user/uploads?query=Eta Carinae pulsed in the distance.').json()"
   ]
  },
  {
   "cell_type": "code",
   "execution_count": null,
   "id": "c317d40e",
   "metadata": {},
   "outputs": [],
   "source": []
  }
 ],
 "metadata": {
  "kernelspec": {
   "display_name": "Python 3 (ipykernel)",
   "language": "python",
   "name": "python3"
  },
  "language_info": {
   "codemirror_mode": {
    "name": "ipython",
    "version": 3
   },
   "file_extension": ".py",
   "mimetype": "text/x-python",
   "name": "python",
   "nbconvert_exporter": "python",
   "pygments_lexer": "ipython3",
   "version": "3.10.10"
  }
 },
 "nbformat": 4,
 "nbformat_minor": 5
}
