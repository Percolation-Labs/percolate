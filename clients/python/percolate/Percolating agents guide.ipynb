{
 "cells": [
  {
   "cell_type": "markdown",
   "id": "c9ac78af",
   "metadata": {},
   "source": [
    "# Introduction to p8 python client for agentic systems\n",
    "- Percolate is a database that allows agents to be built entirely in the data tier\n",
    "- However either for testing or to orchastrate more complex agents in code, we provide a python guide\n",
    "- This giude assumes that you have followed the guides to add some initial data and tools\n",
    "- to learn more see here"
   ]
  },
  {
   "cell_type": "code",
   "execution_count": 3,
   "id": "68f25227",
   "metadata": {},
   "outputs": [],
   "source": [
    "import percolate as p8"
   ]
  },
  {
   "cell_type": "markdown",
   "id": "81959d68",
   "metadata": {},
   "source": [
    "# Agents are simple in Percolate\n",
    "- They are just Pydantic objects with references to extenral tools in your function repository\n",
    "- You can provide structure and you can use this structure to save and search data in the database for your agent\n"
   ]
  },
  {
   "cell_type": "code",
   "execution_count": 4,
   "id": "b51d01ce",
   "metadata": {},
   "outputs": [],
   "source": [
    "from pydantic import BaseModel,Field\n",
    "import typing\n",
    "from percolate.models import DefaultEmbeddingField\n",
    "\n",
    "class MyFirstAgent(BaseModel):\n",
    "    \"\"\"You are an agent that provides the information you are asked and a second random fact\"\"\"\n",
    "    #because it has no config it will save to the public database schema\n",
    "    \n",
    "    name: str = Field(description=\"Task name\")\n",
    "    #the default embedding field just settgs json_schema_extra.embedding_provider so you can do that yourself\n",
    "    description:str = DefaultEmbeddingField(description=\"Task description\")\n",
    "    \n",
    "    @classmethod\n",
    "    def get_functions(cls):\n",
    "        \"\"\"i return a list of functions by key stored in the database\"\"\"\n",
    "        return {}"
   ]
  },
  {
   "cell_type": "code",
   "execution_count": 5,
   "id": "1ada8d0d",
   "metadata": {},
   "outputs": [
    {
     "data": {
      "text/plain": [
       "'The capital of Ireland is Dublin. \\n\\nRandom Fact: Honey never spoils and can last indefinitely if stored properly. Archaeologists have even found pots of honey in ancient Egyptian tombs that are over 3,000 years old and still edible!'"
      ]
     },
     "execution_count": 5,
     "metadata": {},
     "output_type": "execute_result"
    }
   ],
   "source": [
    "p8.Agent(MyFirstAgent).run(\"what is the capital of ireland\")"
   ]
  },
  {
   "cell_type": "code",
   "execution_count": 6,
   "id": "214b687d",
   "metadata": {},
   "outputs": [],
   "source": [
    "# 0.test registering api fuctions and later apis\n",
    "# 1.add the functions that we have in get_funtions on register external functions in this context are added as inline functions in this approach\n",
    "# 2.test other models - add groq\n",
    "# 3.external functions are searchable by plans\n",
    "# 4.test inline functions even though we dont use them\n",
    "# 5.test restoring a function from the database as above\n",
    "# 6.test planning over entities / functions\n",
    "# 7.test using native functions\n",
    "# 8.add the database interface for function calls - lots of tests for different api responses\n",
    "# 9.test loading entities and their functions\n",
    "#10.test registering apis"
   ]
  },
  {
   "cell_type": "code",
   "execution_count": null,
   "id": "2d9667c0",
   "metadata": {},
   "outputs": [],
   "source": []
  }
 ],
 "metadata": {
  "kernelspec": {
   "display_name": "Python 3 (ipykernel)",
   "language": "python",
   "name": "python3"
  },
  "language_info": {
   "codemirror_mode": {
    "name": "ipython",
    "version": 3
   },
   "file_extension": ".py",
   "mimetype": "text/x-python",
   "name": "python",
   "nbconvert_exporter": "python",
   "pygments_lexer": "ipython3",
   "version": "3.10.10"
  }
 },
 "nbformat": 4,
 "nbformat_minor": 5
}
